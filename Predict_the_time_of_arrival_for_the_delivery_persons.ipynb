{
 "cells": [
  {
   "cell_type": "code",
   "execution_count": 26,
   "metadata": {},
   "outputs": [],
   "source": [
    "import os\n",
    "import numpy as np \n",
    "import pandas as pd\n",
    "path = \"D:/Github/Predict_the_time_of_arrival_for_the_delivery_persons/dataset/data\""
   ]
  },
  {
   "cell_type": "code",
   "execution_count": 27,
   "metadata": {},
   "outputs": [],
   "source": [
    "# Tạo 1 dataframe \n",
    "def create_df():\n",
    "    arr = []\n",
    "    df = pd.DataFrame(arr, columns=['ID', 'Delivery_person_ID', 'Delivery_person_Age','Delivery_person_Ratings','Restaurant_latitude','Restaurant_longitude'\n",
    "    ,'Delivery_location_latitude','Delivery_location_longitude','Order_Date','Time_Orderd','Time_Order_picked','Weather_conditions','Road_traffic_density'\n",
    "    ,'Vehicle_condition','Type_of_order','Type_of_vehicle','multiple_deliveries','Festival','City','Time_taken_(min)'])\n",
    "    return df\n"
   ]
  },
  {
   "cell_type": "code",
   "execution_count": 28,
   "metadata": {},
   "outputs": [],
   "source": [
    "# Đọc file\n",
    "def read_text_file(file_path):\n",
    "    with open(file_path, 'r') as f:\n",
    "        return f.readlines()\n",
    "\n",
    "os.chdir(path)\n",
    "\n",
    "# Lưu tất cả file txt vào list_a \n",
    "def save_text_file():\n",
    "    list_information_all = []\n",
    "    for file in os.listdir():\n",
    "        if file.endswith(\".txt\"):\n",
    "            file_path = f\"{path}\\{file}\"\n",
    "            list_information_all.append(read_text_file(file_path))\n",
    "    return list_information_all"
   ]
  },
  {
   "cell_type": "code",
   "execution_count": 29,
   "metadata": {},
   "outputs": [],
   "source": [
    "# Hàm trả về mảng chứa thông tin của 1 tệp txt \n",
    "def information(text_information):\n",
    "    list_information = []\n",
    "    for i in range(20):\n",
    "        text = text_information[i][27:]\n",
    "        text = text.replace(' ', '')\n",
    "        text = text.replace('\\n', '')\n",
    "        list_information.append(text)\n",
    "    return list_information"
   ]
  },
  {
   "cell_type": "code",
   "execution_count": 30,
   "metadata": {},
   "outputs": [],
   "source": [
    "def create_data(list_information_all):\n",
    "    df = create_df()\n",
    "    for i in range(len(list_information_all)):\n",
    "        df.loc[i] = information(list_information_all[i])\n",
    "    return df"
   ]
  },
  {
   "cell_type": "code",
   "execution_count": 31,
   "metadata": {},
   "outputs": [],
   "source": [
    "# df = create_data(save_text_file())\n",
    "# df.to_csv(\"D:/Github/Predict_the_time_of_arrival_for_the_delivery_persons/dataset/data_new/dataset_new_1.csv\")"
   ]
  },
  {
   "cell_type": "code",
   "execution_count": 32,
   "metadata": {},
   "outputs": [],
   "source": [
    "# Đọc file csv \n",
    "\n",
    "df = pd.read_csv(\"D:/Github/Predict_the_time_of_arrival_for_the_delivery_persons/dataset/data_new/dataset_new.csv\")"
   ]
  },
  {
   "cell_type": "code",
   "execution_count": 33,
   "metadata": {},
   "outputs": [],
   "source": [
    "del df['Unnamed: 0']"
   ]
  },
  {
   "cell_type": "code",
   "execution_count": 34,
   "metadata": {},
   "outputs": [
    {
     "name": "stdout",
     "output_type": "stream",
     "text": [
      "<class 'pandas.core.frame.DataFrame'>\n",
      "RangeIndex: 45592 entries, 0 to 45591\n",
      "Data columns (total 20 columns):\n",
      " #   Column                       Non-Null Count  Dtype  \n",
      "---  ------                       --------------  -----  \n",
      " 0   ID                           45592 non-null  object \n",
      " 1   Delivery_person_ID           45592 non-null  object \n",
      " 2   Delivery_person_Age          43738 non-null  float64\n",
      " 3   Delivery_person_Ratings      43684 non-null  float64\n",
      " 4   Restaurant_latitude          45592 non-null  float64\n",
      " 5   Restaurant_longitude         45592 non-null  float64\n",
      " 6   Delivery_location_latitude   45592 non-null  float64\n",
      " 7   Delivery_location_longitude  45592 non-null  float64\n",
      " 8   Order_Date                   45592 non-null  object \n",
      " 9   Time_Orderd                  43861 non-null  object \n",
      " 10  Time_Order_picked            45592 non-null  object \n",
      " 11  Weather_conditions           44976 non-null  object \n",
      " 12  Road_traffic_density         44991 non-null  object \n",
      " 13  Vehicle_condition            45592 non-null  int64  \n",
      " 14  Type_of_order                45592 non-null  object \n",
      " 15  Type_of_vehicle              45592 non-null  object \n",
      " 16  multiple_deliveries          44599 non-null  float64\n",
      " 17  Festival                     45364 non-null  object \n",
      " 18  City                         44392 non-null  object \n",
      " 19  Time_taken_(min)             45592 non-null  float64\n",
      "dtypes: float64(8), int64(1), object(11)\n",
      "memory usage: 7.0+ MB\n"
     ]
    }
   ],
   "source": [
    "df.info()"
   ]
  },
  {
   "cell_type": "code",
   "execution_count": 35,
   "metadata": {},
   "outputs": [
    {
     "data": {
      "text/html": [
       "<div>\n",
       "<style scoped>\n",
       "    .dataframe tbody tr th:only-of-type {\n",
       "        vertical-align: middle;\n",
       "    }\n",
       "\n",
       "    .dataframe tbody tr th {\n",
       "        vertical-align: top;\n",
       "    }\n",
       "\n",
       "    .dataframe thead th {\n",
       "        text-align: right;\n",
       "    }\n",
       "</style>\n",
       "<table border=\"1\" class=\"dataframe\">\n",
       "  <thead>\n",
       "    <tr style=\"text-align: right;\">\n",
       "      <th></th>\n",
       "      <th>ID</th>\n",
       "      <th>Delivery_person_ID</th>\n",
       "      <th>Delivery_person_Age</th>\n",
       "      <th>Delivery_person_Ratings</th>\n",
       "      <th>Restaurant_latitude</th>\n",
       "      <th>Restaurant_longitude</th>\n",
       "      <th>Delivery_location_latitude</th>\n",
       "      <th>Delivery_location_longitude</th>\n",
       "      <th>Order_Date</th>\n",
       "      <th>Time_Orderd</th>\n",
       "      <th>Time_Order_picked</th>\n",
       "      <th>Weather_conditions</th>\n",
       "      <th>Road_traffic_density</th>\n",
       "      <th>Vehicle_condition</th>\n",
       "      <th>Type_of_order</th>\n",
       "      <th>Type_of_vehicle</th>\n",
       "      <th>multiple_deliveries</th>\n",
       "      <th>Festival</th>\n",
       "      <th>City</th>\n",
       "      <th>Time_taken_(min)</th>\n",
       "    </tr>\n",
       "  </thead>\n",
       "  <tbody>\n",
       "    <tr>\n",
       "      <th>0</th>\n",
       "      <td>0xb379</td>\n",
       "      <td>BANGRES18DEL02</td>\n",
       "      <td>34.0</td>\n",
       "      <td>4.5</td>\n",
       "      <td>12.913041</td>\n",
       "      <td>77.683237</td>\n",
       "      <td>13.043041</td>\n",
       "      <td>77.813237</td>\n",
       "      <td>25-03-2022</td>\n",
       "      <td>19:45</td>\n",
       "      <td>19:50</td>\n",
       "      <td>Stormy</td>\n",
       "      <td>Jam</td>\n",
       "      <td>2</td>\n",
       "      <td>Snack</td>\n",
       "      <td>scooter</td>\n",
       "      <td>1.0</td>\n",
       "      <td>No</td>\n",
       "      <td>Metropolitian</td>\n",
       "      <td>33.0</td>\n",
       "    </tr>\n",
       "    <tr>\n",
       "      <th>1</th>\n",
       "      <td>0x5d6d</td>\n",
       "      <td>BANGRES19DEL01</td>\n",
       "      <td>23.0</td>\n",
       "      <td>4.4</td>\n",
       "      <td>12.914264</td>\n",
       "      <td>77.678400</td>\n",
       "      <td>12.924264</td>\n",
       "      <td>77.688400</td>\n",
       "      <td>19-03-2022</td>\n",
       "      <td>8:30</td>\n",
       "      <td>8:45</td>\n",
       "      <td>Sandstorms</td>\n",
       "      <td>Low</td>\n",
       "      <td>0</td>\n",
       "      <td>Drinks</td>\n",
       "      <td>motorcycle</td>\n",
       "      <td>1.0</td>\n",
       "      <td>No</td>\n",
       "      <td>Urban</td>\n",
       "      <td>26.0</td>\n",
       "    </tr>\n",
       "    <tr>\n",
       "      <th>2</th>\n",
       "      <td>0x7a6a</td>\n",
       "      <td>COIMBRES13DEL02</td>\n",
       "      <td>38.0</td>\n",
       "      <td>4.7</td>\n",
       "      <td>11.003669</td>\n",
       "      <td>76.976494</td>\n",
       "      <td>11.053669</td>\n",
       "      <td>77.026494</td>\n",
       "      <td>05-04-2022</td>\n",
       "      <td>17:60</td>\n",
       "      <td>18:10</td>\n",
       "      <td>Sunny</td>\n",
       "      <td>Medium</td>\n",
       "      <td>0</td>\n",
       "      <td>Buffet</td>\n",
       "      <td>motorcycle</td>\n",
       "      <td>1.0</td>\n",
       "      <td>No</td>\n",
       "      <td>Metropolitian</td>\n",
       "      <td>21.0</td>\n",
       "    </tr>\n",
       "    <tr>\n",
       "      <th>3</th>\n",
       "      <td>0x70a2</td>\n",
       "      <td>CHENRES12DEL01</td>\n",
       "      <td>32.0</td>\n",
       "      <td>4.6</td>\n",
       "      <td>12.972793</td>\n",
       "      <td>80.249982</td>\n",
       "      <td>13.012793</td>\n",
       "      <td>80.289982</td>\n",
       "      <td>26-03-2022</td>\n",
       "      <td>13:30</td>\n",
       "      <td>13:45</td>\n",
       "      <td>Cloudy</td>\n",
       "      <td>High</td>\n",
       "      <td>1</td>\n",
       "      <td>Snack</td>\n",
       "      <td>scooter</td>\n",
       "      <td>1.0</td>\n",
       "      <td>No</td>\n",
       "      <td>Metropolitian</td>\n",
       "      <td>30.0</td>\n",
       "    </tr>\n",
       "    <tr>\n",
       "      <th>4</th>\n",
       "      <td>0x9bb4</td>\n",
       "      <td>HYDRES09DEL03</td>\n",
       "      <td>22.0</td>\n",
       "      <td>4.8</td>\n",
       "      <td>17.431668</td>\n",
       "      <td>78.408321</td>\n",
       "      <td>17.461668</td>\n",
       "      <td>78.438321</td>\n",
       "      <td>11-03-2022</td>\n",
       "      <td>21:20</td>\n",
       "      <td>21:30</td>\n",
       "      <td>Cloudy</td>\n",
       "      <td>Jam</td>\n",
       "      <td>0</td>\n",
       "      <td>Buffet</td>\n",
       "      <td>motorcycle</td>\n",
       "      <td>1.0</td>\n",
       "      <td>No</td>\n",
       "      <td>Urban</td>\n",
       "      <td>26.0</td>\n",
       "    </tr>\n",
       "    <tr>\n",
       "      <th>5</th>\n",
       "      <td>0x95b4</td>\n",
       "      <td>RANCHIRES15DEL01</td>\n",
       "      <td>33.0</td>\n",
       "      <td>4.7</td>\n",
       "      <td>23.369746</td>\n",
       "      <td>85.339820</td>\n",
       "      <td>23.479746</td>\n",
       "      <td>85.449820</td>\n",
       "      <td>04-03-2022</td>\n",
       "      <td>19:15</td>\n",
       "      <td>19:30</td>\n",
       "      <td>Fog</td>\n",
       "      <td>Jam</td>\n",
       "      <td>1</td>\n",
       "      <td>Meal</td>\n",
       "      <td>scooter</td>\n",
       "      <td>1.0</td>\n",
       "      <td>No</td>\n",
       "      <td>Metropolitian</td>\n",
       "      <td>40.0</td>\n",
       "    </tr>\n",
       "    <tr>\n",
       "      <th>6</th>\n",
       "      <td>0x9eb2</td>\n",
       "      <td>MYSRES15DEL02</td>\n",
       "      <td>35.0</td>\n",
       "      <td>4.6</td>\n",
       "      <td>12.352058</td>\n",
       "      <td>76.606650</td>\n",
       "      <td>12.482058</td>\n",
       "      <td>76.736650</td>\n",
       "      <td>14-03-2022</td>\n",
       "      <td>17:25</td>\n",
       "      <td>17:30</td>\n",
       "      <td>Cloudy</td>\n",
       "      <td>Medium</td>\n",
       "      <td>2</td>\n",
       "      <td>Meal</td>\n",
       "      <td>motorcycle</td>\n",
       "      <td>1.0</td>\n",
       "      <td>No</td>\n",
       "      <td>Metropolitian</td>\n",
       "      <td>32.0</td>\n",
       "    </tr>\n",
       "    <tr>\n",
       "      <th>7</th>\n",
       "      <td>0x1102</td>\n",
       "      <td>HYDRES05DEL02</td>\n",
       "      <td>22.0</td>\n",
       "      <td>4.8</td>\n",
       "      <td>17.433809</td>\n",
       "      <td>78.386744</td>\n",
       "      <td>17.563809</td>\n",
       "      <td>78.516744</td>\n",
       "      <td>20-03-2022</td>\n",
       "      <td>20:55</td>\n",
       "      <td>21:05</td>\n",
       "      <td>Stormy</td>\n",
       "      <td>Jam</td>\n",
       "      <td>0</td>\n",
       "      <td>Buffet</td>\n",
       "      <td>motorcycle</td>\n",
       "      <td>1.0</td>\n",
       "      <td>No</td>\n",
       "      <td>Metropolitian</td>\n",
       "      <td>34.0</td>\n",
       "    </tr>\n",
       "    <tr>\n",
       "      <th>8</th>\n",
       "      <td>0xcdcd</td>\n",
       "      <td>DEHRES17DEL01</td>\n",
       "      <td>36.0</td>\n",
       "      <td>4.2</td>\n",
       "      <td>30.327968</td>\n",
       "      <td>78.046106</td>\n",
       "      <td>30.397968</td>\n",
       "      <td>78.116106</td>\n",
       "      <td>12-02-2022</td>\n",
       "      <td>21:55</td>\n",
       "      <td>22:10</td>\n",
       "      <td>Fog</td>\n",
       "      <td>Jam</td>\n",
       "      <td>2</td>\n",
       "      <td>Snack</td>\n",
       "      <td>motorcycle</td>\n",
       "      <td>3.0</td>\n",
       "      <td>No</td>\n",
       "      <td>Metropolitian</td>\n",
       "      <td>46.0</td>\n",
       "    </tr>\n",
       "    <tr>\n",
       "      <th>9</th>\n",
       "      <td>0xd987</td>\n",
       "      <td>KOCRES16DEL01</td>\n",
       "      <td>21.0</td>\n",
       "      <td>4.7</td>\n",
       "      <td>10.003064</td>\n",
       "      <td>76.307589</td>\n",
       "      <td>10.043064</td>\n",
       "      <td>76.347589</td>\n",
       "      <td>13-02-2022</td>\n",
       "      <td>14:55</td>\n",
       "      <td>15:05</td>\n",
       "      <td>Stormy</td>\n",
       "      <td>High</td>\n",
       "      <td>1</td>\n",
       "      <td>Meal</td>\n",
       "      <td>motorcycle</td>\n",
       "      <td>1.0</td>\n",
       "      <td>No</td>\n",
       "      <td>Metropolitian</td>\n",
       "      <td>23.0</td>\n",
       "    </tr>\n",
       "  </tbody>\n",
       "</table>\n",
       "</div>"
      ],
      "text/plain": [
       "       ID Delivery_person_ID  Delivery_person_Age  Delivery_person_Ratings  \\\n",
       "0  0xb379     BANGRES18DEL02                 34.0                      4.5   \n",
       "1  0x5d6d     BANGRES19DEL01                 23.0                      4.4   \n",
       "2  0x7a6a    COIMBRES13DEL02                 38.0                      4.7   \n",
       "3  0x70a2     CHENRES12DEL01                 32.0                      4.6   \n",
       "4  0x9bb4      HYDRES09DEL03                 22.0                      4.8   \n",
       "5  0x95b4   RANCHIRES15DEL01                 33.0                      4.7   \n",
       "6  0x9eb2      MYSRES15DEL02                 35.0                      4.6   \n",
       "7  0x1102      HYDRES05DEL02                 22.0                      4.8   \n",
       "8  0xcdcd      DEHRES17DEL01                 36.0                      4.2   \n",
       "9  0xd987      KOCRES16DEL01                 21.0                      4.7   \n",
       "\n",
       "   Restaurant_latitude  Restaurant_longitude  Delivery_location_latitude  \\\n",
       "0            12.913041             77.683237                   13.043041   \n",
       "1            12.914264             77.678400                   12.924264   \n",
       "2            11.003669             76.976494                   11.053669   \n",
       "3            12.972793             80.249982                   13.012793   \n",
       "4            17.431668             78.408321                   17.461668   \n",
       "5            23.369746             85.339820                   23.479746   \n",
       "6            12.352058             76.606650                   12.482058   \n",
       "7            17.433809             78.386744                   17.563809   \n",
       "8            30.327968             78.046106                   30.397968   \n",
       "9            10.003064             76.307589                   10.043064   \n",
       "\n",
       "   Delivery_location_longitude  Order_Date Time_Orderd Time_Order_picked  \\\n",
       "0                    77.813237  25-03-2022       19:45             19:50   \n",
       "1                    77.688400  19-03-2022        8:30              8:45   \n",
       "2                    77.026494  05-04-2022       17:60             18:10   \n",
       "3                    80.289982  26-03-2022       13:30             13:45   \n",
       "4                    78.438321  11-03-2022       21:20             21:30   \n",
       "5                    85.449820  04-03-2022       19:15             19:30   \n",
       "6                    76.736650  14-03-2022       17:25             17:30   \n",
       "7                    78.516744  20-03-2022       20:55             21:05   \n",
       "8                    78.116106  12-02-2022       21:55             22:10   \n",
       "9                    76.347589  13-02-2022       14:55             15:05   \n",
       "\n",
       "  Weather_conditions Road_traffic_density  Vehicle_condition Type_of_order  \\\n",
       "0             Stormy                  Jam                  2         Snack   \n",
       "1         Sandstorms                  Low                  0        Drinks   \n",
       "2              Sunny               Medium                  0        Buffet   \n",
       "3             Cloudy                 High                  1         Snack   \n",
       "4             Cloudy                  Jam                  0        Buffet   \n",
       "5                Fog                  Jam                  1          Meal   \n",
       "6             Cloudy               Medium                  2          Meal   \n",
       "7             Stormy                  Jam                  0        Buffet   \n",
       "8                Fog                  Jam                  2         Snack   \n",
       "9             Stormy                 High                  1          Meal   \n",
       "\n",
       "  Type_of_vehicle  multiple_deliveries Festival           City  \\\n",
       "0         scooter                  1.0       No  Metropolitian   \n",
       "1      motorcycle                  1.0       No          Urban   \n",
       "2      motorcycle                  1.0       No  Metropolitian   \n",
       "3         scooter                  1.0       No  Metropolitian   \n",
       "4      motorcycle                  1.0       No          Urban   \n",
       "5         scooter                  1.0       No  Metropolitian   \n",
       "6      motorcycle                  1.0       No  Metropolitian   \n",
       "7      motorcycle                  1.0       No  Metropolitian   \n",
       "8      motorcycle                  3.0       No  Metropolitian   \n",
       "9      motorcycle                  1.0       No  Metropolitian   \n",
       "\n",
       "   Time_taken_(min)  \n",
       "0              33.0  \n",
       "1              26.0  \n",
       "2              21.0  \n",
       "3              30.0  \n",
       "4              26.0  \n",
       "5              40.0  \n",
       "6              32.0  \n",
       "7              34.0  \n",
       "8              46.0  \n",
       "9              23.0  "
      ]
     },
     "execution_count": 35,
     "metadata": {},
     "output_type": "execute_result"
    }
   ],
   "source": [
    "df[:10]"
   ]
  },
  {
   "cell_type": "code",
   "execution_count": 36,
   "metadata": {},
   "outputs": [
    {
     "data": {
      "text/plain": [
       "ID                                0\n",
       "Delivery_person_ID                0\n",
       "Delivery_person_Age            1854\n",
       "Delivery_person_Ratings        1908\n",
       "Restaurant_latitude               0\n",
       "Restaurant_longitude              0\n",
       "Delivery_location_latitude        0\n",
       "Delivery_location_longitude       0\n",
       "Order_Date                        0\n",
       "Time_Orderd                    1731\n",
       "Time_Order_picked                 0\n",
       "Weather_conditions              616\n",
       "Road_traffic_density            601\n",
       "Vehicle_condition                 0\n",
       "Type_of_order                     0\n",
       "Type_of_vehicle                   0\n",
       "multiple_deliveries             993\n",
       "Festival                        228\n",
       "City                           1200\n",
       "Time_taken_(min)                  0\n",
       "dtype: int64"
      ]
     },
     "execution_count": 36,
     "metadata": {},
     "output_type": "execute_result"
    }
   ],
   "source": [
    "df.isnull().sum()"
   ]
  },
  {
   "cell_type": "code",
   "execution_count": 37,
   "metadata": {},
   "outputs": [
    {
     "data": {
      "text/html": [
       "<div>\n",
       "<style scoped>\n",
       "    .dataframe tbody tr th:only-of-type {\n",
       "        vertical-align: middle;\n",
       "    }\n",
       "\n",
       "    .dataframe tbody tr th {\n",
       "        vertical-align: top;\n",
       "    }\n",
       "\n",
       "    .dataframe thead th {\n",
       "        text-align: right;\n",
       "    }\n",
       "</style>\n",
       "<table border=\"1\" class=\"dataframe\">\n",
       "  <thead>\n",
       "    <tr style=\"text-align: right;\">\n",
       "      <th></th>\n",
       "      <th>Delivery_person_Age</th>\n",
       "      <th>Delivery_person_Ratings</th>\n",
       "      <th>Restaurant_latitude</th>\n",
       "      <th>Restaurant_longitude</th>\n",
       "      <th>Delivery_location_latitude</th>\n",
       "      <th>Delivery_location_longitude</th>\n",
       "      <th>Vehicle_condition</th>\n",
       "      <th>multiple_deliveries</th>\n",
       "      <th>Time_taken_(min)</th>\n",
       "    </tr>\n",
       "  </thead>\n",
       "  <tbody>\n",
       "    <tr>\n",
       "      <th>count</th>\n",
       "      <td>43738.000000</td>\n",
       "      <td>43684.000000</td>\n",
       "      <td>45592.000000</td>\n",
       "      <td>45592.000000</td>\n",
       "      <td>45592.000000</td>\n",
       "      <td>45592.000000</td>\n",
       "      <td>45592.000000</td>\n",
       "      <td>44599.000000</td>\n",
       "      <td>45592.000000</td>\n",
       "    </tr>\n",
       "    <tr>\n",
       "      <th>mean</th>\n",
       "      <td>29.566967</td>\n",
       "      <td>4.633774</td>\n",
       "      <td>17.017603</td>\n",
       "      <td>70.231208</td>\n",
       "      <td>17.465070</td>\n",
       "      <td>70.845591</td>\n",
       "      <td>1.023337</td>\n",
       "      <td>0.744680</td>\n",
       "      <td>26.294657</td>\n",
       "    </tr>\n",
       "    <tr>\n",
       "      <th>std</th>\n",
       "      <td>5.815113</td>\n",
       "      <td>0.334718</td>\n",
       "      <td>8.185155</td>\n",
       "      <td>22.883883</td>\n",
       "      <td>7.335160</td>\n",
       "      <td>21.119030</td>\n",
       "      <td>0.839062</td>\n",
       "      <td>0.572469</td>\n",
       "      <td>9.383903</td>\n",
       "    </tr>\n",
       "    <tr>\n",
       "      <th>min</th>\n",
       "      <td>15.000000</td>\n",
       "      <td>1.000000</td>\n",
       "      <td>-30.905562</td>\n",
       "      <td>-88.366217</td>\n",
       "      <td>0.010000</td>\n",
       "      <td>0.010000</td>\n",
       "      <td>0.000000</td>\n",
       "      <td>0.000000</td>\n",
       "      <td>10.000000</td>\n",
       "    </tr>\n",
       "    <tr>\n",
       "      <th>25%</th>\n",
       "      <td>25.000000</td>\n",
       "      <td>4.500000</td>\n",
       "      <td>12.933284</td>\n",
       "      <td>73.170000</td>\n",
       "      <td>12.988453</td>\n",
       "      <td>73.280000</td>\n",
       "      <td>0.000000</td>\n",
       "      <td>0.000000</td>\n",
       "      <td>19.000000</td>\n",
       "    </tr>\n",
       "    <tr>\n",
       "      <th>50%</th>\n",
       "      <td>30.000000</td>\n",
       "      <td>4.700000</td>\n",
       "      <td>18.546947</td>\n",
       "      <td>75.898497</td>\n",
       "      <td>18.633934</td>\n",
       "      <td>76.002574</td>\n",
       "      <td>1.000000</td>\n",
       "      <td>1.000000</td>\n",
       "      <td>26.000000</td>\n",
       "    </tr>\n",
       "    <tr>\n",
       "      <th>75%</th>\n",
       "      <td>35.000000</td>\n",
       "      <td>4.900000</td>\n",
       "      <td>22.728163</td>\n",
       "      <td>78.044095</td>\n",
       "      <td>22.785049</td>\n",
       "      <td>78.107044</td>\n",
       "      <td>2.000000</td>\n",
       "      <td>1.000000</td>\n",
       "      <td>32.000000</td>\n",
       "    </tr>\n",
       "    <tr>\n",
       "      <th>max</th>\n",
       "      <td>50.000000</td>\n",
       "      <td>6.000000</td>\n",
       "      <td>30.914057</td>\n",
       "      <td>88.433452</td>\n",
       "      <td>31.054057</td>\n",
       "      <td>88.563452</td>\n",
       "      <td>3.000000</td>\n",
       "      <td>3.000000</td>\n",
       "      <td>54.000000</td>\n",
       "    </tr>\n",
       "  </tbody>\n",
       "</table>\n",
       "</div>"
      ],
      "text/plain": [
       "       Delivery_person_Age  Delivery_person_Ratings  Restaurant_latitude  \\\n",
       "count         43738.000000             43684.000000         45592.000000   \n",
       "mean             29.566967                 4.633774            17.017603   \n",
       "std               5.815113                 0.334718             8.185155   \n",
       "min              15.000000                 1.000000           -30.905562   \n",
       "25%              25.000000                 4.500000            12.933284   \n",
       "50%              30.000000                 4.700000            18.546947   \n",
       "75%              35.000000                 4.900000            22.728163   \n",
       "max              50.000000                 6.000000            30.914057   \n",
       "\n",
       "       Restaurant_longitude  Delivery_location_latitude  \\\n",
       "count          45592.000000                45592.000000   \n",
       "mean              70.231208                   17.465070   \n",
       "std               22.883883                    7.335160   \n",
       "min              -88.366217                    0.010000   \n",
       "25%               73.170000                   12.988453   \n",
       "50%               75.898497                   18.633934   \n",
       "75%               78.044095                   22.785049   \n",
       "max               88.433452                   31.054057   \n",
       "\n",
       "       Delivery_location_longitude  Vehicle_condition  multiple_deliveries  \\\n",
       "count                 45592.000000       45592.000000         44599.000000   \n",
       "mean                     70.845591           1.023337             0.744680   \n",
       "std                      21.119030           0.839062             0.572469   \n",
       "min                       0.010000           0.000000             0.000000   \n",
       "25%                      73.280000           0.000000             0.000000   \n",
       "50%                      76.002574           1.000000             1.000000   \n",
       "75%                      78.107044           2.000000             1.000000   \n",
       "max                      88.563452           3.000000             3.000000   \n",
       "\n",
       "       Time_taken_(min)  \n",
       "count      45592.000000  \n",
       "mean          26.294657  \n",
       "std            9.383903  \n",
       "min           10.000000  \n",
       "25%           19.000000  \n",
       "50%           26.000000  \n",
       "75%           32.000000  \n",
       "max           54.000000  "
      ]
     },
     "execution_count": 37,
     "metadata": {},
     "output_type": "execute_result"
    }
   ],
   "source": [
    "df.describe()"
   ]
  },
  {
   "cell_type": "code",
   "execution_count": 38,
   "metadata": {},
   "outputs": [
    {
     "name": "stdout",
     "output_type": "stream",
     "text": [
      "Feature: ID : \n",
      "\n",
      "['0xb379' '0x5d6d' '0x7a6a' ... '0x4f8d' '0x5eee' '0x5fb2']\n",
      "-------------------------------------------------------------------------\n",
      "Feature: Delivery_person_ID : \n",
      "\n",
      "['BANGRES18DEL02' 'BANGRES19DEL01' 'COIMBRES13DEL02' ... 'KOCRES04DEL01'\n",
      " 'BHPRES06DEL03' 'GOARES03DEL03']\n",
      "-------------------------------------------------------------------------\n",
      "Feature: Delivery_person_Age : \n",
      "\n",
      "[34. 23. 38. 32. 22. 33. 35. 36. 21. 24. 29. 25. 31. 37. 27. 26. 20. nan\n",
      " 28. 39. 30. 15. 50.]\n",
      "-------------------------------------------------------------------------\n",
      "Feature: Delivery_person_Ratings : \n",
      "\n",
      "[4.5 4.4 4.7 4.6 4.8 4.2 4.3 4.  4.9 4.1 5.  3.5 nan 3.8 3.9 3.7 2.6 2.5\n",
      " 3.6 3.1 2.7 1.  3.2 3.3 6.  3.4 2.8 2.9 3. ]\n",
      "-------------------------------------------------------------------------\n",
      "Feature: Restaurant_latitude : \n",
      "\n",
      "[ 12.913041  12.914264  11.003669  12.972793  17.431668  23.369746\n",
      "  12.352058  17.433809  30.327968  10.003064  18.56245   30.899584\n",
      "  26.463504  19.176269  12.311072  18.592718  17.426228  22.552672\n",
      "  18.563934  23.357804  12.986047  19.221315  13.005801  26.849596\n",
      "  21.160522  12.934179  18.51421   11.022477  21.160437  15.51315\n",
      "  15.561295   0.        18.55144   18.593481  21.173343  17.451976\n",
      "  12.972532  13.064181  19.121999  21.149569  19.091458  22.539129\n",
      "  12.970324  21.175975  11.003681  10.96185   27.165108  26.88842\n",
      "  26.913987  12.3085    21.183434  19.254567  25.449659  30.372202\n",
      "  21.157735  21.186438  12.935662  17.431477  12.933298  22.311358\n",
      "  12.934365  13.086438  26.913483  17.411028  18.516216  15.5696\n",
      "  19.876428  12.939496  23.374878 -27.163303  22.74806   26.891191\n",
      "  12.316967  18.927584  11.022298  12.325461  18.530963  17.458998\n",
      "  19.1813    22.727021  12.979166  18.994237  12.284747  11.000762\n",
      "  26.479108  21.175104  12.975377  23.359194  12.297954  23.359407\n",
      "  23.416792  26.892312  22.31279   22.761593  11.026117  26.483042\n",
      "  23.359033  22.569358  21.157729  22.311603  18.536562  22.745536\n",
      "  18.543626  17.41233   21.17106   21.186884  19.065838  12.98041\n",
      "  12.310972  11.025083  22.538731  11.001753  22.310237  22.725748\n",
      "  17.450851  13.081878  10.035573  22.308096  12.975996  19.178321\n",
      "  26.910262  25.443994  12.321214  19.055831  12.337928  23.351489\n",
      "  22.728163  13.026286  26.766536  21.149834  21.149669  26.482581\n",
      "  26.911378  13.02978   12.323194  22.569367  12.949934  22.725835\n",
      "  30.89286   12.933284  17.429585  12.978453  13.044694  26.846156\n",
      "  26.911927  10.020683  15.585658  22.310526  19.103249  26.471617\n",
      "  19.866969  12.906229  22.751857  11.010375  17.483216  27.160934\n",
      "  11.006686  25.457687  19.12663   19.875016  18.536718  13.026279\n",
      "  17.455894  22.745049  13.054347  12.979096  27.163303  26.482419\n",
      "  22.307898  27.160832  10.027014  30.890184  21.15276   22.753839\n",
      "  19.876106  30.328174  13.058616 -27.165108  21.170096  30.905562\n",
      " -18.55144   26.902328  26.90519   17.428294  12.323978  26.492106\n",
      "  19.003517  10.994136  23.353783  17.440827  12.304569  12.299524\n",
      "  19.131141  19.879631  18.520016  21.170798  22.760072  22.761226\n",
      "  23.354422  22.722634  12.972161  22.526461  23.371292  13.029198\n",
      "  18.546258  26.921411  11.008638  13.049645  17.430448  19.874733\n",
      "  13.045479  26.956431  13.022394  22.75004   21.173493  13.091809\n",
      "  18.533811  15.496162  26.913726  30.895817 -30.366322  12.323994\n",
      "  19.120083  12.337978  27.161661  13.066762  30.362686  17.410371\n",
      "   9.979186  18.539299  22.310329  11.022169  19.875908  10.006881\n",
      "  12.326356  19.875522  22.552996  30.895204  25.450329  18.546947\n",
      "  30.340722  22.651847  25.45235   17.424114  12.323225 -12.325461\n",
      "  26.905287  17.422819  17.45971   22.695207  18.569156  11.003008\n",
      "  26.914142  30.359722  12.334022  23.214294 -12.316967  12.970221\n",
      "  22.753659  18.636215  22.751234  23.234249  25.457116  22.744648\n",
      "  23.39925   19.874103  22.577821  22.514119  22.311844  18.994049\n",
      "  22.732225  30.914057  23.233219  12.981615  23.184992  26.49095\n",
      "  22.551084  11.021278  30.899992  11.024839  23.351058  19.876219\n",
      "  19.880256  13.027018  30.893234  30.319528  27.195928 -23.359194\n",
      "  25.450317  21.185047  23.355164  23.232537  18.53408   26.902908\n",
      "  11.016298  10.000706  25.454697  21.186608  26.90294   23.214459\n",
      "  23.374989  30.893244  30.885915  17.438263  15.544419  26.474986\n",
      "   9.970717  30.873988  19.888716  22.547186  23.232357  23.234631\n",
      "  19.1093    22.32     -26.47775   26.469003  26.483672  10.027364\n",
      " -15.546594  19.207222  19.874449 -12.337978  11.02091   19.22384\n",
      "  30.366322  30.361281  26.473698  18.554382  22.553227 -27.160934\n",
      "  30.332735   9.982834  15.498603  22.5491    25.450377  26.471529\n",
      " -26.90519   23.218998  23.235123  22.533662  30.885814 -17.45971\n",
      "  15.574828  25.459775  30.893081  22.514688 -26.914142  23.266261\n",
      "  23.333017 -19.176269  27.157772  15.516833  22.527893  27.159795\n",
      "  15.546594  15.157944  27.16185   30.88722   27.158822 -23.230791\n",
      "  23.264015  27.161694   9.991703  27.201725   9.960846  26.481547\n",
      " -22.539129  15.303897   9.988483  25.454648  30.342509 -15.157944\n",
      "  22.53796   -9.959778  30.346994 -15.51315   15.49395  -27.16185\n",
      "  11.001852  30.893384 -15.576683  19.875337 -18.520016  15.556561\n",
      "  23.230791 -26.891191  15.56155   30.335259 -22.538999  26.47775\n",
      " -19.103249 -30.902872   9.985497  25.451517 -22.526461  26.472001\n",
      "   9.959778  -9.988483 -23.211529  30.892978  15.506205  19.878028\n",
      " -30.895817 -26.474986  22.538999   9.957144  22.515082  25.451646\n",
      " -15.5696   -12.311072 -26.913987 -12.970324   9.979363  10.028047\n",
      " -21.157735 -23.374989 -13.049645  26.474133  30.902872   9.985697\n",
      " -26.913726  23.211529  19.876994 -22.310329 -23.234249  15.576683\n",
      "  22.514585  25.449872  25.453436   9.966783 -25.45235  -17.451976\n",
      " -21.186884 -26.472001 -26.910262 -11.003681 -11.003669 -13.054347\n",
      " -30.372202 -12.972793 -25.449872 -18.569156 -18.546258 -17.429585\n",
      " -27.159795 -22.553227 -22.761593  -9.966783 -13.086438 -19.878028\n",
      " -17.440827  -9.970717 -12.913041 -12.970221 -19.876994 -19.875522\n",
      " -25.449659 -30.346994 -22.552672 -22.311603 -12.352058 -25.450317\n",
      " -21.15276  -12.949934 -26.49095  -25.443994 -30.319528 -10.028047\n",
      " -12.323978 -19.876106  26.47     -18.53408  -26.463504 -30.899584\n",
      " -22.311844 -17.438263 -23.39925  -23.234631 -30.361281 -19.091458\n",
      " -17.483216 -15.496162 -22.725835 -30.885915 -22.53796  -12.972161\n",
      " -23.184992 -17.424114 -10.035573 -19.22384  -23.235123 -25.453436\n",
      " -23.359033 -19.221315 -23.214459 -21.173343 -26.483042 -21.183434\n",
      " -22.310526 -22.74806  -12.304569 -19.1093   -19.879631 -19.874449\n",
      " -10.020683 -19.875337 -26.911927 -23.416792 -21.186608 -12.323994\n",
      " -12.933284 -17.450851 -19.875016 -22.569358 -12.284747 -23.355164\n",
      " -18.592718 -27.201725 -22.311358 -19.207222 -13.022394 -21.149569\n",
      " -22.538731 -27.161661 -27.160832 -13.066762 -10.96185  -12.935662\n",
      " -17.428294 -30.359722 -11.022169 -30.885814 -25.451517 -22.651847\n",
      " -22.547186 -26.474133 -30.893384 -22.761226 -11.001852 -30.327968\n",
      " -22.745536 -17.455894 -26.481547 -22.32     -23.371292 -18.563934\n",
      " -30.905562 -25.450377 -22.515082 -22.725748 -23.351058 -26.473698\n",
      " -23.333017 -30.873988  -9.982834 -22.514119 -21.170798 -12.979166\n",
      " -19.065838 -19.876428 -13.02978  -12.310972 -22.307898 -21.170096\n",
      " -21.186438  -9.960846 -10.994136 -21.175104 -15.303897 -11.022477\n",
      " -26.846156 -25.457116 -26.905287 -21.149834 -30.328174 -30.362686\n",
      " -19.055831 -22.5491   -26.471529 -12.934365 -30.893244 -19.888716\n",
      " -12.975377 -22.551084 -15.561295 -22.695207 -26.956431  -9.979186\n",
      " -11.006686 -12.323225 -13.026286 -25.454697 -23.357804 -19.880256\n",
      " -13.081878 -10.027014 -18.543626 -10.003064 -22.552996 -18.530963\n",
      " -19.866969 -22.75004  -26.469003 -26.766536 -12.326356 -22.577821\n",
      " -22.569367 -23.232357 -13.091809 -12.933298 -22.533662 -22.745049\n",
      " -26.921411 -23.374878 -27.158822 -12.906229 -13.044694 -13.045479\n",
      " -12.98041  -26.90294  -23.369746 -19.875908 -26.479108 -30.892978\n",
      " -23.232537 -22.514585 -22.751234 -17.426228 -17.411028 -18.636215\n",
      " -15.56155  -19.254567 -25.457687 -15.506205 -15.516833 -11.02091\n",
      " -12.3085   -26.47     -19.003517 -30.890184 -22.760072 -22.722634\n",
      " -19.12663  -22.753839 -21.173493 -17.430448 -12.939496 -18.56245\n",
      " -22.308096 -23.264015 -26.482581 -15.498603 -18.51421  -12.975996\n",
      " -19.874733 -15.49395  -12.978453]\n",
      "-------------------------------------------------------------------------\n",
      "Feature: Restaurant_longitude : \n",
      "\n",
      "[ 77.683237  77.6784    76.976494  80.249982  78.408321  85.33982\n",
      "  76.60665   78.386744  78.046106  76.307589  73.916619  75.809346\n",
      "  80.372929  72.836721  76.654878  73.773572  78.407495  88.352885\n",
      "  73.915367  85.325146  80.218114  72.862381  80.250744  75.800512\n",
      "  72.771477  77.615797  73.838429  76.995667  72.774209  73.78346\n",
      "  73.749478   0.        73.804855  73.785901  72.792731  78.385883\n",
      "  77.608179  80.236442  72.908493  72.772697  72.827808  88.365507\n",
      "  77.645748  72.795503  76.975525  76.971082  78.015053  75.800689\n",
      "  75.752891  76.665808  72.814492  72.848923  81.839744  78.077151\n",
      "  72.768778  72.794115  77.61413   78.40035   77.614293  73.164798\n",
      "  77.616155  80.220672  75.803139  78.329645  73.842527  73.742294\n",
      "  75.364792  77.625999  85.335739  78.057044  75.8934    75.802083\n",
      "  76.603067  72.832585  76.998349  76.632278  73.828972  78.500366\n",
      "  72.836191  75.884167  77.640709  72.825553  76.625861  76.981876\n",
      "  80.315042  72.804342  77.696664  85.325447  76.665169  85.325055\n",
      "  85.316842  75.806896  73.170283  75.886362  76.944652  80.317833\n",
      "  85.325347  88.433452  72.768726  73.165012  73.896485  75.893106\n",
      "  73.905101  78.449654  72.789292  72.793616  72.832658  77.640489\n",
      "  76.659264  77.015393  88.364878  76.986241  73.158921  75.898497\n",
      "  78.379347  80.248519  76.336958  73.167753  80.221898  72.834715\n",
      "  75.783013  81.860187  76.621094  72.833984  76.617889  85.324253\n",
      "  75.884212  80.275235  75.837333  72.778666  72.772629  80.315628\n",
      "  75.789034  80.208812  76.630583  88.433187  77.699386  75.887648\n",
      "  75.822199  77.615428  78.392621  77.643685  80.26147   75.8023\n",
      "  75.797282  76.310631  73.743606  73.170937  72.846749  80.313564\n",
      "  75.318894  77.596791  75.866699  76.95295   78.552111  78.044095\n",
      "  76.951736  81.835585  72.829976  75.322405  73.830327  80.174568\n",
      "  78.375467  75.892471  80.257221  77.640625  80.320939  73.167788\n",
      "  78.011608  76.308053  75.829615  72.778059  75.897429  75.340775\n",
      "  78.049117  80.264151  72.789122  75.832841 -73.804855  75.794257\n",
      "  75.810753  78.404423  76.627961  80.327797  72.82765   76.963303\n",
      "  85.326967  78.393391  76.643622  76.64262   72.813074  75.323403\n",
      "  73.830547  72.790489  75.892574  75.887522  85.3329    75.886959\n",
      "  77.596014  88.364453  85.327872  77.570997  73.904337  75.793604\n",
      "  76.984311  80.242268  78.418213  75.353942  80.23311   75.776649\n",
      "  80.242439  75.902847  72.801953  80.219104  73.899315  73.825364\n",
      "  75.75282   75.813112 -78.070453  76.626167  72.907385  76.616792\n",
      "  78.011544  80.251865  78.06889   78.437225  76.317361  73.897902\n",
      "  73.169083  76.999594  75.358888  76.345397  76.619103  75.367127\n",
      "  88.35231   75.822103  81.834279  73.900626  78.060221  75.881991\n",
      "  81.841889  78.347554  76.630028 -76.632278  75.794592  78.449578\n",
      "  78.368855  75.866059  73.774723  76.97544   75.805704  78.067079\n",
      "  76.618203  77.435361  77.645396  75.903365  73.751081  75.88949\n",
      "  77.434007  81.859682  75.894377  85.390464  75.368419  88.400581\n",
      "  88.362504  73.165081  72.825203  75.874765  75.83982   77.433571\n",
      "  80.231598  77.417227  80.318656  88.354127  76.995017  75.831338\n",
      "  77.007003  85.325731  75.346017  75.323503  80.254791  75.82172\n",
      "  78.040267  77.998092 -85.325447  81.831681  72.80859   85.324097\n",
      "  77.429845  73.89852   75.792934  76.972076  76.349516  81.834492\n",
      "  72.794136  75.793007  77.434976  85.335486  75.821817  75.788259\n",
      "  78.397865  73.755736  80.342796  76.285447  75.842739  75.321461\n",
      "  88.35068   77.429989  77.401663  72.825451  73.17     -80.351569\n",
      "  80.316344  80.320708  76.308258  73.760431  72.972281  75.360232\n",
      "  76.940432  72.841347  78.070453  78.068022  80.352677  73.798206\n",
      "  88.353273 -78.044095  78.054222  76.283268  73.826911  88.400467\n",
      "  81.834236  80.313458 -75.810753  77.373573  77.398886  88.366217\n",
      "  75.786976  73.766883  81.834841  75.821495  88.393294  77.379605\n",
      "  85.3172   -72.836721  78.04725   73.768172  88.368628  78.04299\n",
      "  73.950889  78.040165  75.804893  78.045359  77.43702   77.408236\n",
      "  78.034714  76.293136  78.007553  76.293936  80.299775  73.914336\n",
      "  76.295211  81.834502  78.061187  88.349843  76.296106  78.062543\n",
      "  73.827423 -78.040165  76.976268  75.821202  73.75575   75.316722\n",
      " -73.830547  73.763633  73.749092  78.053162 -88.322337  80.351569\n",
      " -72.846749  75.826808  76.276999  81.832616  80.354002  77.419399\n",
      "  75.821847  73.766668  75.317475  88.322337  76.296783  88.36783\n",
      "  81.832796 -76.654878 -77.645748  76.285001  76.310019 -80.242268\n",
      "  80.3481    76.281128  75.372353 -73.169083 -77.434007  88.39331\n",
      "  81.836167  81.833167  76.242981 -81.841889 -78.385883 -75.783013\n",
      " -76.975525 -76.976494 -80.257221 -78.077151 -73.904337 -78.392621\n",
      " -78.04299  -75.367127 -78.062543 -88.352885 -76.60665  -77.699386\n",
      " -81.860187  80.35     -73.165081 -78.397865 -72.827808 -75.887648\n",
      " -85.335486 -77.596014 -78.347554 -72.841347 -72.862381 -72.792731\n",
      " -72.814492 -76.643622 -85.316842 -76.626167 -77.615428 -78.379347\n",
      " -76.625861 -73.164798 -72.972281 -77.683237 -78.011544 -80.251865\n",
      " -77.61413  -88.349843 -76.999594 -75.881991 -75.821202 -75.887522\n",
      " -76.976268 -78.375467 -73.17     -75.832841 -81.834236 -85.325731\n",
      " -85.3172   -76.283268 -77.640709 -78.068022 -80.208812 -72.789122\n",
      " -75.340775 -72.804342 -76.995667 -81.859682 -75.794592 -78.06889\n",
      " -76.963303 -77.616155 -77.696664 -75.866059 -76.951736 -76.630028\n",
      " -85.325146 -73.828972 -75.902847 -80.316344 -76.619103 -80.242439\n",
      " -76.293936 -77.614293 -88.366217 -75.837333 -75.892471 -75.793604\n",
      " -80.248519 -78.045359 -77.596791 -80.26147  -80.23311  -77.640489\n",
      " -80.220672 -75.793007 -85.33982  -78.407495 -73.773572 -76.603067\n",
      " -73.751081 -76.971082 -75.75282  -78.404423 -76.940432 -76.665808\n",
      " -73.742294 -77.43702  -75.829615 -72.772697 -75.897429 -80.318656\n",
      " -72.801953 -72.832658 -73.916619 -77.408236 -73.838429 -72.778059\n",
      " -73.827423 -77.643685]\n",
      "-------------------------------------------------------------------------\n",
      "Feature: Delivery_location_latitude : \n",
      "\n",
      "[13.043041 12.924264 11.053669 ... 30.982872 15.636205 20.005337]\n",
      "-------------------------------------------------------------------------\n",
      "Feature: Delivery_location_longitude : \n",
      "\n",
      "[77.813237 77.6884   77.026494 ... 75.906808 73.896668 75.446722]\n",
      "-------------------------------------------------------------------------\n",
      "Feature: Order_Date : \n",
      "\n",
      "['25-03-2022' '19-03-2022' '05-04-2022' '26-03-2022' '11-03-2022'\n",
      " '04-03-2022' '14-03-2022' '20-03-2022' '12-02-2022' '13-02-2022'\n",
      " '14-02-2022' '02-04-2022' '01-03-2022' '16-03-2022' '15-02-2022'\n",
      " '10-03-2022' '27-03-2022' '12-03-2022' '01-04-2022' '05-03-2022'\n",
      " '11-02-2022' '08-03-2022' '03-04-2022' '30-03-2022' '28-03-2022'\n",
      " '18-03-2022' '06-04-2022' '04-04-2022' '24-03-2022' '09-03-2022'\n",
      " '02-03-2022' '13-03-2022' '29-03-2022' '31-03-2022' '17-03-2022'\n",
      " '07-03-2022' '15-03-2022' '16-02-2022' '03-03-2022' '18-02-2022'\n",
      " '23-03-2022' '17-02-2022' '06-03-2022' '21-03-2022']\n",
      "-------------------------------------------------------------------------\n",
      "Feature: Time_Orderd : \n",
      "\n",
      "['19:45' '8:30' '17:60' '13:30' '21:20' '19:15' '17:25' '20:55' '21:55'\n",
      " '14:55' '17:30' '9:20' '19:50' '20:25' '20:30' '20:40' '21:15' '20:20'\n",
      " '22:30' '8:15' '19:30' '12:25' '18:35' '20:35' '23:20' '23:35' '22:35'\n",
      " '23:25' '13:35' '21:35' '18:55' '14:15' '10:60' '9:45' '8:40' '22:60' nan\n",
      " '19:10' '10:55' '21:40' '18:60' '16:45' '11:30' '15:10' '22:45' '22:10'\n",
      " '20:45' '22:50' '17:55' '9:25' '20:15' '22:25' '22:40' '23:50' '15:25'\n",
      " '10:20' '10:40' '15:55' '20:10' '12:10' '15:30' '10:35' '21:10' '20:50'\n",
      " '12:35' '20:60' '23:40' '18:15' '18:20' '11:45' '12:45' '23:30' '10:50'\n",
      " '21:25' '10:10' '17:50' '22:20' '12:40' '23:55' '10:25' '8:45' '23:45'\n",
      " '19:55' '22:15' '23:10' '9:15' '18:25' '18:45' '16:50' '23:60' '14:20'\n",
      " '10:15' '8:50' '8:60' '17:45' '16:35' '21:45' '19:40' '14:50' '18:10'\n",
      " '12:20' '12:50' '9:10' '12:30' '17:10' '17:20' '18:30' '13:10' '19:35'\n",
      " '9:50' '14:60' '19:60' '10:30' '9:40' '15:35' '16:55' '22:55' '15:60'\n",
      " '17:15' '21:30' '18:40' '11:10' '13:50' '9:60' '21:50' '11:50' '21:60'\n",
      " '8:25' '11:20' '11:55' '9:30' '8:20' '8:10' '11:40' '23:15' '19:20'\n",
      " '12:15' '11:35' '11:15' '17:35' '17:40' '14:40' '18:50' '11:25' '14:25'\n",
      " '11:60' '16:10' '19:25' '8:55' '13:40' '16:60' '9:35' '8:35' '16:15'\n",
      " '13:20' '15:50' '15:20' '16:20' '14:30' '15:45' '16:40' '12:60' '12:55'\n",
      " '10:45' '13:25' '9:55' '15:15' '13:15' '13:60' '15:40' '16:25' '14:10'\n",
      " '13:45' '13:55' '14:35' '16:30' '14:45']\n",
      "-------------------------------------------------------------------------\n",
      "Feature: Time_Order_picked : \n",
      "\n",
      "['19:50' '8:45' '18:10' '13:45' '21:30' '19:30' '17:30' '21:05' '22:10'\n",
      " '15:05' '17:40' '9:30' '20:05' '20:35' '15:10' '20:40' '20:50' '20:25'\n",
      " '22:45' '8:30' '19:45' '12:30' '18:50' '23:30' '21:35' '23:45' '22:50'\n",
      " '22:40' '23:35' '13:40' '21:45' '19:10' '14:25' '11:10' '9:55' '8:55'\n",
      " '23:10' '18:35' '19:25' '10:60' '19:15' '16:55' '11:40' '15:15' '22:55'\n",
      " '22:25' '20:55' '23:05' '17:60' '22:60' '9:40' '20:20' '22:35' '21:60'\n",
      " '23:55' '15:40' '10:30' '20:60' '10:50' '16:05' '20:15' '12:15' '15:45'\n",
      " '22:15' '10:45' '15:30' '24:05' '21:25' '12:45' '21:15' '18:20' '18:25'\n",
      " '11:50' '12:50' '10:55' '21:40' '10:20' '17:55' '23:50' '12:55' '24:10'\n",
      " '10:40' '8:60' '20:45' '19:60' '23:15' '22:20' '16:60' '24:15' '21:20'\n",
      " '14:35' '10:25' '9:05' '16:50' '8:40' '23:40' '21:50' '19:55' '14:60'\n",
      " '10:35' '9:25' '17:20' '17:25' '20:10' '23:60' '17:35' '18:60' '19:05'\n",
      " '13:20' '17:50' '18:05' '19:20' '10:05' '9:10' '21:55' '19:40' '9:50'\n",
      " '15:50' '18:30' '18:15' '16:15' '11:15' '21:10' '22:30' '15:20' '18:40'\n",
      " '23:20' '11:25' '13:55' '18:45' '22:05' '11:55' '18:55' '9:45' '17:15'\n",
      " '12:05' '11:60' '19:35' '8:25' '11:05' '15:35' '12:40' '12:25' '8:20'\n",
      " '23:25' '16:10' '8:15' '20:30' '12:60' '11:20' '8:50' '14:45' '17:45'\n",
      " '9:60' '8:35' '12:10' '11:35' '14:30' '10:15' '17:05' '10:10' '9:35'\n",
      " '11:30' '16:25' '9:15' '13:35' '15:55' '13:10' '13:05' '11:45' '16:20'\n",
      " '16:30' '16:45' '9:20' '13:25' '14:15' '14:05' '16:35' '16:40' '13:30'\n",
      " '14:40' '12:20' '13:50' '17:10' '15:25' '14:20' '12:35' '13:60' '14:10'\n",
      " '14:55' '13:15' '14:50' '15:60']\n",
      "-------------------------------------------------------------------------\n",
      "Feature: Weather_conditions : \n",
      "\n",
      "['Stormy' 'Sandstorms' 'Sunny' 'Cloudy' 'Fog' 'Windy' nan]\n",
      "-------------------------------------------------------------------------\n",
      "Feature: Road_traffic_density : \n",
      "\n",
      "['Jam' 'Low' 'Medium' 'High' nan]\n",
      "-------------------------------------------------------------------------\n",
      "Feature: Vehicle_condition : \n",
      "\n",
      "[2 0 1 3]\n",
      "-------------------------------------------------------------------------\n",
      "Feature: Type_of_order : \n",
      "\n",
      "['Snack' 'Drinks' 'Buffet' 'Meal']\n",
      "-------------------------------------------------------------------------\n",
      "Feature: Type_of_vehicle : \n",
      "\n",
      "['scooter' 'motorcycle' 'electric_scooter' 'bicycle']\n",
      "-------------------------------------------------------------------------\n",
      "Feature: multiple_deliveries : \n",
      "\n",
      "[ 1.  3.  0. nan  2.]\n",
      "-------------------------------------------------------------------------\n",
      "Feature: Festival : \n",
      "\n",
      "['No' 'Yes' nan]\n",
      "-------------------------------------------------------------------------\n",
      "Feature: City : \n",
      "\n",
      "['Metropolitian' 'Urban' 'Semi-Urban' nan]\n",
      "-------------------------------------------------------------------------\n",
      "Feature: Time_taken_(min) : \n",
      "\n",
      "[33. 26. 21. 30. 40. 32. 34. 46. 23. 20. 41. 15. 36. 39. 18. 38. 47. 12.\n",
      " 22. 25. 35. 10. 19. 11. 28. 52. 16. 27. 49. 24. 17. 14. 37. 44. 42. 31.\n",
      " 13. 29. 50. 43. 48. 54. 53. 45. 51.]\n",
      "-------------------------------------------------------------------------\n"
     ]
    }
   ],
   "source": [
    "df_unique = []\n",
    "for feature in df.columns:\n",
    "    df_unique.append(df[feature].unique())\n",
    "    print(\"Feature: \" + feature + \" : \")\n",
    "    print(\"\")\n",
    "    print(df[feature].unique())\n",
    "    print(\"-------------------------------------------------------------------------\")"
   ]
  },
  {
   "cell_type": "code",
   "execution_count": 39,
   "metadata": {},
   "outputs": [
    {
     "data": {
      "text/plain": [
       "array([ 12.913041,  12.914264,  11.003669,  12.972793,  17.431668,\n",
       "        23.369746,  12.352058,  17.433809,  30.327968,  10.003064,\n",
       "        18.56245 ,  30.899584,  26.463504,  19.176269,  12.311072,\n",
       "        18.592718,  17.426228,  22.552672,  18.563934,  23.357804,\n",
       "        12.986047,  19.221315,  13.005801,  26.849596,  21.160522,\n",
       "        12.934179,  18.51421 ,  11.022477,  21.160437,  15.51315 ,\n",
       "        15.561295,   0.      ,  18.55144 ,  18.593481,  21.173343,\n",
       "        17.451976,  12.972532,  13.064181,  19.121999,  21.149569,\n",
       "        19.091458,  22.539129,  12.970324,  21.175975,  11.003681,\n",
       "        10.96185 ,  27.165108,  26.88842 ,  26.913987,  12.3085  ,\n",
       "        21.183434,  19.254567,  25.449659,  30.372202,  21.157735,\n",
       "        21.186438,  12.935662,  17.431477,  12.933298,  22.311358,\n",
       "        12.934365,  13.086438,  26.913483,  17.411028,  18.516216,\n",
       "        15.5696  ,  19.876428,  12.939496,  23.374878, -27.163303,\n",
       "        22.74806 ,  26.891191,  12.316967,  18.927584,  11.022298,\n",
       "        12.325461,  18.530963,  17.458998,  19.1813  ,  22.727021,\n",
       "        12.979166,  18.994237,  12.284747,  11.000762,  26.479108,\n",
       "        21.175104,  12.975377,  23.359194,  12.297954,  23.359407,\n",
       "        23.416792,  26.892312,  22.31279 ,  22.761593,  11.026117,\n",
       "        26.483042,  23.359033,  22.569358,  21.157729,  22.311603,\n",
       "        18.536562,  22.745536,  18.543626,  17.41233 ,  21.17106 ,\n",
       "        21.186884,  19.065838,  12.98041 ,  12.310972,  11.025083,\n",
       "        22.538731,  11.001753,  22.310237,  22.725748,  17.450851,\n",
       "        13.081878,  10.035573,  22.308096,  12.975996,  19.178321,\n",
       "        26.910262,  25.443994,  12.321214,  19.055831,  12.337928,\n",
       "        23.351489,  22.728163,  13.026286,  26.766536,  21.149834,\n",
       "        21.149669,  26.482581,  26.911378,  13.02978 ,  12.323194,\n",
       "        22.569367,  12.949934,  22.725835,  30.89286 ,  12.933284,\n",
       "        17.429585,  12.978453,  13.044694,  26.846156,  26.911927,\n",
       "        10.020683,  15.585658,  22.310526,  19.103249,  26.471617,\n",
       "        19.866969,  12.906229,  22.751857,  11.010375,  17.483216,\n",
       "        27.160934,  11.006686,  25.457687,  19.12663 ,  19.875016,\n",
       "        18.536718,  13.026279,  17.455894,  22.745049,  13.054347,\n",
       "        12.979096,  27.163303,  26.482419,  22.307898,  27.160832,\n",
       "        10.027014,  30.890184,  21.15276 ,  22.753839,  19.876106,\n",
       "        30.328174,  13.058616, -27.165108,  21.170096,  30.905562,\n",
       "       -18.55144 ,  26.902328,  26.90519 ,  17.428294,  12.323978,\n",
       "        26.492106,  19.003517,  10.994136,  23.353783,  17.440827,\n",
       "        12.304569,  12.299524,  19.131141,  19.879631,  18.520016,\n",
       "        21.170798,  22.760072,  22.761226,  23.354422,  22.722634,\n",
       "        12.972161,  22.526461,  23.371292,  13.029198,  18.546258,\n",
       "        26.921411,  11.008638,  13.049645,  17.430448,  19.874733,\n",
       "        13.045479,  26.956431,  13.022394,  22.75004 ,  21.173493,\n",
       "        13.091809,  18.533811,  15.496162,  26.913726,  30.895817,\n",
       "       -30.366322,  12.323994,  19.120083,  12.337978,  27.161661,\n",
       "        13.066762,  30.362686,  17.410371,   9.979186,  18.539299,\n",
       "        22.310329,  11.022169,  19.875908,  10.006881,  12.326356,\n",
       "        19.875522,  22.552996,  30.895204,  25.450329,  18.546947,\n",
       "        30.340722,  22.651847,  25.45235 ,  17.424114,  12.323225,\n",
       "       -12.325461,  26.905287,  17.422819,  17.45971 ,  22.695207,\n",
       "        18.569156,  11.003008,  26.914142,  30.359722,  12.334022,\n",
       "        23.214294, -12.316967,  12.970221,  22.753659,  18.636215,\n",
       "        22.751234,  23.234249,  25.457116,  22.744648,  23.39925 ,\n",
       "        19.874103,  22.577821,  22.514119,  22.311844,  18.994049,\n",
       "        22.732225,  30.914057,  23.233219,  12.981615,  23.184992,\n",
       "        26.49095 ,  22.551084,  11.021278,  30.899992,  11.024839,\n",
       "        23.351058,  19.876219,  19.880256,  13.027018,  30.893234,\n",
       "        30.319528,  27.195928, -23.359194,  25.450317,  21.185047,\n",
       "        23.355164,  23.232537,  18.53408 ,  26.902908,  11.016298,\n",
       "        10.000706,  25.454697,  21.186608,  26.90294 ,  23.214459,\n",
       "        23.374989,  30.893244,  30.885915,  17.438263,  15.544419,\n",
       "        26.474986,   9.970717,  30.873988,  19.888716,  22.547186,\n",
       "        23.232357,  23.234631,  19.1093  ,  22.32    , -26.47775 ,\n",
       "        26.469003,  26.483672,  10.027364, -15.546594,  19.207222,\n",
       "        19.874449, -12.337978,  11.02091 ,  19.22384 ,  30.366322,\n",
       "        30.361281,  26.473698,  18.554382,  22.553227, -27.160934,\n",
       "        30.332735,   9.982834,  15.498603,  22.5491  ,  25.450377,\n",
       "        26.471529, -26.90519 ,  23.218998,  23.235123,  22.533662,\n",
       "        30.885814, -17.45971 ,  15.574828,  25.459775,  30.893081,\n",
       "        22.514688, -26.914142,  23.266261,  23.333017, -19.176269,\n",
       "        27.157772,  15.516833,  22.527893,  27.159795,  15.546594,\n",
       "        15.157944,  27.16185 ,  30.88722 ,  27.158822, -23.230791,\n",
       "        23.264015,  27.161694,   9.991703,  27.201725,   9.960846,\n",
       "        26.481547, -22.539129,  15.303897,   9.988483,  25.454648,\n",
       "        30.342509, -15.157944,  22.53796 ,  -9.959778,  30.346994,\n",
       "       -15.51315 ,  15.49395 , -27.16185 ,  11.001852,  30.893384,\n",
       "       -15.576683,  19.875337, -18.520016,  15.556561,  23.230791,\n",
       "       -26.891191,  15.56155 ,  30.335259, -22.538999,  26.47775 ,\n",
       "       -19.103249, -30.902872,   9.985497,  25.451517, -22.526461,\n",
       "        26.472001,   9.959778,  -9.988483, -23.211529,  30.892978,\n",
       "        15.506205,  19.878028, -30.895817, -26.474986,  22.538999,\n",
       "         9.957144,  22.515082,  25.451646, -15.5696  , -12.311072,\n",
       "       -26.913987, -12.970324,   9.979363,  10.028047, -21.157735,\n",
       "       -23.374989, -13.049645,  26.474133,  30.902872,   9.985697,\n",
       "       -26.913726,  23.211529,  19.876994, -22.310329, -23.234249,\n",
       "        15.576683,  22.514585,  25.449872,  25.453436,   9.966783,\n",
       "       -25.45235 , -17.451976, -21.186884, -26.472001, -26.910262,\n",
       "       -11.003681, -11.003669, -13.054347, -30.372202, -12.972793,\n",
       "       -25.449872, -18.569156, -18.546258, -17.429585, -27.159795,\n",
       "       -22.553227, -22.761593,  -9.966783, -13.086438, -19.878028,\n",
       "       -17.440827,  -9.970717, -12.913041, -12.970221, -19.876994,\n",
       "       -19.875522, -25.449659, -30.346994, -22.552672, -22.311603,\n",
       "       -12.352058, -25.450317, -21.15276 , -12.949934, -26.49095 ,\n",
       "       -25.443994, -30.319528, -10.028047, -12.323978, -19.876106,\n",
       "        26.47    , -18.53408 , -26.463504, -30.899584, -22.311844,\n",
       "       -17.438263, -23.39925 , -23.234631, -30.361281, -19.091458,\n",
       "       -17.483216, -15.496162, -22.725835, -30.885915, -22.53796 ,\n",
       "       -12.972161, -23.184992, -17.424114, -10.035573, -19.22384 ,\n",
       "       -23.235123, -25.453436, -23.359033, -19.221315, -23.214459,\n",
       "       -21.173343, -26.483042, -21.183434, -22.310526, -22.74806 ,\n",
       "       -12.304569, -19.1093  , -19.879631, -19.874449, -10.020683,\n",
       "       -19.875337, -26.911927, -23.416792, -21.186608, -12.323994,\n",
       "       -12.933284, -17.450851, -19.875016, -22.569358, -12.284747,\n",
       "       -23.355164, -18.592718, -27.201725, -22.311358, -19.207222,\n",
       "       -13.022394, -21.149569, -22.538731, -27.161661, -27.160832,\n",
       "       -13.066762, -10.96185 , -12.935662, -17.428294, -30.359722,\n",
       "       -11.022169, -30.885814, -25.451517, -22.651847, -22.547186,\n",
       "       -26.474133, -30.893384, -22.761226, -11.001852, -30.327968,\n",
       "       -22.745536, -17.455894, -26.481547, -22.32    , -23.371292,\n",
       "       -18.563934, -30.905562, -25.450377, -22.515082, -22.725748,\n",
       "       -23.351058, -26.473698, -23.333017, -30.873988,  -9.982834,\n",
       "       -22.514119, -21.170798, -12.979166, -19.065838, -19.876428,\n",
       "       -13.02978 , -12.310972, -22.307898, -21.170096, -21.186438,\n",
       "        -9.960846, -10.994136, -21.175104, -15.303897, -11.022477,\n",
       "       -26.846156, -25.457116, -26.905287, -21.149834, -30.328174,\n",
       "       -30.362686, -19.055831, -22.5491  , -26.471529, -12.934365,\n",
       "       -30.893244, -19.888716, -12.975377, -22.551084, -15.561295,\n",
       "       -22.695207, -26.956431,  -9.979186, -11.006686, -12.323225,\n",
       "       -13.026286, -25.454697, -23.357804, -19.880256, -13.081878,\n",
       "       -10.027014, -18.543626, -10.003064, -22.552996, -18.530963,\n",
       "       -19.866969, -22.75004 , -26.469003, -26.766536, -12.326356,\n",
       "       -22.577821, -22.569367, -23.232357, -13.091809, -12.933298,\n",
       "       -22.533662, -22.745049, -26.921411, -23.374878, -27.158822,\n",
       "       -12.906229, -13.044694, -13.045479, -12.98041 , -26.90294 ,\n",
       "       -23.369746, -19.875908, -26.479108, -30.892978, -23.232537,\n",
       "       -22.514585, -22.751234, -17.426228, -17.411028, -18.636215,\n",
       "       -15.56155 , -19.254567, -25.457687, -15.506205, -15.516833,\n",
       "       -11.02091 , -12.3085  , -26.47    , -19.003517, -30.890184,\n",
       "       -22.760072, -22.722634, -19.12663 , -22.753839, -21.173493,\n",
       "       -17.430448, -12.939496, -18.56245 , -22.308096, -23.264015,\n",
       "       -26.482581, -15.498603, -18.51421 , -12.975996, -19.874733,\n",
       "       -15.49395 , -12.978453])"
      ]
     },
     "execution_count": 39,
     "metadata": {},
     "output_type": "execute_result"
    }
   ],
   "source": [
    "df['Restaurant_latitude'].unique()"
   ]
  },
  {
   "cell_type": "code",
   "execution_count": 40,
   "metadata": {},
   "outputs": [
    {
     "data": {
      "text/plain": [
       "23"
      ]
     },
     "execution_count": 40,
     "metadata": {},
     "output_type": "execute_result"
    }
   ],
   "source": [
    "len(df_unique[2])"
   ]
  },
  {
   "cell_type": "code",
   "execution_count": 41,
   "metadata": {},
   "outputs": [],
   "source": [
    "import pandas as pd\n",
    "import numpy as np\n",
    "import matplotlib.pyplot as plt\n",
    "import plotly.graph_objects as go\n",
    "import plotly.offline as py\n",
    "import seaborn as sns\n",
    "\n",
    "import matplotlib.ticker as mtick\n"
   ]
  },
  {
   "cell_type": "markdown",
   "metadata": {},
   "source": [
    "### unique từng thuộc tính \n",
    "### value_counts biểu diễn số lượng từng giá trị khác nhau trong từng thuộc tính ( biểu đồ tròn)\n"
   ]
  },
  {
   "cell_type": "code",
   "execution_count": 42,
   "metadata": {},
   "outputs": [
    {
     "name": "stdout",
     "output_type": "stream",
     "text": [
      "ID : 45592\n",
      "Delivery_person_ID : 1320\n",
      "Delivery_person_Age : 23\n",
      "Delivery_person_Ratings : 29\n",
      "Restaurant_latitude : 657\n",
      "Restaurant_longitude : 518\n",
      "Delivery_location_latitude : 4373\n",
      "Delivery_location_longitude : 4373\n",
      "Order_Date : 44\n",
      "Time_Orderd : 177\n",
      "Time_Order_picked : 193\n",
      "Weather_conditions : 7\n",
      "Road_traffic_density : 5\n",
      "Vehicle_condition : 4\n",
      "Type_of_order : 4\n",
      "Type_of_vehicle : 4\n",
      "multiple_deliveries : 5\n",
      "Festival : 3\n",
      "City : 4\n",
      "Time_taken_(min) : 45\n"
     ]
    }
   ],
   "source": [
    "for i in range(len(df.columns)):\n",
    "    print(str(df.columns[i]) + \" : \" + str(len(df_unique[i])))"
   ]
  },
  {
   "cell_type": "code",
   "execution_count": 43,
   "metadata": {},
   "outputs": [],
   "source": [
    "del df['ID']\n",
    "del df['Delivery_person_ID']"
   ]
  },
  {
   "cell_type": "code",
   "execution_count": 44,
   "metadata": {},
   "outputs": [
    {
     "data": {
      "text/html": [
       "<div>\n",
       "<style scoped>\n",
       "    .dataframe tbody tr th:only-of-type {\n",
       "        vertical-align: middle;\n",
       "    }\n",
       "\n",
       "    .dataframe tbody tr th {\n",
       "        vertical-align: top;\n",
       "    }\n",
       "\n",
       "    .dataframe thead th {\n",
       "        text-align: right;\n",
       "    }\n",
       "</style>\n",
       "<table border=\"1\" class=\"dataframe\">\n",
       "  <thead>\n",
       "    <tr style=\"text-align: right;\">\n",
       "      <th></th>\n",
       "      <th>Delivery_person_Age</th>\n",
       "      <th>Delivery_person_Ratings</th>\n",
       "      <th>Restaurant_latitude</th>\n",
       "      <th>Restaurant_longitude</th>\n",
       "      <th>Delivery_location_latitude</th>\n",
       "      <th>Delivery_location_longitude</th>\n",
       "      <th>Order_Date</th>\n",
       "      <th>Time_Orderd</th>\n",
       "      <th>Time_Order_picked</th>\n",
       "      <th>Weather_conditions</th>\n",
       "      <th>Road_traffic_density</th>\n",
       "      <th>Vehicle_condition</th>\n",
       "      <th>Type_of_order</th>\n",
       "      <th>Type_of_vehicle</th>\n",
       "      <th>multiple_deliveries</th>\n",
       "      <th>Festival</th>\n",
       "      <th>City</th>\n",
       "      <th>Time_taken_(min)</th>\n",
       "    </tr>\n",
       "  </thead>\n",
       "  <tbody>\n",
       "    <tr>\n",
       "      <th>0</th>\n",
       "      <td>34.0</td>\n",
       "      <td>4.5</td>\n",
       "      <td>12.913041</td>\n",
       "      <td>77.683237</td>\n",
       "      <td>13.043041</td>\n",
       "      <td>77.813237</td>\n",
       "      <td>25-03-2022</td>\n",
       "      <td>19:45</td>\n",
       "      <td>19:50</td>\n",
       "      <td>Stormy</td>\n",
       "      <td>Jam</td>\n",
       "      <td>2</td>\n",
       "      <td>Snack</td>\n",
       "      <td>scooter</td>\n",
       "      <td>1.0</td>\n",
       "      <td>No</td>\n",
       "      <td>Metropolitian</td>\n",
       "      <td>33.0</td>\n",
       "    </tr>\n",
       "    <tr>\n",
       "      <th>1</th>\n",
       "      <td>23.0</td>\n",
       "      <td>4.4</td>\n",
       "      <td>12.914264</td>\n",
       "      <td>77.678400</td>\n",
       "      <td>12.924264</td>\n",
       "      <td>77.688400</td>\n",
       "      <td>19-03-2022</td>\n",
       "      <td>8:30</td>\n",
       "      <td>8:45</td>\n",
       "      <td>Sandstorms</td>\n",
       "      <td>Low</td>\n",
       "      <td>0</td>\n",
       "      <td>Drinks</td>\n",
       "      <td>motorcycle</td>\n",
       "      <td>1.0</td>\n",
       "      <td>No</td>\n",
       "      <td>Urban</td>\n",
       "      <td>26.0</td>\n",
       "    </tr>\n",
       "    <tr>\n",
       "      <th>2</th>\n",
       "      <td>38.0</td>\n",
       "      <td>4.7</td>\n",
       "      <td>11.003669</td>\n",
       "      <td>76.976494</td>\n",
       "      <td>11.053669</td>\n",
       "      <td>77.026494</td>\n",
       "      <td>05-04-2022</td>\n",
       "      <td>17:60</td>\n",
       "      <td>18:10</td>\n",
       "      <td>Sunny</td>\n",
       "      <td>Medium</td>\n",
       "      <td>0</td>\n",
       "      <td>Buffet</td>\n",
       "      <td>motorcycle</td>\n",
       "      <td>1.0</td>\n",
       "      <td>No</td>\n",
       "      <td>Metropolitian</td>\n",
       "      <td>21.0</td>\n",
       "    </tr>\n",
       "    <tr>\n",
       "      <th>3</th>\n",
       "      <td>32.0</td>\n",
       "      <td>4.6</td>\n",
       "      <td>12.972793</td>\n",
       "      <td>80.249982</td>\n",
       "      <td>13.012793</td>\n",
       "      <td>80.289982</td>\n",
       "      <td>26-03-2022</td>\n",
       "      <td>13:30</td>\n",
       "      <td>13:45</td>\n",
       "      <td>Cloudy</td>\n",
       "      <td>High</td>\n",
       "      <td>1</td>\n",
       "      <td>Snack</td>\n",
       "      <td>scooter</td>\n",
       "      <td>1.0</td>\n",
       "      <td>No</td>\n",
       "      <td>Metropolitian</td>\n",
       "      <td>30.0</td>\n",
       "    </tr>\n",
       "    <tr>\n",
       "      <th>4</th>\n",
       "      <td>22.0</td>\n",
       "      <td>4.8</td>\n",
       "      <td>17.431668</td>\n",
       "      <td>78.408321</td>\n",
       "      <td>17.461668</td>\n",
       "      <td>78.438321</td>\n",
       "      <td>11-03-2022</td>\n",
       "      <td>21:20</td>\n",
       "      <td>21:30</td>\n",
       "      <td>Cloudy</td>\n",
       "      <td>Jam</td>\n",
       "      <td>0</td>\n",
       "      <td>Buffet</td>\n",
       "      <td>motorcycle</td>\n",
       "      <td>1.0</td>\n",
       "      <td>No</td>\n",
       "      <td>Urban</td>\n",
       "      <td>26.0</td>\n",
       "    </tr>\n",
       "  </tbody>\n",
       "</table>\n",
       "</div>"
      ],
      "text/plain": [
       "   Delivery_person_Age  Delivery_person_Ratings  Restaurant_latitude  \\\n",
       "0                 34.0                      4.5            12.913041   \n",
       "1                 23.0                      4.4            12.914264   \n",
       "2                 38.0                      4.7            11.003669   \n",
       "3                 32.0                      4.6            12.972793   \n",
       "4                 22.0                      4.8            17.431668   \n",
       "\n",
       "   Restaurant_longitude  Delivery_location_latitude  \\\n",
       "0             77.683237                   13.043041   \n",
       "1             77.678400                   12.924264   \n",
       "2             76.976494                   11.053669   \n",
       "3             80.249982                   13.012793   \n",
       "4             78.408321                   17.461668   \n",
       "\n",
       "   Delivery_location_longitude  Order_Date Time_Orderd Time_Order_picked  \\\n",
       "0                    77.813237  25-03-2022       19:45             19:50   \n",
       "1                    77.688400  19-03-2022        8:30              8:45   \n",
       "2                    77.026494  05-04-2022       17:60             18:10   \n",
       "3                    80.289982  26-03-2022       13:30             13:45   \n",
       "4                    78.438321  11-03-2022       21:20             21:30   \n",
       "\n",
       "  Weather_conditions Road_traffic_density  Vehicle_condition Type_of_order  \\\n",
       "0             Stormy                  Jam                  2         Snack   \n",
       "1         Sandstorms                  Low                  0        Drinks   \n",
       "2              Sunny               Medium                  0        Buffet   \n",
       "3             Cloudy                 High                  1         Snack   \n",
       "4             Cloudy                  Jam                  0        Buffet   \n",
       "\n",
       "  Type_of_vehicle  multiple_deliveries Festival           City  \\\n",
       "0         scooter                  1.0       No  Metropolitian   \n",
       "1      motorcycle                  1.0       No          Urban   \n",
       "2      motorcycle                  1.0       No  Metropolitian   \n",
       "3         scooter                  1.0       No  Metropolitian   \n",
       "4      motorcycle                  1.0       No          Urban   \n",
       "\n",
       "   Time_taken_(min)  \n",
       "0              33.0  \n",
       "1              26.0  \n",
       "2              21.0  \n",
       "3              30.0  \n",
       "4              26.0  "
      ]
     },
     "execution_count": 44,
     "metadata": {},
     "output_type": "execute_result"
    }
   ],
   "source": [
    "df[:5]"
   ]
  },
  {
   "cell_type": "code",
   "execution_count": 45,
   "metadata": {},
   "outputs": [
    {
     "data": {
      "application/vnd.plotly.v1+json": {
       "config": {
        "linkText": "Export to plot.ly",
        "plotlyServerURL": "https://plot.ly",
        "showLink": false
       },
       "data": [
        {
         "labels": [
          35,
          36,
          37,
          30,
          38,
          24,
          32,
          22,
          29,
          33,
          28,
          25,
          34,
          26,
          21,
          27,
          39,
          20,
          31,
          23,
          50,
          15
         ],
         "textinfo": "value",
         "type": "pie",
         "values": [
          2262,
          2260,
          2226,
          2226,
          2219,
          2210,
          2202,
          2196,
          2191,
          2187,
          2179,
          2174,
          2166,
          2159,
          2153,
          2150,
          2144,
          2136,
          2120,
          2087,
          53,
          38
         ]
        }
       ],
       "layout": {
        "template": {
         "data": {
          "bar": [
           {
            "error_x": {
             "color": "#2a3f5f"
            },
            "error_y": {
             "color": "#2a3f5f"
            },
            "marker": {
             "line": {
              "color": "#E5ECF6",
              "width": 0.5
             },
             "pattern": {
              "fillmode": "overlay",
              "size": 10,
              "solidity": 0.2
             }
            },
            "type": "bar"
           }
          ],
          "barpolar": [
           {
            "marker": {
             "line": {
              "color": "#E5ECF6",
              "width": 0.5
             },
             "pattern": {
              "fillmode": "overlay",
              "size": 10,
              "solidity": 0.2
             }
            },
            "type": "barpolar"
           }
          ],
          "carpet": [
           {
            "aaxis": {
             "endlinecolor": "#2a3f5f",
             "gridcolor": "white",
             "linecolor": "white",
             "minorgridcolor": "white",
             "startlinecolor": "#2a3f5f"
            },
            "baxis": {
             "endlinecolor": "#2a3f5f",
             "gridcolor": "white",
             "linecolor": "white",
             "minorgridcolor": "white",
             "startlinecolor": "#2a3f5f"
            },
            "type": "carpet"
           }
          ],
          "choropleth": [
           {
            "colorbar": {
             "outlinewidth": 0,
             "ticks": ""
            },
            "type": "choropleth"
           }
          ],
          "contour": [
           {
            "colorbar": {
             "outlinewidth": 0,
             "ticks": ""
            },
            "colorscale": [
             [
              0,
              "#0d0887"
             ],
             [
              0.1111111111111111,
              "#46039f"
             ],
             [
              0.2222222222222222,
              "#7201a8"
             ],
             [
              0.3333333333333333,
              "#9c179e"
             ],
             [
              0.4444444444444444,
              "#bd3786"
             ],
             [
              0.5555555555555556,
              "#d8576b"
             ],
             [
              0.6666666666666666,
              "#ed7953"
             ],
             [
              0.7777777777777778,
              "#fb9f3a"
             ],
             [
              0.8888888888888888,
              "#fdca26"
             ],
             [
              1,
              "#f0f921"
             ]
            ],
            "type": "contour"
           }
          ],
          "contourcarpet": [
           {
            "colorbar": {
             "outlinewidth": 0,
             "ticks": ""
            },
            "type": "contourcarpet"
           }
          ],
          "heatmap": [
           {
            "colorbar": {
             "outlinewidth": 0,
             "ticks": ""
            },
            "colorscale": [
             [
              0,
              "#0d0887"
             ],
             [
              0.1111111111111111,
              "#46039f"
             ],
             [
              0.2222222222222222,
              "#7201a8"
             ],
             [
              0.3333333333333333,
              "#9c179e"
             ],
             [
              0.4444444444444444,
              "#bd3786"
             ],
             [
              0.5555555555555556,
              "#d8576b"
             ],
             [
              0.6666666666666666,
              "#ed7953"
             ],
             [
              0.7777777777777778,
              "#fb9f3a"
             ],
             [
              0.8888888888888888,
              "#fdca26"
             ],
             [
              1,
              "#f0f921"
             ]
            ],
            "type": "heatmap"
           }
          ],
          "heatmapgl": [
           {
            "colorbar": {
             "outlinewidth": 0,
             "ticks": ""
            },
            "colorscale": [
             [
              0,
              "#0d0887"
             ],
             [
              0.1111111111111111,
              "#46039f"
             ],
             [
              0.2222222222222222,
              "#7201a8"
             ],
             [
              0.3333333333333333,
              "#9c179e"
             ],
             [
              0.4444444444444444,
              "#bd3786"
             ],
             [
              0.5555555555555556,
              "#d8576b"
             ],
             [
              0.6666666666666666,
              "#ed7953"
             ],
             [
              0.7777777777777778,
              "#fb9f3a"
             ],
             [
              0.8888888888888888,
              "#fdca26"
             ],
             [
              1,
              "#f0f921"
             ]
            ],
            "type": "heatmapgl"
           }
          ],
          "histogram": [
           {
            "marker": {
             "pattern": {
              "fillmode": "overlay",
              "size": 10,
              "solidity": 0.2
             }
            },
            "type": "histogram"
           }
          ],
          "histogram2d": [
           {
            "colorbar": {
             "outlinewidth": 0,
             "ticks": ""
            },
            "colorscale": [
             [
              0,
              "#0d0887"
             ],
             [
              0.1111111111111111,
              "#46039f"
             ],
             [
              0.2222222222222222,
              "#7201a8"
             ],
             [
              0.3333333333333333,
              "#9c179e"
             ],
             [
              0.4444444444444444,
              "#bd3786"
             ],
             [
              0.5555555555555556,
              "#d8576b"
             ],
             [
              0.6666666666666666,
              "#ed7953"
             ],
             [
              0.7777777777777778,
              "#fb9f3a"
             ],
             [
              0.8888888888888888,
              "#fdca26"
             ],
             [
              1,
              "#f0f921"
             ]
            ],
            "type": "histogram2d"
           }
          ],
          "histogram2dcontour": [
           {
            "colorbar": {
             "outlinewidth": 0,
             "ticks": ""
            },
            "colorscale": [
             [
              0,
              "#0d0887"
             ],
             [
              0.1111111111111111,
              "#46039f"
             ],
             [
              0.2222222222222222,
              "#7201a8"
             ],
             [
              0.3333333333333333,
              "#9c179e"
             ],
             [
              0.4444444444444444,
              "#bd3786"
             ],
             [
              0.5555555555555556,
              "#d8576b"
             ],
             [
              0.6666666666666666,
              "#ed7953"
             ],
             [
              0.7777777777777778,
              "#fb9f3a"
             ],
             [
              0.8888888888888888,
              "#fdca26"
             ],
             [
              1,
              "#f0f921"
             ]
            ],
            "type": "histogram2dcontour"
           }
          ],
          "mesh3d": [
           {
            "colorbar": {
             "outlinewidth": 0,
             "ticks": ""
            },
            "type": "mesh3d"
           }
          ],
          "parcoords": [
           {
            "line": {
             "colorbar": {
              "outlinewidth": 0,
              "ticks": ""
             }
            },
            "type": "parcoords"
           }
          ],
          "pie": [
           {
            "automargin": true,
            "type": "pie"
           }
          ],
          "scatter": [
           {
            "fillpattern": {
             "fillmode": "overlay",
             "size": 10,
             "solidity": 0.2
            },
            "type": "scatter"
           }
          ],
          "scatter3d": [
           {
            "line": {
             "colorbar": {
              "outlinewidth": 0,
              "ticks": ""
             }
            },
            "marker": {
             "colorbar": {
              "outlinewidth": 0,
              "ticks": ""
             }
            },
            "type": "scatter3d"
           }
          ],
          "scattercarpet": [
           {
            "marker": {
             "colorbar": {
              "outlinewidth": 0,
              "ticks": ""
             }
            },
            "type": "scattercarpet"
           }
          ],
          "scattergeo": [
           {
            "marker": {
             "colorbar": {
              "outlinewidth": 0,
              "ticks": ""
             }
            },
            "type": "scattergeo"
           }
          ],
          "scattergl": [
           {
            "marker": {
             "colorbar": {
              "outlinewidth": 0,
              "ticks": ""
             }
            },
            "type": "scattergl"
           }
          ],
          "scattermapbox": [
           {
            "marker": {
             "colorbar": {
              "outlinewidth": 0,
              "ticks": ""
             }
            },
            "type": "scattermapbox"
           }
          ],
          "scatterpolar": [
           {
            "marker": {
             "colorbar": {
              "outlinewidth": 0,
              "ticks": ""
             }
            },
            "type": "scatterpolar"
           }
          ],
          "scatterpolargl": [
           {
            "marker": {
             "colorbar": {
              "outlinewidth": 0,
              "ticks": ""
             }
            },
            "type": "scatterpolargl"
           }
          ],
          "scatterternary": [
           {
            "marker": {
             "colorbar": {
              "outlinewidth": 0,
              "ticks": ""
             }
            },
            "type": "scatterternary"
           }
          ],
          "surface": [
           {
            "colorbar": {
             "outlinewidth": 0,
             "ticks": ""
            },
            "colorscale": [
             [
              0,
              "#0d0887"
             ],
             [
              0.1111111111111111,
              "#46039f"
             ],
             [
              0.2222222222222222,
              "#7201a8"
             ],
             [
              0.3333333333333333,
              "#9c179e"
             ],
             [
              0.4444444444444444,
              "#bd3786"
             ],
             [
              0.5555555555555556,
              "#d8576b"
             ],
             [
              0.6666666666666666,
              "#ed7953"
             ],
             [
              0.7777777777777778,
              "#fb9f3a"
             ],
             [
              0.8888888888888888,
              "#fdca26"
             ],
             [
              1,
              "#f0f921"
             ]
            ],
            "type": "surface"
           }
          ],
          "table": [
           {
            "cells": {
             "fill": {
              "color": "#EBF0F8"
             },
             "line": {
              "color": "white"
             }
            },
            "header": {
             "fill": {
              "color": "#C8D4E3"
             },
             "line": {
              "color": "white"
             }
            },
            "type": "table"
           }
          ]
         },
         "layout": {
          "annotationdefaults": {
           "arrowcolor": "#2a3f5f",
           "arrowhead": 0,
           "arrowwidth": 1
          },
          "autotypenumbers": "strict",
          "coloraxis": {
           "colorbar": {
            "outlinewidth": 0,
            "ticks": ""
           }
          },
          "colorscale": {
           "diverging": [
            [
             0,
             "#8e0152"
            ],
            [
             0.1,
             "#c51b7d"
            ],
            [
             0.2,
             "#de77ae"
            ],
            [
             0.3,
             "#f1b6da"
            ],
            [
             0.4,
             "#fde0ef"
            ],
            [
             0.5,
             "#f7f7f7"
            ],
            [
             0.6,
             "#e6f5d0"
            ],
            [
             0.7,
             "#b8e186"
            ],
            [
             0.8,
             "#7fbc41"
            ],
            [
             0.9,
             "#4d9221"
            ],
            [
             1,
             "#276419"
            ]
           ],
           "sequential": [
            [
             0,
             "#0d0887"
            ],
            [
             0.1111111111111111,
             "#46039f"
            ],
            [
             0.2222222222222222,
             "#7201a8"
            ],
            [
             0.3333333333333333,
             "#9c179e"
            ],
            [
             0.4444444444444444,
             "#bd3786"
            ],
            [
             0.5555555555555556,
             "#d8576b"
            ],
            [
             0.6666666666666666,
             "#ed7953"
            ],
            [
             0.7777777777777778,
             "#fb9f3a"
            ],
            [
             0.8888888888888888,
             "#fdca26"
            ],
            [
             1,
             "#f0f921"
            ]
           ],
           "sequentialminus": [
            [
             0,
             "#0d0887"
            ],
            [
             0.1111111111111111,
             "#46039f"
            ],
            [
             0.2222222222222222,
             "#7201a8"
            ],
            [
             0.3333333333333333,
             "#9c179e"
            ],
            [
             0.4444444444444444,
             "#bd3786"
            ],
            [
             0.5555555555555556,
             "#d8576b"
            ],
            [
             0.6666666666666666,
             "#ed7953"
            ],
            [
             0.7777777777777778,
             "#fb9f3a"
            ],
            [
             0.8888888888888888,
             "#fdca26"
            ],
            [
             1,
             "#f0f921"
            ]
           ]
          },
          "colorway": [
           "#636efa",
           "#EF553B",
           "#00cc96",
           "#ab63fa",
           "#FFA15A",
           "#19d3f3",
           "#FF6692",
           "#B6E880",
           "#FF97FF",
           "#FECB52"
          ],
          "font": {
           "color": "#2a3f5f"
          },
          "geo": {
           "bgcolor": "white",
           "lakecolor": "white",
           "landcolor": "#E5ECF6",
           "showlakes": true,
           "showland": true,
           "subunitcolor": "white"
          },
          "hoverlabel": {
           "align": "left"
          },
          "hovermode": "closest",
          "mapbox": {
           "style": "light"
          },
          "paper_bgcolor": "white",
          "plot_bgcolor": "#E5ECF6",
          "polar": {
           "angularaxis": {
            "gridcolor": "white",
            "linecolor": "white",
            "ticks": ""
           },
           "bgcolor": "#E5ECF6",
           "radialaxis": {
            "gridcolor": "white",
            "linecolor": "white",
            "ticks": ""
           }
          },
          "scene": {
           "xaxis": {
            "backgroundcolor": "#E5ECF6",
            "gridcolor": "white",
            "gridwidth": 2,
            "linecolor": "white",
            "showbackground": true,
            "ticks": "",
            "zerolinecolor": "white"
           },
           "yaxis": {
            "backgroundcolor": "#E5ECF6",
            "gridcolor": "white",
            "gridwidth": 2,
            "linecolor": "white",
            "showbackground": true,
            "ticks": "",
            "zerolinecolor": "white"
           },
           "zaxis": {
            "backgroundcolor": "#E5ECF6",
            "gridcolor": "white",
            "gridwidth": 2,
            "linecolor": "white",
            "showbackground": true,
            "ticks": "",
            "zerolinecolor": "white"
           }
          },
          "shapedefaults": {
           "line": {
            "color": "#2a3f5f"
           }
          },
          "ternary": {
           "aaxis": {
            "gridcolor": "white",
            "linecolor": "white",
            "ticks": ""
           },
           "baxis": {
            "gridcolor": "white",
            "linecolor": "white",
            "ticks": ""
           },
           "bgcolor": "#E5ECF6",
           "caxis": {
            "gridcolor": "white",
            "linecolor": "white",
            "ticks": ""
           }
          },
          "title": {
           "x": 0.05
          },
          "xaxis": {
           "automargin": true,
           "gridcolor": "white",
           "linecolor": "white",
           "ticks": "",
           "title": {
            "standoff": 15
           },
           "zerolinecolor": "white",
           "zerolinewidth": 2
          },
          "yaxis": {
           "automargin": true,
           "gridcolor": "white",
           "linecolor": "white",
           "ticks": "",
           "title": {
            "standoff": 15
           },
           "zerolinecolor": "white",
           "zerolinewidth": 2
          }
         }
        }
       }
      }
     },
     "metadata": {},
     "output_type": "display_data"
    },
    {
     "data": {
      "application/vnd.plotly.v1+json": {
       "config": {
        "linkText": "Export to plot.ly",
        "plotlyServerURL": "https://plot.ly",
        "showLink": false
       },
       "data": [
        {
         "labels": [
          4.8,
          4.7,
          4.9,
          4.6,
          5,
          4.5,
          4.1,
          4.2,
          4.3,
          4.4,
          4,
          3.5,
          3.8,
          3.7,
          3.6,
          3.9,
          6,
          1,
          3.4,
          3.1,
          3.2,
          3.3,
          2.6,
          2.7,
          2.5,
          2.8,
          2.9,
          3
         ],
         "textinfo": "value",
         "type": "pie",
         "values": [
          7148,
          7142,
          7040,
          6940,
          3996,
          3303,
          1430,
          1418,
          1409,
          1361,
          1077,
          249,
          228,
          225,
          207,
          197,
          53,
          38,
          32,
          29,
          29,
          25,
          22,
          22,
          20,
          19,
          19,
          6
         ]
        }
       ],
       "layout": {
        "template": {
         "data": {
          "bar": [
           {
            "error_x": {
             "color": "#2a3f5f"
            },
            "error_y": {
             "color": "#2a3f5f"
            },
            "marker": {
             "line": {
              "color": "#E5ECF6",
              "width": 0.5
             },
             "pattern": {
              "fillmode": "overlay",
              "size": 10,
              "solidity": 0.2
             }
            },
            "type": "bar"
           }
          ],
          "barpolar": [
           {
            "marker": {
             "line": {
              "color": "#E5ECF6",
              "width": 0.5
             },
             "pattern": {
              "fillmode": "overlay",
              "size": 10,
              "solidity": 0.2
             }
            },
            "type": "barpolar"
           }
          ],
          "carpet": [
           {
            "aaxis": {
             "endlinecolor": "#2a3f5f",
             "gridcolor": "white",
             "linecolor": "white",
             "minorgridcolor": "white",
             "startlinecolor": "#2a3f5f"
            },
            "baxis": {
             "endlinecolor": "#2a3f5f",
             "gridcolor": "white",
             "linecolor": "white",
             "minorgridcolor": "white",
             "startlinecolor": "#2a3f5f"
            },
            "type": "carpet"
           }
          ],
          "choropleth": [
           {
            "colorbar": {
             "outlinewidth": 0,
             "ticks": ""
            },
            "type": "choropleth"
           }
          ],
          "contour": [
           {
            "colorbar": {
             "outlinewidth": 0,
             "ticks": ""
            },
            "colorscale": [
             [
              0,
              "#0d0887"
             ],
             [
              0.1111111111111111,
              "#46039f"
             ],
             [
              0.2222222222222222,
              "#7201a8"
             ],
             [
              0.3333333333333333,
              "#9c179e"
             ],
             [
              0.4444444444444444,
              "#bd3786"
             ],
             [
              0.5555555555555556,
              "#d8576b"
             ],
             [
              0.6666666666666666,
              "#ed7953"
             ],
             [
              0.7777777777777778,
              "#fb9f3a"
             ],
             [
              0.8888888888888888,
              "#fdca26"
             ],
             [
              1,
              "#f0f921"
             ]
            ],
            "type": "contour"
           }
          ],
          "contourcarpet": [
           {
            "colorbar": {
             "outlinewidth": 0,
             "ticks": ""
            },
            "type": "contourcarpet"
           }
          ],
          "heatmap": [
           {
            "colorbar": {
             "outlinewidth": 0,
             "ticks": ""
            },
            "colorscale": [
             [
              0,
              "#0d0887"
             ],
             [
              0.1111111111111111,
              "#46039f"
             ],
             [
              0.2222222222222222,
              "#7201a8"
             ],
             [
              0.3333333333333333,
              "#9c179e"
             ],
             [
              0.4444444444444444,
              "#bd3786"
             ],
             [
              0.5555555555555556,
              "#d8576b"
             ],
             [
              0.6666666666666666,
              "#ed7953"
             ],
             [
              0.7777777777777778,
              "#fb9f3a"
             ],
             [
              0.8888888888888888,
              "#fdca26"
             ],
             [
              1,
              "#f0f921"
             ]
            ],
            "type": "heatmap"
           }
          ],
          "heatmapgl": [
           {
            "colorbar": {
             "outlinewidth": 0,
             "ticks": ""
            },
            "colorscale": [
             [
              0,
              "#0d0887"
             ],
             [
              0.1111111111111111,
              "#46039f"
             ],
             [
              0.2222222222222222,
              "#7201a8"
             ],
             [
              0.3333333333333333,
              "#9c179e"
             ],
             [
              0.4444444444444444,
              "#bd3786"
             ],
             [
              0.5555555555555556,
              "#d8576b"
             ],
             [
              0.6666666666666666,
              "#ed7953"
             ],
             [
              0.7777777777777778,
              "#fb9f3a"
             ],
             [
              0.8888888888888888,
              "#fdca26"
             ],
             [
              1,
              "#f0f921"
             ]
            ],
            "type": "heatmapgl"
           }
          ],
          "histogram": [
           {
            "marker": {
             "pattern": {
              "fillmode": "overlay",
              "size": 10,
              "solidity": 0.2
             }
            },
            "type": "histogram"
           }
          ],
          "histogram2d": [
           {
            "colorbar": {
             "outlinewidth": 0,
             "ticks": ""
            },
            "colorscale": [
             [
              0,
              "#0d0887"
             ],
             [
              0.1111111111111111,
              "#46039f"
             ],
             [
              0.2222222222222222,
              "#7201a8"
             ],
             [
              0.3333333333333333,
              "#9c179e"
             ],
             [
              0.4444444444444444,
              "#bd3786"
             ],
             [
              0.5555555555555556,
              "#d8576b"
             ],
             [
              0.6666666666666666,
              "#ed7953"
             ],
             [
              0.7777777777777778,
              "#fb9f3a"
             ],
             [
              0.8888888888888888,
              "#fdca26"
             ],
             [
              1,
              "#f0f921"
             ]
            ],
            "type": "histogram2d"
           }
          ],
          "histogram2dcontour": [
           {
            "colorbar": {
             "outlinewidth": 0,
             "ticks": ""
            },
            "colorscale": [
             [
              0,
              "#0d0887"
             ],
             [
              0.1111111111111111,
              "#46039f"
             ],
             [
              0.2222222222222222,
              "#7201a8"
             ],
             [
              0.3333333333333333,
              "#9c179e"
             ],
             [
              0.4444444444444444,
              "#bd3786"
             ],
             [
              0.5555555555555556,
              "#d8576b"
             ],
             [
              0.6666666666666666,
              "#ed7953"
             ],
             [
              0.7777777777777778,
              "#fb9f3a"
             ],
             [
              0.8888888888888888,
              "#fdca26"
             ],
             [
              1,
              "#f0f921"
             ]
            ],
            "type": "histogram2dcontour"
           }
          ],
          "mesh3d": [
           {
            "colorbar": {
             "outlinewidth": 0,
             "ticks": ""
            },
            "type": "mesh3d"
           }
          ],
          "parcoords": [
           {
            "line": {
             "colorbar": {
              "outlinewidth": 0,
              "ticks": ""
             }
            },
            "type": "parcoords"
           }
          ],
          "pie": [
           {
            "automargin": true,
            "type": "pie"
           }
          ],
          "scatter": [
           {
            "fillpattern": {
             "fillmode": "overlay",
             "size": 10,
             "solidity": 0.2
            },
            "type": "scatter"
           }
          ],
          "scatter3d": [
           {
            "line": {
             "colorbar": {
              "outlinewidth": 0,
              "ticks": ""
             }
            },
            "marker": {
             "colorbar": {
              "outlinewidth": 0,
              "ticks": ""
             }
            },
            "type": "scatter3d"
           }
          ],
          "scattercarpet": [
           {
            "marker": {
             "colorbar": {
              "outlinewidth": 0,
              "ticks": ""
             }
            },
            "type": "scattercarpet"
           }
          ],
          "scattergeo": [
           {
            "marker": {
             "colorbar": {
              "outlinewidth": 0,
              "ticks": ""
             }
            },
            "type": "scattergeo"
           }
          ],
          "scattergl": [
           {
            "marker": {
             "colorbar": {
              "outlinewidth": 0,
              "ticks": ""
             }
            },
            "type": "scattergl"
           }
          ],
          "scattermapbox": [
           {
            "marker": {
             "colorbar": {
              "outlinewidth": 0,
              "ticks": ""
             }
            },
            "type": "scattermapbox"
           }
          ],
          "scatterpolar": [
           {
            "marker": {
             "colorbar": {
              "outlinewidth": 0,
              "ticks": ""
             }
            },
            "type": "scatterpolar"
           }
          ],
          "scatterpolargl": [
           {
            "marker": {
             "colorbar": {
              "outlinewidth": 0,
              "ticks": ""
             }
            },
            "type": "scatterpolargl"
           }
          ],
          "scatterternary": [
           {
            "marker": {
             "colorbar": {
              "outlinewidth": 0,
              "ticks": ""
             }
            },
            "type": "scatterternary"
           }
          ],
          "surface": [
           {
            "colorbar": {
             "outlinewidth": 0,
             "ticks": ""
            },
            "colorscale": [
             [
              0,
              "#0d0887"
             ],
             [
              0.1111111111111111,
              "#46039f"
             ],
             [
              0.2222222222222222,
              "#7201a8"
             ],
             [
              0.3333333333333333,
              "#9c179e"
             ],
             [
              0.4444444444444444,
              "#bd3786"
             ],
             [
              0.5555555555555556,
              "#d8576b"
             ],
             [
              0.6666666666666666,
              "#ed7953"
             ],
             [
              0.7777777777777778,
              "#fb9f3a"
             ],
             [
              0.8888888888888888,
              "#fdca26"
             ],
             [
              1,
              "#f0f921"
             ]
            ],
            "type": "surface"
           }
          ],
          "table": [
           {
            "cells": {
             "fill": {
              "color": "#EBF0F8"
             },
             "line": {
              "color": "white"
             }
            },
            "header": {
             "fill": {
              "color": "#C8D4E3"
             },
             "line": {
              "color": "white"
             }
            },
            "type": "table"
           }
          ]
         },
         "layout": {
          "annotationdefaults": {
           "arrowcolor": "#2a3f5f",
           "arrowhead": 0,
           "arrowwidth": 1
          },
          "autotypenumbers": "strict",
          "coloraxis": {
           "colorbar": {
            "outlinewidth": 0,
            "ticks": ""
           }
          },
          "colorscale": {
           "diverging": [
            [
             0,
             "#8e0152"
            ],
            [
             0.1,
             "#c51b7d"
            ],
            [
             0.2,
             "#de77ae"
            ],
            [
             0.3,
             "#f1b6da"
            ],
            [
             0.4,
             "#fde0ef"
            ],
            [
             0.5,
             "#f7f7f7"
            ],
            [
             0.6,
             "#e6f5d0"
            ],
            [
             0.7,
             "#b8e186"
            ],
            [
             0.8,
             "#7fbc41"
            ],
            [
             0.9,
             "#4d9221"
            ],
            [
             1,
             "#276419"
            ]
           ],
           "sequential": [
            [
             0,
             "#0d0887"
            ],
            [
             0.1111111111111111,
             "#46039f"
            ],
            [
             0.2222222222222222,
             "#7201a8"
            ],
            [
             0.3333333333333333,
             "#9c179e"
            ],
            [
             0.4444444444444444,
             "#bd3786"
            ],
            [
             0.5555555555555556,
             "#d8576b"
            ],
            [
             0.6666666666666666,
             "#ed7953"
            ],
            [
             0.7777777777777778,
             "#fb9f3a"
            ],
            [
             0.8888888888888888,
             "#fdca26"
            ],
            [
             1,
             "#f0f921"
            ]
           ],
           "sequentialminus": [
            [
             0,
             "#0d0887"
            ],
            [
             0.1111111111111111,
             "#46039f"
            ],
            [
             0.2222222222222222,
             "#7201a8"
            ],
            [
             0.3333333333333333,
             "#9c179e"
            ],
            [
             0.4444444444444444,
             "#bd3786"
            ],
            [
             0.5555555555555556,
             "#d8576b"
            ],
            [
             0.6666666666666666,
             "#ed7953"
            ],
            [
             0.7777777777777778,
             "#fb9f3a"
            ],
            [
             0.8888888888888888,
             "#fdca26"
            ],
            [
             1,
             "#f0f921"
            ]
           ]
          },
          "colorway": [
           "#636efa",
           "#EF553B",
           "#00cc96",
           "#ab63fa",
           "#FFA15A",
           "#19d3f3",
           "#FF6692",
           "#B6E880",
           "#FF97FF",
           "#FECB52"
          ],
          "font": {
           "color": "#2a3f5f"
          },
          "geo": {
           "bgcolor": "white",
           "lakecolor": "white",
           "landcolor": "#E5ECF6",
           "showlakes": true,
           "showland": true,
           "subunitcolor": "white"
          },
          "hoverlabel": {
           "align": "left"
          },
          "hovermode": "closest",
          "mapbox": {
           "style": "light"
          },
          "paper_bgcolor": "white",
          "plot_bgcolor": "#E5ECF6",
          "polar": {
           "angularaxis": {
            "gridcolor": "white",
            "linecolor": "white",
            "ticks": ""
           },
           "bgcolor": "#E5ECF6",
           "radialaxis": {
            "gridcolor": "white",
            "linecolor": "white",
            "ticks": ""
           }
          },
          "scene": {
           "xaxis": {
            "backgroundcolor": "#E5ECF6",
            "gridcolor": "white",
            "gridwidth": 2,
            "linecolor": "white",
            "showbackground": true,
            "ticks": "",
            "zerolinecolor": "white"
           },
           "yaxis": {
            "backgroundcolor": "#E5ECF6",
            "gridcolor": "white",
            "gridwidth": 2,
            "linecolor": "white",
            "showbackground": true,
            "ticks": "",
            "zerolinecolor": "white"
           },
           "zaxis": {
            "backgroundcolor": "#E5ECF6",
            "gridcolor": "white",
            "gridwidth": 2,
            "linecolor": "white",
            "showbackground": true,
            "ticks": "",
            "zerolinecolor": "white"
           }
          },
          "shapedefaults": {
           "line": {
            "color": "#2a3f5f"
           }
          },
          "ternary": {
           "aaxis": {
            "gridcolor": "white",
            "linecolor": "white",
            "ticks": ""
           },
           "baxis": {
            "gridcolor": "white",
            "linecolor": "white",
            "ticks": ""
           },
           "bgcolor": "#E5ECF6",
           "caxis": {
            "gridcolor": "white",
            "linecolor": "white",
            "ticks": ""
           }
          },
          "title": {
           "x": 0.05
          },
          "xaxis": {
           "automargin": true,
           "gridcolor": "white",
           "linecolor": "white",
           "ticks": "",
           "title": {
            "standoff": 15
           },
           "zerolinecolor": "white",
           "zerolinewidth": 2
          },
          "yaxis": {
           "automargin": true,
           "gridcolor": "white",
           "linecolor": "white",
           "ticks": "",
           "title": {
            "standoff": 15
           },
           "zerolinecolor": "white",
           "zerolinewidth": 2
          }
         }
        }
       }
      }
     },
     "metadata": {},
     "output_type": "display_data"
    },
    {
     "data": {
      "application/vnd.plotly.v1+json": {
       "config": {
        "linkText": "Export to plot.ly",
        "plotlyServerURL": "https://plot.ly",
        "showLink": false
       },
       "data": [
        {
         "labels": [
          0,
          26.911378,
          26.914142,
          26.90294,
          26.892312,
          26.902908,
          26.88842,
          26.913726,
          26.905287,
          22.308096,
          26.913483,
          26.766536,
          26.956431,
          26.902328,
          12.323978,
          12.979166,
          17.430448,
          26.849596,
          23.371292,
          17.41233,
          13.058616,
          26.911927,
          26.846156,
          12.3085,
          11.025083,
          22.725748,
          21.17106,
          17.429585,
          18.569156,
          26.910262,
          23.359407,
          26.891191,
          12.978453,
          19.22384,
          17.431668,
          11.003008,
          21.170096,
          13.029198,
          26.90519,
          17.455894,
          18.53408,
          23.351489,
          21.173493,
          12.970324,
          22.745049,
          11.022477,
          11.001753,
          17.431477,
          12.949934,
          13.049645,
          12.337978,
          19.1813,
          19.131141,
          23.353783,
          22.751857,
          18.593481,
          22.725835,
          22.732225,
          12.972793,
          23.369746,
          22.32,
          18.533811,
          21.160522,
          22.760072,
          22.651847,
          21.186438,
          12.933298,
          19.121999,
          22.744648,
          26.913987,
          21.183434,
          19.221315,
          12.933284,
          17.438263,
          19.12663,
          22.728163,
          13.005801,
          18.927584,
          11.008638,
          26.921411,
          17.411028,
          23.333017,
          12.323225,
          12.975996,
          12.352058,
          18.592718,
          12.972532,
          22.307898,
          21.160437,
          12.975377,
          13.064181,
          21.175104,
          11.021278,
          21.149669,
          11.024839,
          12.337928,
          18.530963,
          18.546258,
          19.254567,
          21.175975,
          23.359033,
          19.176269,
          13.066762,
          23.357804,
          12.986047,
          12.979096,
          21.15276,
          12.323194,
          13.026286,
          19.178321,
          11.010375,
          12.310972,
          11.000762,
          17.45971,
          12.935662,
          12.334022,
          12.325461,
          12.970221,
          22.311844,
          18.994049,
          19.091458,
          12.284747,
          19.120083,
          22.31279,
          12.934179,
          11.026117,
          13.02978,
          21.149569,
          21.185047,
          18.563934,
          21.157735,
          18.56245,
          17.422819,
          12.939496,
          22.311603,
          11.006686,
          13.081878,
          10.994136,
          23.359194,
          11.022298,
          17.458998,
          23.39925,
          19.003517,
          21.173343,
          23.351058,
          12.323994,
          21.186608,
          12.326356,
          22.310329,
          17.424114,
          22.761226,
          18.546947,
          23.354422,
          11.02091,
          12.913041,
          18.516216,
          12.297954,
          23.374878,
          18.536562,
          10.96185,
          23.374989,
          17.483216,
          11.003681,
          17.451976,
          22.753659,
          13.086438,
          12.98041,
          23.355164,
          21.186884,
          17.410371,
          17.428294,
          19.1093,
          21.149834,
          23.416792,
          12.321214,
          13.054347,
          12.316967,
          22.695207,
          18.554382,
          22.722634,
          22.727021,
          11.022169,
          12.914264,
          12.304569,
          18.543626,
          19.065838,
          22.74806,
          12.299524,
          18.539299,
          13.026279,
          22.751234,
          12.981615,
          19.207222,
          18.55144,
          17.433809,
          22.745536,
          18.636215,
          22.75004,
          22.753839,
          13.027018,
          11.016298,
          17.450851,
          18.536718,
          19.055831,
          22.310526,
          13.045479,
          21.157729,
          22.761593,
          12.906229,
          11.003669,
          17.440827,
          13.044694,
          12.934365,
          12.972161,
          18.994237,
          13.091809,
          19.103249,
          11.001852,
          13.022394,
          17.426228,
          22.310237,
          12.311072,
          18.51421,
          22.311358,
          21.170798,
          18.520016,
          27.160934,
          27.163303,
          25.459775,
          30.914057,
          30.893081,
          25.454697,
          27.165108,
          25.449659,
          30.899584,
          9.957144,
          26.471617,
          30.332735,
          10.006881,
          30.895204,
          27.157772,
          26.473698,
          26.482581,
          30.328174,
          30.885915,
          26.483042,
          27.159795,
          25.457687,
          25.45235,
          30.340722,
          27.161661,
          25.449872,
          30.893234,
          26.492106,
          15.496162,
          30.89286,
          30.362686,
          27.161694,
          9.959778,
          30.361281,
          15.303897,
          9.991703,
          9.979363,
          22.514688,
          15.561295,
          30.893384,
          30.899992,
          19.875016,
          30.893244,
          23.214294,
          25.450329,
          25.450317,
          15.51315,
          26.474986,
          10.027364,
          26.463504,
          19.876106,
          9.985697,
          19.875522,
          26.47775,
          26.47,
          30.335259,
          30.342509,
          30.905562,
          27.201725,
          27.158822,
          27.16185,
          26.481547,
          30.895817,
          22.551084,
          25.451517,
          25.443994,
          23.214459,
          19.874733,
          26.469003,
          25.454648,
          30.359722,
          19.876428,
          22.514585,
          30.892978,
          30.885814,
          9.985497,
          30.372202,
          22.552996,
          15.516833,
          22.527893,
          22.539129,
          30.327968,
          25.457116,
          23.211529,
          15.585658,
          22.569367,
          27.195928,
          27.160832,
          15.49395,
          26.49095,
          30.319528,
          22.552672,
          10.028047,
          30.890184,
          15.157944,
          15.498603,
          22.569358,
          19.876994,
          23.232537,
          19.874103,
          22.526461,
          30.88722,
          23.264015,
          26.483672,
          23.230791,
          15.576683,
          19.876219,
          22.577821,
          15.56155,
          23.266261,
          23.233219,
          26.479108,
          26.472001,
          15.574828,
          22.533662,
          15.5696,
          26.482419,
          15.544419,
          9.979186,
          23.235123,
          22.538731,
          15.506205,
          10.035573,
          10.000706,
          26.471529,
          19.875908,
          19.875337,
          15.556561,
          23.234631,
          30.902872,
          10.027014,
          19.878028,
          25.451646,
          23.232357,
          30.346994,
          10.020683,
          19.879631,
          22.5491,
          22.53796,
          22.547186,
          9.982834,
          23.184992,
          22.515082,
          26.474133,
          22.538999,
          9.966783,
          25.450377,
          19.866969,
          19.880256,
          19.888716,
          22.553227,
          30.366322,
          9.970717,
          22.514119,
          10.003064,
          15.546594,
          25.453436,
          19.874449,
          23.234249,
          23.218998,
          9.988483,
          30.873988,
          9.960846,
          -19.103249,
          -15.5696,
          -11.003681,
          -9.982834,
          -11.001852,
          -13.066762,
          -21.149569,
          -19.065838,
          -22.538731,
          -26.471529,
          -15.157944,
          -22.538999,
          -23.351058,
          -26.472001,
          -22.32,
          -30.361281,
          -23.234249,
          -13.086438,
          -26.911927,
          -13.054347,
          -30.899584,
          -23.374989,
          -19.876994,
          -30.372202,
          -27.160832,
          -12.311072,
          -22.526461,
          -30.346994,
          -15.546594,
          -19.876106,
          -30.895817,
          -18.563934,
          -26.481547,
          -25.443994,
          -30.319528,
          -12.972161,
          -22.53796,
          -23.371292,
          -11.006686,
          -19.091458,
          -30.873988,
          -26.463504,
          -23.234631,
          -22.515082,
          -22.725748,
          -18.520016,
          -26.905287,
          -19.221315,
          -26.90294,
          -17.455894,
          -9.959778,
          -13.022394,
          -19.207222,
          -15.576683,
          -18.592718,
          -10.96185,
          -26.766536,
          -12.935662,
          -17.428294,
          -17.450851,
          -21.186608,
          -19.875337,
          -10.027014,
          -22.651847,
          -22.547186,
          -19.1093,
          -26.474133,
          -13.081878,
          -22.310526,
          -12.949934,
          -23.359033,
          -25.453436,
          -23.235123,
          -26.49095,
          -12.352058,
          -21.15276,
          -23.359194,
          -21.175104,
          -22.539129,
          -27.163303,
          -23.230791,
          -27.165108,
          -30.366322,
          -22.310329,
          -12.316967,
          -26.913726,
          -30.902872,
          -13.049645,
          -9.960846,
          -21.157735,
          -19.176269,
          -12.970324,
          -26.913987,
          -26.482581,
          -17.45971,
          -12.934365,
          -26.474986,
          -21.149834,
          -18.51421,
          -10.994136,
          -12.975377,
          -26.891191,
          -13.02978,
          -26.90519,
          -22.514119,
          -22.552672,
          -19.875522,
          -12.913041,
          -9.970717,
          -19.876428,
          -19.003517,
          -22.553227,
          -22.761593,
          -27.16185,
          -18.569156,
          -21.170096,
          -17.429585,
          -12.310972,
          -15.561295,
          -9.979186,
          -25.454697,
          -26.956431,
          -23.357804,
          -22.695207,
          -13.026286,
          -19.880256,
          -30.893244,
          -22.552996,
          -10.003064,
          -18.543626,
          -22.551084,
          -19.888716,
          -12.323225,
          -18.530963,
          -22.751234,
          -19.866969,
          -22.75004,
          -15.56155,
          -19.254567,
          -25.457687,
          -15.506205,
          -15.516833,
          -11.02091,
          -12.3085,
          -26.47,
          -30.890184,
          -22.760072,
          -22.722634,
          -19.12663,
          -22.753839,
          -21.173493,
          -17.430448,
          -12.939496,
          -18.56245,
          -22.308096,
          -23.264015,
          -15.498603,
          -12.975996,
          -19.874733,
          -15.49395,
          -18.636215,
          -17.411028,
          -17.426228,
          -23.374878,
          -26.469003,
          -12.326356,
          -22.577821,
          -22.569367,
          -23.232357,
          -13.091809,
          -12.933298,
          -22.533662,
          -22.745049,
          -26.921411,
          -27.158822,
          -19.055831,
          -12.906229,
          -13.044694,
          -13.045479,
          -12.98041,
          -23.369746,
          -19.875908,
          -26.479108,
          -30.892978,
          -23.232537,
          -22.514585,
          -22.5491,
          -27.201725,
          -30.362686,
          -30.328174,
          -12.970221,
          -25.449659,
          -22.311603,
          -25.450317,
          -10.028047,
          -12.323978,
          -18.53408,
          -22.311844,
          -17.438263,
          -23.39925,
          -17.483216,
          -15.496162,
          -22.725835,
          -30.885915,
          -23.184992,
          -17.424114,
          -10.035573,
          -17.440827,
          -19.878028,
          -9.966783,
          -18.55144,
          -26.914142,
          -9.988483,
          -23.211529,
          -27.160934,
          -12.337978,
          -26.47775,
          -12.325461,
          -25.45235,
          -27.159795,
          -17.451976,
          -21.186884,
          -26.910262,
          -11.003669,
          -12.972793,
          -25.449872,
          -18.546258,
          -19.22384,
          -23.214459,
          -21.173343,
          -23.333017,
          -30.893384,
          -22.761226,
          -30.327968,
          -22.745536,
          -30.905562,
          -25.450377,
          -26.473698,
          -21.170798,
          -30.885814,
          -12.979166,
          -22.307898,
          -21.186438,
          -15.303897,
          -11.022477,
          -26.846156,
          -25.457116,
          -25.451517,
          -11.022169,
          -26.483042,
          -12.323994,
          -21.183434,
          -22.74806,
          -12.304569,
          -19.879631,
          -19.874449,
          -10.020683,
          -23.416792,
          -12.933284,
          -30.359722,
          -19.875016,
          -22.569358,
          -12.284747,
          -23.355164,
          -15.51315,
          -22.311358,
          -27.161661,
          -12.978453
         ],
         "textinfo": "value",
         "type": "pie",
         "values": [
          3640,
          182,
          180,
          176,
          176,
          176,
          174,
          173,
          173,
          172,
          172,
          171,
          171,
          171,
          170,
          170,
          170,
          170,
          169,
          169,
          168,
          168,
          168,
          168,
          168,
          168,
          167,
          167,
          167,
          166,
          166,
          166,
          166,
          165,
          165,
          165,
          165,
          165,
          165,
          165,
          165,
          165,
          164,
          164,
          164,
          164,
          164,
          164,
          164,
          163,
          163,
          163,
          163,
          163,
          163,
          163,
          162,
          162,
          162,
          162,
          162,
          162,
          162,
          162,
          162,
          162,
          162,
          162,
          162,
          162,
          162,
          161,
          161,
          161,
          161,
          161,
          161,
          161,
          161,
          161,
          161,
          161,
          161,
          161,
          160,
          160,
          160,
          160,
          160,
          160,
          160,
          160,
          160,
          160,
          160,
          160,
          160,
          159,
          159,
          159,
          159,
          159,
          159,
          159,
          159,
          159,
          158,
          158,
          158,
          158,
          158,
          158,
          158,
          158,
          158,
          158,
          158,
          158,
          158,
          158,
          158,
          158,
          158,
          158,
          158,
          158,
          157,
          157,
          157,
          157,
          157,
          157,
          157,
          157,
          157,
          157,
          157,
          157,
          157,
          157,
          157,
          156,
          156,
          156,
          156,
          156,
          156,
          155,
          155,
          155,
          155,
          155,
          155,
          155,
          155,
          155,
          155,
          155,
          155,
          155,
          154,
          154,
          154,
          154,
          154,
          154,
          154,
          154,
          154,
          154,
          154,
          154,
          154,
          154,
          153,
          153,
          153,
          153,
          153,
          153,
          153,
          153,
          153,
          153,
          152,
          152,
          152,
          152,
          152,
          152,
          152,
          152,
          152,
          152,
          151,
          151,
          151,
          151,
          151,
          151,
          151,
          151,
          151,
          151,
          151,
          150,
          150,
          150,
          150,
          150,
          150,
          150,
          150,
          149,
          149,
          148,
          148,
          147,
          146,
          146,
          146,
          145,
          145,
          145,
          145,
          144,
          80,
          76,
          44,
          42,
          42,
          42,
          41,
          41,
          41,
          41,
          41,
          41,
          41,
          41,
          41,
          40,
          40,
          40,
          40,
          40,
          40,
          40,
          40,
          40,
          39,
          39,
          39,
          39,
          39,
          39,
          39,
          39,
          39,
          39,
          38,
          38,
          38,
          38,
          38,
          38,
          38,
          38,
          38,
          38,
          38,
          37,
          37,
          37,
          37,
          37,
          37,
          37,
          37,
          37,
          37,
          37,
          37,
          37,
          37,
          37,
          36,
          36,
          36,
          36,
          36,
          36,
          36,
          36,
          35,
          35,
          35,
          35,
          35,
          35,
          35,
          35,
          35,
          35,
          35,
          35,
          35,
          35,
          35,
          35,
          35,
          35,
          35,
          35,
          35,
          35,
          35,
          35,
          35,
          35,
          34,
          34,
          34,
          34,
          34,
          34,
          34,
          34,
          34,
          34,
          34,
          34,
          33,
          33,
          33,
          33,
          33,
          33,
          33,
          33,
          33,
          33,
          33,
          33,
          33,
          33,
          33,
          33,
          33,
          33,
          33,
          32,
          32,
          32,
          32,
          32,
          32,
          32,
          32,
          32,
          32,
          32,
          32,
          32,
          31,
          31,
          31,
          31,
          31,
          31,
          31,
          31,
          31,
          31,
          31,
          31,
          30,
          30,
          30,
          30,
          30,
          30,
          29,
          29,
          29,
          29,
          29,
          28,
          27,
          5,
          5,
          4,
          4,
          4,
          4,
          4,
          4,
          4,
          4,
          4,
          4,
          3,
          3,
          3,
          3,
          3,
          3,
          3,
          3,
          3,
          3,
          3,
          3,
          3,
          3,
          3,
          3,
          3,
          3,
          3,
          2,
          2,
          2,
          2,
          2,
          2,
          2,
          2,
          2,
          2,
          2,
          2,
          2,
          2,
          2,
          2,
          2,
          2,
          2,
          2,
          2,
          2,
          2,
          2,
          2,
          2,
          2,
          2,
          2,
          2,
          2,
          2,
          2,
          2,
          2,
          2,
          2,
          2,
          2,
          2,
          2,
          2,
          2,
          2,
          2,
          2,
          2,
          2,
          2,
          2,
          2,
          2,
          2,
          2,
          2,
          2,
          2,
          2,
          2,
          2,
          2,
          2,
          2,
          2,
          2,
          2,
          2,
          2,
          2,
          2,
          2,
          2,
          2,
          2,
          2,
          2,
          2,
          2,
          2,
          2,
          2,
          2,
          2,
          2,
          2,
          2,
          2,
          1,
          1,
          1,
          1,
          1,
          1,
          1,
          1,
          1,
          1,
          1,
          1,
          1,
          1,
          1,
          1,
          1,
          1,
          1,
          1,
          1,
          1,
          1,
          1,
          1,
          1,
          1,
          1,
          1,
          1,
          1,
          1,
          1,
          1,
          1,
          1,
          1,
          1,
          1,
          1,
          1,
          1,
          1,
          1,
          1,
          1,
          1,
          1,
          1,
          1,
          1,
          1,
          1,
          1,
          1,
          1,
          1,
          1,
          1,
          1,
          1,
          1,
          1,
          1,
          1,
          1,
          1,
          1,
          1,
          1,
          1,
          1,
          1,
          1,
          1,
          1,
          1,
          1,
          1,
          1,
          1,
          1,
          1,
          1,
          1,
          1,
          1,
          1,
          1,
          1,
          1,
          1,
          1,
          1,
          1,
          1,
          1,
          1,
          1,
          1,
          1,
          1,
          1,
          1,
          1,
          1,
          1,
          1,
          1,
          1,
          1,
          1,
          1,
          1,
          1,
          1,
          1,
          1,
          1,
          1,
          1,
          1,
          1,
          1,
          1,
          1,
          1,
          1,
          1,
          1,
          1,
          1,
          1,
          1,
          1,
          1,
          1,
          1,
          1,
          1,
          1,
          1,
          1,
          1,
          1,
          1,
          1,
          1,
          1,
          1
         ]
        }
       ],
       "layout": {
        "template": {
         "data": {
          "bar": [
           {
            "error_x": {
             "color": "#2a3f5f"
            },
            "error_y": {
             "color": "#2a3f5f"
            },
            "marker": {
             "line": {
              "color": "#E5ECF6",
              "width": 0.5
             },
             "pattern": {
              "fillmode": "overlay",
              "size": 10,
              "solidity": 0.2
             }
            },
            "type": "bar"
           }
          ],
          "barpolar": [
           {
            "marker": {
             "line": {
              "color": "#E5ECF6",
              "width": 0.5
             },
             "pattern": {
              "fillmode": "overlay",
              "size": 10,
              "solidity": 0.2
             }
            },
            "type": "barpolar"
           }
          ],
          "carpet": [
           {
            "aaxis": {
             "endlinecolor": "#2a3f5f",
             "gridcolor": "white",
             "linecolor": "white",
             "minorgridcolor": "white",
             "startlinecolor": "#2a3f5f"
            },
            "baxis": {
             "endlinecolor": "#2a3f5f",
             "gridcolor": "white",
             "linecolor": "white",
             "minorgridcolor": "white",
             "startlinecolor": "#2a3f5f"
            },
            "type": "carpet"
           }
          ],
          "choropleth": [
           {
            "colorbar": {
             "outlinewidth": 0,
             "ticks": ""
            },
            "type": "choropleth"
           }
          ],
          "contour": [
           {
            "colorbar": {
             "outlinewidth": 0,
             "ticks": ""
            },
            "colorscale": [
             [
              0,
              "#0d0887"
             ],
             [
              0.1111111111111111,
              "#46039f"
             ],
             [
              0.2222222222222222,
              "#7201a8"
             ],
             [
              0.3333333333333333,
              "#9c179e"
             ],
             [
              0.4444444444444444,
              "#bd3786"
             ],
             [
              0.5555555555555556,
              "#d8576b"
             ],
             [
              0.6666666666666666,
              "#ed7953"
             ],
             [
              0.7777777777777778,
              "#fb9f3a"
             ],
             [
              0.8888888888888888,
              "#fdca26"
             ],
             [
              1,
              "#f0f921"
             ]
            ],
            "type": "contour"
           }
          ],
          "contourcarpet": [
           {
            "colorbar": {
             "outlinewidth": 0,
             "ticks": ""
            },
            "type": "contourcarpet"
           }
          ],
          "heatmap": [
           {
            "colorbar": {
             "outlinewidth": 0,
             "ticks": ""
            },
            "colorscale": [
             [
              0,
              "#0d0887"
             ],
             [
              0.1111111111111111,
              "#46039f"
             ],
             [
              0.2222222222222222,
              "#7201a8"
             ],
             [
              0.3333333333333333,
              "#9c179e"
             ],
             [
              0.4444444444444444,
              "#bd3786"
             ],
             [
              0.5555555555555556,
              "#d8576b"
             ],
             [
              0.6666666666666666,
              "#ed7953"
             ],
             [
              0.7777777777777778,
              "#fb9f3a"
             ],
             [
              0.8888888888888888,
              "#fdca26"
             ],
             [
              1,
              "#f0f921"
             ]
            ],
            "type": "heatmap"
           }
          ],
          "heatmapgl": [
           {
            "colorbar": {
             "outlinewidth": 0,
             "ticks": ""
            },
            "colorscale": [
             [
              0,
              "#0d0887"
             ],
             [
              0.1111111111111111,
              "#46039f"
             ],
             [
              0.2222222222222222,
              "#7201a8"
             ],
             [
              0.3333333333333333,
              "#9c179e"
             ],
             [
              0.4444444444444444,
              "#bd3786"
             ],
             [
              0.5555555555555556,
              "#d8576b"
             ],
             [
              0.6666666666666666,
              "#ed7953"
             ],
             [
              0.7777777777777778,
              "#fb9f3a"
             ],
             [
              0.8888888888888888,
              "#fdca26"
             ],
             [
              1,
              "#f0f921"
             ]
            ],
            "type": "heatmapgl"
           }
          ],
          "histogram": [
           {
            "marker": {
             "pattern": {
              "fillmode": "overlay",
              "size": 10,
              "solidity": 0.2
             }
            },
            "type": "histogram"
           }
          ],
          "histogram2d": [
           {
            "colorbar": {
             "outlinewidth": 0,
             "ticks": ""
            },
            "colorscale": [
             [
              0,
              "#0d0887"
             ],
             [
              0.1111111111111111,
              "#46039f"
             ],
             [
              0.2222222222222222,
              "#7201a8"
             ],
             [
              0.3333333333333333,
              "#9c179e"
             ],
             [
              0.4444444444444444,
              "#bd3786"
             ],
             [
              0.5555555555555556,
              "#d8576b"
             ],
             [
              0.6666666666666666,
              "#ed7953"
             ],
             [
              0.7777777777777778,
              "#fb9f3a"
             ],
             [
              0.8888888888888888,
              "#fdca26"
             ],
             [
              1,
              "#f0f921"
             ]
            ],
            "type": "histogram2d"
           }
          ],
          "histogram2dcontour": [
           {
            "colorbar": {
             "outlinewidth": 0,
             "ticks": ""
            },
            "colorscale": [
             [
              0,
              "#0d0887"
             ],
             [
              0.1111111111111111,
              "#46039f"
             ],
             [
              0.2222222222222222,
              "#7201a8"
             ],
             [
              0.3333333333333333,
              "#9c179e"
             ],
             [
              0.4444444444444444,
              "#bd3786"
             ],
             [
              0.5555555555555556,
              "#d8576b"
             ],
             [
              0.6666666666666666,
              "#ed7953"
             ],
             [
              0.7777777777777778,
              "#fb9f3a"
             ],
             [
              0.8888888888888888,
              "#fdca26"
             ],
             [
              1,
              "#f0f921"
             ]
            ],
            "type": "histogram2dcontour"
           }
          ],
          "mesh3d": [
           {
            "colorbar": {
             "outlinewidth": 0,
             "ticks": ""
            },
            "type": "mesh3d"
           }
          ],
          "parcoords": [
           {
            "line": {
             "colorbar": {
              "outlinewidth": 0,
              "ticks": ""
             }
            },
            "type": "parcoords"
           }
          ],
          "pie": [
           {
            "automargin": true,
            "type": "pie"
           }
          ],
          "scatter": [
           {
            "fillpattern": {
             "fillmode": "overlay",
             "size": 10,
             "solidity": 0.2
            },
            "type": "scatter"
           }
          ],
          "scatter3d": [
           {
            "line": {
             "colorbar": {
              "outlinewidth": 0,
              "ticks": ""
             }
            },
            "marker": {
             "colorbar": {
              "outlinewidth": 0,
              "ticks": ""
             }
            },
            "type": "scatter3d"
           }
          ],
          "scattercarpet": [
           {
            "marker": {
             "colorbar": {
              "outlinewidth": 0,
              "ticks": ""
             }
            },
            "type": "scattercarpet"
           }
          ],
          "scattergeo": [
           {
            "marker": {
             "colorbar": {
              "outlinewidth": 0,
              "ticks": ""
             }
            },
            "type": "scattergeo"
           }
          ],
          "scattergl": [
           {
            "marker": {
             "colorbar": {
              "outlinewidth": 0,
              "ticks": ""
             }
            },
            "type": "scattergl"
           }
          ],
          "scattermapbox": [
           {
            "marker": {
             "colorbar": {
              "outlinewidth": 0,
              "ticks": ""
             }
            },
            "type": "scattermapbox"
           }
          ],
          "scatterpolar": [
           {
            "marker": {
             "colorbar": {
              "outlinewidth": 0,
              "ticks": ""
             }
            },
            "type": "scatterpolar"
           }
          ],
          "scatterpolargl": [
           {
            "marker": {
             "colorbar": {
              "outlinewidth": 0,
              "ticks": ""
             }
            },
            "type": "scatterpolargl"
           }
          ],
          "scatterternary": [
           {
            "marker": {
             "colorbar": {
              "outlinewidth": 0,
              "ticks": ""
             }
            },
            "type": "scatterternary"
           }
          ],
          "surface": [
           {
            "colorbar": {
             "outlinewidth": 0,
             "ticks": ""
            },
            "colorscale": [
             [
              0,
              "#0d0887"
             ],
             [
              0.1111111111111111,
              "#46039f"
             ],
             [
              0.2222222222222222,
              "#7201a8"
             ],
             [
              0.3333333333333333,
              "#9c179e"
             ],
             [
              0.4444444444444444,
              "#bd3786"
             ],
             [
              0.5555555555555556,
              "#d8576b"
             ],
             [
              0.6666666666666666,
              "#ed7953"
             ],
             [
              0.7777777777777778,
              "#fb9f3a"
             ],
             [
              0.8888888888888888,
              "#fdca26"
             ],
             [
              1,
              "#f0f921"
             ]
            ],
            "type": "surface"
           }
          ],
          "table": [
           {
            "cells": {
             "fill": {
              "color": "#EBF0F8"
             },
             "line": {
              "color": "white"
             }
            },
            "header": {
             "fill": {
              "color": "#C8D4E3"
             },
             "line": {
              "color": "white"
             }
            },
            "type": "table"
           }
          ]
         },
         "layout": {
          "annotationdefaults": {
           "arrowcolor": "#2a3f5f",
           "arrowhead": 0,
           "arrowwidth": 1
          },
          "autotypenumbers": "strict",
          "coloraxis": {
           "colorbar": {
            "outlinewidth": 0,
            "ticks": ""
           }
          },
          "colorscale": {
           "diverging": [
            [
             0,
             "#8e0152"
            ],
            [
             0.1,
             "#c51b7d"
            ],
            [
             0.2,
             "#de77ae"
            ],
            [
             0.3,
             "#f1b6da"
            ],
            [
             0.4,
             "#fde0ef"
            ],
            [
             0.5,
             "#f7f7f7"
            ],
            [
             0.6,
             "#e6f5d0"
            ],
            [
             0.7,
             "#b8e186"
            ],
            [
             0.8,
             "#7fbc41"
            ],
            [
             0.9,
             "#4d9221"
            ],
            [
             1,
             "#276419"
            ]
           ],
           "sequential": [
            [
             0,
             "#0d0887"
            ],
            [
             0.1111111111111111,
             "#46039f"
            ],
            [
             0.2222222222222222,
             "#7201a8"
            ],
            [
             0.3333333333333333,
             "#9c179e"
            ],
            [
             0.4444444444444444,
             "#bd3786"
            ],
            [
             0.5555555555555556,
             "#d8576b"
            ],
            [
             0.6666666666666666,
             "#ed7953"
            ],
            [
             0.7777777777777778,
             "#fb9f3a"
            ],
            [
             0.8888888888888888,
             "#fdca26"
            ],
            [
             1,
             "#f0f921"
            ]
           ],
           "sequentialminus": [
            [
             0,
             "#0d0887"
            ],
            [
             0.1111111111111111,
             "#46039f"
            ],
            [
             0.2222222222222222,
             "#7201a8"
            ],
            [
             0.3333333333333333,
             "#9c179e"
            ],
            [
             0.4444444444444444,
             "#bd3786"
            ],
            [
             0.5555555555555556,
             "#d8576b"
            ],
            [
             0.6666666666666666,
             "#ed7953"
            ],
            [
             0.7777777777777778,
             "#fb9f3a"
            ],
            [
             0.8888888888888888,
             "#fdca26"
            ],
            [
             1,
             "#f0f921"
            ]
           ]
          },
          "colorway": [
           "#636efa",
           "#EF553B",
           "#00cc96",
           "#ab63fa",
           "#FFA15A",
           "#19d3f3",
           "#FF6692",
           "#B6E880",
           "#FF97FF",
           "#FECB52"
          ],
          "font": {
           "color": "#2a3f5f"
          },
          "geo": {
           "bgcolor": "white",
           "lakecolor": "white",
           "landcolor": "#E5ECF6",
           "showlakes": true,
           "showland": true,
           "subunitcolor": "white"
          },
          "hoverlabel": {
           "align": "left"
          },
          "hovermode": "closest",
          "mapbox": {
           "style": "light"
          },
          "paper_bgcolor": "white",
          "plot_bgcolor": "#E5ECF6",
          "polar": {
           "angularaxis": {
            "gridcolor": "white",
            "linecolor": "white",
            "ticks": ""
           },
           "bgcolor": "#E5ECF6",
           "radialaxis": {
            "gridcolor": "white",
            "linecolor": "white",
            "ticks": ""
           }
          },
          "scene": {
           "xaxis": {
            "backgroundcolor": "#E5ECF6",
            "gridcolor": "white",
            "gridwidth": 2,
            "linecolor": "white",
            "showbackground": true,
            "ticks": "",
            "zerolinecolor": "white"
           },
           "yaxis": {
            "backgroundcolor": "#E5ECF6",
            "gridcolor": "white",
            "gridwidth": 2,
            "linecolor": "white",
            "showbackground": true,
            "ticks": "",
            "zerolinecolor": "white"
           },
           "zaxis": {
            "backgroundcolor": "#E5ECF6",
            "gridcolor": "white",
            "gridwidth": 2,
            "linecolor": "white",
            "showbackground": true,
            "ticks": "",
            "zerolinecolor": "white"
           }
          },
          "shapedefaults": {
           "line": {
            "color": "#2a3f5f"
           }
          },
          "ternary": {
           "aaxis": {
            "gridcolor": "white",
            "linecolor": "white",
            "ticks": ""
           },
           "baxis": {
            "gridcolor": "white",
            "linecolor": "white",
            "ticks": ""
           },
           "bgcolor": "#E5ECF6",
           "caxis": {
            "gridcolor": "white",
            "linecolor": "white",
            "ticks": ""
           }
          },
          "title": {
           "x": 0.05
          },
          "xaxis": {
           "automargin": true,
           "gridcolor": "white",
           "linecolor": "white",
           "ticks": "",
           "title": {
            "standoff": 15
           },
           "zerolinecolor": "white",
           "zerolinewidth": 2
          },
          "yaxis": {
           "automargin": true,
           "gridcolor": "white",
           "linecolor": "white",
           "ticks": "",
           "title": {
            "standoff": 15
           },
           "zerolinecolor": "white",
           "zerolinewidth": 2
          }
         }
        }
       }
      }
     },
     "metadata": {},
     "output_type": "display_data"
    },
    {
     "data": {
      "application/vnd.plotly.v1+json": {
       "config": {
        "linkText": "Export to plot.ly",
        "plotlyServerURL": "https://plot.ly",
        "showLink": false
       },
       "data": [
        {
         "labels": [
          0,
          75.789034,
          75.805704,
          75.793007,
          75.806896,
          75.792934,
          75.800689,
          75.75282,
          73.167753,
          75.794592,
          75.837333,
          75.776649,
          75.803139,
          76.627961,
          78.418213,
          75.797282,
          85.327872,
          75.794257,
          75.898497,
          77.640709,
          75.800512,
          73.774723,
          75.8023,
          78.449654,
          77.015393,
          76.665808,
          75.802083,
          80.264151,
          72.789292,
          78.392621,
          75.783013,
          85.325055,
          73.89852,
          77.643685,
          77.645748,
          76.97544,
          72.841347,
          78.408321,
          77.699386,
          77.570997,
          72.789122,
          75.810753,
          78.375467,
          85.324253,
          76.995667,
          72.801953,
          76.986241,
          78.40035,
          73.17,
          75.892471,
          75.752891,
          76.616792,
          75.866699,
          85.326967,
          80.242268,
          75.881991,
          72.794115,
          73.785901,
          80.249982,
          72.836191,
          75.892574,
          72.813074,
          73.899315,
          77.614293,
          80.221898,
          72.829976,
          72.908493,
          72.771477,
          72.862381,
          75.894377,
          72.814492,
          75.887648,
          75.874765,
          78.329645,
          85.33982,
          72.832585,
          85.325347,
          80.250744,
          76.984311,
          72.804342,
          75.793604,
          75.884212,
          80.251865,
          77.615428,
          73.773572,
          73.167788,
          76.60665,
          78.397865,
          85.3172,
          76.630028,
          77.007003,
          76.659264,
          72.774209,
          78.368855,
          76.995017,
          77.696664,
          72.848923,
          72.772629,
          73.828972,
          77.608179,
          80.236442,
          76.617889,
          72.772697,
          72.827808,
          73.904337,
          80.275235,
          80.218114,
          73.915367,
          72.795503,
          72.836721,
          77.640625,
          77.645396,
          72.768778,
          72.778059,
          85.325146,
          76.630583,
          72.834715,
          76.95295,
          72.82765,
          73.165081,
          76.618203,
          77.61413,
          80.248519,
          77.625999,
          77.615797,
          76.632278,
          72.794136,
          72.907385,
          76.625861,
          76.981876,
          73.170283,
          76.944652,
          73.165012,
          76.963303,
          72.825203,
          73.916619,
          76.951736,
          72.80859,
          80.208812,
          85.390464,
          78.449578,
          78.500366,
          85.325447,
          76.998349,
          85.325731,
          73.169083,
          85.335486,
          76.626167,
          72.825451,
          77.683237,
          80.220672,
          85.335739,
          76.971082,
          72.792731,
          72.778666,
          85.324097,
          78.404423,
          76.665169,
          76.940432,
          73.900626,
          76.975525,
          78.347554,
          75.887522,
          85.3329,
          72.793616,
          73.842527,
          78.552111,
          73.896485,
          76.619103,
          77.640489,
          76.603067,
          75.903365,
          75.886959,
          72.832658,
          78.437225,
          78.385883,
          85.316842,
          76.999594,
          80.257221,
          75.8934,
          73.798206,
          75.884167,
          73.170937,
          76.643622,
          73.905101,
          75.866059,
          75.88949,
          72.972281,
          77.6784,
          76.621094,
          75.893106,
          75.886362,
          73.804855,
          80.174568,
          73.897902,
          78.379347,
          72.833984,
          80.231598,
          76.64262,
          73.751081,
          75.902847,
          75.897429,
          78.386744,
          73.830327,
          78.393391,
          76.972076,
          80.254791,
          72.846749,
          80.26147,
          76.976494,
          80.23311,
          77.616155,
          77.596791,
          72.768726,
          72.825553,
          80.219104,
          77.596014,
          80.242439,
          76.976268,
          72.790489,
          73.838429,
          73.158921,
          78.407495,
          73.164798,
          76.654878,
          73.830547,
          78.044095,
          78.057044,
          75.809346,
          81.834841,
          78.015053,
          81.834492,
          80.315628,
          81.839744,
          75.821495,
          75.83982,
          78.049117,
          76.345397,
          75.822103,
          78.068022,
          76.296783,
          78.054222,
          80.352677,
          75.788259,
          81.835585,
          78.04725,
          80.317833,
          80.313564,
          76.296106,
          78.060221,
          81.841889,
          81.836167,
          78.04299,
          73.825364,
          78.034714,
          75.322405,
          73.914336,
          75.822199,
          75.340775,
          75.82172,
          80.327797,
          73.749478,
          80.342796,
          75.813112,
          78.011544,
          78.06889,
          75.821817,
          80.372929,
          73.950889,
          80.35,
          78.007553,
          81.831681,
          88.393294,
          80.299775,
          73.78346,
          76.293136,
          76.285001,
          75.831338,
          81.834279,
          78.011608,
          75.821202,
          77.435361,
          75.367127,
          81.832616,
          80.351569,
          88.354127,
          75.353942,
          78.040165,
          88.364453,
          75.372353,
          88.364878,
          81.860187,
          76.308258,
          75.832841,
          76.281128,
          80.313458,
          78.053162,
          78.045359,
          77.434976,
          75.364792,
          78.040267,
          88.365507,
          73.742294,
          78.061187,
          78.077151,
          77.419399,
          75.786976,
          88.433187,
          80.354002,
          88.35231,
          78.067079,
          78.046106,
          73.768172,
          88.352885,
          88.39331,
          76.310019,
          73.75575,
          80.318656,
          75.821847,
          81.834502,
          73.827423,
          77.398886,
          88.368628,
          77.43702,
          76.276999,
          73.826911,
          81.859682,
          77.998092,
          88.433452,
          77.429845,
          75.829615,
          73.743606,
          80.316344,
          76.283268,
          80.315042,
          77.408236,
          88.400581,
          75.368419,
          75.804893,
          76.336958,
          75.316722,
          73.749092,
          77.401663,
          78.062543,
          76.317361,
          80.320708,
          75.826808,
          76.308053,
          73.766668,
          88.322337,
          77.433571,
          75.358888,
          76.310631,
          75.323403,
          75.317475,
          80.320939,
          88.36783,
          80.3481,
          75.346017,
          77.429989,
          88.400467,
          88.366217,
          76.349516,
          73.766883,
          73.755736,
          73.760431,
          77.379605,
          88.35068,
          73.763633,
          88.353273,
          76.242981,
          75.318894,
          81.832796,
          75.321461,
          76.285447,
          77.417227,
          88.362504,
          88.349843,
          75.323503,
          81.834236,
          81.833167,
          76.307589,
          76.295211,
          77.434007,
          75.360232,
          75.842739,
          78.070453,
          77.373573,
          76.293936,
          -76.976268,
          -76.654878,
          -85.325731,
          -72.846749,
          -76.975525,
          -80.257221,
          -80.251865,
          -77.61413,
          -77.596014,
          -78.375467,
          -76.951736,
          -77.696664,
          -78.392621,
          -77.616155,
          -75.794592,
          -80.208812,
          -72.789122,
          -78.077151,
          -80.242268,
          -78.070453,
          -75.810753,
          -72.836721,
          -77.434007,
          -85.325447,
          -72.832658,
          -73.830547,
          -73.828972,
          -88.366217,
          -77.614293,
          -76.293936,
          -80.242439,
          -76.619103,
          -73.916619,
          -80.316344,
          -75.902847,
          -72.772697,
          -85.325146,
          -76.630028,
          -75.892471,
          -77.408236,
          -75.866059,
          -73.838429,
          -72.778059,
          -76.963303,
          -78.06889,
          -73.827423,
          -75.837333,
          -75.793604,
          -75.829615,
          -80.248519,
          -75.897429,
          -80.318656,
          -77.43702,
          -73.742294,
          -76.665808,
          -76.940432,
          -78.404423,
          -75.75282,
          -76.971082,
          -73.751081,
          -72.801953,
          -76.603067,
          -73.773572,
          -78.407495,
          -85.33982,
          -75.793007,
          -76.995667,
          -80.220672,
          -77.640489,
          -80.23311,
          -80.26147,
          -77.596791,
          -78.045359,
          -81.859682,
          -73.165081,
          -72.804342,
          -78.04299,
          -85.335486,
          -75.887648,
          -72.827808,
          -78.397865,
          -78.044095,
          -81.860187,
          -77.699386,
          -76.60665,
          -88.352885,
          -78.062543,
          -75.367127,
          -73.904337,
          -75.340775,
          -76.976494,
          -75.783013,
          -78.385883,
          -81.841889,
          -73.169083,
          -77.645748,
          -73.804855,
          -88.322337,
          -76.632278,
          -78.040165,
          -80.351569,
          -78.347554,
          -72.841347,
          -72.862381,
          -72.792731,
          -78.068022,
          -77.640709,
          -76.283268,
          -85.3172,
          -81.834236,
          -75.832841,
          -73.17,
          -75.887522,
          -75.821202,
          -75.881991,
          -76.999594,
          -88.349843,
          -78.011544,
          -77.683237,
          -72.972281,
          -73.164798,
          -76.625861,
          -78.379347,
          -77.615428,
          -76.626167,
          -85.316842,
          -76.643622,
          -72.814492,
          -77.643685
         ],
         "textinfo": "value",
         "type": "pie",
         "values": [
          3640,
          182,
          181,
          177,
          176,
          176,
          174,
          174,
          173,
          173,
          172,
          172,
          172,
          171,
          171,
          171,
          171,
          171,
          170,
          170,
          170,
          169,
          169,
          169,
          168,
          168,
          168,
          168,
          167,
          167,
          166,
          166,
          166,
          166,
          165,
          165,
          165,
          165,
          165,
          165,
          165,
          165,
          165,
          165,
          164,
          164,
          164,
          164,
          164,
          164,
          164,
          164,
          163,
          163,
          163,
          163,
          163,
          163,
          163,
          163,
          163,
          163,
          162,
          162,
          162,
          162,
          162,
          162,
          162,
          162,
          162,
          162,
          162,
          162,
          162,
          161,
          161,
          161,
          161,
          161,
          161,
          161,
          161,
          161,
          161,
          161,
          161,
          161,
          161,
          161,
          160,
          160,
          160,
          160,
          160,
          160,
          160,
          160,
          160,
          160,
          160,
          160,
          160,
          159,
          159,
          159,
          159,
          159,
          159,
          159,
          159,
          159,
          159,
          159,
          159,
          158,
          158,
          158,
          158,
          158,
          158,
          158,
          158,
          158,
          158,
          158,
          158,
          158,
          158,
          158,
          158,
          158,
          158,
          158,
          158,
          157,
          157,
          157,
          157,
          157,
          157,
          157,
          157,
          157,
          156,
          156,
          156,
          156,
          156,
          156,
          156,
          156,
          156,
          156,
          156,
          155,
          155,
          155,
          155,
          155,
          155,
          155,
          155,
          155,
          155,
          155,
          155,
          155,
          155,
          154,
          154,
          154,
          154,
          154,
          154,
          154,
          154,
          153,
          153,
          153,
          153,
          153,
          153,
          153,
          153,
          153,
          153,
          153,
          153,
          153,
          152,
          152,
          152,
          152,
          152,
          152,
          152,
          152,
          152,
          151,
          151,
          151,
          151,
          151,
          151,
          151,
          151,
          150,
          150,
          150,
          150,
          150,
          150,
          150,
          149,
          149,
          149,
          147,
          147,
          146,
          146,
          146,
          146,
          145,
          145,
          144,
          80,
          78,
          44,
          44,
          43,
          43,
          42,
          42,
          42,
          42,
          41,
          41,
          41,
          41,
          41,
          41,
          41,
          41,
          41,
          41,
          41,
          41,
          41,
          40,
          40,
          40,
          40,
          40,
          39,
          39,
          39,
          39,
          39,
          39,
          39,
          39,
          39,
          39,
          39,
          39,
          39,
          39,
          38,
          38,
          38,
          38,
          38,
          38,
          38,
          38,
          38,
          38,
          38,
          38,
          38,
          38,
          38,
          37,
          37,
          37,
          37,
          37,
          37,
          37,
          37,
          37,
          37,
          37,
          37,
          37,
          37,
          37,
          37,
          37,
          37,
          37,
          37,
          37,
          36,
          36,
          36,
          36,
          36,
          36,
          36,
          36,
          36,
          36,
          36,
          36,
          36,
          36,
          36,
          35,
          35,
          35,
          35,
          35,
          35,
          35,
          35,
          35,
          35,
          35,
          35,
          35,
          35,
          34,
          34,
          34,
          34,
          34,
          34,
          34,
          34,
          34,
          34,
          34,
          34,
          34,
          34,
          34,
          34,
          34,
          33,
          33,
          33,
          33,
          33,
          33,
          33,
          33,
          33,
          33,
          33,
          33,
          33,
          33,
          33,
          33,
          33,
          33,
          32,
          32,
          32,
          32,
          32,
          32,
          32,
          32,
          32,
          32,
          32,
          31,
          31,
          31,
          30,
          30,
          30,
          30,
          30,
          29,
          28,
          4,
          3,
          3,
          3,
          3,
          3,
          2,
          2,
          2,
          2,
          2,
          2,
          2,
          2,
          2,
          2,
          2,
          2,
          2,
          2,
          2,
          2,
          2,
          2,
          2,
          2,
          1,
          1,
          1,
          1,
          1,
          1,
          1,
          1,
          1,
          1,
          1,
          1,
          1,
          1,
          1,
          1,
          1,
          1,
          1,
          1,
          1,
          1,
          1,
          1,
          1,
          1,
          1,
          1,
          1,
          1,
          1,
          1,
          1,
          1,
          1,
          1,
          1,
          1,
          1,
          1,
          1,
          1,
          1,
          1,
          1,
          1,
          1,
          1,
          1,
          1,
          1,
          1,
          1,
          1,
          1,
          1,
          1,
          1,
          1,
          1,
          1,
          1,
          1,
          1,
          1,
          1,
          1,
          1,
          1,
          1,
          1,
          1,
          1,
          1,
          1,
          1,
          1,
          1,
          1,
          1,
          1,
          1,
          1,
          1,
          1,
          1,
          1,
          1,
          1,
          1,
          1,
          1,
          1,
          1,
          1,
          1,
          1,
          1,
          1,
          1,
          1,
          1,
          1
         ]
        }
       ],
       "layout": {
        "template": {
         "data": {
          "bar": [
           {
            "error_x": {
             "color": "#2a3f5f"
            },
            "error_y": {
             "color": "#2a3f5f"
            },
            "marker": {
             "line": {
              "color": "#E5ECF6",
              "width": 0.5
             },
             "pattern": {
              "fillmode": "overlay",
              "size": 10,
              "solidity": 0.2
             }
            },
            "type": "bar"
           }
          ],
          "barpolar": [
           {
            "marker": {
             "line": {
              "color": "#E5ECF6",
              "width": 0.5
             },
             "pattern": {
              "fillmode": "overlay",
              "size": 10,
              "solidity": 0.2
             }
            },
            "type": "barpolar"
           }
          ],
          "carpet": [
           {
            "aaxis": {
             "endlinecolor": "#2a3f5f",
             "gridcolor": "white",
             "linecolor": "white",
             "minorgridcolor": "white",
             "startlinecolor": "#2a3f5f"
            },
            "baxis": {
             "endlinecolor": "#2a3f5f",
             "gridcolor": "white",
             "linecolor": "white",
             "minorgridcolor": "white",
             "startlinecolor": "#2a3f5f"
            },
            "type": "carpet"
           }
          ],
          "choropleth": [
           {
            "colorbar": {
             "outlinewidth": 0,
             "ticks": ""
            },
            "type": "choropleth"
           }
          ],
          "contour": [
           {
            "colorbar": {
             "outlinewidth": 0,
             "ticks": ""
            },
            "colorscale": [
             [
              0,
              "#0d0887"
             ],
             [
              0.1111111111111111,
              "#46039f"
             ],
             [
              0.2222222222222222,
              "#7201a8"
             ],
             [
              0.3333333333333333,
              "#9c179e"
             ],
             [
              0.4444444444444444,
              "#bd3786"
             ],
             [
              0.5555555555555556,
              "#d8576b"
             ],
             [
              0.6666666666666666,
              "#ed7953"
             ],
             [
              0.7777777777777778,
              "#fb9f3a"
             ],
             [
              0.8888888888888888,
              "#fdca26"
             ],
             [
              1,
              "#f0f921"
             ]
            ],
            "type": "contour"
           }
          ],
          "contourcarpet": [
           {
            "colorbar": {
             "outlinewidth": 0,
             "ticks": ""
            },
            "type": "contourcarpet"
           }
          ],
          "heatmap": [
           {
            "colorbar": {
             "outlinewidth": 0,
             "ticks": ""
            },
            "colorscale": [
             [
              0,
              "#0d0887"
             ],
             [
              0.1111111111111111,
              "#46039f"
             ],
             [
              0.2222222222222222,
              "#7201a8"
             ],
             [
              0.3333333333333333,
              "#9c179e"
             ],
             [
              0.4444444444444444,
              "#bd3786"
             ],
             [
              0.5555555555555556,
              "#d8576b"
             ],
             [
              0.6666666666666666,
              "#ed7953"
             ],
             [
              0.7777777777777778,
              "#fb9f3a"
             ],
             [
              0.8888888888888888,
              "#fdca26"
             ],
             [
              1,
              "#f0f921"
             ]
            ],
            "type": "heatmap"
           }
          ],
          "heatmapgl": [
           {
            "colorbar": {
             "outlinewidth": 0,
             "ticks": ""
            },
            "colorscale": [
             [
              0,
              "#0d0887"
             ],
             [
              0.1111111111111111,
              "#46039f"
             ],
             [
              0.2222222222222222,
              "#7201a8"
             ],
             [
              0.3333333333333333,
              "#9c179e"
             ],
             [
              0.4444444444444444,
              "#bd3786"
             ],
             [
              0.5555555555555556,
              "#d8576b"
             ],
             [
              0.6666666666666666,
              "#ed7953"
             ],
             [
              0.7777777777777778,
              "#fb9f3a"
             ],
             [
              0.8888888888888888,
              "#fdca26"
             ],
             [
              1,
              "#f0f921"
             ]
            ],
            "type": "heatmapgl"
           }
          ],
          "histogram": [
           {
            "marker": {
             "pattern": {
              "fillmode": "overlay",
              "size": 10,
              "solidity": 0.2
             }
            },
            "type": "histogram"
           }
          ],
          "histogram2d": [
           {
            "colorbar": {
             "outlinewidth": 0,
             "ticks": ""
            },
            "colorscale": [
             [
              0,
              "#0d0887"
             ],
             [
              0.1111111111111111,
              "#46039f"
             ],
             [
              0.2222222222222222,
              "#7201a8"
             ],
             [
              0.3333333333333333,
              "#9c179e"
             ],
             [
              0.4444444444444444,
              "#bd3786"
             ],
             [
              0.5555555555555556,
              "#d8576b"
             ],
             [
              0.6666666666666666,
              "#ed7953"
             ],
             [
              0.7777777777777778,
              "#fb9f3a"
             ],
             [
              0.8888888888888888,
              "#fdca26"
             ],
             [
              1,
              "#f0f921"
             ]
            ],
            "type": "histogram2d"
           }
          ],
          "histogram2dcontour": [
           {
            "colorbar": {
             "outlinewidth": 0,
             "ticks": ""
            },
            "colorscale": [
             [
              0,
              "#0d0887"
             ],
             [
              0.1111111111111111,
              "#46039f"
             ],
             [
              0.2222222222222222,
              "#7201a8"
             ],
             [
              0.3333333333333333,
              "#9c179e"
             ],
             [
              0.4444444444444444,
              "#bd3786"
             ],
             [
              0.5555555555555556,
              "#d8576b"
             ],
             [
              0.6666666666666666,
              "#ed7953"
             ],
             [
              0.7777777777777778,
              "#fb9f3a"
             ],
             [
              0.8888888888888888,
              "#fdca26"
             ],
             [
              1,
              "#f0f921"
             ]
            ],
            "type": "histogram2dcontour"
           }
          ],
          "mesh3d": [
           {
            "colorbar": {
             "outlinewidth": 0,
             "ticks": ""
            },
            "type": "mesh3d"
           }
          ],
          "parcoords": [
           {
            "line": {
             "colorbar": {
              "outlinewidth": 0,
              "ticks": ""
             }
            },
            "type": "parcoords"
           }
          ],
          "pie": [
           {
            "automargin": true,
            "type": "pie"
           }
          ],
          "scatter": [
           {
            "fillpattern": {
             "fillmode": "overlay",
             "size": 10,
             "solidity": 0.2
            },
            "type": "scatter"
           }
          ],
          "scatter3d": [
           {
            "line": {
             "colorbar": {
              "outlinewidth": 0,
              "ticks": ""
             }
            },
            "marker": {
             "colorbar": {
              "outlinewidth": 0,
              "ticks": ""
             }
            },
            "type": "scatter3d"
           }
          ],
          "scattercarpet": [
           {
            "marker": {
             "colorbar": {
              "outlinewidth": 0,
              "ticks": ""
             }
            },
            "type": "scattercarpet"
           }
          ],
          "scattergeo": [
           {
            "marker": {
             "colorbar": {
              "outlinewidth": 0,
              "ticks": ""
             }
            },
            "type": "scattergeo"
           }
          ],
          "scattergl": [
           {
            "marker": {
             "colorbar": {
              "outlinewidth": 0,
              "ticks": ""
             }
            },
            "type": "scattergl"
           }
          ],
          "scattermapbox": [
           {
            "marker": {
             "colorbar": {
              "outlinewidth": 0,
              "ticks": ""
             }
            },
            "type": "scattermapbox"
           }
          ],
          "scatterpolar": [
           {
            "marker": {
             "colorbar": {
              "outlinewidth": 0,
              "ticks": ""
             }
            },
            "type": "scatterpolar"
           }
          ],
          "scatterpolargl": [
           {
            "marker": {
             "colorbar": {
              "outlinewidth": 0,
              "ticks": ""
             }
            },
            "type": "scatterpolargl"
           }
          ],
          "scatterternary": [
           {
            "marker": {
             "colorbar": {
              "outlinewidth": 0,
              "ticks": ""
             }
            },
            "type": "scatterternary"
           }
          ],
          "surface": [
           {
            "colorbar": {
             "outlinewidth": 0,
             "ticks": ""
            },
            "colorscale": [
             [
              0,
              "#0d0887"
             ],
             [
              0.1111111111111111,
              "#46039f"
             ],
             [
              0.2222222222222222,
              "#7201a8"
             ],
             [
              0.3333333333333333,
              "#9c179e"
             ],
             [
              0.4444444444444444,
              "#bd3786"
             ],
             [
              0.5555555555555556,
              "#d8576b"
             ],
             [
              0.6666666666666666,
              "#ed7953"
             ],
             [
              0.7777777777777778,
              "#fb9f3a"
             ],
             [
              0.8888888888888888,
              "#fdca26"
             ],
             [
              1,
              "#f0f921"
             ]
            ],
            "type": "surface"
           }
          ],
          "table": [
           {
            "cells": {
             "fill": {
              "color": "#EBF0F8"
             },
             "line": {
              "color": "white"
             }
            },
            "header": {
             "fill": {
              "color": "#C8D4E3"
             },
             "line": {
              "color": "white"
             }
            },
            "type": "table"
           }
          ]
         },
         "layout": {
          "annotationdefaults": {
           "arrowcolor": "#2a3f5f",
           "arrowhead": 0,
           "arrowwidth": 1
          },
          "autotypenumbers": "strict",
          "coloraxis": {
           "colorbar": {
            "outlinewidth": 0,
            "ticks": ""
           }
          },
          "colorscale": {
           "diverging": [
            [
             0,
             "#8e0152"
            ],
            [
             0.1,
             "#c51b7d"
            ],
            [
             0.2,
             "#de77ae"
            ],
            [
             0.3,
             "#f1b6da"
            ],
            [
             0.4,
             "#fde0ef"
            ],
            [
             0.5,
             "#f7f7f7"
            ],
            [
             0.6,
             "#e6f5d0"
            ],
            [
             0.7,
             "#b8e186"
            ],
            [
             0.8,
             "#7fbc41"
            ],
            [
             0.9,
             "#4d9221"
            ],
            [
             1,
             "#276419"
            ]
           ],
           "sequential": [
            [
             0,
             "#0d0887"
            ],
            [
             0.1111111111111111,
             "#46039f"
            ],
            [
             0.2222222222222222,
             "#7201a8"
            ],
            [
             0.3333333333333333,
             "#9c179e"
            ],
            [
             0.4444444444444444,
             "#bd3786"
            ],
            [
             0.5555555555555556,
             "#d8576b"
            ],
            [
             0.6666666666666666,
             "#ed7953"
            ],
            [
             0.7777777777777778,
             "#fb9f3a"
            ],
            [
             0.8888888888888888,
             "#fdca26"
            ],
            [
             1,
             "#f0f921"
            ]
           ],
           "sequentialminus": [
            [
             0,
             "#0d0887"
            ],
            [
             0.1111111111111111,
             "#46039f"
            ],
            [
             0.2222222222222222,
             "#7201a8"
            ],
            [
             0.3333333333333333,
             "#9c179e"
            ],
            [
             0.4444444444444444,
             "#bd3786"
            ],
            [
             0.5555555555555556,
             "#d8576b"
            ],
            [
             0.6666666666666666,
             "#ed7953"
            ],
            [
             0.7777777777777778,
             "#fb9f3a"
            ],
            [
             0.8888888888888888,
             "#fdca26"
            ],
            [
             1,
             "#f0f921"
            ]
           ]
          },
          "colorway": [
           "#636efa",
           "#EF553B",
           "#00cc96",
           "#ab63fa",
           "#FFA15A",
           "#19d3f3",
           "#FF6692",
           "#B6E880",
           "#FF97FF",
           "#FECB52"
          ],
          "font": {
           "color": "#2a3f5f"
          },
          "geo": {
           "bgcolor": "white",
           "lakecolor": "white",
           "landcolor": "#E5ECF6",
           "showlakes": true,
           "showland": true,
           "subunitcolor": "white"
          },
          "hoverlabel": {
           "align": "left"
          },
          "hovermode": "closest",
          "mapbox": {
           "style": "light"
          },
          "paper_bgcolor": "white",
          "plot_bgcolor": "#E5ECF6",
          "polar": {
           "angularaxis": {
            "gridcolor": "white",
            "linecolor": "white",
            "ticks": ""
           },
           "bgcolor": "#E5ECF6",
           "radialaxis": {
            "gridcolor": "white",
            "linecolor": "white",
            "ticks": ""
           }
          },
          "scene": {
           "xaxis": {
            "backgroundcolor": "#E5ECF6",
            "gridcolor": "white",
            "gridwidth": 2,
            "linecolor": "white",
            "showbackground": true,
            "ticks": "",
            "zerolinecolor": "white"
           },
           "yaxis": {
            "backgroundcolor": "#E5ECF6",
            "gridcolor": "white",
            "gridwidth": 2,
            "linecolor": "white",
            "showbackground": true,
            "ticks": "",
            "zerolinecolor": "white"
           },
           "zaxis": {
            "backgroundcolor": "#E5ECF6",
            "gridcolor": "white",
            "gridwidth": 2,
            "linecolor": "white",
            "showbackground": true,
            "ticks": "",
            "zerolinecolor": "white"
           }
          },
          "shapedefaults": {
           "line": {
            "color": "#2a3f5f"
           }
          },
          "ternary": {
           "aaxis": {
            "gridcolor": "white",
            "linecolor": "white",
            "ticks": ""
           },
           "baxis": {
            "gridcolor": "white",
            "linecolor": "white",
            "ticks": ""
           },
           "bgcolor": "#E5ECF6",
           "caxis": {
            "gridcolor": "white",
            "linecolor": "white",
            "ticks": ""
           }
          },
          "title": {
           "x": 0.05
          },
          "xaxis": {
           "automargin": true,
           "gridcolor": "white",
           "linecolor": "white",
           "ticks": "",
           "title": {
            "standoff": 15
           },
           "zerolinecolor": "white",
           "zerolinewidth": 2
          },
          "yaxis": {
           "automargin": true,
           "gridcolor": "white",
           "linecolor": "white",
           "ticks": "",
           "title": {
            "standoff": 15
           },
           "zerolinecolor": "white",
           "zerolinewidth": 2
          }
         }
        }
       }
      }
     },
     "metadata": {},
     "output_type": "display_data"
    },
    {
     "data": {
      "application/vnd.plotly.v1+json": {
       "config": {
        "linkText": "Export to plot.ly",
        "plotlyServerURL": "https://plot.ly",
        "showLink": false
       },
       "data": [
        {
         "labels": [
          0.13,
          0.02,
          0.09,
          0.06,
          0.07,
          0.04,
          0.05,
          0.11,
          0.01,
          0.08,
          0.03,
          11.048638,
          18.64408,
          17.492819,
          17.491028,
          26.90842,
          13.089166,
          12.3585,
          22.4,
          17.568998,
          12.363225,
          23.361489,
          13.148616,
          19.135838,
          13.058453,
          13.055801,
          13.188616,
          13.121878,
          17.568263,
          12.383978,
          11.132477,
          19.161458,
          27.03294,
          22.863838,
          23.423017,
          12.381072,
          18.947584,
          12.974179,
          22.671847,
          11.135083,
          12.986229,
          26.923483,
          17.48233,
          19.226269,
          13.003041,
          18.556562,
          22.830072,
          19.266269,
          12.373994,
          12.394569,
          26.922313,
          22.36279,
          18.600963,
          13.039166,
          21.283493,
          23.411292,
          12.363194,
          19.384567,
          18.656258,
          22.812225,
          21.250522,
          22.378096,
          17.449585,
          19.084237,
          13.049198,
          19.288321,
          22.358096,
          11.055083,
          12.953284,
          17.499585,
          26.941927,
          21.236608,
          12.387928,
          11.045083,
          17.490448,
          11.033008,
          26.912328,
          26.856156,
          17.442819,
          22.318096,
          22.802225,
          21.213493,
          12.383225,
          18.57421,
          11.073681,
          12.998453,
          22.825049,
          11.096686,
          26.954142,
          11.050762,
          11.093681,
          13.118616,
          17.530827,
          18.566947,
          21.237729,
          19.241315,
          18.650016,
          17.52971,
          23.43925,
          11.116117,
          12.3485,
          13.045662,
          13.108616,
          17.521668,
          23.481292,
          26.99519,
          12.973298,
          22.438096,
          19.24384,
          13.102793,
          23.394422,
          23.381489,
          22.721847,
          18.59408,
          17.494114,
          22.367898,
          13.179645,
          19.2213,
          27.086431,
          11.023008,
          13.065662,
          23.401292,
          11.084136,
          21.305975,
          12.402058,
          22.784648,
          26.92294,
          23.449033,
          22.755835,
          21.290522,
          17.480371,
          18.672718,
          17.451477,
          19.054049,
          22.360329,
          21.170437,
          11.011753,
          22.772225,
          22.795049,
          27.054142,
          19.113249,
          12.364022,
          23.389407,
          22.773659,
          22.825536,
          23.373783,
          22.761234,
          22.421603,
          22.805747,
          21.259569,
          11.098638,
          11.062298,
          26.962312,
          11.076298,
          18.66144,
          21.250096,
          18.673935,
          17.541028,
          23.429746,
          22.825207,
          21.316884,
          22.39279,
          13.000324,
          13.099645,
          21.273434,
          13.03041,
          13.002161,
          21.199669,
          12.344569,
          27.001191,
          18.634382,
          17.450448,
          17.500851,
          11.152169,
          26.98294,
          12.333978,
          22.792634,
          13.039198,
          27.036431,
          21.200437,
          19.1693,
          12.393194,
          22.738163,
          13.035996,
          12.377978,
          12.393978,
          19.151141,
          22.75806,
          12.944264,
          21.285975,
          19.2613,
          11.011852,
          17.521477,
          13.105479,
          17.511668,
          17.441668,
          21.197735,
          17.541477,
          26.991378,
          13.146762,
          19.286269,
          21.236438,
          21.255104,
          12.396356,
          21.283343,
          17.54233,
          13.046047,
          18.679156,
          22.82004,
          22.388096,
          12.386967,
          17.42233,
          17.474114,
          22.801857,
          21.205975,
          17.490827,
          26.952328,
          12.363978,
          11.111753,
          18.626947,
          22.745748,
          12.431214,
          17.545894,
          23.401058,
          13.104181,
          13.030324,
          22.86004,
          18.652718,
          18.579156,
          19.337222,
          18.566719,
          22.785835,
          21.30106,
          11.133009,
          26.941378,
          12.3385,
          13.216439,
          12.307954,
          22.441844,
          18.997584,
          13.025377,
          21.263343,
          17.480448,
          13.096438,
          26.961191,
          22.781857,
          13.016047,
          22.811593,
          19.237222,
          26.974142,
          23.461292,
          18.639156,
          12.344747,
          27.023483,
          18.57245,
          26.93842,
          13.019096,
          19.017584,
          12.949496,
          18.596562,
          19.304567,
          23.447804,
          26.992908,
          12.353225,
          17.509585,
          17.496228,
          23.464422,
          18.643935,
          22.400329,
          12.397978,
          11.053669,
          13.15978,
          21.223434,
          21.260096,
          12.427954,
          21.17276,
          12.426967,
          21.22276,
          13.126762,
          21.23106,
          18.676215,
          18.599156,
          19.264567,
          23.444989,
          22.347898,
          21.219834,
          13.181809,
          26.929596,
          13.144347,
          26.91842,
          22.661847,
          13.041615,
          12.944179,
          11.15091,
          21.207735,
          19.31384,
          19.230083,
          19.331315,
          27.023726,
          11.042477,
          21.200096,
          26.915287,
          18.61245,
          21.190096,
          12.329524,
          22.398096,
          18.660963,
          11.131852,
          13.084347,
          27.053483,
          23.419407,
          12.373978,
          12.420972,
          11.075083,
          13.063298,
          26.962908,
          12.999166,
          17.593216,
          21.169669,
          23.424878,
          22.763838,
          13.008453,
          22.870072,
          13.100221,
          23.389033,
          13.043284,
          13.108453,
          21.279834,
          23.501292,
          13.09041,
          22.855835,
          21.266438,
          19.033517,
          18.643481,
          21.245047,
          12.353978,
          11.04091,
          22.891226,
          21.22106,
          21.223493,
          19.351315,
          18.626258,
          21.20276,
          22.381603,
          13.020324,
          18.606562,
          23.504878,
          17.538294,
          19.044049,
          22.705207,
          13.156439,
          13.085996,
          23.47925,
          22.824648,
          23.374422,
          12.321072,
          12.916229,
          19.231315,
          19.181999,
          13.076279,
          17.44233,
          23.40925,
          11.060762,
          18.566258,
          11.046117,
          22.861234,
          13.05978,
          19.093517,
          17.535894,
          17.465894,
          13.13978,
          26.906536,
          12.969934,
          12.989934,
          12.985377,
          13.039934,
          22.390526,
          11.060375,
          22.863659,
          23.431292,
          22.321603,
          17.491976,
          23.395164,
          11.030375,
          12.336356,
          22.381844,
          21.267735,
          19.27384,
          17.471477,
          11.091278,
          22.835748,
          13.052394,
          17.49971,
          27.032312,
          18.573811,
          26.924142,
          17.518263,
          21.279569,
          13.161809,
          11.101278,
          23.389746,
          23.394989,
          27.045287,
          23.449407,
          22.38,
          17.443809,
          12.3185,
          18.549299,
          21.265047,
          19.238321,
          12.953298,
          22.37,
          22.831226,
          18.559299,
          12.333225,
          26.99294,
          11.081278,
          13.128616,
          17.520851,
          22.39,
          27.035287,
          19.201141,
          27.050262,
          26.94519,
          21.295047,
          21.195104,
          19.141458,
          13.044264,
          17.48971,
          27.044142,
          18.540963,
          22.831857,
          27.002312,
          23.399194,
          11.02185,
          18.706215,
          17.503216,
          23.375164,
          17.525894,
          23.411058,
          11.104839,
          26.866156,
          18.58408,
          13.019934,
          18.586718,
          13.019166,
          22.35,
          13.109166,
          26.931378,
          22.748163,
          13.051615,
          12.983284,
          13.114181,
          22.815748,
          23.419746,
          27.096431,
          23.383783,
          13.029496,
          13.211878,
          23.384989,
          23.397804,
          11.136686,
          22.437898,
          13.02041,
          22.821234,
          12.343994,
          13.086286,
          13.096762,
          21.230522,
          13.042793,
          19.2013,
          23.389194,
          11.010762,
          12.294747,
          26.816536,
          22.792225,
          13.095479,
          13.052161,
          12.395461,
          19.150083,
          13.106438,
          17.440448,
          19.271315,
          19.21114,
          13.044179,
          26.933987,
          21.227735,
          21.285104,
          13.06041,
          11.072298,
          21.210522,
          11.085083,
          18.623626,
          22.785747,
          19.3113,
          13.035377,
          21.216438,
          19.023517,
          13.052793,
          11.024136,
          12.992793,
          17.523809,
          12.453978,
          13.046286,
          13.154694,
          17.458294,
          11.043681,
          18.61144,
          23.399033,
          17.508294,
          21.220096,
          19.1993,
          17.491668,
          19.095831,
          12.366967,
          21.270437,
          23.486792,
          23.433783,
          21.206438,
          18.576258,
          18.609156,
          13.139645,
          11.068638,
          12.432058,
          22.731847,
          11.041852,
          21.226438,
          22.805049,
          11.092169,
          21.21106,
          18.662718,
          13.055996,
          18.630016,
          23.369407,
          18.967584,
          23.431058,
          13.049166,
          21.180096,
          21.193493,
          22.821226,
          19.16663,
          21.259669,
          18.56408,
          23.384878,
          19.185831,
          12.943298,
          13.168616,
          22.735207,
          11.056117,
          12.3285,
          19.1193,
          12.362058,
          13.088453,
          11.021753,
          12.330972,
          23.436792,
          13.065801,
          27.021378,
          11.071753,
          17.468263,
          18.663481,
          13.164347,
          17.532819,
          22.855747,
          21.219669,
          17.540851,
          22.811226,
          11.072477,
          22.808163,
          23.421489,
          18.613811,
          19.115831,
          13.065377,
          26.983483,
          23.481489,
          27.051927,
          11.066117,
          21.276438,
          12.354747,
          22.421844,
          19.17663,
          12.403978,
          22.765835,
          13.104347,
          12.994264,
          19.161999,
          26.961378,
          22.370237,
          11.092477,
          13.049096,
          19.13663,
          18.573935,
          17.461028,
          19.151999,
          22.361844,
          17.521976,
          13.176762,
          12.334569,
          26.955287,
          11.106298,
          21.25106,
          18.699156,
          23.463017,
          17.519585,
          13.082394,
          13.042161,
          13.095801,
          21.243343,
          26.879596,
          13.066286,
          12.331214,
          23.403017,
          12.455461,
          26.943726,
          22.681847,
          22.770072,
          27.041378,
          22.340329,
          23.399407,
          22.351603,
          22.855536,
          17.505894,
          13.084181,
          12.416356,
          12.462058,
          22.320526,
          18.556947,
          13.025996,
          11.132169,
          19.141999,
          27.021927,
          19.200083,
          19.28384,
          11.112477,
          21.167735,
          13.116047,
          17.500827,
          13.050324,
          11.071852,
          11.082298,
          23.414989,
          26.992328,
          13.07978,
          17.500371,
          11.073009,
          19.143249,
          17.500448,
          11.131753,
          27.020262,
          13.119645,
          27.003726,
          21.230798,
          17.502819,
          27.015287,
          12.385461,
          12.453225,
          23.443783,
          19.19114,
          12.995996,
          23.363783,
          18.593811,
          22.815536,
          22.861857,
          27.012328,
          12.991615,
          22.874648,
          11.080375,
          19.111458,
          17.511477,
          11.06091,
          26.993987,
          21.246438,
          22.855049,
          18.623811,
          13.101878,
          17.560448,
          26.933726,
          26.906156,
          13.024264,
          21.233434,
          22.78806,
          23.499746,
          11.053681,
          23.409746,
          17.439585,
          18.596258,
          26.94294,
          21.203493,
          13.134181,
          19.19663,
          17.470851,
          12.4185,
          18.61408,
          13.079645,
          22.852634,
          21.179569,
          13.100324,
          23.404422,
          22.317898,
          18.594382,
          18.636947,
          22.440237,
          17.53971,
          12.381214,
          22.785207,
          17.468998,
          18.612718,
          19.014049,
          21.220522,
          18.58245,
          23.371058,
          21.266608,
          17.501976,
          21.185104,
          17.452819,
          13.065479,
          13.010221,
          12.357928,
          12.400972,
          13.057018,
          11.062169,
          11.046298,
          12.999496,
          18.613934,
          11.095083,
          27.042908,
          22.755049,
          17.438294,
          21.189569,
          26.98519,
          12.387978,
          19.246269,
          17.43233,
          18.683481,
          18.684382,
          12.990324,
          22.331603,
          26.95519,
          18.553626,
          11.133669,
          17.478263,
          12.314747,
          19.14663,
          21.240437,
          17.450371,
          13.075479,
          18.600016,
          18.64245,
          21.226608,
          12.360972,
          19.163249,
          17.58971,
          19.241141,
          19.115838,
          23.424989,
          19.23384,
          11.023669,
          13.035801,
          21.24276,
          19.130083,
          12.340972,
          26.93519,
          13.045801,
          12.353194,
          26.973726,
          12.415461,
          22.800072,
          12.996047,
          26.993726,
          18.584382,
          21.26106,
          21.18276,
          13.094181,
          11.046686,
          11.104136,
          18.649299,
          13.101809,
          18.673481,
          26.939596,
          19.057584,
          12.403194,
          17.466228,
          22.377898,
          23.451292,
          18.536216,
          22.33,
          22.785049,
          26.876536,
          23.469194,
          12.963298,
          11.03185,
          21.316608,
          13.023284,
          11.116686,
          12.979934,
          19.1493,
          26.976431,
          21.196438,
          17.540371,
          22.340526,
          23.427804,
          12.382058,
          12.355461,
          21.20106,
          17.515894,
          21.193434,
          19.291315,
          26.931191,
          22.771857,
          11.064839,
          18.60245,
          11.083009,
          23.425164,
          11.124136,
          22.711847,
          18.59421,
          26.982908,
          17.488263,
          18.546562,
          18.576216,
          13.079934,
          18.603626,
          17.581976,
          17.475894,
          12.993041,
          22.790072,
          12.367978,
          13.029096,
          17.450827,
          23.399746,
          23.434878,
          13.068453,
          21.229569,
          26.951411,
          17.541976,
          22.798163,
          13.191878,
          19.083517,
          19.2193,
          13.106279,
          12.988453,
          11.026686,
          13.085377,
          22.371844,
          19.30384,
          12.374022,
          21.253493,
          13.151878,
          22.810072,
          12.394022,
          27.011411,
          18.723481,
          23.369194,
          26.95294,
          12.357978,
          26.836536,
          11.052169,
          12.959934,
          21.213434,
          12.944365,
          17.448263,
          11.03091,
          13.054694,
          23.385164,
          18.606216,
          18.589156,
          22.88004,
          21.256608,
          18.556718,
          23.429033,
          22.890072,
          26.92842,
          13.079198,
          11.11091,
          18.576718,
          18.593626,
          19.258321,
          12.447928,
          22.834648,
          13.065996,
          17.49233,
          11.051753,
          13.066047,
          21.263434,
          21.305104,
          11.063681,
          12.389524,
          12.374747,
          22.802634,
          13.074181,
          26.963987,
          26.942908,
          12.387954,
          26.923726,
          19.181458,
          13.043041,
          12.344022,
          23.441489,
          11.082477,
          13.156762,
          17.520448,
          17.460448,
          26.826536,
          19.175838,
          11.081753,
          13.026047,
          22.348096,
          17.540448,
          23.431489,
          13.040324,
          22.741847,
          11.053009,
          23.437804,
          12.954365,
          23.417804,
          18.643811,
          12.353994,
          12.989166,
          12.347928,
          13.076762,
          12.973041,
          22.851593,
          13.059198,
          23.343017,
          22.858163,
          12.391072,
          13.013284,
          23.463783,
          12.442058,
          19.20663,
          21.266884,
          13.037018,
          17.45233,
          12.369524,
          19.013517,
          18.62408,
          17.431028,
          13.050221,
          19.29384,
          11.065083,
          26.859596,
          11.070762,
          21.199834,
          17.518998,
          23.484422,
          12.354569,
          22.754648,
          13.116762,
          21.246608,
          13.003298,
          12.992161,
          19.2313,
          19.186269,
          22.37279,
          19.113517,
          26.940262,
          18.629156,
          18.623481,
          26.902313,
          12.979496,
          19.085831,
          12.974365,
          19.153249,
          13.159198,
          12.403225,
          17.50233,
          13.166438,
          17.561477,
          22.732634,
          17.451668,
          13.04978,
          11.033669,
          23.546792,
          13.196762,
          21.26276,
          12.980221,
          21.187729,
          17.498294,
          23.446792,
          13.036229,
          18.556216,
          11.042298,
          12.366356,
          19.294567,
          13.072394,
          26.972313,
          12.343978,
          12.985662,
          26.966431,
          22.803659,
          18.550963,
          13.086279,
          13.098616,
          27.001927,
          11.076117,
          23.441058,
          23.379033,
          21.243493,
          21.179669,
          13.082532,
          11.018638,
          26.963726,
          22.417898,
          23.45925,
          13.042394,
          19.124049,
          22.351358,
          13.059166,
          13.196438,
          17.471028,
          22.765747,
          13.005662,
          23.46925,
          26.995287,
          18.640963,
          17.488998,
          11.032477,
          23.409033,
          13.069166,
          12.414747,
          19.23663,
          23.419194,
          23.439407,
          23.506792,
          21.236884,
          23.379194,
          18.682718,
          18.59144,
          12.959496,
          11.05185,
          19.064049,
          17.461668,
          23.479746,
          21.24106,
          19.26114,
          18.644382,
          11.013669,
          13.024179,
          12.367928,
          11.052477,
          21.210437,
          18.693935,
          21.233343,
          26.959596,
          18.633481,
          22.418096,
          18.937584,
          12.992532,
          22.793659,
          11.036298,
          21.239569,
          19.201458,
          22.783659,
          12.341072,
          21.167729,
          19.145838,
          26.952908,
          21.199569,
          13.022532,
          17.506228,
          13.064347,
          22.813659,
          11.07185,
          19.1913,
          17.461976,
          22.881857,
          17.523216,
          19.248321,
          22.795536,
          17.485894,
          21.209834,
          12.427978,
          22.835049,
          21.219569,
          13.009096,
          22.350237,
          18.63245,
          21.28276,
          19.063517,
          19.18663,
          12.337954,
          19.324567,
          13.116279,
          13.109198,
          23.381292,
          22.787021,
          22.381358,
          13.096047,
          12.350972,
          23.439033,
          22.775748,
          13.171878,
          26.990262,
          27.001378,
          13.003284,
          26.976156,
          26.786536,
          12.3985,
          11.00185,
          26.972908,
          26.921378,
          12.417928,
          21.255975,
          26.922908,
          22.390237,
          13.089198,
          12.946229,
          13.066279,
          13.171809,
          12.984264,
          11.088638,
          21.240798,
          13.045996,
          21.189669,
          22.762225,
          17.498998,
          22.441358,
          26.982312,
          13.096286,
          22.440329,
          18.716215,
          23.371489,
          22.737021,
          22.761847,
          23.443017,
          17.493809,
          23.423783,
          11.034136,
          18.653481,
          13.111615,
          23.409194,
          11.041278,
          22.387898,
          18.596947,
          17.501028,
          13.106762,
          12.990221,
          12.370972,
          26.942328,
          18.606258,
          19.101458,
          11.028638,
          18.58144,
          17.473809,
          26.953483,
          26.941191,
          11.090762,
          22.803839,
          11.084839,
          12.955662,
          23.353017,
          11.09091,
          17.478294,
          21.200522,
          21.259834,
          12.373194,
          19.221141,
          18.642718,
          19.210083,
          12.4385,
          12.334747,
          17.554114,
          11.154839,
          11.112298,
          11.100375,
          22.815049,
          23.404878,
          21.205047,
          27.053726,
          17.559585,
          22.854648,
          11.114839,
          12.341214,
          17.508263,
          22.774648,
          13.010324,
          13.001615,
          26.943987,
          26.91519,
          21.313434,
          13.029934,
          13.059934,
          21.245975,
          26.911191,
          12.390972,
          19.024049,
          26.909596,
          13.032793,
          22.80806,
          13.129645,
          22.805835,
          22.35279,
          23.365164,
          21.240096,
          12.397928,
          23.391058,
          18.589299,
          21.250798,
          12.339524,
          19.231999,
          12.982532,
          23.466792,
          13.002532,
          19.034237,
          11.070375,
          22.321358,
          19.171458,
          21.195047,
          18.55408,
          26.961927,
          13.062532,
          19.196269,
          13.111809,
          22.782225,
          21.180437,
          27.051378,
          12.453194,
          22.818163,
          11.115083,
          26.932312,
          22.745835,
          19.25384,
          27.031411,
          21.296884,
          19.075838,
          22.338096,
          23.459746,
          22.771226,
          21.239834,
          19.105831,
          13.032532,
          12.995377,
          22.807021,
          13.000221,
          22.764648,
          12.467978,
          13.060221,
          22.380526,
          13.025801,
          22.781234,
          11.043008,
          26.964142,
          18.646216,
          17.489585,
          13.107018,
          18.766215,
          11.058638,
          12.984365,
          22.320329,
          22.841593,
          18.616562,
          13.021615,
          12.989096,
          19.004237,
          27.041927,
          19.301315,
          26.991927,
          23.409407,
          22.805536,
          12.447978,
          19.131999,
          21.265104,
          21.209669,
          23.413017,
          12.953041,
          12.356967,
          17.490371,
          19.251999,
          18.616258,
          17.472819,
          18.66408,
          13.009166,
          17.420371,
          26.93294,
          21.210096,
          19.104049,
          12.464022,
          27.043726,
          23.369033,
          13.060324,
          22.817021,
          18.622718,
          12.351214,
          22.881234,
          18.649156,
          17.430371,
          21.19106,
          19.2713,
          11.134839,
          17.539585,
          18.546216,
          26.951927,
          12.405461,
          21.300096,
          22.795748,
          13.174694,
          12.945662,
          13.059645,
          19.2113,
          18.606718,
          19.221458,
          23.401489,
          22.390329,
          21.247735,
          22.440526,
          12.354022,
          13.028453,
          19.171999,
          26.806536,
          13.091615,
          17.51971,
          26.944142,
          23.485164,
          18.604382,
          17.513216,
          26.923987,
          13.144181,
          17.511976,
          22.875049,
          12.393994,
          12.367954,
          26.951191,
          18.579299,
          13.097018,
          26.99842,
          17.518294,
          11.043669,
          11.083669,
          19.085838,
          12.383994,
          18.746215,
          13.096279,
          22.370526,
          18.580963,
          22.804648,
          19.284567,
          22.725207,
          23.469407,
          22.871226,
          18.570963,
          13.082793,
          21.287729,
          19.123249,
          18.583935,
          13.052532,
          21.255047,
          12.435461,
          18.616947,
          13.002793,
          19.1893,
          18.563626,
          23.484989,
          21.235104,
          12.467928,
          13.030221,
          22.838163,
          27.004142,
          26.936156,
          22.783839,
          19.274567,
          11.014136,
          19.024237,
          23.429407,
          22.791857,
          12.371072,
          21.250437,
          12.982793,
          13.174181,
          12.3885,
          27.043483,
          13.069198,
          23.403783,
          21.227729,
          11.152298,
          19.135831,
          21.23276,
          11.120375,
          19.17114,
          22.397898,
          12.384022,
          12.943284,
          17.471668,
          18.629299,
          22.843839,
          21.276884,
          22.752634,
          13.004365,
          22.761857,
          13.106286,
          22.820072,
          12.969496,
          23.361058,
          22.782634,
          22.833838,
          11.093008,
          22.41,
          22.32279,
          23.504989,
          13.059096,
          13.089096,
          23.467804,
          26.95842,
          21.296608,
          13.013298,
          26.899596,
          21.203343,
          17.444114,
          11.151278,
          18.603481,
          12.357954,
          19.193249,
          22.757021,
          22.420526,
          13.022161,
          22.815835,
          26.97294,
          27.053987,
          21.220437,
          26.896536,
          11.09185,
          21.223343,
          26.963483,
          11.061753,
          11.056686,
          19.054237,
          17.453809,
          13.064179,
          11.066298,
          11.04185,
          12.451214,
          22.331358,
          23.413783,
          26.961411,
          11.01185,
          17.46233,
          23.414878,
          17.486228,
          19.268321,
          22.83806,
          13.046279,
          26.984142,
          17.464114,
          18.646718,
          19.140083,
          21.246884,
          17.470448,
          19.228321,
          26.932908,
          17.56971,
          22.767021,
          12.453994,
          13.084694,
          12.994179,
          18.569299,
          21.243434,
          12.407928,
          19.311315,
          18.590963,
          19.1793,
          22.45,
          13.161878,
          13.092394,
          17.508998,
          11.044839,
          21.316438,
          23.449194,
          18.570016,
          11.051852,
          13.023041,
          22.778163,
          22.841234,
          13.076286,
          22.380329,
          12.983298,
          11.040762,
          12.343225,
          22.742634,
          17.484114,
          18.583626,
          13.063284,
          26.96842,
          26.925287,
          17.498263,
          22.735835,
          23.454878,
          23.404989,
          13.009934,
          18.666562,
          12.319524,
          23.379407,
          26.886156,
          13.10978,
          17.451028,
          13.124694,
          12.456356,
          22.841226,
          13.056286,
          17.488294,
          11.111278,
          23.377804,
          17.510827,
          11.040375,
          13.016229,
          11.074136,
          11.033681,
          13.135801,
          22.755747,
          13.119198,
          22.781593,
          11.020762,
          18.609299,
          21.180522,
          19.180083,
          22.420237,
          12.359524,
          13.089645,
          18.656947,
          27.066431,
          13.012161,
          11.071278,
          22.401603,
          17.441028,
          21.300798,
          22.421358,
          13.045377,
          13.136286,
          18.603935,
          22.850072,
          19.198321,
          23.456792,
          22.812634,
          22.81806,
          12.954179,
          23.441292,
          23.476792,
          19.151458,
          21.203434,
          11.132298,
          21.18106,
          18.722718,
          18.633626,
          13.01041,
          13.137018,
          12.361072,
          27.046431,
          13.131809,
          17.565894,
          17.534114,
          18.56144,
          12.335461,
          22.34279,
          18.586216,
          13.020221,
          13.139198,
          19.35384,
          27.003483,
          13.064694,
          17.533216,
          12.372058,
          13.015996,
          26.981927,
          11.054839,
          22.735747,
          26.989596,
          11.016686,
          11.096117,
          22.771593,
          13.085479,
          26.922328,
          18.676258,
          13.114694,
          11.013681,
          22.391603,
          12.333994,
          26.945287,
          26.956156,
          21.197729,
          11.062477,
          17.50971,
          17.458263,
          18.583811,
          13.094347,
          22.777021,
          27.024142,
          27.006431,
          27.04294,
          12.417978,
          12.436356,
          23.489194,
          11.076686,
          12.414022,
          26.846536,
          22.791593,
          18.646215,
          13.055377,
          12.433225,
          21.280798,
          19.188321,
          17.561668,
          22.843659,
          17.613216,
          13.062793,
          27.016431,
          12.943041,
          26.975287,
          26.776536,
          13.015801,
          26.89842,
          17.479585,
          17.491477,
          17.478998,
          27.040262,
          23.393017,
          18.64421,
          12.994365,
          13.018453,
          23.439746,
          21.16276,
          12.412058,
          12.975662,
          12.934264,
          21.225104,
          23.383017,
          10.97185,
          21.276608,
          18.60408,
          26.994142,
          12.956229,
          26.983987,
          18.602718,
          22.82806,
          26.96519,
          21.187735,
          19.2513,
          13.074694,
          17.536228,
          19.145831,
          13.044365,
          21.256884,
          17.585894,
          22.337898,
          11.054136,
          17.432819,
          12.965662,
          19.257222,
          11.126298,
          27.01842,
          18.553811,
          12.999096,
          19.211999,
          18.599299,
          13.069096,
          26.991411,
          22.328096,
          11.061278,
          22.85806,
          19.247222,
          11.118638,
          11.094839,
          11.074839,
          11.031753,
          21.303493,
          11.004136,
          12.376356,
          19.044237,
          12.993298,
          18.703481,
          21.193343,
          12.396967,
          21.215047,
          18.56421,
          13.069645,
          22.755207,
          26.971378,
          12.345461,
          13.042532,
          23.414422,
          22.891593,
          12.973284,
          23.387804,
          19.33384,
          17.548998,
          17.471976,
          19.21663,
          19.261315,
          23.487804,
          21.169569,
          26.941411,
          18.702718,
          12.411214,
          22.321844,
          17.528998,
          26.981191,
          27.032328,
          21.206608,
          12.936229,
          12.433194,
          18.52421,
          12.444022,
          22.77004,
          21.177735,
          13.074347,
          18.663811,
          21.229669,
          17.553216,
          17.459585,
          23.42925,
          23.405164,
          12.422058,
          12.413194,
          26.950262,
          17.580851,
          22.341358,
          22.391844,
          13.05041,
          17.481477,
          18.619156,
          19.208321,
          17.481668,
          23.464989,
          21.215104,
          21.303343,
          18.563811,
          23.52925,
          22.801593,
          18.576947,
          11.034839,
          12.446967,
          18.69245,
          17.47233,
          13.156286,
          19.1293,
          11.105083,
          18.526216,
          19.195838,
          13.04041,
          13.019496,
          21.226884,
          22.758163,
          19.191999,
          11.036117,
          18.543811,
          13.184347,
          17.521028,
          19.065831,
          13.102532,
          19.250083,
          23.419033,
          11.031278,
          19.217222,
          26.921191,
          21.260798,
          11.131278,
          11.08091,
          22.43,
          13.064365,
          13.176438,
          22.42279,
          12.989496,
          23.381058,
          17.54971,
          26.960262,
          13.022793,
          22.747021,
          26.942312,
          19.277222,
          27.061411,
          23.407804,
          22.350329,
          13.006047,
          13.157018,
          22.755536,
          22.36,
          17.482819,
          19.074049,
          17.476228,
          13.015377,
          22.781226,
          12.996229,
          13.109645,
          12.336967,
          13.004179,
          22.875536,
          22.361603,
          17.510448,
          12.349524,
          18.546719,
          17.588998,
          21.205104,
          23.439194,
          13.11978,
          12.309524,
          13.005377,
          17.454114,
          26.796536,
          22.400526,
          22.841857,
          22.763659,
          17.434114,
          12.413994,
          21.28106,
          13.067018,
          22.401844,
          11.013008,
          22.84004,
          19.206269,
          13.08978,
          11.093669,
          18.613481,
          13.116286,
          18.626216,
          22.775835,
          18.59245,
          19.334567,
          21.159569,
          13.06978,
          12.403994,
          19.297222,
          18.620963,
          21.210798,
          26.985287,
          21.275047,
          12.404022,
          12.314569,
          13.156279,
          17.563216,
          13.080221,
          12.933041,
          18.64144,
          13.047018,
          18.586947,
          19.236269,
          12.363994,
          19.227222,
          26.980262,
          19.181141,
          13.082161,
          22.742225,
          12.407978,
          12.406356,
          22.768163,
          18.63144,
          12.324569,
          12.980324,
          12.371214,
          17.504114,
          17.560851,
          13.014179,
          18.62245,
          21.253343,
          22.793838,
          17.495894,
          22.320237,
          13.012532,
          23.379746,
          23.445164,
          18.623935,
          22.771234,
          22.775207,
          19.125838,
          11.091852,
          11.096298,
          12.320972,
          11.036686,
          26.97842,
          26.971411,
          11.140375,
          22.805207,
          19.133517,
          22.862225,
          13.068616,
          19.084049,
          21.290437,
          12.964179,
          13.135479,
          23.465164,
          12.379524,
          11.042169,
          18.54421,
          19.043517,
          18.54408,
          23.391292,
          13.036286,
          17.52233,
          22.797021,
          19.2913,
          19.14114,
          17.470371,
          23.364422,
          18.673626,
          22.44279,
          23.489407,
          19.037584,
          27.01519,
          22.795835,
          27.023987,
          17.493216,
          17.463809,
          18.633934,
          12.429524,
          23.44925,
          18.610016,
          19.308321,
          11.111852,
          12.924264,
          13.032161,
          19.064237,
          13.125479,
          21.190522,
          19.183249,
          26.962328,
          11.020375,
          27.042328,
          10.98185,
          17.543216,
          19.267222,
          22.765207,
          26.916156,
          11.078638,
          23.363017,
          11.086686,
          12.923041,
          21.240522,
          21.225975,
          26.94842,
          11.023681,
          23.444878,
          21.169834,
          11.146298,
          12.374569,
          12.983041,
          13.049496,
          21.225047,
          21.253434,
          19.007584,
          12.993284,
          19.306269,
          21.185975,
          22.701847,
          27.01294,
          22.780072,
          13.071615,
          22.773839,
          11.066686,
          17.530851,
          22.821593,
          11.030762,
          13.132394,
          18.603811,
          19.344567,
          19.364567,
          13.111878,
          22.77806,
          23.415164,
          12.364747,
          12.317954,
          22.823839,
          12.365461,
          26.943483,
          17.543809,
          26.951378,
          21.263493,
          18.596216,
          21.235975,
          18.977584,
          18.636258,
          26.933483,
          13.023298,
          13.154181,
          26.912908,
          17.541668,
          12.347978,
          12.99041,
          21.159834,
          17.47971,
          18.614382,
          13.115801,
          18.560016,
          18.656215,
          13.087018,
          19.160083,
          17.501477,
          11.051278,
          22.87806,
          22.79004,
          17.446228,
          19.034049,
          18.726215,
          11.052298,
          23.426792,
          13.159645,
          13.043298,
          21.265975,
          12.384569,
          17.528263,
          18.62144,
          13.136439,
          21.230096,
          13.069496,
          19.014237,
          26.979596,
          22.80004,
          18.60421,
          18.55421,
          22.360237,
          11.106117,
          18.626562,
          19.233249,
          26.971927,
          22.857021,
          12.407954,
          22.360526,
          21.189834,
          19.133249,
          21.195975,
          26.986156,
          22.835835,
          18.653934,
          11.090375,
          19.190083,
          21.179834,
          12.3685,
          19.317222,
          12.361214,
          13.099198,
          13.091878,
          23.421292,
          11.156117,
          11.072169,
          12.985996,
          11.10091,
          22.842225,
          19.26384,
          13.077018,
          13.080324,
          11.130762,
          13.141878,
          12.963284,
          23.444422,
          11.032298,
          12.304747,
          13.056047,
          27.026431,
          12.433994,
          26.926156,
          18.566562,
          13.117018,
          13.025662,
          22.78004,
          13.048453,
          17.469585,
          22.822225,
          22.76004,
          18.957584,
          11.102298,
          12.999934,
          23.48925,
          22.351844,
          18.624382,
          12.376967,
          22.34,
          13.005996,
          11.035083,
          13.121809,
          23.469033,
          11.112169,
          13.085801,
          19.155838,
          13.012793,
          27.012908,
          18.596719,
          11.110762,
          18.653626,
          11.050375,
          23.411489,
          12.406967,
          22.765536,
          22.762634,
          22.821857,
          11.082169,
          13.155479,
          23.481058,
          13.094694,
          21.196884,
          19.095838,
          11.044136,
          21.177729,
          12.386356,
          21.315047,
          22.801234,
          11.063669,
          13.03978,
          21.215975,
          13.024365,
          21.267729,
          22.330526,
          26.889596,
          17.512819,
          22.745207,
          18.68144,
          12.380972,
          19.16114,
          13.088616,
          22.341844,
          26.935287,
          21.233493,
          17.501668,
          26.934142,
          21.245104,
          12.364569,
          26.930262,
          26.920262,
          13.109096,
          22.441603,
          18.560963,
          17.573216,
          26.981411,
          21.296438,
          11.113008,
          12.377928,
          13.004264,
          22.811857,
          22.38279,
          23.421058,
          18.65245,
          22.791226,
          23.461489,
          23.391489,
          26.869596,
          13.015662,
          11.07091,
          22.851226,
          13.038453,
          18.576562,
          26.953726,
          13.09978,
          12.482058,
          12.327954,
          27.022313,
          22.794648,
          19.073517,
          18.60144,
          11.032169,
          22.691847,
          22.765049,
          17.441477,
          22.341603,
          12.964264,
          18.610963,
          18.530016,
          13.105377,
          21.200798,
          21.170522,
          17.460851,
          12.424022,
          19.213249,
          27.032908,
          12.963041,
          13.078616,
          12.995662,
          21.280096,
          18.586258,
          21.237735,
          11.063009,
          17.558294,
          26.896156,
          17.440371,
          11.05091,
          12.347954,
          26.993483,
          23.394878,
          17.563809,
          22.33279,
          18.666215,
          19.314567,
          19.216269,
          17.570827,
          17.46971,
          13.126439,
          12.413225,
          27.003987,
          13.076047,
          17.513809,
          19.121458,
          18.574382,
          22.76806,
          17.520827,
          19.104237,
          12.982161,
          23.367804,
          21.216608,
          19.15663,
          17.421028,
          23.393783,
          21.159669,
          22.785536,
          12.440972,
          13.115479,
          17.460827,
          12.393225,
          12.356356,
          26.953987,
          18.564382,
          13.00041,
          26.971191,
          19.2413,
          22.813838,
          26.965287,
          27.031191,
          22.401358,
          12.324747,
          21.183493,
          12.351072,
          13.151809,
          12.421072,
          12.375461,
          21.190437,
          22.380237,
          22.833659,
          21.229834,
          18.580016,
          12.434569,
          13.112394,
          12.433978,
          21.207729,
          22.752225,
          11.064136,
          13.07041,
          22.420329,
          22.330329,
          17.516228,
          12.333194,
          22.840072,
          17.480851,
          21.213343,
          13.062394,
          12.346356,
          21.239669,
          18.593934,
          21.235047,
          23.373017,
          23.484878,
          21.279669,
          26.973987,
          11.113681,
          17.480827,
          22.81004,
          19.1393,
          13.124181,
          17.483809,
          26.970262,
          27.001411,
          13.040221,
          13.136279,
          17.561976,
          27.000262,
          19.251315,
          26.931411,
          18.573626,
          18.613626,
          13.039096,
          22.400237,
          22.832634,
          27.02842,
          10.99185,
          13.141809,
          17.503809,
          11.152477,
          22.811234,
          17.520371,
          22.831234,
          13.175479,
          11.086117,
          13.102394,
          26.982328,
          26.921927,
          17.550827,
          12.427928,
          11.086298,
          22.837021,
          23.50925,
          18.53421,
          26.91294,
          12.3785,
          17.481028,
          21.196608,
          11.021852,
          22.788163,
          19.256269,
          12.964365,
          22.357898,
          12.401072,
          23.483783,
          11.091753,
          19.201999,
          11.102477,
          18.590016,
          23.526792,
          13.136762,
          21.230437,
          18.626718,
          11.038638,
          17.462819,
          19.287222,
          12.401214,
          13.152394,
          26.972328,
          23.464878,
          17.481976,
          18.664382,
          13.075801,
          18.67245,
          21.293434,
          23.424422,
          13.056279,
          18.62421,
          13.138616,
          26.97519,
          13.134347,
          13.031615,
          12.326967,
          26.986431,
          27.03519,
          19.004049,
          22.370329,
          18.659156,
          11.155083,
          21.180798,
          13.114347,
          21.206884,
          26.901191,
          22.775049,
          22.40279,
          22.331844,
          26.92519,
          19.2393,
          18.686215,
          12.984179,
          19.170083,
          11.136117,
          17.461477,
          13.194181,
          12.394747,
          11.081852,
          17.514114,
          26.96294,
          22.327898,
          23.384422,
          21.21276,
          17.470827,
          22.391358,
          11.080762,
          12.346967,
          13.029166,
          26.856536,
          23.41925,
          18.566216,
          18.57408,
          13.009496,
          21.270522,
          11.041753,
          26.932328,
          21.217735,
          19.281315,
          12.343194,
          17.556228,
          22.83004,
          19.25663,
          11.083681,
          17.510851,
          13.134694,
          21.247729,
          11.133681,
          26.981378,
          12.392058,
          21.216884,
          13.131878,
          13.104694,
          13.146439,
          22.791234,
          23.434422,
          12.383194,
          12.441072,
          23.489033,
          11.138638,
          18.550016,
          18.57144,
          23.454989,
          26.912312,
          12.373225,
          26.919596,
          13.036279,
          21.287735,
          19.053517,
          27.021191,
          23.461058,
          13.036047,
          12.377954,
          22.368096,
          11.092298,
          13.11041,
          11.056298,
          27.043987,
          17.448294,
          19.124237,
          13.061615,
          21.217729,
          18.632718,
          17.490851,
          18.646562,
          18.696215,
          23.434989,
          22.883659,
          22.772634,
          13.086762,
          13.014365,
          18.987584,
          17.436228,
          12.954264,
          11.031852,
          11.026298,
          11.061852,
          21.183343,
          13.032394,
          22.835536,
          27.051411,
          12.414569,
          22.823659,
          12.409524,
          22.371603,
          22.371358,
          13.105996,
          22.775536,
          22.871593,
          12.926229,
          23.429194,
          19.1593,
          22.79806,
          22.814648,
          17.531976,
          17.460371,
          13.055479,
          22.831593,
          19.075831,
          26.876156,
          27.04519,
          19.218321,
          21.209569,
          23.435164,
          12.413978,
          17.468294,
          26.996431,
          12.966229,
          19.105838,
          13.116438,
          22.330237,
          11.073669,
          13.201809,
          26.952313,
          13.062161,
          18.666719,
          17.548263,
          17.456228,
          13.124347,
          18.616719,
          19.165831,
          21.220798,
          19.074237,
          22.350526,
          22.781847,
          18.58421,
          21.190798,
          18.540016,
          22.715207,
          22.340237,
          18.619299,
          13.102161,
          11.13091,
          12.391214,
          21.19276,
          22.801226,
          12.976229,
          18.586562,
          11.102169,
          19.125831,
          19.173249,
          19.131458,
          23.496792,
          17.538998,
          18.676947,
          18.669299,
          22.883838,
          18.606947,
          23.449746,
          13.221809,
          26.983726,
          13.011615,
          11.113669,
          17.552819,
          12.974264,
          26.931927,
          22.361358,
          12.331072,
          26.973483,
          18.556258,
          27.173303,
          21.256438,
          27.220934,
          27.240934,
          27.250934,
          27.300934,
          27.290934,
          27.223303,
          27.190934,
          27.203303,
          27.233303,
          27.273303,
          27.180934,
          27.303303,
          27.230934,
          27.213303,
          27.170934,
          27.183303,
          27.193303,
          27.253303,
          27.210934,
          27.270934,
          27.243303,
          27.293303,
          19.986994,
          30.934057,
          22.586461,
          23.270791,
          19.890256,
          15.187944,
          26.612581,
          30.915204,
          15.586833,
          25.559659,
          25.499775,
          31.03286,
          25.519775,
          27.268822,
          30.975915,
          26.493698,
          19.930256,
          22.546461,
          25.487116,
          15.581295,
          30.942872,
          23.365123,
          22.642672,
          10.086881,
          22.668731,
          23.293219,
          22.662672,
          23.294992,
          25.543436,
          30.342735,
          22.548731,
          22.574585,
          22.561084,
          30.944057,
          26.511529,
          23.244294,
          31.022978,
          10.065497,
          23.374015,
          23.234459,
          10.010706,
          30.969992,
          30.975814,
          30.950184,
          19.904103,
          23.354015,
          19.894103,
          30.452202,
          23.342357,
          25.503994,
          23.264294,
          19.896428,
          30.945204,
          30.348174,
          23.316261,
          10.048047,
          22.572996,
          19.925522,
          19.984733,
          25.464697,
          9.980846,
          15.546205,
          26.604133,
          10.076881,
          15.628603,
          10.049186,
          22.525082,
          23.248998,
          27.241661,
          26.481529,
          26.523042,
          30.975204,
          9.997144,
          30.905817,
          22.639367,
          10.026881,
          22.595082,
          30.350722,
          23.304459,
          10.158047,
          30.386322,
          10.046783,
          30.429528,
          30.499722,
          22.616461,
          30.429722,
          19.966219,
          31.032978,
          15.635658,
          30.410722,
          23.344249,
          26.531547,
          25.479872,
          30.356994,
          10.000717,
          10.067364,
          10.045697,
          25.501517,
          10.019363,
          19.954733,
          30.375259,
          25.48235,
          25.590329,
          19.964733,
          15.60155,
          30.430722,
          19.896994,
          22.536461,
          30.362735,
          22.534119,
          19.935016,
          26.612001,
          31.002978,
          31.023244,
          25.523994,
          22.544688,
          19.920256,
          10.046881,
          30.411281,
          26.53,
          22.594688,
          23.295123,
          30.381281,
          15.56395,
          22.582672,
          15.227944,
          26.541617,
          30.933384,
          22.587893,
          19.985522,
          10.039778,
          31.033244,
          27.281725,
          26.593504,
          22.524585,
          23.364631,
          15.606162,
          25.477687,
          30.345259,
          30.945817,
          27.341725,
          22.573662,
          30.959584,
          25.529659,
          30.352735,
          27.215108,
          26.502581,
          22.5591,
          22.6391,
          15.546162,
          19.936428,
          9.977144,
          22.669129,
          30.452509,
          10.031703,
          25.530317,
          19.895337,
          26.481617,
          19.955016,
          15.177944,
          23.243219,
          15.56315,
          15.616683,
          23.298998,
          30.451281,
          27.239795,
          27.305108,
          30.399722,
          10.039186,
          26.559003,
          15.655658,
          30.959992,
          19.925337,
          15.287944,
          20.005908,
          25.471646,
          25.581646,
          30.955915,
          27.18185,
          23.364249,
          25.469775,
          10.055573,
          27.177772,
          22.587821,
          9.999363,
          19.885522,
          15.62155,
          27.195108,
          30.370722,
          30.919584,
          25.584697,
          25.581517,
          30.91286,
          26.484133,
          30.922978,
          22.524688,
          10.040717,
          26.563698,
          25.537116,
          15.237944,
          27.221694,
          27.251725,
          30.436994,
          23.396261,
          25.539659,
          22.54796,
          22.594585,
          22.645082,
          27.291725,
          30.471281,
          19.884103,
          27.270832,
          30.972978,
          30.973234,
          10.112834,
          10.110706,
          23.292357,
          30.973081,
          30.953244,
          25.514648,
          22.608731,
          30.92722,
          25.587687,
          26.52,
          26.502106,
          15.323897,
          23.314249,
          15.568603,
          26.561529,
          10.029778,
          30.964057,
          15.57155,
          19.958716,
          30.397968,
          30.974057,
          10.043064,
          15.313897,
          25.539872,
          10.062834,
          25.579872,
          15.586561,
          26.573504,
          30.452686,
          10.009778,
          27.251694,
          15.506162,
          30.338174,
          10.118047,
          30.965204,
          19.904733,
          15.5996,
          9.992834,
          19.965337,
          15.546833,
          10.059363,
          30.472735,
          30.506322,
          30.372686,
          26.54775,
          25.527687,
          15.596833,
          25.479775,
          30.93286,
          15.6996,
          30.953384,
          15.516162,
          30.923081,
          25.530329,
          25.58235,
          10.136881,
          26.542581,
          19.959631,
          26.491617,
          23.254294,
          30.969584,
          15.625658,
          25.534697,
          19.906106,
          26.613698,
          10.030846,
          27.251661,
          23.363219,
          25.594697,
          30.933244,
          31.035817,
          22.602672,
          19.900256,
          26.523698,
          15.51395,
          22.578731,
          10.019778,
          10.098047,
          25.494648,
          25.517116,
          15.6796,
          25.559872,
          10.047144,
          19.885016,
          22.629358,
          27.291661,
          31.045562,
          19.986428,
          23.275123,
          31.003384,
          19.956219,
          23.214992,
          23.343219,
          25.537687,
          19.936106,
          22.687821,
          19.935337,
          19.956969,
          30.943081,
          10.150683,
          26.551547,
          30.915817,
          22.618999,
          30.910184,
          10.077364,
          19.946994,
          19.936219,
          25.494697,
          19.946106,
          30.418174,
          23.221529,
          27.235108,
          30.422735,
          10.067144,
          25.453994,
          19.916994,
          30.482202,
          19.926428,
          22.644585,
          19.965016,
          22.64796,
          22.606461,
          25.459872,
          30.909992,
          26.58,
          30.895814,
          26.502419,
          27.245108,
          23.274459,
          10.113064,
          20.006106,
          30.398174,
          22.584688,
          31.025814,
          27.225108,
          22.629367,
          23.238998,
          27.255108,
          30.935915,
          31.015814,
          25.473436,
          27.200934,
          9.979778,
          30.923234,
          26.499108,
          26.592581,
          19.896106,
          23.274294,
          10.049363,
          26.533042,
          23.341529,
          22.599358,
          25.590317,
          30.915562,
          23.284459,
          27.247772,
          30.399528,
          10.049778,
          26.56775,
          30.925915,
          27.22185,
          31.003234,
          10.056783,
          15.6396,
          27.188822,
          10.081703,
          19.886106,
          26.622106,
          10.001703,
          30.379528,
          10.087144,
          30.432202,
          26.561617,
          22.637821,
          15.604828,
          10.058047,
          10.053064,
          27.325928,
          26.613042,
          25.529872,
          26.56,
          27.168822,
          23.315123,
          30.923244,
          10.025697,
          15.526205,
          23.231529,
          25.587116,
          10.085573,
          31.039584,
          27.30185,
          22.663662,
          26.543042,
          30.963234,
          30.90286,
          22.639358,
          15.516205,
          10.061703,
          31.044057,
          15.6496,
          22.679367,
          30.939992,
          25.507687,
          26.511617,
          23.244459,
          19.944733,
          27.299795,
          30.94286,
          25.484648,
          25.547687,
          25.519659,
          27.231725,
          30.422509,
          22.641084,
          26.51,
          30.339528,
          26.62095,
          22.524119,
          15.606594,
          26.524986,
          10.095697,
          30.983244,
          9.989186,
          25.569775,
          25.599775,
          15.631295,
          15.691295,
          30.909584,
          27.305928,
          10.055497,
          30.935814,
          15.54315,
          19.955522,
          19.906428,
          23.228998,
          30.913081,
          30.480722,
          26.582001,
          26.533504,
          22.566461,
          30.386994,
          26.553504,
          30.933081,
          22.636461,
          15.383897,
          30.949992,
          22.6291,
          22.609129,
          23.340791,
          10.017144,
          30.985562,
          30.900184,
          25.49235,
          15.644828,
          30.462735,
          23.324294,
          15.626594,
          22.668999,
          26.572106,
          30.965915,
          23.376261,
          26.50095,
          23.312537,
          31.033081,
          15.59315,
          22.534688,
          30.895915,
          30.905814,
          26.553698,
          22.604119,
          30.358174,
          20.005522,
          19.996969,
          19.978716,
          10.020717,
          15.634419,
          30.421281,
          30.475259,
          25.510317,
          25.591517,
          26.513698,
          19.905908,
          30.953988,
          15.6296,
          10.116881,
          15.393897,
          23.272357,
          15.615658,
          27.269795,
          9.999778,
          19.934103,
          9.967144,
          15.536205,
          19.924733,
          26.602106,
          22.574688,
          27.221661,
          26.614986,
          30.371281,
          26.53775,
          25.500377,
          22.6091,
          10.035497,
          15.611295,
          10.039363,
          31.035204,
          26.503672,
          15.686683,
          19.986106,
          31.030184,
          15.363897,
          22.637893,
          25.504697,
          23.252537,
          30.349528,
          22.613227,
          30.929584,
          30.449722,
          30.391281,
          30.972872,
          15.594419,
          10.115497,
          30.491281,
          20.008028,
          19.924103,
          26.522001,
          20.009631,
          27.167772,
          26.573042,
          22.649129,
          27.211694,
          30.357968,
          26.562419,
          9.969778,
          30.486994,
          30.372509,
          27.237772,
          26.60095,
          10.157364,
          23.250791,
          15.671295,
          15.574419,
          25.591646,
          19.908028,
          15.52315,
          23.334015,
          22.588731,
          19.946219,
          9.995697,
          26.621547,
          15.413897,
          25.56235,
          22.57796,
          19.945016,
          25.564697,
          10.096881,
          31.033384,
          22.579358,
          23.251529,
          15.217944,
          10.048483,
          15.596683,
          10.035697,
          30.975817,
          30.402202,
          23.260791,
          30.922872,
          26.489003,
          10.071703,
          22.661084,
          22.569129,
          25.584648,
          22.599367,
          15.626683,
          10.100683,
          26.554986,
          10.067014,
          25.509872,
          30.392686,
          27.199795,
          22.707821,
          30.416994,
          27.249795,
          25.480377,
          22.557893,
          19.885337,
          22.603662,
          10.037014,
          31.023081,
          22.624585,
          15.651295,
          23.344015,
          25.597687,
          26.532581,
          10.030706,
          22.611084,
          26.531529,
          15.594828,
          27.191661,
          15.247944,
          10.080683,
          26.60775,
          25.490329,
          30.979584,
          30.472686,
          25.459659,
          15.566594,
          15.52395,
          23.302537,
          27.25185,
          30.472509,
          30.943384,
          30.438174,
          25.51235,
          30.91722,
          30.467968,
          26.532001,
          15.586162,
          10.050683,
          23.264992,
          26.529003,
          23.282537,
          25.560317,
          22.604585,
          27.207772,
          26.539003,
          15.64155,
          19.998716,
          10.020846,
          30.392735,
          10.010846,
          10.027144,
          30.943244,
          26.531617,
          30.915915,
          15.556162,
          30.99722,
          19.985016,
          23.224294,
          10.165573,
          30.984057,
          15.58315,
          23.244992,
          30.949584,
          22.597893,
          26.553672,
          27.209795,
          26.622581,
          19.956106,
          27.200832,
          15.53395,
          27.29185,
          22.565082,
          23.264631,
          25.573994,
          27.187772,
          19.916428,
          22.699367,
          30.929992,
          19.928028,
          25.474697,
          22.659358,
          25.53235,
          10.060706,
          22.555082,
          15.508603,
          23.261529,
          22.621084,
          25.509659,
          15.55395,
          30.994057,
          23.254459,
          15.591295,
          22.567186,
          22.602996,
          27.301694,
          23.241529,
          10.109186,
          15.586594,
          23.294294,
          9.989363,
          22.581084,
          15.586683,
          23.290791,
          10.087014,
          25.461517,
          10.137364,
          10.016783,
          31.003988,
          15.207944,
          19.926969,
          26.611529,
          30.395259,
          10.016881,
          19.916969,
          22.5691,
          19.969631,
          27.185108,
          15.353897,
          27.290832,
          25.539775,
          22.612996,
          23.306261,
          15.5896,
          26.494986,
          23.346261,
          23.274631,
          10.009186,
          15.604419,
          10.051703,
          22.637186,
          22.642996,
          26.609108,
          25.589775,
          26.623042,
          22.619129,
          22.582996,
          27.190832,
          19.945522,
          26.543672,
          10.060717,
          19.986219,
          19.926994,
          15.556205,
          30.973384,
          25.530377,
          23.244631,
          15.526162,
          22.608999,
          15.601295,
          22.572672,
          23.344294,
          10.089778,
          31.005817,
          30.983081,
          26.514986,
          25.484697,
          31.00286,
          19.926219,
          22.617186,
          31.015562,
          10.095573,
          10.076783,
          26.512001,
          30.432686,
          19.985908,
          25.523436,
          15.538603,
          10.069363,
          27.27185,
          10.036783,
          23.264249,
          26.614133,
          27.267772,
          27.211661,
          26.50775,
          27.271725,
          23.305123,
          30.456322,
          10.107014,
          27.295108,
          15.646683,
          19.945337,
          27.275928,
          23.292537,
          19.895016,
          25.481517,
          30.470722,
          19.888028,
          22.573227,
          26.519108,
          22.62796,
          10.068047,
          30.932978,
          30.903384,
          23.303219,
          22.587186,
          27.229795,
          25.540377,
          19.905016,
          27.265928,
          15.53315,
          9.987144,
          26.512419,
          30.963384,
          15.654828,
          26.51095,
          25.509775,
          30.980184,
          19.950256,
          22.644119,
          26.553042,
          30.933234,
          19.905522,
          26.494133,
          25.560329,
          26.559108,
          30.95722,
          10.092834,
          19.956428,
          31.024057,
          26.55,
          15.518603,
          15.64315,
          25.561517,
          27.335928,
          15.57315,
          15.433897,
          19.909631,
          22.55796,
          31.012872,
          10.117364,
          10.040706,
          10.065573,
          27.197772,
          15.706683,
          15.57395,
          25.59235,
          26.521547,
          23.286261,
          23.324459,
          27.220832,
          19.938716,
          30.400722,
          23.301529,
          19.925016,
          30.379722,
          10.096783,
          25.493994,
          25.580329,
          22.558731,
          15.548603,
          15.576594,
          26.541547,
          19.938028,
          30.930184,
          31.025204,
          26.501547,
          10.012834,
          31.015915,
          19.936969,
          22.548999,
          30.382686,
          25.460317,
          15.664828,
          22.593227,
          15.566162,
          22.564119,
          19.910256,
          22.628731,
          27.189795,
          15.636561,
          19.885908,
          15.197944,
          15.62315,
          26.509108,
          10.097364,
          30.396994,
          25.510329,
          15.616594,
          10.052834,
          26.529108,
          26.604986,
          30.422202,
          27.181661,
          25.469659,
          10.090706,
          26.511547,
          30.402735,
          22.56796,
          27.285928,
          22.591084,
          23.336261,
          30.412509,
          30.369722,
          30.392509,
          26.63095,
          19.936994,
          26.544986,
          27.311725,
          19.946969,
          23.252357,
          30.368174,
          26.561547,
          27.171694,
          22.649367,
          30.329528,
          10.068483,
          19.929631,
          19.940256,
          26.57095,
          22.609367,
          26.504986,
          26.512106,
          10.070683,
          23.300791,
          31.005204,
          15.606561,
          30.883988,
          22.667821,
          27.191694,
          25.583436,
          22.58796,
          19.895522,
          30.459528,
          22.682996,
          30.96722,
          19.966106,
          19.934449,
          25.504648,
          30.387968,
          23.263219,
          15.608603,
          22.589367,
          30.406322,
          30.932872,
          19.915522,
          25.491646,
          30.420722,
          15.626833,
          27.178822,
          26.491547,
          26.544133,
          25.547116,
          22.589358,
          26.502001,
          26.521617,
          23.204992,
          10.066881,
          25.549775,
          23.314992,
          19.985337,
          26.613672,
          30.465259,
          22.619367,
          27.271694,
          26.593042,
          22.563227,
          10.089363,
          23.313219,
          31.035562,
          10.065697,
          30.96286,
          26.473504,
          26.493504,
          30.955562,
          10.037144,
          31.009584,
          23.282357,
          26.611617,
          20.006428,
          15.684828,
          19.904449,
          10.098483,
          30.441281,
          25.589659,
          22.632672,
          15.65155,
          22.588999,
          30.989992,
          31.033234,
          10.070706,
          15.636683,
          22.556461,
          30.939584,
          19.965522,
          27.250832,
          31.029992,
          22.6791,
          15.641295,
          19.914103,
          10.037364,
          15.61155,
          30.412686,
          19.889631,
          15.58155,
          27.238822,
          27.300832,
          23.284249,
          22.599129,
          27.175108,
          10.075573,
          19.944449,
          31.025915,
          26.584986,
          19.968716,
          27.275108,
          15.586205,
          27.181694,
          10.090683,
          22.597185,
          25.464648,
          25.463994,
          26.504133,
          22.584119,
          31.032872,
          30.360722,
          26.542419,
          30.352509,
          30.982978,
          15.656683,
          30.501281,
          30.915814,
          23.322537,
          15.54395,
          15.646561,
          10.007144,
          26.612419,
          22.558999,
          30.913384,
          15.624828,
          23.322357,
          10.021703,
          19.894449,
          22.592996,
          30.965562,
          30.905204,
          22.589129,
          22.601084,
          26.483698,
          30.985817,
          22.622996,
          22.617893,
          22.553662,
          15.606833,
          19.884449,
          30.415259,
          10.056881,
          27.255928,
          23.328998,
          26.514133,
          25.474648,
          26.591547,
          22.577893,
          30.962872,
          15.556833,
          25.491517,
          30.93722,
          23.253219,
          26.501617,
          26.54095,
          26.61775,
          15.343897,
          15.665658,
          22.557186,
          10.036881,
          25.489659,
          27.221725,
          10.075497,
          19.934733,
          23.274015,
          19.965908,
          27.23185,
          10.002834,
          22.628999,
          26.48,
          19.894733,
          19.960256,
          30.973244,
          27.240832,
          23.284015,
          30.402509,
          22.618731,
          25.499659,
          30.402686,
          23.294459,
          25.529775,
          10.145573,
          10.025497,
          26.572419,
          15.60315,
          10.107364,
          10.005697,
          27.17185,
          15.536162,
          25.500317,
          25.54235,
          10.117014,
          19.944103,
          31.054057,
          23.342537,
          22.583227,
          10.029363,
          30.359528,
          30.983988,
          10.121703,
          26.521529,
          26.503698,
          10.157014,
          26.479003,
          19.984449,
          30.496322,
          26.583698,
          25.534648,
          26.623672,
          19.915908,
          10.080717,
          30.933988,
          30.913244,
          30.382202,
          19.954103,
          19.925908,
          10.047364,
          10.087364,
          9.989778,
          25.463436,
          23.302357,
          23.278998,
          23.284294,
          30.492686,
          10.080706,
          15.686561,
          26.53095,
          22.5791,
          30.963988,
          15.595658,
          30.408174,
          10.028483,
          26.552106,
          30.476322,
          26.512581,
          19.886428,
          25.460329,
          15.333897,
          26.551617,
          27.169795,
          15.55315,
          22.682672,
          26.492419,
          26.562581,
          26.51775,
          27.218822,
          30.989584,
          23.274249,
          22.564688,
          23.294631,
          30.955817,
          25.470377,
          22.563662,
          31.029584,
          22.567893,
          26.601529,
          22.648731,
          10.133064,
          25.490317,
          27.210832,
          19.884733,
          26.58775,
          26.582106,
          10.075697,
          30.422686,
          23.285123,
          19.886969,
          19.895908,
          22.562672,
          25.541517,
          30.407968,
          19.948028,
          27.231694,
          22.627821,
          26.533698,
          23.284631,
          19.899631,
          22.623227,
          30.462202,
          30.412735,
          26.542106,
          10.015697,
          10.022834,
          15.616561,
          30.912872,
          30.442735,
          23.272537,
          15.588603,
          19.935522,
          30.365259,
          10.015497,
          26.579003,
          27.289795,
          27.217772,
          25.483436,
          23.280791,
          25.567687,
          30.469722,
          25.500329,
          22.543662,
          19.905337,
          30.442686,
          30.925204,
          26.52775,
          25.580317,
          30.983234,
          30.392202,
          22.657821,
          22.592672,
          30.378174,
          25.470329,
          15.6596,
          30.975562,
          30.445259,
          25.467116,
          30.417968,
          30.426994,
          15.695658,
          27.291694,
          15.576561,
          22.649358,
          19.886219,
          27.288822,
          30.953234,
          25.544697,
          23.360791,
          26.603504,
          25.470317,
          19.915016,
          27.287772,
          30.943234,
          19.896219,
          22.627185,
          15.528603,
          23.344631,
          25.471517,
          30.95286,
          10.100717,
          27.231661,
          22.596461,
          26.493042,
          22.624688,
          22.535082,
          23.224992,
          10.125573,
          25.46235,
          22.584585,
          22.537893,
          22.577185,
          15.59155,
          30.337968,
          19.886994,
          30.924057,
          30.955204,
          22.622672,
          23.312357,
          22.643227,
          15.675658,
          27.261725,
          30.355259,
          26.602001,
          15.50395,
          25.487687,
          10.072834,
          10.138047,
          15.646833,
          25.490377,
          22.554585,
          19.906969,
          27.21185,
          10.101703,
          25.540329,
          26.48775,
          26.501529,
          15.576162,
          25.583994,
          27.198822,
          22.544585,
          30.489722,
          22.623662,
          26.56095,
          10.030717,
          15.60395,
          19.989631,
          25.520329,
          22.574119,
          23.294249,
          15.566561,
          19.918028,
          9.999186,
          27.20185,
          30.439722,
          25.531646,
          27.228822,
          25.520377,
          9.998483,
          10.073064,
          23.304015,
          30.893988,
          15.621295,
          30.468174,
          26.609003,
          31.039992,
          30.426322,
          10.105573,
          25.513994,
          27.201694,
          15.676594,
          26.611547,
          27.201661,
          30.449528,
          30.963081,
          25.560377,
          15.674419,
          25.524697,
          26.513504,
          30.985204,
          27.248822,
          23.283219,
          23.324015,
          26.619108,
          10.042834,
          15.614419,
          31.025817,
          20.004449,
          30.970184,
          19.954449,
          30.903234,
          31.02286,
          30.935204,
          26.58095,
          22.598731,
          23.344459,
          22.60796,
          15.556594,
          22.579129,
          10.057364,
          22.578999,
          30.965817,
          26.509003,
          15.576833,
          22.683227,
          10.011703,
          30.92286,
          26.482001,
          10.069186,
          10.058483,
          26.572581,
          22.633227,
          26.562106,
          30.412202,
          10.023064,
          15.624419,
          22.604688,
          30.372735,
          10.089186,
          22.647821,
          25.520317,
          15.654419,
          30.502686,
          10.109363,
          27.331725,
          23.242357,
          30.436322,
          23.291529,
          26.503042,
          30.406994,
          26.55775,
          30.902978,
          15.536833,
          30.925562,
          23.362537,
          25.519872,
          22.612672,
          23.304249,
          30.903081,
          25.50235,
          26.581529,
          22.549129,
          26.524133,
          23.265123,
          19.945908,
          25.517687,
          27.170832,
          10.038047,
          19.928716,
          26.632106,
          19.946428,
          30.432509,
          22.648999,
          19.919631,
          25.579659,
          26.513042,
          30.955814,
          22.554688,
          23.320791,
          27.179795,
          26.603698,
          23.325123,
          22.662996,
          19.948716,
          19.906994,
          27.298822,
          15.69155,
          15.605658,
          31.003081,
          30.390722,
          26.6,
          25.567116,
          25.589872,
          22.605082,
          15.526833,
          20.005016,
          25.521646,
          30.450722,
          22.631084,
          26.539108,
          25.497687,
          10.137014,
          31.000184,
          30.905915,
          15.614828,
          26.522581,
          27.215928,
          23.254992,
          26.492581,
          23.294015,
          10.077014,
          27.235928,
          30.377968,
          19.956994,
          25.497116,
          22.677186,
          10.026783,
          27.271661,
          10.057014,
          22.629129,
          22.613662,
          30.913234,
          26.493672,
          9.996783,
          26.54,
          30.367968,
          25.553994,
          30.952978,
          22.679358,
          26.542001,
          30.502202,
          26.522106,
          10.078483,
          30.960184,
          19.926106,
          10.095497,
          15.564419,
          19.958028,
          30.89722,
          15.596561,
          15.626162,
          25.52235,
          26.552581,
          10.069778,
          10.055697,
          27.171661,
          22.598999,
          30.995562,
          23.324631,
          10.030683,
          22.593662,
          26.564986,
          25.533994,
          15.566833,
          26.503504,
          25.489775,
          15.6196,
          20.006994,
          27.297772,
          26.543504,
          25.479659,
          15.558603,
          26.601617,
          15.576205,
          10.108047,
          30.362509,
          22.547893,
          30.458174,
          10.045497,
          26.484986,
          23.345123,
          26.491529,
          26.483504,
          26.533672,
          30.935562,
          30.954057,
          22.579367,
          30.385259,
          10.059186,
          22.632996,
          26.571547,
          25.473994,
          19.898028,
          30.380722,
          30.940184,
          22.575082,
          22.585082,
          22.66796,
          22.564585,
          10.050846,
          27.219795,
          15.636205,
          15.62395,
          25.514697,
          10.018483,
          31.01722,
          30.98286,
          22.603227,
          23.314631,
          22.609358,
          15.571295,
          19.968028,
          22.657893,
          23.348998,
          15.606683,
          25.480317,
          22.6591,
          22.624119,
          23.321529,
          19.896969,
          15.634828,
          10.078047,
          26.563672,
          25.524648,
          27.205928,
          25.564648,
          15.584828,
          27.301661,
          30.382509,
          25.477116,
          31.042872,
          23.394015,
          10.041703,
          26.599003,
          30.923988,
          26.49,
          23.224459,
          26.52095,
          26.563042,
          26.519003,
          27.180832,
          20.004733,
          25.531517,
          25.527116,
          19.935908,
          9.976783,
          30.903244,
          20.006219,
          30.369528,
          19.955908,
          26.489108,
          10.097014,
          10.013064,
          25.489872,
          23.276261,
          19.898716,
          10.010717,
          30.90722,
          19.914449,
          30.923384,
          25.580377,
          25.493436,
          27.205108,
          22.568999,
          15.645658,
          30.952872,
          15.666561,
          25.480329,
          23.281529,
          23.254631,
          26.532419,
          22.576461,
          10.115697,
          30.442202,
          10.047014,
          10.020706,
          26.5,
          30.945814,
          15.58395,
          30.935817,
          22.61796,
          26.543698,
          26.573672,
          23.362357,
          22.681084,
          23.274992,
          30.401281,
          22.594119,
          30.992872,
          25.47235,
          26.55095,
          10.009363,
          25.597116,
          23.254249,
          19.918716,
          10.118483,
          15.267944,
          10.040846,
          26.552001,
          20.018716,
          10.088047,
          15.596594,
          22.625082,
          30.979992,
          10.050706,
          30.945915,
          25.483994,
          9.980717,
          26.532106,
          19.964449,
          30.431281,
          25.511646,
          15.566205,
          30.983384,
          27.230832,
          10.038483,
          19.964103,
          25.510377,
          30.943988,
          30.953081,
          25.501646,
          27.245928,
          27.24185,
          10.045573,
          30.457968,
          9.990717,
          19.924449,
          23.296261,
          26.534986,
          22.544119,
          9.986783,
          25.503436,
          22.6191,
          19.939631,
          22.617821,
          22.619358,
          10.033064,
          10.083064,
          22.568731,
          19.914733,
          22.607821,
          23.234294,
          23.304631,
          23.314015,
          27.241694,
          26.522419,
          27.225928,
          25.594648,
          26.523672,
          23.255123,
          30.995915,
          23.242537,
          25.593436,
          10.008483,
          22.663227,
          22.643662,
          25.507116,
          22.699358,
          26.523504,
          27.241725,
          25.499872,
          15.616205,
          15.626561,
          19.988028,
          9.995497,
          30.945562,
          31.023234,
          30.920184,
          30.97286,
          15.656594,
          15.715658,
          22.5891,
          10.060683,
          26.492001,
          25.513436,
          23.326261,
          19.908716,
          15.5796,
          30.94722,
          31.009992,
          26.549003,
          10.090846,
          25.469872,
          30.347968,
          22.644688,
          10.070846,
          15.666683,
          25.481646,
          26.549108,
          26.589108,
          23.264459,
          22.607185,
          23.304294,
          15.373897,
          30.366994,
          27.227772,
          15.67155,
          26.552419,
          23.288998,
          25.521517,
          10.063064,
          26.569108,
          30.389528,
          30.965814,
          23.240791,
          23.245123,
          31.023384,
          9.970846,
          22.59796,
          22.597821,
          26.554133,
          20.010256,
          30.476994,
          25.511517,
          26.499003,
          26.593672,
          30.389722,
          30.942978,
          25.563436,
          26.513672,
          10.115573,
          23.244249,
          31.02722,
          22.562996,
          22.607893,
          10.040683,
          15.596205,
          26.534133,
          10.032834,
          26.61,
          22.657186,
          22.559129,
          25.541646,
          19.915337,
          31.013988,
          30.405259,
          15.6096,
          30.97722,
          10.130683,
          30.409722,
          19.916106,
          27.208822,
          25.540317,
          19.966994,
          30.925817,
          30.963244,
          30.396322,
          19.955337,
          30.437968,
          9.990846,
          30.388174,
          30.512202,
          22.554119,
          30.376322,
          30.425259,
          22.659367,
          26.622419,
          15.704828,
          23.310791,
          23.262537,
          26.584133,
          10.110683,
          10.093064,
          23.271529,
          22.571084,
          26.592419,
          31.004057,
          26.581617,
          15.578603,
          22.583662,
          20.004103,
          10.019186,
          25.561646,
          10.005497,
          23.258998,
          30.919992,
          22.545082,
          19.970256,
          30.982872,
          23.308998,
          19.949631,
          15.554419,
          26.49775,
          19.990256,
          23.356261,
          30.962978,
          19.906219,
          25.533436,
          10.050717,
          26.564133,
          26.551529,
          19.984103,
          23.234992,
          26.541529,
          23.262357,
          30.409528,
          10.000846,
          23.194992,
          31.003244,
          15.636594,
          15.167944,
          30.416322,
          30.995814,
          15.63155,
          25.461646,
          25.544648,
          30.913988,
          15.584419,
          10.130706,
          30.382735,
          30.419722,
          23.268998,
          10.006783,
          30.912978,
          27.19185,
          22.656461,
          25.467687,
          19.966428,
          30.446322,
          25.590377,
          23.323219,
          27.211725,
          23.273219,
          22.534585,
          31.020184,
          30.925814,
          19.876969,
          10.029186,
          30.376994,
          30.456994,
          30.482509,
          22.5991,
          19.976969,
          19.916219,
          26.562001,
          23.324249,
          20.005337
         ],
         "textinfo": "value",
         "type": "pie",
         "values": [
          341,
          337,
          336,
          336,
          335,
          335,
          328,
          328,
          327,
          324,
          313,
          18,
          18,
          18,
          18,
          18,
          18,
          18,
          18,
          18,
          18,
          18,
          18,
          18,
          18,
          18,
          18,
          18,
          18,
          18,
          18,
          18,
          18,
          18,
          18,
          18,
          18,
          18,
          18,
          18,
          18,
          18,
          18,
          18,
          18,
          18,
          18,
          18,
          18,
          18,
          18,
          18,
          18,
          18,
          18,
          18,
          18,
          18,
          18,
          18,
          18,
          18,
          18,
          18,
          18,
          18,
          18,
          17,
          17,
          17,
          17,
          17,
          17,
          17,
          17,
          17,
          17,
          17,
          17,
          17,
          17,
          17,
          17,
          17,
          17,
          17,
          17,
          17,
          17,
          17,
          17,
          17,
          17,
          17,
          17,
          17,
          17,
          17,
          17,
          17,
          17,
          17,
          17,
          17,
          17,
          17,
          17,
          17,
          17,
          17,
          17,
          17,
          17,
          17,
          17,
          17,
          17,
          17,
          17,
          17,
          17,
          17,
          17,
          17,
          17,
          17,
          17,
          17,
          17,
          17,
          17,
          17,
          17,
          17,
          17,
          17,
          17,
          17,
          17,
          17,
          17,
          17,
          17,
          17,
          17,
          17,
          17,
          17,
          17,
          17,
          17,
          17,
          17,
          17,
          17,
          17,
          17,
          17,
          17,
          17,
          17,
          17,
          17,
          17,
          17,
          17,
          17,
          17,
          17,
          17,
          17,
          17,
          17,
          17,
          17,
          17,
          17,
          17,
          17,
          17,
          17,
          17,
          17,
          17,
          17,
          17,
          17,
          17,
          17,
          17,
          17,
          17,
          17,
          17,
          17,
          17,
          17,
          17,
          17,
          17,
          17,
          17,
          17,
          17,
          17,
          17,
          17,
          17,
          17,
          17,
          17,
          17,
          17,
          17,
          17,
          17,
          17,
          17,
          17,
          17,
          17,
          17,
          17,
          17,
          17,
          17,
          17,
          17,
          17,
          17,
          17,
          17,
          17,
          17,
          17,
          17,
          17,
          17,
          17,
          17,
          17,
          17,
          17,
          17,
          17,
          17,
          17,
          17,
          17,
          17,
          17,
          17,
          17,
          17,
          17,
          17,
          17,
          17,
          17,
          17,
          17,
          17,
          17,
          17,
          17,
          17,
          17,
          17,
          17,
          17,
          17,
          17,
          17,
          17,
          17,
          17,
          17,
          17,
          16,
          16,
          16,
          16,
          16,
          16,
          16,
          16,
          16,
          16,
          16,
          16,
          16,
          16,
          16,
          16,
          16,
          16,
          16,
          16,
          16,
          16,
          16,
          16,
          16,
          16,
          16,
          16,
          16,
          16,
          16,
          16,
          16,
          16,
          16,
          16,
          16,
          16,
          16,
          16,
          16,
          16,
          16,
          16,
          16,
          16,
          16,
          16,
          16,
          16,
          16,
          16,
          16,
          16,
          16,
          16,
          16,
          16,
          16,
          16,
          16,
          16,
          16,
          16,
          16,
          16,
          16,
          16,
          16,
          16,
          16,
          16,
          16,
          16,
          16,
          16,
          16,
          16,
          16,
          16,
          16,
          16,
          16,
          16,
          16,
          16,
          16,
          16,
          16,
          16,
          16,
          16,
          16,
          16,
          16,
          16,
          16,
          16,
          16,
          16,
          16,
          16,
          16,
          16,
          16,
          16,
          16,
          16,
          16,
          16,
          16,
          16,
          16,
          16,
          16,
          16,
          16,
          16,
          16,
          16,
          16,
          16,
          16,
          16,
          16,
          16,
          16,
          16,
          16,
          16,
          16,
          16,
          16,
          16,
          16,
          16,
          16,
          16,
          16,
          16,
          16,
          16,
          16,
          16,
          16,
          16,
          16,
          16,
          16,
          16,
          16,
          16,
          16,
          16,
          16,
          16,
          16,
          16,
          16,
          16,
          16,
          16,
          16,
          16,
          16,
          16,
          16,
          16,
          16,
          16,
          16,
          16,
          16,
          16,
          16,
          16,
          16,
          16,
          16,
          16,
          16,
          16,
          16,
          16,
          16,
          16,
          16,
          16,
          16,
          16,
          16,
          16,
          16,
          16,
          16,
          16,
          16,
          16,
          16,
          16,
          16,
          16,
          16,
          16,
          16,
          16,
          16,
          16,
          16,
          16,
          16,
          16,
          16,
          16,
          16,
          16,
          16,
          16,
          16,
          16,
          16,
          16,
          16,
          16,
          16,
          16,
          16,
          16,
          16,
          16,
          16,
          16,
          16,
          16,
          16,
          16,
          16,
          16,
          16,
          16,
          16,
          16,
          16,
          16,
          16,
          16,
          16,
          16,
          16,
          16,
          16,
          16,
          16,
          16,
          16,
          16,
          16,
          16,
          16,
          16,
          16,
          16,
          16,
          16,
          16,
          16,
          16,
          16,
          16,
          16,
          16,
          16,
          16,
          16,
          16,
          16,
          16,
          16,
          16,
          16,
          16,
          16,
          16,
          16,
          16,
          16,
          16,
          16,
          16,
          16,
          16,
          16,
          16,
          16,
          16,
          16,
          16,
          16,
          16,
          16,
          16,
          16,
          16,
          16,
          16,
          16,
          16,
          16,
          16,
          16,
          16,
          16,
          16,
          16,
          16,
          16,
          16,
          16,
          16,
          16,
          16,
          16,
          16,
          16,
          16,
          16,
          16,
          16,
          16,
          16,
          16,
          16,
          16,
          16,
          16,
          16,
          16,
          16,
          16,
          16,
          16,
          16,
          16,
          16,
          16,
          16,
          16,
          16,
          16,
          16,
          16,
          16,
          16,
          16,
          16,
          16,
          16,
          16,
          16,
          16,
          16,
          16,
          16,
          16,
          16,
          16,
          16,
          16,
          16,
          16,
          16,
          16,
          16,
          16,
          16,
          16,
          16,
          16,
          16,
          16,
          16,
          16,
          16,
          16,
          16,
          16,
          16,
          16,
          16,
          16,
          16,
          16,
          16,
          16,
          16,
          16,
          16,
          16,
          16,
          16,
          16,
          16,
          16,
          16,
          16,
          16,
          16,
          16,
          16,
          16,
          16,
          16,
          16,
          16,
          16,
          16,
          15,
          15,
          15,
          15,
          15,
          15,
          15,
          15,
          15,
          15,
          15,
          15,
          15,
          15,
          15,
          15,
          15,
          15,
          15,
          15,
          15,
          15,
          15,
          15,
          15,
          15,
          15,
          15,
          15,
          15,
          15,
          15,
          15,
          15,
          15,
          15,
          15,
          15,
          15,
          15,
          15,
          15,
          15,
          15,
          15,
          15,
          15,
          15,
          15,
          15,
          15,
          15,
          15,
          15,
          15,
          15,
          15,
          15,
          15,
          15,
          15,
          15,
          15,
          15,
          15,
          15,
          15,
          15,
          15,
          15,
          15,
          15,
          15,
          15,
          15,
          15,
          15,
          15,
          15,
          15,
          15,
          15,
          15,
          15,
          15,
          15,
          15,
          15,
          15,
          15,
          15,
          15,
          15,
          15,
          15,
          15,
          15,
          15,
          15,
          15,
          15,
          15,
          15,
          15,
          15,
          15,
          15,
          15,
          15,
          15,
          15,
          15,
          15,
          15,
          15,
          15,
          15,
          15,
          15,
          15,
          15,
          15,
          15,
          15,
          15,
          15,
          15,
          15,
          15,
          15,
          15,
          15,
          15,
          15,
          15,
          15,
          15,
          15,
          15,
          15,
          15,
          15,
          15,
          15,
          15,
          15,
          15,
          15,
          15,
          15,
          15,
          15,
          15,
          15,
          15,
          15,
          15,
          15,
          15,
          15,
          15,
          15,
          15,
          15,
          15,
          15,
          15,
          15,
          15,
          15,
          15,
          15,
          15,
          15,
          15,
          15,
          15,
          15,
          15,
          15,
          15,
          15,
          15,
          15,
          15,
          15,
          15,
          15,
          15,
          15,
          15,
          15,
          15,
          15,
          15,
          15,
          15,
          15,
          15,
          15,
          15,
          15,
          15,
          15,
          15,
          15,
          15,
          15,
          15,
          15,
          15,
          15,
          15,
          15,
          15,
          15,
          15,
          15,
          15,
          15,
          15,
          15,
          15,
          15,
          15,
          15,
          15,
          15,
          15,
          15,
          15,
          15,
          15,
          15,
          15,
          15,
          15,
          15,
          15,
          15,
          15,
          15,
          15,
          15,
          15,
          15,
          15,
          15,
          15,
          15,
          15,
          15,
          15,
          15,
          15,
          15,
          15,
          15,
          15,
          15,
          15,
          15,
          15,
          15,
          15,
          15,
          15,
          15,
          15,
          15,
          15,
          15,
          15,
          15,
          15,
          15,
          15,
          15,
          15,
          15,
          15,
          15,
          15,
          15,
          15,
          15,
          15,
          15,
          15,
          15,
          15,
          15,
          15,
          15,
          15,
          15,
          15,
          15,
          15,
          15,
          15,
          15,
          15,
          15,
          15,
          15,
          15,
          15,
          15,
          15,
          15,
          15,
          15,
          15,
          15,
          15,
          15,
          15,
          15,
          15,
          15,
          15,
          15,
          15,
          15,
          15,
          15,
          15,
          15,
          15,
          15,
          15,
          15,
          15,
          15,
          15,
          15,
          15,
          15,
          15,
          15,
          15,
          15,
          15,
          15,
          15,
          15,
          15,
          15,
          15,
          15,
          15,
          15,
          15,
          15,
          15,
          15,
          15,
          15,
          15,
          15,
          15,
          15,
          15,
          15,
          15,
          15,
          15,
          15,
          15,
          15,
          15,
          15,
          15,
          15,
          15,
          15,
          15,
          15,
          15,
          15,
          15,
          15,
          15,
          15,
          15,
          15,
          15,
          15,
          15,
          15,
          15,
          15,
          15,
          15,
          15,
          15,
          15,
          15,
          15,
          15,
          15,
          15,
          15,
          15,
          15,
          15,
          15,
          15,
          15,
          15,
          15,
          15,
          15,
          15,
          15,
          15,
          15,
          15,
          15,
          15,
          15,
          15,
          15,
          15,
          15,
          15,
          15,
          15,
          15,
          15,
          15,
          15,
          15,
          15,
          15,
          15,
          15,
          15,
          15,
          15,
          15,
          15,
          15,
          15,
          15,
          15,
          15,
          15,
          15,
          15,
          15,
          15,
          15,
          15,
          15,
          15,
          15,
          15,
          15,
          15,
          15,
          15,
          15,
          15,
          15,
          15,
          15,
          15,
          15,
          15,
          15,
          15,
          15,
          15,
          15,
          15,
          15,
          15,
          15,
          15,
          15,
          15,
          15,
          15,
          15,
          15,
          15,
          15,
          15,
          15,
          15,
          15,
          15,
          15,
          15,
          15,
          15,
          15,
          15,
          15,
          15,
          15,
          15,
          15,
          15,
          15,
          15,
          15,
          15,
          15,
          15,
          15,
          15,
          15,
          15,
          15,
          15,
          15,
          15,
          15,
          15,
          15,
          15,
          15,
          15,
          15,
          15,
          15,
          15,
          15,
          15,
          15,
          15,
          15,
          15,
          15,
          15,
          15,
          15,
          15,
          15,
          15,
          15,
          15,
          15,
          15,
          15,
          15,
          15,
          15,
          15,
          15,
          15,
          15,
          15,
          15,
          15,
          15,
          15,
          15,
          15,
          15,
          15,
          15,
          15,
          15,
          15,
          15,
          14,
          14,
          14,
          14,
          14,
          14,
          14,
          14,
          14,
          14,
          14,
          14,
          14,
          14,
          14,
          14,
          14,
          14,
          14,
          14,
          14,
          14,
          14,
          14,
          14,
          14,
          14,
          14,
          14,
          14,
          14,
          14,
          14,
          14,
          14,
          14,
          14,
          14,
          14,
          14,
          14,
          14,
          14,
          14,
          14,
          14,
          14,
          14,
          14,
          14,
          14,
          14,
          14,
          14,
          14,
          14,
          14,
          14,
          14,
          14,
          14,
          14,
          14,
          14,
          14,
          14,
          14,
          14,
          14,
          14,
          14,
          14,
          14,
          14,
          14,
          14,
          14,
          14,
          14,
          14,
          14,
          14,
          14,
          14,
          14,
          14,
          14,
          14,
          14,
          14,
          14,
          14,
          14,
          14,
          14,
          14,
          14,
          14,
          14,
          14,
          14,
          14,
          14,
          14,
          14,
          14,
          14,
          14,
          14,
          14,
          14,
          14,
          14,
          14,
          14,
          14,
          14,
          14,
          14,
          14,
          14,
          14,
          14,
          14,
          14,
          14,
          14,
          14,
          14,
          14,
          14,
          14,
          14,
          14,
          14,
          14,
          14,
          14,
          14,
          14,
          14,
          14,
          14,
          14,
          14,
          14,
          14,
          14,
          14,
          14,
          14,
          14,
          14,
          14,
          14,
          14,
          14,
          14,
          14,
          14,
          14,
          14,
          14,
          14,
          14,
          14,
          14,
          14,
          14,
          14,
          14,
          14,
          14,
          14,
          14,
          14,
          14,
          14,
          14,
          14,
          14,
          14,
          14,
          14,
          14,
          14,
          14,
          14,
          14,
          14,
          14,
          14,
          14,
          14,
          14,
          14,
          14,
          14,
          14,
          14,
          14,
          14,
          14,
          14,
          14,
          14,
          14,
          14,
          14,
          14,
          14,
          14,
          14,
          14,
          14,
          14,
          14,
          14,
          14,
          14,
          14,
          14,
          14,
          14,
          14,
          14,
          14,
          14,
          14,
          14,
          14,
          14,
          14,
          14,
          14,
          14,
          14,
          14,
          14,
          14,
          14,
          14,
          14,
          14,
          14,
          14,
          14,
          14,
          14,
          14,
          14,
          14,
          14,
          14,
          14,
          14,
          14,
          14,
          14,
          14,
          14,
          14,
          14,
          14,
          14,
          14,
          14,
          14,
          14,
          14,
          14,
          14,
          14,
          14,
          14,
          14,
          14,
          14,
          14,
          14,
          14,
          14,
          14,
          14,
          14,
          14,
          14,
          14,
          14,
          14,
          14,
          14,
          14,
          14,
          14,
          14,
          14,
          14,
          14,
          14,
          14,
          14,
          14,
          14,
          14,
          14,
          14,
          14,
          14,
          14,
          14,
          14,
          14,
          14,
          14,
          14,
          14,
          14,
          14,
          14,
          14,
          14,
          14,
          14,
          14,
          14,
          14,
          14,
          14,
          14,
          14,
          14,
          14,
          14,
          14,
          14,
          14,
          14,
          14,
          14,
          14,
          14,
          14,
          14,
          14,
          14,
          14,
          14,
          14,
          14,
          14,
          14,
          14,
          14,
          14,
          14,
          14,
          14,
          14,
          14,
          14,
          14,
          14,
          14,
          14,
          14,
          14,
          14,
          14,
          14,
          14,
          14,
          14,
          14,
          14,
          14,
          14,
          14,
          14,
          14,
          14,
          14,
          14,
          14,
          14,
          14,
          14,
          14,
          14,
          14,
          14,
          14,
          14,
          14,
          14,
          14,
          14,
          14,
          14,
          14,
          14,
          14,
          14,
          14,
          14,
          14,
          14,
          14,
          14,
          14,
          14,
          14,
          14,
          14,
          14,
          14,
          14,
          14,
          14,
          14,
          14,
          14,
          14,
          14,
          14,
          14,
          14,
          14,
          14,
          14,
          14,
          14,
          14,
          14,
          14,
          14,
          14,
          14,
          14,
          14,
          14,
          14,
          14,
          14,
          14,
          14,
          14,
          14,
          14,
          14,
          14,
          14,
          14,
          14,
          14,
          14,
          14,
          14,
          14,
          14,
          14,
          14,
          14,
          14,
          14,
          14,
          14,
          14,
          14,
          14,
          14,
          14,
          14,
          14,
          14,
          14,
          14,
          14,
          14,
          14,
          14,
          14,
          14,
          14,
          14,
          14,
          14,
          14,
          14,
          14,
          14,
          14,
          14,
          14,
          14,
          14,
          14,
          14,
          14,
          14,
          14,
          14,
          14,
          14,
          14,
          13,
          13,
          13,
          13,
          13,
          13,
          13,
          13,
          13,
          13,
          13,
          13,
          13,
          13,
          13,
          13,
          13,
          13,
          13,
          13,
          13,
          13,
          13,
          13,
          13,
          13,
          13,
          13,
          13,
          13,
          13,
          13,
          13,
          13,
          13,
          13,
          13,
          13,
          13,
          13,
          13,
          13,
          13,
          13,
          13,
          13,
          13,
          13,
          13,
          13,
          13,
          13,
          13,
          13,
          13,
          13,
          13,
          13,
          13,
          13,
          13,
          13,
          13,
          13,
          13,
          13,
          13,
          13,
          13,
          13,
          13,
          13,
          13,
          13,
          13,
          13,
          13,
          13,
          13,
          13,
          13,
          13,
          13,
          13,
          13,
          13,
          13,
          13,
          13,
          13,
          13,
          13,
          13,
          13,
          13,
          13,
          13,
          13,
          13,
          13,
          13,
          13,
          13,
          13,
          13,
          13,
          13,
          13,
          13,
          13,
          13,
          13,
          13,
          13,
          13,
          13,
          13,
          13,
          13,
          13,
          13,
          13,
          13,
          13,
          13,
          13,
          13,
          13,
          13,
          13,
          13,
          13,
          13,
          13,
          13,
          13,
          13,
          13,
          13,
          13,
          13,
          13,
          13,
          13,
          13,
          13,
          13,
          13,
          13,
          13,
          13,
          13,
          13,
          13,
          13,
          13,
          13,
          13,
          13,
          13,
          13,
          13,
          13,
          13,
          13,
          13,
          13,
          13,
          13,
          13,
          13,
          13,
          13,
          13,
          13,
          13,
          13,
          13,
          13,
          13,
          13,
          13,
          13,
          13,
          13,
          13,
          13,
          13,
          13,
          13,
          13,
          13,
          13,
          13,
          13,
          13,
          13,
          13,
          13,
          13,
          13,
          13,
          13,
          13,
          13,
          13,
          13,
          13,
          13,
          13,
          13,
          13,
          13,
          13,
          13,
          13,
          13,
          13,
          13,
          13,
          13,
          13,
          13,
          13,
          13,
          13,
          13,
          13,
          13,
          13,
          13,
          13,
          13,
          13,
          13,
          13,
          13,
          13,
          13,
          13,
          13,
          13,
          13,
          13,
          13,
          13,
          13,
          13,
          13,
          13,
          13,
          13,
          13,
          13,
          13,
          13,
          13,
          13,
          13,
          13,
          13,
          13,
          13,
          13,
          13,
          13,
          13,
          13,
          13,
          13,
          13,
          13,
          13,
          13,
          13,
          13,
          13,
          13,
          13,
          13,
          13,
          13,
          13,
          13,
          13,
          13,
          13,
          13,
          13,
          13,
          13,
          13,
          13,
          13,
          13,
          13,
          13,
          13,
          13,
          13,
          13,
          13,
          13,
          13,
          13,
          13,
          13,
          13,
          13,
          13,
          13,
          13,
          13,
          13,
          13,
          13,
          13,
          13,
          13,
          13,
          13,
          13,
          13,
          13,
          13,
          13,
          13,
          13,
          13,
          13,
          13,
          13,
          13,
          13,
          13,
          13,
          13,
          13,
          13,
          13,
          13,
          13,
          13,
          13,
          13,
          13,
          13,
          13,
          13,
          13,
          13,
          13,
          13,
          13,
          13,
          13,
          13,
          13,
          13,
          13,
          13,
          13,
          13,
          13,
          13,
          13,
          13,
          13,
          13,
          13,
          13,
          13,
          13,
          13,
          13,
          13,
          13,
          13,
          13,
          13,
          13,
          13,
          13,
          13,
          13,
          13,
          13,
          13,
          13,
          13,
          13,
          13,
          13,
          13,
          13,
          13,
          13,
          13,
          13,
          13,
          13,
          13,
          13,
          13,
          13,
          13,
          12,
          12,
          12,
          12,
          12,
          12,
          12,
          12,
          12,
          12,
          12,
          12,
          12,
          12,
          12,
          12,
          12,
          12,
          12,
          12,
          12,
          12,
          12,
          12,
          12,
          12,
          12,
          12,
          12,
          12,
          12,
          12,
          12,
          12,
          12,
          12,
          12,
          12,
          12,
          12,
          12,
          12,
          12,
          12,
          12,
          12,
          12,
          12,
          12,
          12,
          12,
          12,
          12,
          12,
          12,
          12,
          12,
          12,
          12,
          12,
          12,
          12,
          12,
          12,
          12,
          12,
          12,
          12,
          12,
          12,
          12,
          12,
          12,
          12,
          12,
          12,
          12,
          12,
          12,
          12,
          12,
          12,
          12,
          12,
          12,
          12,
          12,
          12,
          12,
          12,
          12,
          12,
          12,
          12,
          12,
          12,
          12,
          12,
          12,
          12,
          12,
          12,
          12,
          12,
          12,
          12,
          12,
          12,
          12,
          12,
          12,
          12,
          12,
          12,
          12,
          12,
          12,
          12,
          12,
          12,
          12,
          12,
          12,
          12,
          12,
          12,
          12,
          12,
          12,
          12,
          12,
          12,
          12,
          12,
          12,
          12,
          12,
          12,
          12,
          12,
          12,
          12,
          12,
          12,
          12,
          12,
          12,
          12,
          12,
          12,
          12,
          12,
          12,
          12,
          12,
          12,
          12,
          12,
          12,
          12,
          12,
          12,
          12,
          12,
          12,
          12,
          12,
          12,
          12,
          12,
          12,
          12,
          12,
          12,
          12,
          12,
          12,
          12,
          12,
          12,
          12,
          12,
          12,
          12,
          12,
          12,
          12,
          12,
          12,
          12,
          12,
          12,
          12,
          12,
          12,
          12,
          12,
          12,
          12,
          12,
          12,
          12,
          11,
          11,
          11,
          11,
          11,
          11,
          11,
          11,
          11,
          11,
          11,
          11,
          11,
          11,
          11,
          11,
          11,
          11,
          11,
          11,
          11,
          11,
          11,
          11,
          11,
          11,
          11,
          11,
          11,
          11,
          11,
          11,
          11,
          11,
          11,
          11,
          11,
          11,
          11,
          11,
          11,
          11,
          11,
          11,
          11,
          11,
          11,
          11,
          11,
          11,
          11,
          11,
          11,
          11,
          11,
          11,
          11,
          11,
          11,
          11,
          11,
          11,
          11,
          11,
          11,
          11,
          11,
          11,
          11,
          11,
          11,
          11,
          11,
          11,
          11,
          11,
          11,
          11,
          11,
          11,
          11,
          11,
          11,
          11,
          11,
          11,
          11,
          11,
          11,
          11,
          10,
          10,
          10,
          10,
          10,
          10,
          10,
          10,
          10,
          10,
          10,
          10,
          10,
          10,
          10,
          10,
          10,
          10,
          10,
          10,
          10,
          10,
          10,
          10,
          10,
          10,
          10,
          10,
          10,
          9,
          9,
          9,
          9,
          9,
          9,
          9,
          9,
          9,
          9,
          8,
          8,
          8,
          8,
          8,
          8,
          7,
          7,
          7,
          7,
          7,
          7,
          7,
          7,
          7,
          7,
          6,
          6,
          6,
          6,
          6,
          5,
          5,
          5,
          4,
          4,
          4,
          4,
          4,
          4,
          4,
          4,
          4,
          4,
          4,
          4,
          4,
          4,
          4,
          4,
          4,
          4,
          4,
          4,
          4,
          4,
          4,
          4,
          4,
          4,
          4,
          4,
          4,
          4,
          4,
          4,
          4,
          4,
          4,
          4,
          4,
          4,
          4,
          4,
          4,
          4,
          4,
          4,
          4,
          4,
          4,
          4,
          4,
          4,
          4,
          4,
          4,
          4,
          4,
          4,
          4,
          4,
          4,
          4,
          4,
          4,
          4,
          4,
          4,
          4,
          4,
          4,
          4,
          4,
          4,
          4,
          4,
          4,
          4,
          4,
          4,
          4,
          4,
          4,
          4,
          4,
          4,
          4,
          4,
          4,
          4,
          4,
          4,
          4,
          4,
          4,
          4,
          4,
          4,
          4,
          4,
          4,
          4,
          4,
          4,
          4,
          4,
          4,
          4,
          4,
          4,
          4,
          4,
          4,
          4,
          4,
          4,
          4,
          4,
          4,
          4,
          4,
          4,
          4,
          4,
          4,
          4,
          4,
          4,
          4,
          4,
          4,
          4,
          4,
          4,
          4,
          4,
          4,
          4,
          4,
          4,
          4,
          4,
          4,
          4,
          4,
          4,
          4,
          4,
          4,
          4,
          4,
          4,
          4,
          4,
          4,
          4,
          4,
          4,
          4,
          4,
          4,
          4,
          4,
          4,
          4,
          4,
          4,
          4,
          4,
          4,
          4,
          4,
          4,
          4,
          4,
          4,
          4,
          4,
          4,
          4,
          4,
          4,
          4,
          4,
          4,
          4,
          4,
          4,
          4,
          4,
          4,
          4,
          4,
          4,
          4,
          4,
          4,
          4,
          4,
          4,
          4,
          4,
          4,
          4,
          4,
          4,
          4,
          4,
          4,
          4,
          4,
          4,
          4,
          4,
          4,
          4,
          4,
          4,
          4,
          4,
          4,
          4,
          4,
          4,
          4,
          4,
          4,
          4,
          4,
          4,
          4,
          4,
          4,
          4,
          4,
          4,
          4,
          4,
          4,
          4,
          4,
          4,
          4,
          4,
          4,
          4,
          4,
          4,
          4,
          4,
          4,
          4,
          4,
          4,
          4,
          4,
          4,
          4,
          4,
          4,
          4,
          4,
          4,
          4,
          4,
          4,
          4,
          4,
          4,
          4,
          4,
          4,
          4,
          4,
          4,
          4,
          4,
          4,
          4,
          4,
          4,
          4,
          4,
          4,
          4,
          4,
          4,
          4,
          4,
          4,
          4,
          4,
          4,
          4,
          4,
          4,
          4,
          4,
          4,
          4,
          4,
          4,
          4,
          4,
          4,
          4,
          4,
          4,
          4,
          4,
          4,
          4,
          4,
          4,
          4,
          4,
          4,
          4,
          4,
          4,
          4,
          4,
          4,
          4,
          4,
          4,
          4,
          4,
          4,
          4,
          4,
          4,
          4,
          4,
          4,
          4,
          4,
          4,
          4,
          4,
          4,
          4,
          4,
          4,
          4,
          4,
          4,
          4,
          4,
          4,
          4,
          4,
          4,
          4,
          4,
          4,
          4,
          4,
          4,
          4,
          4,
          4,
          4,
          4,
          4,
          4,
          4,
          4,
          4,
          4,
          4,
          4,
          4,
          4,
          4,
          4,
          4,
          4,
          4,
          4,
          4,
          4,
          4,
          4,
          4,
          4,
          4,
          4,
          4,
          4,
          4,
          4,
          4,
          4,
          4,
          4,
          4,
          4,
          4,
          4,
          4,
          4,
          4,
          4,
          4,
          4,
          4,
          4,
          4,
          4,
          4,
          4,
          4,
          4,
          4,
          4,
          4,
          4,
          4,
          4,
          4,
          4,
          4,
          4,
          4,
          4,
          4,
          4,
          4,
          4,
          4,
          4,
          4,
          4,
          4,
          4,
          4,
          4,
          4,
          4,
          4,
          4,
          4,
          4,
          4,
          4,
          4,
          4,
          4,
          4,
          4,
          4,
          4,
          4,
          4,
          4,
          4,
          4,
          4,
          4,
          4,
          4,
          4,
          4,
          4,
          4,
          4,
          4,
          4,
          4,
          4,
          4,
          4,
          4,
          4,
          4,
          4,
          4,
          4,
          4,
          4,
          4,
          4,
          4,
          4,
          4,
          4,
          4,
          4,
          4,
          4,
          4,
          4,
          4,
          4,
          4,
          4,
          4,
          4,
          4,
          4,
          4,
          4,
          4,
          4,
          4,
          4,
          4,
          4,
          4,
          4,
          4,
          4,
          4,
          4,
          4,
          4,
          4,
          4,
          4,
          4,
          4,
          4,
          4,
          4,
          4,
          4,
          4,
          4,
          4,
          4,
          4,
          4,
          4,
          4,
          4,
          4,
          4,
          4,
          4,
          4,
          4,
          4,
          4,
          4,
          4,
          4,
          4,
          4,
          4,
          4,
          4,
          4,
          4,
          4,
          4,
          4,
          4,
          4,
          4,
          4,
          4,
          4,
          4,
          4,
          4,
          4,
          4,
          4,
          4,
          4,
          4,
          4,
          4,
          4,
          4,
          4,
          4,
          4,
          4,
          4,
          4,
          4,
          4,
          4,
          4,
          4,
          4,
          4,
          4,
          4,
          4,
          4,
          4,
          4,
          4,
          4,
          4,
          4,
          4,
          4,
          4,
          4,
          4,
          4,
          4,
          4,
          4,
          4,
          4,
          4,
          4,
          4,
          4,
          4,
          4,
          4,
          4,
          4,
          4,
          4,
          4,
          4,
          4,
          4,
          4,
          4,
          4,
          4,
          4,
          4,
          4,
          4,
          4,
          4,
          4,
          4,
          4,
          4,
          4,
          4,
          4,
          4,
          4,
          4,
          4,
          4,
          4,
          4,
          4,
          4,
          4,
          4,
          4,
          4,
          4,
          4,
          4,
          4,
          4,
          4,
          4,
          4,
          4,
          4,
          4,
          4,
          4,
          4,
          4,
          4,
          4,
          4,
          4,
          4,
          4,
          4,
          4,
          4,
          4,
          4,
          4,
          4,
          4,
          4,
          4,
          4,
          4,
          4,
          4,
          4,
          4,
          4,
          4,
          4,
          4,
          4,
          4,
          4,
          4,
          4,
          4,
          4,
          4,
          4,
          4,
          4,
          4,
          4,
          4,
          4,
          4,
          4,
          4,
          4,
          4,
          4,
          4,
          4,
          4,
          4,
          4,
          4,
          4,
          4,
          4,
          4,
          4,
          4,
          4,
          4,
          4,
          4,
          4,
          4,
          4,
          4,
          4,
          4,
          4,
          4,
          4,
          4,
          4,
          4,
          4,
          3,
          3,
          3,
          3,
          3,
          3,
          3,
          3,
          3,
          3,
          3,
          3,
          3,
          3,
          3,
          3,
          3,
          3,
          3,
          3,
          3,
          3,
          3,
          3,
          3,
          3,
          3,
          3,
          3,
          3,
          3,
          3,
          3,
          3,
          3,
          3,
          3,
          3,
          3,
          3,
          3,
          3,
          3,
          3,
          3,
          3,
          3,
          3,
          3,
          3,
          3,
          3,
          3,
          3,
          3,
          3,
          3,
          3,
          3,
          3,
          3,
          3,
          3,
          3,
          3,
          3,
          3,
          3,
          3,
          3,
          3,
          3,
          3,
          3,
          3,
          3,
          3,
          3,
          3,
          3,
          3,
          3,
          3,
          3,
          3,
          3,
          3,
          3,
          3,
          3,
          3,
          3,
          3,
          3,
          3,
          3,
          3,
          3,
          3,
          3,
          3,
          3,
          3,
          3,
          3,
          3,
          3,
          3,
          3,
          3,
          3,
          3,
          3,
          3,
          3,
          3,
          3,
          3,
          3,
          3,
          3,
          3,
          3,
          3,
          3,
          3,
          3,
          3,
          3,
          3,
          3,
          3,
          3,
          3,
          3,
          3,
          3,
          3,
          3,
          3,
          3,
          3,
          3,
          3,
          3,
          3,
          3,
          3,
          3,
          3,
          3,
          3,
          3,
          3,
          3,
          3,
          3,
          3,
          3,
          3,
          3,
          3,
          3,
          3,
          3,
          3,
          3,
          3,
          3,
          3,
          3,
          3,
          3,
          3,
          3,
          3,
          3,
          3,
          3,
          3,
          3,
          3,
          3,
          3,
          3,
          3,
          3,
          3,
          3,
          3,
          3,
          3,
          3,
          3,
          3,
          3,
          3,
          3,
          3,
          3,
          3,
          3,
          3,
          3,
          3,
          3,
          3,
          3,
          3,
          3,
          3,
          3,
          3,
          3,
          3,
          3,
          3,
          3,
          3,
          3,
          3,
          3,
          3,
          3,
          3,
          3,
          3,
          3,
          3,
          3,
          3,
          3,
          3,
          3,
          3,
          3,
          3,
          3,
          3,
          3,
          3,
          3,
          3,
          3,
          3,
          3,
          3,
          3,
          3,
          3,
          3,
          3,
          3,
          3,
          3,
          3,
          3,
          3,
          3,
          3,
          3,
          3,
          3,
          3,
          3,
          3,
          3,
          3,
          3,
          3,
          3,
          3,
          3,
          3,
          3,
          3,
          3,
          3,
          3,
          3,
          3,
          3,
          3,
          3,
          3,
          3,
          3,
          3,
          3,
          3,
          3,
          3,
          3,
          3,
          3,
          3,
          3,
          3,
          3,
          3,
          3,
          3,
          3,
          3,
          3,
          3,
          3,
          3,
          3,
          3,
          3,
          3,
          3,
          3,
          3,
          3,
          3,
          3,
          3,
          3,
          3,
          3,
          3,
          3,
          3,
          3,
          3,
          3,
          3,
          3,
          3,
          3,
          3,
          3,
          3,
          3,
          3,
          3,
          3,
          3,
          3,
          3,
          3,
          3,
          3,
          3,
          3,
          3,
          3,
          3,
          3,
          3,
          3,
          3,
          3,
          3,
          3,
          3,
          3,
          3,
          3,
          3,
          3,
          3,
          3,
          3,
          3,
          3,
          3,
          3,
          3,
          3,
          3,
          3,
          3,
          3,
          3,
          3,
          3,
          3,
          3,
          3,
          3,
          3,
          3,
          3,
          3,
          3,
          3,
          3,
          3,
          3,
          3,
          3,
          3,
          3,
          3,
          3,
          3,
          3,
          3,
          3,
          3,
          3,
          3,
          3,
          3,
          3,
          3,
          3,
          3,
          3,
          3,
          3,
          3,
          3,
          3,
          3,
          3,
          3,
          3,
          3,
          3,
          3,
          3,
          3,
          3,
          3,
          3,
          3,
          3,
          3,
          3,
          3,
          3,
          3,
          3,
          3,
          3,
          3,
          3,
          3,
          3,
          3,
          3,
          3,
          3,
          3,
          3,
          3,
          3,
          3,
          3,
          3,
          3,
          3,
          3,
          3,
          3,
          3,
          3,
          3,
          3,
          3,
          3,
          3,
          3,
          3,
          3,
          3,
          3,
          3,
          3,
          3,
          3,
          3,
          3,
          3,
          3,
          3,
          3,
          3,
          3,
          3,
          3,
          3,
          3,
          3,
          3,
          3,
          3,
          3,
          3,
          3,
          3,
          3,
          3,
          3,
          3,
          3,
          3,
          3,
          3,
          3,
          3,
          3,
          3,
          3,
          3,
          3,
          3,
          3,
          3,
          3,
          3,
          3,
          3,
          3,
          3,
          3,
          3,
          3,
          3,
          3,
          3,
          3,
          3,
          3,
          3,
          3,
          3,
          3,
          3,
          3,
          3,
          3,
          3,
          3,
          3,
          3,
          3,
          3,
          3,
          3,
          3,
          3,
          3,
          3,
          3,
          3,
          3,
          3,
          3,
          3,
          3,
          3,
          3,
          3,
          3,
          3,
          3,
          3,
          3,
          3,
          3,
          3,
          3,
          3,
          3,
          3,
          3,
          3,
          3,
          3,
          3,
          3,
          3,
          3,
          3,
          3,
          3,
          3,
          3,
          3,
          3,
          3,
          3,
          3,
          3,
          3,
          3,
          3,
          3,
          3,
          3,
          3,
          3,
          3,
          3,
          3,
          3,
          3,
          3,
          3,
          3,
          3,
          3,
          3,
          3,
          3,
          3,
          3,
          3,
          3,
          3,
          3,
          3,
          3,
          3,
          3,
          3,
          3,
          3,
          3,
          3,
          3,
          3,
          3,
          3,
          3,
          3,
          3,
          3,
          3,
          3,
          3,
          3,
          3,
          3,
          3,
          3,
          3,
          3,
          3,
          3,
          3,
          3,
          3,
          3,
          3,
          3,
          3,
          3,
          3,
          3,
          3,
          3,
          3,
          3,
          3,
          3,
          3,
          3,
          3,
          3,
          3,
          3,
          3,
          3,
          3,
          3,
          3,
          3,
          3,
          3,
          3,
          3,
          3,
          3,
          3,
          3,
          3,
          3,
          3,
          3,
          3,
          3,
          3,
          3,
          3,
          3,
          3,
          3,
          3,
          3,
          3,
          3,
          3,
          3,
          3,
          3,
          3,
          3,
          3,
          3,
          3,
          3,
          3,
          3,
          3,
          3,
          3,
          3,
          3,
          3,
          3,
          3,
          3,
          3,
          3,
          3,
          3,
          3,
          3,
          3,
          3,
          3,
          3,
          3,
          3,
          3,
          3,
          3,
          3,
          3,
          3,
          3,
          3,
          3,
          3,
          3,
          3,
          3,
          3,
          3,
          3,
          3,
          3,
          3,
          3,
          2,
          2,
          2,
          2,
          2,
          2,
          2,
          2,
          2,
          2,
          2,
          2,
          2,
          2,
          2,
          2,
          2,
          2,
          2,
          2,
          2,
          2,
          2,
          2,
          2,
          2,
          2,
          2,
          2,
          2,
          2,
          2,
          2,
          2,
          2,
          2,
          2,
          2,
          2,
          2,
          2,
          2,
          2,
          2,
          2,
          2,
          2,
          2,
          2,
          2,
          2,
          2,
          2,
          2,
          2,
          2,
          2,
          2,
          2,
          2,
          2,
          2,
          2,
          2,
          2,
          2,
          2,
          2,
          2,
          2,
          2,
          2,
          2,
          2,
          2,
          2,
          2,
          2,
          2,
          2,
          2,
          2,
          2,
          2,
          2,
          2,
          2,
          2,
          2,
          2,
          2,
          2,
          2,
          2,
          2,
          2,
          2,
          2,
          2,
          2,
          2,
          2,
          2,
          2,
          2,
          2,
          2,
          2,
          2,
          2,
          2,
          2,
          2,
          2,
          2,
          2,
          2,
          2,
          2,
          2,
          2,
          2,
          2,
          2,
          2,
          2,
          2,
          2,
          2,
          2,
          2,
          2,
          2,
          2,
          2,
          2,
          2,
          2,
          2,
          2,
          2,
          2,
          2,
          2,
          2,
          2,
          2,
          2,
          2,
          2,
          2,
          2,
          2,
          2,
          2,
          2,
          2,
          2,
          2,
          2,
          2,
          2,
          2,
          2,
          2,
          2,
          2,
          2,
          2,
          2,
          2,
          2,
          2,
          2,
          2,
          2,
          2,
          2,
          2,
          2,
          2,
          2,
          2,
          2,
          2,
          2,
          2,
          2,
          2,
          2,
          2,
          2,
          2,
          2,
          2,
          2,
          2,
          2,
          2,
          2,
          2,
          2,
          2,
          2,
          2,
          2,
          2,
          2,
          2,
          2,
          2,
          2,
          2,
          2,
          2,
          2,
          2,
          2,
          2,
          2,
          2,
          2,
          2,
          2,
          2,
          2,
          2,
          2,
          2,
          2,
          2,
          2,
          2,
          2,
          2,
          2,
          2,
          2,
          2,
          2,
          2,
          2,
          2,
          2,
          2,
          2,
          2,
          2,
          2,
          2,
          2,
          2,
          2,
          2,
          2,
          2,
          2,
          2,
          2,
          2,
          2,
          2,
          2,
          2,
          2,
          2,
          2,
          2,
          2,
          2,
          2,
          2,
          2,
          2,
          2,
          2,
          2,
          2,
          2,
          2,
          2,
          2,
          2,
          2,
          2,
          2,
          2,
          2,
          1,
          1,
          1,
          1,
          1,
          1,
          1,
          1,
          1,
          1,
          1,
          1,
          1,
          1,
          1,
          1,
          1,
          1,
          1,
          1,
          1,
          1,
          1,
          1,
          1,
          1,
          1,
          1,
          1,
          1,
          1,
          1,
          1,
          1,
          1,
          1,
          1,
          1,
          1,
          1,
          1,
          1,
          1,
          1,
          1,
          1,
          1,
          1,
          1,
          1,
          1,
          1,
          1,
          1,
          1,
          1,
          1,
          1,
          1,
          1,
          1,
          1,
          1
         ]
        }
       ],
       "layout": {
        "template": {
         "data": {
          "bar": [
           {
            "error_x": {
             "color": "#2a3f5f"
            },
            "error_y": {
             "color": "#2a3f5f"
            },
            "marker": {
             "line": {
              "color": "#E5ECF6",
              "width": 0.5
             },
             "pattern": {
              "fillmode": "overlay",
              "size": 10,
              "solidity": 0.2
             }
            },
            "type": "bar"
           }
          ],
          "barpolar": [
           {
            "marker": {
             "line": {
              "color": "#E5ECF6",
              "width": 0.5
             },
             "pattern": {
              "fillmode": "overlay",
              "size": 10,
              "solidity": 0.2
             }
            },
            "type": "barpolar"
           }
          ],
          "carpet": [
           {
            "aaxis": {
             "endlinecolor": "#2a3f5f",
             "gridcolor": "white",
             "linecolor": "white",
             "minorgridcolor": "white",
             "startlinecolor": "#2a3f5f"
            },
            "baxis": {
             "endlinecolor": "#2a3f5f",
             "gridcolor": "white",
             "linecolor": "white",
             "minorgridcolor": "white",
             "startlinecolor": "#2a3f5f"
            },
            "type": "carpet"
           }
          ],
          "choropleth": [
           {
            "colorbar": {
             "outlinewidth": 0,
             "ticks": ""
            },
            "type": "choropleth"
           }
          ],
          "contour": [
           {
            "colorbar": {
             "outlinewidth": 0,
             "ticks": ""
            },
            "colorscale": [
             [
              0,
              "#0d0887"
             ],
             [
              0.1111111111111111,
              "#46039f"
             ],
             [
              0.2222222222222222,
              "#7201a8"
             ],
             [
              0.3333333333333333,
              "#9c179e"
             ],
             [
              0.4444444444444444,
              "#bd3786"
             ],
             [
              0.5555555555555556,
              "#d8576b"
             ],
             [
              0.6666666666666666,
              "#ed7953"
             ],
             [
              0.7777777777777778,
              "#fb9f3a"
             ],
             [
              0.8888888888888888,
              "#fdca26"
             ],
             [
              1,
              "#f0f921"
             ]
            ],
            "type": "contour"
           }
          ],
          "contourcarpet": [
           {
            "colorbar": {
             "outlinewidth": 0,
             "ticks": ""
            },
            "type": "contourcarpet"
           }
          ],
          "heatmap": [
           {
            "colorbar": {
             "outlinewidth": 0,
             "ticks": ""
            },
            "colorscale": [
             [
              0,
              "#0d0887"
             ],
             [
              0.1111111111111111,
              "#46039f"
             ],
             [
              0.2222222222222222,
              "#7201a8"
             ],
             [
              0.3333333333333333,
              "#9c179e"
             ],
             [
              0.4444444444444444,
              "#bd3786"
             ],
             [
              0.5555555555555556,
              "#d8576b"
             ],
             [
              0.6666666666666666,
              "#ed7953"
             ],
             [
              0.7777777777777778,
              "#fb9f3a"
             ],
             [
              0.8888888888888888,
              "#fdca26"
             ],
             [
              1,
              "#f0f921"
             ]
            ],
            "type": "heatmap"
           }
          ],
          "heatmapgl": [
           {
            "colorbar": {
             "outlinewidth": 0,
             "ticks": ""
            },
            "colorscale": [
             [
              0,
              "#0d0887"
             ],
             [
              0.1111111111111111,
              "#46039f"
             ],
             [
              0.2222222222222222,
              "#7201a8"
             ],
             [
              0.3333333333333333,
              "#9c179e"
             ],
             [
              0.4444444444444444,
              "#bd3786"
             ],
             [
              0.5555555555555556,
              "#d8576b"
             ],
             [
              0.6666666666666666,
              "#ed7953"
             ],
             [
              0.7777777777777778,
              "#fb9f3a"
             ],
             [
              0.8888888888888888,
              "#fdca26"
             ],
             [
              1,
              "#f0f921"
             ]
            ],
            "type": "heatmapgl"
           }
          ],
          "histogram": [
           {
            "marker": {
             "pattern": {
              "fillmode": "overlay",
              "size": 10,
              "solidity": 0.2
             }
            },
            "type": "histogram"
           }
          ],
          "histogram2d": [
           {
            "colorbar": {
             "outlinewidth": 0,
             "ticks": ""
            },
            "colorscale": [
             [
              0,
              "#0d0887"
             ],
             [
              0.1111111111111111,
              "#46039f"
             ],
             [
              0.2222222222222222,
              "#7201a8"
             ],
             [
              0.3333333333333333,
              "#9c179e"
             ],
             [
              0.4444444444444444,
              "#bd3786"
             ],
             [
              0.5555555555555556,
              "#d8576b"
             ],
             [
              0.6666666666666666,
              "#ed7953"
             ],
             [
              0.7777777777777778,
              "#fb9f3a"
             ],
             [
              0.8888888888888888,
              "#fdca26"
             ],
             [
              1,
              "#f0f921"
             ]
            ],
            "type": "histogram2d"
           }
          ],
          "histogram2dcontour": [
           {
            "colorbar": {
             "outlinewidth": 0,
             "ticks": ""
            },
            "colorscale": [
             [
              0,
              "#0d0887"
             ],
             [
              0.1111111111111111,
              "#46039f"
             ],
             [
              0.2222222222222222,
              "#7201a8"
             ],
             [
              0.3333333333333333,
              "#9c179e"
             ],
             [
              0.4444444444444444,
              "#bd3786"
             ],
             [
              0.5555555555555556,
              "#d8576b"
             ],
             [
              0.6666666666666666,
              "#ed7953"
             ],
             [
              0.7777777777777778,
              "#fb9f3a"
             ],
             [
              0.8888888888888888,
              "#fdca26"
             ],
             [
              1,
              "#f0f921"
             ]
            ],
            "type": "histogram2dcontour"
           }
          ],
          "mesh3d": [
           {
            "colorbar": {
             "outlinewidth": 0,
             "ticks": ""
            },
            "type": "mesh3d"
           }
          ],
          "parcoords": [
           {
            "line": {
             "colorbar": {
              "outlinewidth": 0,
              "ticks": ""
             }
            },
            "type": "parcoords"
           }
          ],
          "pie": [
           {
            "automargin": true,
            "type": "pie"
           }
          ],
          "scatter": [
           {
            "fillpattern": {
             "fillmode": "overlay",
             "size": 10,
             "solidity": 0.2
            },
            "type": "scatter"
           }
          ],
          "scatter3d": [
           {
            "line": {
             "colorbar": {
              "outlinewidth": 0,
              "ticks": ""
             }
            },
            "marker": {
             "colorbar": {
              "outlinewidth": 0,
              "ticks": ""
             }
            },
            "type": "scatter3d"
           }
          ],
          "scattercarpet": [
           {
            "marker": {
             "colorbar": {
              "outlinewidth": 0,
              "ticks": ""
             }
            },
            "type": "scattercarpet"
           }
          ],
          "scattergeo": [
           {
            "marker": {
             "colorbar": {
              "outlinewidth": 0,
              "ticks": ""
             }
            },
            "type": "scattergeo"
           }
          ],
          "scattergl": [
           {
            "marker": {
             "colorbar": {
              "outlinewidth": 0,
              "ticks": ""
             }
            },
            "type": "scattergl"
           }
          ],
          "scattermapbox": [
           {
            "marker": {
             "colorbar": {
              "outlinewidth": 0,
              "ticks": ""
             }
            },
            "type": "scattermapbox"
           }
          ],
          "scatterpolar": [
           {
            "marker": {
             "colorbar": {
              "outlinewidth": 0,
              "ticks": ""
             }
            },
            "type": "scatterpolar"
           }
          ],
          "scatterpolargl": [
           {
            "marker": {
             "colorbar": {
              "outlinewidth": 0,
              "ticks": ""
             }
            },
            "type": "scatterpolargl"
           }
          ],
          "scatterternary": [
           {
            "marker": {
             "colorbar": {
              "outlinewidth": 0,
              "ticks": ""
             }
            },
            "type": "scatterternary"
           }
          ],
          "surface": [
           {
            "colorbar": {
             "outlinewidth": 0,
             "ticks": ""
            },
            "colorscale": [
             [
              0,
              "#0d0887"
             ],
             [
              0.1111111111111111,
              "#46039f"
             ],
             [
              0.2222222222222222,
              "#7201a8"
             ],
             [
              0.3333333333333333,
              "#9c179e"
             ],
             [
              0.4444444444444444,
              "#bd3786"
             ],
             [
              0.5555555555555556,
              "#d8576b"
             ],
             [
              0.6666666666666666,
              "#ed7953"
             ],
             [
              0.7777777777777778,
              "#fb9f3a"
             ],
             [
              0.8888888888888888,
              "#fdca26"
             ],
             [
              1,
              "#f0f921"
             ]
            ],
            "type": "surface"
           }
          ],
          "table": [
           {
            "cells": {
             "fill": {
              "color": "#EBF0F8"
             },
             "line": {
              "color": "white"
             }
            },
            "header": {
             "fill": {
              "color": "#C8D4E3"
             },
             "line": {
              "color": "white"
             }
            },
            "type": "table"
           }
          ]
         },
         "layout": {
          "annotationdefaults": {
           "arrowcolor": "#2a3f5f",
           "arrowhead": 0,
           "arrowwidth": 1
          },
          "autotypenumbers": "strict",
          "coloraxis": {
           "colorbar": {
            "outlinewidth": 0,
            "ticks": ""
           }
          },
          "colorscale": {
           "diverging": [
            [
             0,
             "#8e0152"
            ],
            [
             0.1,
             "#c51b7d"
            ],
            [
             0.2,
             "#de77ae"
            ],
            [
             0.3,
             "#f1b6da"
            ],
            [
             0.4,
             "#fde0ef"
            ],
            [
             0.5,
             "#f7f7f7"
            ],
            [
             0.6,
             "#e6f5d0"
            ],
            [
             0.7,
             "#b8e186"
            ],
            [
             0.8,
             "#7fbc41"
            ],
            [
             0.9,
             "#4d9221"
            ],
            [
             1,
             "#276419"
            ]
           ],
           "sequential": [
            [
             0,
             "#0d0887"
            ],
            [
             0.1111111111111111,
             "#46039f"
            ],
            [
             0.2222222222222222,
             "#7201a8"
            ],
            [
             0.3333333333333333,
             "#9c179e"
            ],
            [
             0.4444444444444444,
             "#bd3786"
            ],
            [
             0.5555555555555556,
             "#d8576b"
            ],
            [
             0.6666666666666666,
             "#ed7953"
            ],
            [
             0.7777777777777778,
             "#fb9f3a"
            ],
            [
             0.8888888888888888,
             "#fdca26"
            ],
            [
             1,
             "#f0f921"
            ]
           ],
           "sequentialminus": [
            [
             0,
             "#0d0887"
            ],
            [
             0.1111111111111111,
             "#46039f"
            ],
            [
             0.2222222222222222,
             "#7201a8"
            ],
            [
             0.3333333333333333,
             "#9c179e"
            ],
            [
             0.4444444444444444,
             "#bd3786"
            ],
            [
             0.5555555555555556,
             "#d8576b"
            ],
            [
             0.6666666666666666,
             "#ed7953"
            ],
            [
             0.7777777777777778,
             "#fb9f3a"
            ],
            [
             0.8888888888888888,
             "#fdca26"
            ],
            [
             1,
             "#f0f921"
            ]
           ]
          },
          "colorway": [
           "#636efa",
           "#EF553B",
           "#00cc96",
           "#ab63fa",
           "#FFA15A",
           "#19d3f3",
           "#FF6692",
           "#B6E880",
           "#FF97FF",
           "#FECB52"
          ],
          "font": {
           "color": "#2a3f5f"
          },
          "geo": {
           "bgcolor": "white",
           "lakecolor": "white",
           "landcolor": "#E5ECF6",
           "showlakes": true,
           "showland": true,
           "subunitcolor": "white"
          },
          "hoverlabel": {
           "align": "left"
          },
          "hovermode": "closest",
          "mapbox": {
           "style": "light"
          },
          "paper_bgcolor": "white",
          "plot_bgcolor": "#E5ECF6",
          "polar": {
           "angularaxis": {
            "gridcolor": "white",
            "linecolor": "white",
            "ticks": ""
           },
           "bgcolor": "#E5ECF6",
           "radialaxis": {
            "gridcolor": "white",
            "linecolor": "white",
            "ticks": ""
           }
          },
          "scene": {
           "xaxis": {
            "backgroundcolor": "#E5ECF6",
            "gridcolor": "white",
            "gridwidth": 2,
            "linecolor": "white",
            "showbackground": true,
            "ticks": "",
            "zerolinecolor": "white"
           },
           "yaxis": {
            "backgroundcolor": "#E5ECF6",
            "gridcolor": "white",
            "gridwidth": 2,
            "linecolor": "white",
            "showbackground": true,
            "ticks": "",
            "zerolinecolor": "white"
           },
           "zaxis": {
            "backgroundcolor": "#E5ECF6",
            "gridcolor": "white",
            "gridwidth": 2,
            "linecolor": "white",
            "showbackground": true,
            "ticks": "",
            "zerolinecolor": "white"
           }
          },
          "shapedefaults": {
           "line": {
            "color": "#2a3f5f"
           }
          },
          "ternary": {
           "aaxis": {
            "gridcolor": "white",
            "linecolor": "white",
            "ticks": ""
           },
           "baxis": {
            "gridcolor": "white",
            "linecolor": "white",
            "ticks": ""
           },
           "bgcolor": "#E5ECF6",
           "caxis": {
            "gridcolor": "white",
            "linecolor": "white",
            "ticks": ""
           }
          },
          "title": {
           "x": 0.05
          },
          "xaxis": {
           "automargin": true,
           "gridcolor": "white",
           "linecolor": "white",
           "ticks": "",
           "title": {
            "standoff": 15
           },
           "zerolinecolor": "white",
           "zerolinewidth": 2
          },
          "yaxis": {
           "automargin": true,
           "gridcolor": "white",
           "linecolor": "white",
           "ticks": "",
           "title": {
            "standoff": 15
           },
           "zerolinecolor": "white",
           "zerolinewidth": 2
          }
         }
        }
       }
      }
     },
     "metadata": {},
     "output_type": "display_data"
    },
    {
     "data": {
      "application/vnd.plotly.v1+json": {
       "config": {
        "linkText": "Export to plot.ly",
        "plotlyServerURL": "https://plot.ly",
        "showLink": false
       },
       "data": [
        {
         "labels": [
          0.13,
          0.02,
          0.09,
          0.06,
          0.07,
          0.04,
          0.05,
          0.11,
          0.01,
          0.08,
          0.03,
          77.024311,
          74.00852,
          78.519578,
          78.409645,
          75.820689,
          77.750709,
          76.715808,
          73.25,
          78.610366,
          76.670028,
          85.334253,
          80.354151,
          72.902658,
          77.723685,
          80.300744,
          80.394151,
          80.288519,
          78.527865,
          76.687961,
          77.105667,
          72.897808,
          75.923007,
          76.007429,
          85.4072,
          76.724878,
          72.852585,
          77.655797,
          75.901991,
          77.125393,
          77.676791,
          75.813139,
          78.519654,
          72.886721,
          77.773237,
          73.916485,
          75.962574,
          72.926721,
          76.676167,
          76.733622,
          75.836896,
          73.220283,
          73.898972,
          77.700709,
          72.911953,
          85.367872,
          76.670583,
          72.978923,
          74.014337,
          75.954765,
          72.861477,
          73.237753,
          78.412621,
          72.915553,
          77.590997,
          72.944715,
          73.217753,
          77.045393,
          77.635428,
          78.462621,
          75.827282,
          72.844136,
          76.667889,
          77.035393,
          78.478213,
          77.00544,
          75.804257,
          75.8123,
          78.469578,
          73.177753,
          75.944765,
          72.841953,
          76.690028,
          73.898429,
          77.045525,
          77.663685,
          75.972471,
          77.041736,
          75.845704,
          77.031876,
          77.065525,
          80.324151,
          78.483391,
          73.920626,
          72.848726,
          72.882381,
          73.960547,
          78.438855,
          85.430464,
          77.034652,
          76.705808,
          77.72413,
          80.314151,
          78.498321,
          85.437872,
          75.900753,
          77.654293,
          73.297753,
          72.861347,
          80.379982,
          85.3729,
          85.354253,
          75.951991,
          73.95852,
          78.417554,
          73.227788,
          80.372268,
          72.876191,
          75.906649,
          76.99544,
          77.74413,
          85.357872,
          77.053303,
          72.925503,
          76.65665,
          75.934377,
          75.813007,
          85.415347,
          75.917648,
          72.901477,
          78.507225,
          73.853572,
          78.42035,
          72.885203,
          73.219083,
          72.784209,
          76.996241,
          75.914765,
          75.942471,
          75.945704,
          72.856749,
          76.648203,
          85.355055,
          75.923365,
          75.973106,
          85.346967,
          75.89949,
          73.275012,
          75.978497,
          72.882697,
          77.074311,
          77.038349,
          75.876896,
          77.032076,
          73.914855,
          72.869122,
          74.025367,
          78.459645,
          85.39982,
          75.996059,
          72.923616,
          73.250283,
          77.675748,
          80.292268,
          72.904492,
          77.690489,
          77.626014,
          72.822629,
          76.683622,
          75.912083,
          73.878206,
          78.438213,
          78.429347,
          77.129594,
          75.873007,
          76.637961,
          75.956959,
          77.580997,
          75.856649,
          72.814209,
          72.885451,
          76.700583,
          75.894212,
          80.281898,
          76.656792,
          76.697961,
          72.833074,
          75.9034,
          77.7084,
          72.905503,
          72.916191,
          76.986268,
          78.49035,
          80.29311,
          78.488321,
          78.418321,
          72.808778,
          78.51035,
          75.869034,
          80.331865,
          72.946721,
          72.844115,
          72.884342,
          76.689103,
          72.902731,
          78.579654,
          80.278114,
          73.884723,
          75.972847,
          73.247753,
          76.673067,
          78.459654,
          78.397554,
          75.916699,
          72.825503,
          78.443391,
          75.844257,
          76.667961,
          77.096241,
          73.980626,
          75.918497,
          76.731094,
          78.465467,
          85.375731,
          80.276442,
          77.705748,
          76.012847,
          73.833572,
          73.784723,
          73.102281,
          73.860327,
          75.947648,
          72.919292,
          77.10544,
          75.819034,
          76.695808,
          80.350672,
          76.675169,
          73.295081,
          72.902585,
          77.746664,
          72.882731,
          78.468213,
          80.230672,
          75.872083,
          75.896699,
          80.248114,
          75.936362,
          73.002281,
          75.865704,
          85.417872,
          73.844723,
          76.685861,
          75.913139,
          73.926619,
          75.850689,
          77.680625,
          72.922585,
          77.635999,
          73.956485,
          72.898923,
          85.415146,
          75.882934,
          76.660028,
          78.472621,
          78.477495,
          85.4429,
          73.995367,
          73.259083,
          76.676792,
          77.026494,
          80.338812,
          72.854492,
          72.879122,
          76.795169,
          72.798059,
          76.713067,
          72.848059,
          80.311865,
          72.849292,
          73.791081,
          73.804723,
          72.858923,
          85.405486,
          73.207788,
          72.848666,
          80.309104,
          75.880512,
          80.347221,
          75.830689,
          75.891991,
          80.291598,
          77.625797,
          77.070432,
          72.818778,
          72.931347,
          73.017385,
          72.972381,
          75.86282,
          77.015667,
          72.819122,
          75.804592,
          73.966619,
          72.809122,
          76.67262,
          73.257753,
          73.958972,
          77.106268,
          80.287221,
          75.943139,
          85.385055,
          76.677961,
          76.769264,
          77.065393,
          77.744293,
          75.852934,
          77.660709,
          78.662111,
          72.792629,
          85.385739,
          75.907429,
          77.673685,
          76.002574,
          77.775396,
          85.355347,
          77.725428,
          77.773685,
          72.908666,
          85.457872,
          77.750489,
          76.017648,
          72.874115,
          72.85765,
          73.835901,
          72.86859,
          76.657961,
          76.960432,
          76.017522,
          72.839292,
          72.851953,
          72.992381,
          73.984337,
          72.828059,
          73.235012,
          77.695748,
          73.966485,
          85.465739,
          78.514423,
          72.875203,
          75.876059,
          80.290672,
          80.331898,
          85.470464,
          75.974377,
          85.3529,
          76.664878,
          77.606791,
          72.872381,
          72.968493,
          80.224568,
          78.479654,
          85.400464,
          77.041876,
          73.924337,
          76.964652,
          75.99949,
          80.238812,
          72.91765,
          78.455467,
          78.385467,
          80.318812,
          75.977333,
          77.719386,
          77.739386,
          77.706664,
          77.789386,
          73.250937,
          77.00295,
          76.013365,
          85.387872,
          73.175012,
          78.425883,
          85.364097,
          76.97295,
          76.629103,
          73.235081,
          72.878778,
          72.891347,
          78.44035,
          77.065017,
          76.008497,
          80.272439,
          78.408855,
          75.946896,
          73.939315,
          75.815704,
          78.477865,
          72.902697,
          80.289104,
          77.075017,
          85.35982,
          85.355486,
          75.934592,
          85.415055,
          73.23,
          78.396744,
          76.675808,
          73.907902,
          72.88859,
          72.894715,
          77.634293,
          73.22,
          75.957521,
          73.917902,
          76.640028,
          75.883007,
          77.055017,
          80.334151,
          78.449347,
          73.24,
          75.924592,
          72.883074,
          75.923013,
          75.850753,
          72.91859,
          72.824342,
          72.877808,
          77.8084,
          78.398855,
          75.935704,
          73.838972,
          75.946699,
          75.916896,
          85.365447,
          77.031082,
          73.821081,
          78.572111,
          85.344097,
          78.445467,
          85.385731,
          77.087003,
          75.8223,
          73.94852,
          77.769386,
          73.880327,
          77.680709,
          73.2,
          77.770709,
          75.809034,
          75.904212,
          80.301598,
          77.665428,
          80.286442,
          75.988497,
          85.38982,
          75.916649,
          85.356967,
          77.715999,
          80.378519,
          85.345486,
          85.365146,
          77.081736,
          73.297788,
          77.680489,
          75.95949,
          76.646167,
          80.335235,
          80.281865,
          72.841477,
          80.319982,
          72.856191,
          85.355447,
          76.991876,
          76.635861,
          75.887333,
          75.934765,
          80.28311,
          77.676014,
          76.702278,
          72.937385,
          80.240672,
          78.428213,
          72.912381,
          72.893074,
          77.725797,
          75.772891,
          72.838778,
          72.914342,
          77.720489,
          77.048349,
          72.821477,
          77.075393,
          73.985101,
          75.958497,
          72.966191,
          77.756664,
          72.824115,
          72.84765,
          80.329982,
          76.993303,
          80.269982,
          78.476744,
          76.757961,
          80.295235,
          80.37147,
          78.434423,
          77.015525,
          73.864855,
          85.365347,
          78.484423,
          72.839122,
          72.915451,
          78.468321,
          72.873984,
          76.653067,
          72.884209,
          85.386842,
          85.406967,
          72.814115,
          73.934337,
          73.814723,
          80.332268,
          77.044311,
          76.68665,
          75.961991,
          77.016268,
          72.834115,
          75.952471,
          77.069594,
          72.829292,
          73.843572,
          80.301898,
          73.940547,
          85.335055,
          72.872585,
          85.405731,
          77.710709,
          72.799122,
          72.821953,
          75.947522,
          72.869976,
          72.882629,
          73.92852,
          85.345739,
          72.963984,
          77.624293,
          80.374151,
          75.906059,
          76.974652,
          76.685808,
          72.835451,
          76.61665,
          77.753685,
          77.006241,
          76.679264,
          85.336842,
          80.310744,
          75.899034,
          77.056241,
          78.427865,
          73.855901,
          80.367221,
          78.559578,
          76.028497,
          72.842629,
          78.469347,
          75.937522,
          77.045667,
          75.964212,
          85.394253,
          73.979315,
          72.893984,
          77.786664,
          75.873139,
          85.454253,
          75.937282,
          76.984652,
          72.884115,
          76.695861,
          73.275081,
          72.879976,
          76.707961,
          75.927648,
          80.307221,
          77.7584,
          72.948493,
          75.839034,
          73.218921,
          77.065667,
          77.710625,
          72.839976,
          73.925367,
          78.379645,
          72.938493,
          73.215081,
          78.455883,
          80.361865,
          76.673622,
          75.844592,
          77.062076,
          72.869292,
          73.904723,
          85.4472,
          78.482621,
          80.302439,
          77.666014,
          80.340744,
          72.862731,
          75.830512,
          80.315235,
          76.631094,
          85.3872,
          76.762278,
          75.78282,
          75.911991,
          75.902574,
          75.919034,
          73.199083,
          85.365055,
          73.205012,
          76.003106,
          78.425467,
          80.256442,
          76.709103,
          76.71665,
          73.180937,
          73.910626,
          80.271898,
          77.109594,
          72.928493,
          75.907282,
          72.987385,
          72.901347,
          77.085667,
          72.778778,
          80.348114,
          78.453391,
          77.725748,
          77.046268,
          77.058349,
          85.375486,
          75.884257,
          80.258812,
          78.527225,
          77.04544,
          72.886749,
          78.488213,
          77.116241,
          75.893013,
          80.312268,
          75.842821,
          72.850489,
          78.529578,
          75.904592,
          76.692278,
          76.760028,
          85.416967,
          72.873074,
          80.241898,
          85.336967,
          73.959315,
          75.963106,
          75.976699,
          75.904257,
          80.241598,
          76.024377,
          77.02295,
          72.847808,
          78.48035,
          76.980432,
          75.832891,
          72.854115,
          76.002471,
          73.989315,
          80.268519,
          78.548213,
          75.77282,
          75.8623,
          77.7884,
          72.864492,
          75.9334,
          85.46982,
          77.025525,
          85.37982,
          78.402621,
          73.954337,
          75.833007,
          72.831953,
          80.306442,
          72.899976,
          78.399347,
          76.775808,
          73.97852,
          80.272268,
          76.016959,
          72.802697,
          77.775748,
          85.3829,
          73.177788,
          73.838206,
          73.990626,
          73.288921,
          78.448855,
          76.681094,
          75.956059,
          78.510366,
          73.793572,
          72.845203,
          72.831477,
          73.936619,
          85.345731,
          72.874136,
          78.435883,
          72.814342,
          78.479578,
          80.25311,
          77.685396,
          76.637889,
          76.749264,
          80.284791,
          77.039594,
          77.002076,
          77.685999,
          73.965367,
          77.085393,
          75.932934,
          75.902471,
          78.414423,
          72.812697,
          75.890753,
          76.666792,
          72.906721,
          78.469654,
          73.875901,
          73.928206,
          77.665748,
          73.185012,
          75.860753,
          73.915101,
          77.106494,
          78.437865,
          76.655861,
          72.849976,
          72.854209,
          78.477225,
          80.26311,
          73.910547,
          73.996619,
          72.834136,
          76.709264,
          72.906749,
          78.498855,
          72.923074,
          72.882658,
          85.385486,
          72.851347,
          76.996494,
          80.280744,
          72.868059,
          72.917385,
          76.689264,
          75.840753,
          80.290744,
          76.660583,
          75.812821,
          76.722278,
          75.932574,
          80.228114,
          75.83282,
          73.828206,
          72.879292,
          72.808059,
          80.266442,
          76.991736,
          77.073303,
          74.007902,
          80.229104,
          73.865901,
          75.890512,
          72.962585,
          76.710583,
          78.447495,
          73.237788,
          85.407872,
          73.862527,
          73.18,
          75.932471,
          75.947333,
          85.435447,
          77.644293,
          77.041082,
          72.924136,
          77.705428,
          77.061736,
          77.729386,
          72.865451,
          75.796649,
          72.804115,
          78.567225,
          73.200937,
          85.395146,
          76.63665,
          76.662278,
          72.819292,
          78.435467,
          72.824492,
          72.932381,
          75.842083,
          75.886699,
          77.047003,
          73.956619,
          77.05544,
          85.394097,
          77.093303,
          75.941991,
          73.918429,
          75.872934,
          78.447865,
          73.906485,
          73.902527,
          77.829386,
          73.965101,
          78.515883,
          78.395467,
          77.763237,
          75.922574,
          76.646792,
          77.690625,
          78.403391,
          85.36982,
          85.395739,
          77.733685,
          72.852697,
          75.823604,
          78.475883,
          75.954212,
          80.358519,
          72.90765,
          72.935451,
          80.254568,
          77.653685,
          76.971736,
          77.806664,
          73.225081,
          72.921347,
          76.658203,
          72.881953,
          80.318519,
          75.942574,
          76.678203,
          75.883604,
          73.915901,
          85.335447,
          75.843007,
          76.636792,
          75.907333,
          77.029594,
          77.709386,
          72.844492,
          77.626155,
          78.407865,
          76.950432,
          80.27147,
          85.354097,
          73.932527,
          73.794723,
          76.032847,
          72.864136,
          73.850327,
          85.395347,
          76.022574,
          75.840689,
          77.620997,
          77.030432,
          73.870328,
          73.955101,
          72.914715,
          76.727889,
          75.984377,
          80.311898,
          78.529654,
          77.036241,
          80.298114,
          72.894492,
          72.934342,
          77.035525,
          76.73262,
          76.715861,
          75.966959,
          80.246442,
          75.802891,
          75.832934,
          76.755169,
          75.762821,
          72.917808,
          77.813237,
          76.628203,
          85.414253,
          77.055667,
          80.341865,
          78.508213,
          78.448213,
          75.897333,
          72.942658,
          77.066241,
          80.258114,
          73.207753,
          78.528213,
          85.404253,
          77.715748,
          75.971991,
          77.02544,
          85.405146,
          77.636155,
          85.385146,
          74.009315,
          76.656167,
          77.650709,
          76.627889,
          80.261865,
          77.743237,
          75.976362,
          77.600997,
          85.3272,
          76.014212,
          76.734878,
          77.695428,
          85.436967,
          76.69665,
          72.909976,
          72.873616,
          80.264791,
          78.489654,
          76.71262,
          72.83765,
          73.98852,
          78.349645,
          77.725396,
          72.911347,
          77.055393,
          75.810512,
          77.051876,
          72.828666,
          78.560366,
          85.4629,
          76.693622,
          75.904377,
          80.301865,
          72.854136,
          77.684293,
          77.616014,
          72.886191,
          72.846721,
          73.230283,
          72.93765,
          75.813013,
          73.834723,
          73.815901,
          75.816896,
          77.665999,
          72.863984,
          77.656155,
          72.896749,
          77.700997,
          76.710028,
          78.539654,
          80.300672,
          78.53035,
          75.896959,
          78.428321,
          80.228812,
          77.006494,
          85.446842,
          80.381865,
          72.888059,
          77.655396,
          72.798726,
          78.474423,
          85.346842,
          77.726791,
          73.882527,
          77.018349,
          76.659103,
          72.888923,
          80.292439,
          75.886896,
          76.647961,
          77.66413,
          75.786649,
          75.953365,
          73.848972,
          80.234568,
          80.304151,
          75.887282,
          76.994652,
          85.415731,
          85.345347,
          72.871953,
          72.802629,
          77.718179,
          76.994311,
          75.80282,
          73.277788,
          85.450464,
          80.262439,
          72.955203,
          73.204798,
          77.720709,
          80.330672,
          78.389645,
          75.938497,
          77.68413,
          85.460464,
          75.884592,
          73.938972,
          78.530366,
          77.005667,
          85.375347,
          77.730709,
          76.755861,
          72.939976,
          85.385447,
          85.405055,
          85.406842,
          72.843616,
          85.345447,
          73.863572,
          73.844855,
          77.645999,
          77.061082,
          72.895203,
          78.438321,
          85.44982,
          72.859292,
          72.943074,
          73.888206,
          76.986494,
          77.705797,
          76.647889,
          77.025667,
          72.824209,
          74.045367,
          72.852731,
          75.910512,
          73.825901,
          73.277753,
          72.842585,
          77.628179,
          75.943365,
          76.992076,
          72.862697,
          72.937808,
          75.933365,
          76.684878,
          72.778726,
          72.912658,
          75.842934,
          72.822697,
          77.658179,
          78.487495,
          80.267221,
          75.963365,
          77.081082,
          72.846191,
          78.395883,
          75.996699,
          78.592111,
          72.904715,
          75.943106,
          78.405467,
          72.838666,
          76.706792,
          75.982471,
          72.842697,
          77.670625,
          73.198921,
          73.986619,
          72.908059,
          72.88765,
          72.889976,
          76.705169,
          72.918923,
          80.264568,
          77.650997,
          85.337872,
          75.944167,
          73.234798,
          80.328114,
          76.699264,
          85.405347,
          75.948497,
          80.338519,
          75.863013,
          75.879034,
          77.685428,
          75.9323,
          75.857333,
          76.755808,
          77.011082,
          75.862934,
          75.799034,
          76.697889,
          72.875503,
          75.812934,
          73.238921,
          77.630997,
          77.636791,
          80.214568,
          80.299104,
          77.7484,
          77.064311,
          72.860489,
          80.291898,
          72.812629,
          75.904765,
          78.540366,
          73.294798,
          75.896896,
          80.345235,
          73.299083,
          73.831081,
          85.344253,
          75.894167,
          75.991991,
          85.4272,
          78.446744,
          85.396967,
          77.003303,
          73.845901,
          80.361598,
          85.375447,
          77.015017,
          73.247788,
          73.950626,
          78.419645,
          80.291865,
          77.665396,
          76.719264,
          75.834257,
          73.964337,
          72.837808,
          77.004311,
          73.834855,
          78.426744,
          75.843139,
          75.852083,
          77.071876,
          75.947429,
          77.067003,
          77.63413,
          85.3372,
          77.010432,
          78.454423,
          72.811477,
          72.888666,
          76.680583,
          72.903074,
          73.823572,
          72.997385,
          76.795808,
          76.675861,
          78.477554,
          77.137003,
          77.088349,
          77.04295,
          75.962471,
          85.365739,
          72.82859,
          75.89282,
          78.522621,
          76.004377,
          77.097003,
          76.641094,
          78.467865,
          75.924377,
          77.685748,
          80.251598,
          75.782891,
          75.820753,
          72.944492,
          77.779386,
          77.809386,
          72.865503,
          75.822083,
          76.739264,
          72.855203,
          75.860512,
          80.309982,
          75.9534,
          80.322268,
          75.967648,
          73.210283,
          85.334097,
          72.859122,
          76.677889,
          85.365731,
          73.947902,
          72.870489,
          76.68262,
          73.018493,
          77.618179,
          85.366842,
          77.638179,
          72.865553,
          77.01295,
          73.174798,
          72.907808,
          72.81859,
          73.91852,
          75.847282,
          77.698179,
          72.856721,
          80.239104,
          75.924765,
          72.794209,
          75.929034,
          76.760583,
          75.974212,
          77.105393,
          75.846896,
          75.907648,
          72.871347,
          75.903604,
          72.903616,
          72.842658,
          73.197753,
          85.42982,
          75.897522,
          72.868666,
          72.883984,
          77.668179,
          77.716664,
          75.964167,
          77.675396,
          75.914377,
          76.746792,
          77.735396,
          73.240937,
          80.270744,
          75.91949,
          77.01544,
          75.855704,
          73.972527,
          78.452621,
          80.334791,
          73.881081,
          77.034311,
          77.666155,
          73.179083,
          75.966362,
          73.976485,
          80.271598,
          77.650625,
          72.835553,
          75.927282,
          72.942381,
          75.877282,
          85.375055,
          75.953106,
          76.726792,
          72.918493,
          72.894342,
          72.832629,
          85.3972,
          77.723237,
          76.643067,
          78.517225,
          73.038493,
          73.974337,
          78.499578,
          74.02852,
          77.670709,
          78.447225,
          75.823007,
          72.829122,
          72.935203,
          76.748203,
          75.88282,
          85.335347,
          77.735748,
          75.974167,
          73.803572,
          76.651094,
          76.01949,
          73.854723,
          78.457225,
          72.809292,
          72.926191,
          77.117003,
          78.502621,
          73.872527,
          75.837282,
          76.712278,
          72.919122,
          75.968497,
          80.39147,
          77.62413,
          80.252268,
          72.866191,
          73.900327,
          72.957808,
          85.374253,
          73.249083,
          72.858778,
          73.300937,
          76.638203,
          77.693685,
          72.958493,
          75.877333,
          80.341598,
          78.428855,
          75.835704,
          85.454097,
          73.848206,
          78.582111,
          75.762891,
          80.316442,
          78.445883,
          76.022471,
          76.696167,
          76.735169,
          75.862083,
          73.937902,
          80.324791,
          75.910689,
          78.494423,
          77.016494,
          77.056494,
          72.852658,
          76.686167,
          73.861081,
          80.244568,
          73.230937,
          73.878972,
          75.954377,
          72.878923,
          75.896059,
          85.435055,
          75.997522,
          73.868972,
          80.359982,
          72.898726,
          72.866749,
          73.935367,
          77.688179,
          72.87859,
          76.742278,
          73.970626,
          80.279982,
          72.905451,
          73.925101,
          85.445486,
          72.864342,
          76.747889,
          77.705396,
          75.994212,
          75.895704,
          75.8923,
          75.927429,
          72.868923,
          76.983303,
          72.855553,
          85.395055,
          75.906699,
          76.714878,
          72.864209,
          80.259982,
          80.346442,
          76.745808,
          75.933139,
          77.610997,
          85.376967,
          72.838726,
          77.128349,
          72.913984,
          72.858059,
          77.06295,
          72.853074,
          73.257788,
          76.668203,
          77.625428,
          78.448321,
          73.987902,
          75.987429,
          72.883616,
          75.916959,
          77.686155,
          75.876699,
          80.355235,
          75.952574,
          77.655999,
          85.335731,
          75.946959,
          75.977429,
          77.06544,
          73.26,
          73.180283,
          85.465486,
          77.720625,
          77.750625,
          85.435146,
          75.870689,
          72.904136,
          77.694293,
          75.850512,
          72.822731,
          78.367554,
          77.125017,
          73.795901,
          76.725169,
          72.936749,
          75.914167,
          73.280937,
          77.646014,
          75.977648,
          75.863007,
          75.892891,
          72.834209,
          75.967333,
          77.101082,
          72.842731,
          75.853139,
          77.046241,
          77.001736,
          72.885553,
          78.406744,
          77.745797,
          77.022076,
          77.051082,
          76.751094,
          73.184798,
          85.386967,
          75.833604,
          77.021082,
          78.499654,
          85.375739,
          78.467495,
          72.924715,
          75.9834,
          80.194568,
          75.875704,
          78.387554,
          73.940327,
          72.927385,
          72.853616,
          78.458213,
          72.884715,
          75.822934,
          78.478855,
          75.924167,
          76.756167,
          80.30147,
          77.675797,
          73.927902,
          72.874492,
          76.687889,
          72.952381,
          73.888972,
          72.895451,
          73.3,
          80.328519,
          80.312439,
          78.550366,
          77.027003,
          72.924115,
          85.415447,
          73.880547,
          77.026268,
          77.793237,
          75.934212,
          75.97949,
          80.325235,
          73.239083,
          77.664293,
          77.021876,
          76.650028,
          75.906959,
          78.407554,
          73.945101,
          77.745428,
          75.880689,
          75.814592,
          78.457865,
          75.897648,
          85.415739,
          85.365486,
          77.759386,
          74.026485,
          76.66262,
          85.345055,
          75.8423,
          80.288812,
          78.369645,
          80.34147,
          76.749103,
          75.967522,
          80.305235,
          78.464423,
          77.085017,
          85.345146,
          78.463391,
          76.98295,
          77.706791,
          77.043303,
          77.005525,
          80.380744,
          75.928497,
          77.660997,
          75.906362,
          77.001876,
          73.967902,
          72.791477,
          72.967385,
          73.268921,
          76.70262,
          80.282268,
          74.010626,
          75.886649,
          77.636014,
          77.045017,
          73.255012,
          78.359645,
          72.920489,
          73.274798,
          77.766664,
          80.385235,
          73.955367,
          75.982574,
          72.854715,
          85.356842,
          75.976959,
          75.9634,
          77.635797,
          85.397872,
          85.376842,
          72.887808,
          72.834492,
          77.108349,
          72.799292,
          73.903572,
          73.995101,
          77.670489,
          80.364791,
          76.704878,
          75.866649,
          80.259104,
          78.485467,
          78.457554,
          73.814855,
          76.642278,
          73.200283,
          73.912527,
          77.695396,
          77.680997,
          72.971347,
          75.893139,
          80.28147,
          78.602111,
          76.62665,
          80.261898,
          75.867282,
          77.037003,
          75.908497,
          75.940512,
          76.961736,
          77.014652,
          75.896362,
          80.27311,
          75.814257,
          74.034337,
          80.33147,
          76.985525,
          73.245012,
          76.636167,
          75.834592,
          75.9123,
          72.808726,
          77.035667,
          78.418855,
          78.417865,
          73.949315,
          80.297221,
          75.934167,
          75.915704,
          75.826649,
          75.933007,
          76.696792,
          76.729103,
          85.455447,
          77.021736,
          76.698203,
          75.917333,
          75.916362,
          73.761081,
          77.776664,
          76.740028,
          72.900489,
          72.844715,
          78.538321,
          75.993365,
          78.682111,
          80.339982,
          75.836649,
          77.713237,
          75.864592,
          75.847333,
          80.260744,
          75.810689,
          78.442621,
          78.46035,
          78.520366,
          75.913013,
          85.3772,
          73.968429,
          77.676155,
          77.683685,
          85.40982,
          72.788059,
          76.66665,
          77.65413,
          77.6984,
          72.854342,
          85.3672,
          76.981082,
          72.884136,
          73.96852,
          75.885704,
          77.646791,
          75.822891,
          73.783572,
          75.9734,
          75.870753,
          72.798778,
          72.906191,
          80.29147,
          78.517495,
          72.923984,
          77.726155,
          72.863616,
          78.505467,
          73.197788,
          77.023303,
          78.459578,
          77.64413,
          73.022281,
          77.082076,
          75.930689,
          73.919315,
          77.660625,
          72.998493,
          73.957902,
          77.730625,
          75.863604,
          73.187753,
          77.035017,
          76.0034,
          73.012281,
          77.094311,
          77.077003,
          77.057003,
          77.016241,
          72.931953,
          76.973303,
          76.669103,
          72.875553,
          77.674293,
          73.895901,
          72.812731,
          76.683067,
          72.83859,
          73.888429,
          80.262268,
          75.926059,
          75.849034,
          76.652278,
          77.678179,
          85.3929,
          76.016362,
          77.655428,
          85.355146,
          72.951347,
          78.590366,
          78.405883,
          72.919976,
          72.902381,
          85.455146,
          72.792697,
          75.813604,
          73.883572,
          76.711094,
          73.175081,
          78.570366,
          75.892083,
          75.924257,
          72.814136,
          77.626791,
          76.740583,
          73.848429,
          76.728203,
          75.922847,
          72.788778,
          80.277221,
          74.029315,
          72.852629,
          78.622111,
          78.422621,
          85.420464,
          85.374097,
          76.67665,
          76.720583,
          75.823013,
          78.509347,
          73.194798,
          73.245081,
          77.710489,
          78.45035,
          73.824723,
          72.864715,
          78.458321,
          85.425486,
          72.844342,
          72.922731,
          73.929315,
          85.520464,
          75.926362,
          73.930626,
          77.017003,
          76.733067,
          74.046619,
          78.509654,
          80.405235,
          72.845451,
          77.095393,
          73.852527,
          72.962658,
          77.700489,
          77.705999,
          72.833616,
          75.914212,
          72.978493,
          76.954652,
          73.909315,
          80.387221,
          78.439645,
          72.843984,
          77.738179,
          73.037385,
          85.385347,
          77.005017,
          72.982281,
          75.832083,
          72.880489,
          77.105017,
          77.000432,
          73.28,
          77.746155,
          80.310672,
          73.280283,
          77.675999,
          85.355731,
          78.458855,
          75.833013,
          80.299982,
          75.904167,
          75.856896,
          73.042281,
          75.933604,
          85.375146,
          73.209083,
          80.238114,
          80.384791,
          75.903106,
          73.21,
          78.509578,
          72.905203,
          78.457495,
          77.736664,
          75.907522,
          77.686791,
          80.302268,
          76.623067,
          77.685797,
          76.023106,
          73.215012,
          78.498213,
          76.69262,
          73.840328,
          78.630366,
          72.834342,
          85.405447,
          80.298812,
          76.65262,
          77.726664,
          78.377554,
          75.867333,
          73.260937,
          75.956699,
          75.913365,
          78.357554,
          76.716167,
          72.899292,
          80.294791,
          73.255081,
          76.98544,
          75.992847,
          72.866721,
          80.268812,
          77.066494,
          73.805901,
          80.365235,
          73.952527,
          75.937648,
          73.946619,
          72.928923,
          72.782697,
          80.248812,
          76.706167,
          73.062281,
          73.918972,
          72.830489,
          75.874592,
          72.89859,
          76.688203,
          76.653622,
          80.304568,
          78.632111,
          77.755396,
          77.703237,
          73.894855,
          80.274791,
          73.940626,
          72.896721,
          76.666167,
          72.992281,
          75.853013,
          72.863074,
          77.706014,
          75.884765,
          76.686792,
          76.699103,
          75.924212,
          73.884855,
          76.663622,
          77.655748,
          76.671094,
          78.427554,
          78.489347,
          77.695797,
          73.976619,
          72.872731,
          75.937429,
          78.415467,
          73.168921,
          77.648179,
          85.34982,
          85.414097,
          73.975367,
          75.90949,
          75.946059,
          72.892658,
          77.066268,
          77.052076,
          76.669264,
          76.981736,
          75.890689,
          75.843604,
          77.08295,
          75.976059,
          72.95765,
          76.004765,
          80.274151,
          72.915203,
          72.904209,
          77.645797,
          80.32311,
          85.434097,
          76.72262,
          77.019594,
          73.868429,
          72.86765,
          73.90852,
          85.347872,
          80.285235,
          78.559654,
          75.954167,
          72.946191,
          72.823074,
          78.497225,
          85.3429,
          74.035101,
          73.300283,
          85.455055,
          72.942585,
          75.920753,
          75.957648,
          75.862891,
          78.562111,
          78.416744,
          73.985367,
          76.77262,
          85.440464,
          73.920547,
          72.964715,
          77.086268,
          77.6884,
          77.656014,
          72.895553,
          80.31311,
          72.801477,
          72.926749,
          75.854257,
          76.96295,
          75.934257,
          76.991082,
          78.612111,
          73.032281,
          75.936059,
          75.8723,
          77.054311,
          85.3472,
          77.031736,
          77.693237,
          72.851477,
          72.845503,
          75.860689,
          76.995525,
          85.405739,
          72.798666,
          77.102076,
          76.713622,
          77.753237,
          77.735999,
          72.84859,
          72.884492,
          72.912585,
          77.675428,
          72.966721,
          72.805503,
          75.931991,
          75.903007,
          75.912574,
          80.321598,
          75.917429,
          77.011736,
          78.459347,
          75.946362,
          77.011876,
          80.352439,
          73.969315,
          72.938923,
          72.958923,
          80.278519,
          75.9234,
          85.384097,
          76.705861,
          76.685169,
          75.967429,
          76.672278,
          75.833139,
          78.496744,
          75.829034,
          72.891953,
          73.922527,
          72.855503,
          72.882585,
          73.994337,
          75.823139,
          77.704293,
          80.326442,
          75.802934,
          78.518321,
          76.626792,
          77.650489,
          72.788666,
          78.388855,
          73.858206,
          80.360744,
          73.870547,
          73.771081,
          80.314791,
          72.947385,
          78.47035,
          77.025017,
          76.0234,
          75.942847,
          78.427495,
          72.865203,
          73.841081,
          77.028349,
          85.326842,
          80.352268,
          77.724293,
          72.885503,
          76.723622,
          78.487865,
          73.874855,
          80.270672,
          72.849122,
          77.755999,
          72.845553,
          75.930512,
          75.952847,
          73.928429,
          73.878429,
          73.208921,
          77.024652,
          73.986485,
          72.976749,
          75.857282,
          76.014167,
          76.775169,
          73.220937,
          72.818666,
          72.876749,
          72.815503,
          75.9423,
          75.997648,
          74.005367,
          77.03295,
          72.977385,
          72.808666,
          76.725808,
          73.082281,
          76.661094,
          77.640997,
          80.258519,
          85.377872,
          77.074652,
          77.049594,
          80.231898,
          77.020432,
          75.984765,
          72.881347,
          80.304791,
          77.755748,
          77.111876,
          80.308519,
          77.645428,
          85.4229,
          77.008349,
          76.645861,
          80.288114,
          75.846649,
          76.736167,
          75.8823,
          73.926485,
          80.344791,
          77.70413,
          75.932847,
          77.713685,
          78.432621,
          75.964765,
          75.912847,
          72.862585,
          77.078349,
          77.749386,
          85.480464,
          73.205081,
          73.868206,
          76.663067,
          73.19,
          80.251898,
          77.025393,
          80.249104,
          85.435347,
          77.089594,
          80.330744,
          72.922658,
          80.289982,
          75.902934,
          73.890327,
          77.091876,
          74.015101,
          76.99295,
          85.384253,
          76.693067,
          75.913106,
          75.926959,
          75.936699,
          77.059594,
          80.34311,
          85.455731,
          80.31147,
          72.803616,
          72.862658,
          77.013303,
          72.788726,
          76.679103,
          72.93859,
          75.93949,
          77.036494,
          80.218812,
          72.835503,
          77.706155,
          72.878726,
          73.190937,
          75.840512,
          78.539578,
          75.916059,
          73.934855,
          76.729264,
          72.843074,
          80.294151,
          73.195081,
          75.824592,
          72.861953,
          78.478321,
          75.825704,
          72.874342,
          76.703622,
          75.803013,
          75.793013,
          77.770625,
          73.295012,
          73.858972,
          78.642111,
          75.853604,
          72.904115,
          77.08544,
          76.657889,
          77.7684,
          75.926699,
          73.240283,
          85.395731,
          74.006619,
          75.917522,
          85.434253,
          85.364253,
          75.820512,
          77.69413,
          76.990432,
          75.977522,
          77.703685,
          73.936485,
          75.792821,
          80.278812,
          76.73665,
          76.695169,
          75.936896,
          75.944377,
          72.89765,
          73.854855,
          77.009594,
          75.921991,
          75.912471,
          78.41035,
          73.195012,
          77.7284,
          73.908972,
          73.840547,
          77.826664,
          72.820489,
          72.781477,
          78.389347,
          76.708203,
          72.956749,
          75.922934,
          77.733237,
          80.284151,
          77.67413,
          72.899122,
          73.944337,
          72.848778,
          77.03544,
          78.534423,
          75.8523,
          78.467225,
          76.970432,
          76.715169,
          75.883139,
          85.355739,
          78.516744,
          73.190283,
          73.781081,
          72.908923,
          72.876721,
          78.523391,
          78.378855,
          80.260672,
          76.720028,
          75.842891,
          80.308114,
          78.466744,
          72.857808,
          73.818206,
          75.9134,
          78.473391,
          72.935553,
          77.606014,
          85.335146,
          72.824136,
          72.859976,
          78.339645,
          85.366967,
          72.782629,
          75.933106,
          76.789264,
          80.30311,
          78.413391,
          76.700028,
          76.649103,
          75.792891,
          73.808206,
          77.660489,
          75.882083,
          72.896191,
          75.957429,
          75.854592,
          75.942083,
          73.254798,
          76.665861,
          72.811953,
          76.694878,
          80.279104,
          76.764878,
          76.682278,
          72.804209,
          73.228921,
          75.983365,
          72.858666,
          73.890547,
          76.773622,
          80.332439,
          76.737961,
          72.818726,
          75.894765,
          77.033303,
          77.730489,
          73.279083,
          73.189083,
          78.497495,
          76.640583,
          75.972574,
          78.409347,
          72.832731,
          80.282439,
          76.639103,
          72.862629,
          73.945367,
          72.85859,
          85.3572,
          85.445739,
          72.902629,
          75.812891,
          77.085525,
          78.433391,
          75.962847,
          72.855451,
          80.296442,
          78.436744,
          75.843013,
          75.873604,
          77.715396,
          80.284568,
          78.495883,
          75.873013,
          72.892381,
          75.803604,
          73.935101,
          73.975101,
          77.700625,
          73.248921,
          75.996959,
          75.940689,
          77.001082,
          80.269104,
          78.456744,
          77.125667,
          75.94949,
          78.547225,
          75.96949,
          80.36311,
          77.004652,
          80.322439,
          75.874257,
          75.807282,
          78.503391,
          76.707889,
          77.042076,
          75.994167,
          85.500464,
          73.858429,
          75.803007,
          76.735808,
          78.399645,
          72.804136,
          76.996268,
          75.944212,
          72.916721,
          77.646155,
          73.217788,
          76.744878,
          85.456967,
          77.076241,
          72.988493,
          77.075667,
          73.900547,
          85.426842,
          80.321865,
          72.844209,
          73.920327,
          77.014311,
          78.489578,
          73.052281,
          76.701094,
          80.372439,
          75.864257,
          85.425739,
          78.415883,
          73.908206,
          80.320744,
          74.026619,
          72.924492,
          85.4029,
          80.204568,
          73.948429,
          80.344151,
          75.880753,
          80.337221,
          80.281598,
          76.613067,
          75.806649,
          75.940753,
          72.835203,
          73.229083,
          73.864723,
          77.145393,
          72.800489,
          80.317221,
          72.813616,
          75.812083,
          75.922471,
          73.260283,
          73.185081,
          75.830753,
          72.955451,
          73.801081,
          77.665797,
          72.957385,
          77.054652,
          78.43035,
          80.366442,
          76.735861,
          77.056268,
          78.437554,
          75.853007,
          73.187788,
          85.3629,
          72.838059,
          78.423391,
          73.244798,
          77.061876,
          76.633067,
          77.690709,
          75.927333,
          85.410464,
          73.892527,
          73.93852,
          77.695999,
          72.881477,
          77.026241,
          75.824257,
          72.828778,
          72.922381,
          76.650583,
          78.537495,
          75.982847,
          72.959976,
          77.055525,
          78.439347,
          80.35147,
          72.858726,
          77.105525,
          75.859034,
          76.64665,
          72.823616,
          80.298519,
          80.32147,
          80.280672,
          75.92949,
          85.4129,
          76.690583,
          76.784878,
          85.455347,
          77.114311,
          73.860547,
          73.824855,
          85.415486,
          75.826896,
          76.680028,
          75.870512,
          80.184568,
          72.898778,
          72.87765,
          75.932083,
          85.435731,
          80.268114,
          76.745169,
          73.227753,
          77.068349,
          77.770489,
          77.012076,
          75.882891,
          78.424423,
          72.955553,
          80.311598,
          72.828726,
          73.813572,
          78.419347,
          74.006485,
          73.811081,
          85.395486,
          76.033365,
          75.936959,
          80.271865,
          77.696155,
          72.892585,
          78.417495,
          77.7184,
          77.006268,
          76.982076,
          77.036268,
          72.802731,
          80.252439,
          75.983106,
          75.923604,
          76.753622,
          75.973365,
          76.75262,
          73.225012,
          73.224798,
          80.351898,
          75.923106,
          75.996362,
          77.616791,
          85.395447,
          72.875451,
          75.9434,
          75.964377,
          78.465883,
          78.487225,
          80.24311,
          75.956362,
          72.853984,
          75.8323,
          75.950753,
          72.874715,
          72.832697,
          85.404097,
          76.717961,
          78.444423,
          75.816649,
          77.656791,
          72.872658,
          80.250672,
          73.178921,
          77.046494,
          80.329104,
          75.866896,
          77.686014,
          73.960327,
          78.507865,
          78.437495,
          80.327221,
          73.910327,
          72.943984,
          72.840489,
          72.905553,
          73.210937,
          76.011991,
          73.908429,
          72.810489,
          73.850547,
          75.886059,
          73.188921,
          73.977902,
          77.726014,
          77.050432,
          76.691094,
          72.818059,
          75.927522,
          77.666791,
          73.946485,
          77.079594,
          72.903984,
          72.916749,
          72.867808,
          85.396842,
          78.580366,
          74.030626,
          74.027902,
          76.027429,
          73.960626,
          85.41982,
          80.349104,
          75.82282,
          80.261598,
          77.086494,
          78.579578,
          77.7384,
          75.817282,
          73.214798,
          76.674878,
          75.863139,
          73.914337,
          78.067044,
          72.864115,
          78.104095,
          78.124095,
          78.134095,
          78.184095,
          78.174095,
          78.117044,
          78.074095,
          78.097044,
          78.127044,
          78.167044,
          78.064095,
          78.197044,
          78.114095,
          78.107044,
          78.054095,
          78.077044,
          78.087044,
          78.147044,
          78.094095,
          78.154095,
          78.137044,
          78.187044,
          75.482353,
          75.85982,
          88.424453,
          77.47702,
          75.333503,
          73.980889,
          80.445628,
          75.842103,
          73.838172,
          81.949744,
          81.874841,
          75.962199,
          81.894841,
          78.155359,
          75.878259,
          80.372677,
          75.373503,
          88.384453,
          81.889682,
          73.769478,
          75.866808,
          77.528886,
          88.442885,
          76.425397,
          88.494878,
          77.493571,
          88.462885,
          77.527227,
          81.923167,
          78.064222,
          88.374878,
          88.45331,
          88.364127,
          75.86982,
          80.353458,
          77.465361,
          75.951847,
          76.356999,
          77.518236,
          77.454976,
          76.359516,
          75.901338,
          75.876976,
          75.889615,
          75.398419,
          77.498236,
          75.388419,
          78.157151,
          77.539989,
          81.920187,
          77.485361,
          75.384792,
          75.872103,
          78.069117,
          77.429605,
          76.330019,
          88.37231,
          75.417127,
          75.463942,
          81.844492,
          76.313936,
          73.806668,
          80.4781,
          76.415397,
          73.956911,
          76.387361,
          88.37783,
          77.403573,
          78.091544,
          80.323458,
          80.357833,
          75.902103,
          76.336783,
          75.823112,
          88.503187,
          76.365397,
          88.44783,
          78.070221,
          77.524976,
          76.440019,
          78.090453,
          76.322981,
          78.150267,
          78.207079,
          88.454453,
          78.137079,
          75.436017,
          75.961847,
          73.793606,
          78.130221,
          77.544007,
          80.349775,
          81.866167,
          78.072543,
          76.315447,
          76.348258,
          76.341128,
          81.882616,
          76.325001,
          75.433942,
          78.093162,
          81.871889,
          81.974279,
          75.443942,
          73.789092,
          78.150221,
          75.392353,
          88.374453,
          78.084222,
          88.382504,
          75.382405,
          80.494002,
          75.931847,
          75.951817,
          81.940187,
          88.423294,
          75.363503,
          76.385397,
          78.118022,
          80.41,
          88.473294,
          77.458886,
          78.088022,
          73.897423,
          88.382885,
          74.020889,
          80.383564,
          75.861202,
          88.428628,
          75.477127,
          76.376106,
          75.961817,
          78.087553,
          80.502929,
          88.40331,
          77.531663,
          73.935364,
          81.855585,
          78.063162,
          75.863112,
          78.147553,
          88.406217,
          75.869346,
          81.919744,
          78.074222,
          78.065053,
          80.335628,
          88.410467,
          88.490467,
          73.875364,
          75.424792,
          76.316783,
          88.495507,
          78.171187,
          76.333136,
          81.911681,
          75.336722,
          80.323564,
          75.402405,
          73.970889,
          77.443571,
          73.83346,
          73.79575,
          77.453573,
          78.158022,
          78.12299,
          78.155053,
          78.107079,
          76.377361,
          80.406344,
          73.813606,
          75.891338,
          75.366722,
          74.080889,
          75.488888,
          81.852796,
          81.962796,
          75.858259,
          78.060165,
          77.564007,
          81.844841,
          76.356958,
          78.06725,
          88.410581,
          76.305001,
          75.377127,
          73.809092,
          78.045053,
          78.090221,
          75.829346,
          81.964492,
          81.962616,
          75.842199,
          80.3581,
          75.851847,
          88.403294,
          76.355447,
          80.442677,
          81.939682,
          74.030889,
          78.094714,
          78.057553,
          78.152543,
          77.509605,
          81.929744,
          88.359843,
          88.47331,
          88.49783,
          78.097553,
          78.178022,
          75.378419,
          78.121608,
          75.901847,
          75.90172,
          76.413268,
          76.459516,
          77.489989,
          75.901495,
          75.881817,
          81.894502,
          88.434878,
          75.844893,
          81.965585,
          80.4,
          80.337797,
          73.934336,
          77.514007,
          73.896911,
          80.403458,
          76.366106,
          75.88982,
          73.759092,
          75.391461,
          78.116106,
          75.89982,
          76.347589,
          73.924336,
          81.926167,
          76.363268,
          81.966167,
          73.793633,
          80.482929,
          78.15889,
          76.346106,
          78.124714,
          73.835364,
          78.059117,
          76.400019,
          75.892103,
          75.383942,
          73.772294,
          76.293268,
          75.406722,
          73.798172,
          76.365001,
          78.194222,
          78.210453,
          78.07889,
          80.421569,
          81.905585,
          73.848172,
          81.854841,
          75.862199,
          73.872294,
          75.881202,
          73.845364,
          75.851495,
          81.914279,
          81.971889,
          76.475397,
          80.375628,
          75.403403,
          80.333564,
          77.475361,
          75.879346,
          73.783606,
          81.914492,
          75.370775,
          80.492677,
          76.363936,
          78.101544,
          77.563571,
          81.974492,
          75.861817,
          75.953112,
          88.402885,
          75.343503,
          80.402677,
          73.847423,
          88.404878,
          76.356106,
          76.380019,
          81.874502,
          81.919682,
          73.852294,
          81.946167,
          76.386783,
          75.332405,
          88.493452,
          78.141544,
          75.972841,
          75.474792,
          77.438886,
          75.931202,
          75.426017,
          77.447227,
          77.543571,
          81.915585,
          75.400775,
          88.510581,
          75.376722,
          75.408894,
          75.871495,
          76.440631,
          80.369775,
          75.833112,
          88.402337,
          75.849615,
          76.358258,
          75.442353,
          75.406017,
          81.874492,
          75.410775,
          78.139117,
          77.429399,
          78.085053,
          78.144222,
          76.406783,
          81.870187,
          75.412353,
          78.187151,
          75.414792,
          88.52331,
          75.412405,
          88.459843,
          88.444453,
          81.846167,
          75.841338,
          80.46,
          75.796976,
          80.340939,
          78.095053,
          77.494976,
          76.417589,
          75.470775,
          78.119117,
          88.463294,
          75.926976,
          78.075053,
          88.493187,
          77.393573,
          78.105053,
          75.838259,
          75.916976,
          81.853167,
          78.084095,
          76.316106,
          75.85172,
          80.335042,
          80.425628,
          75.360775,
          77.495361,
          76.355001,
          80.367833,
          77.549399,
          88.463452,
          81.971681,
          75.842841,
          77.504976,
          78.13725,
          78.120267,
          76.386106,
          80.441569,
          75.828259,
          78.100165,
          75.93172,
          76.332981,
          73.812294,
          78.075359,
          76.383136,
          75.350775,
          80.457797,
          76.303136,
          78.100267,
          76.426783,
          78.137151,
          80.403564,
          88.460581,
          73.796883,
          76.340019,
          76.357589,
          78.128092,
          80.447833,
          81.916167,
          80.44,
          78.055359,
          77.478886,
          75.851817,
          76.321128,
          73.786668,
          77.439399,
          81.989682,
          76.386958,
          75.949346,
          78.180165,
          88.496217,
          80.377833,
          75.89172,
          75.832199,
          88.503452,
          73.776668,
          76.363136,
          75.96982,
          73.822294,
          88.543187,
          75.871338,
          81.885585,
          80.353564,
          77.464976,
          75.423942,
          78.18299,
          75.872199,
          81.864502,
          81.925585,
          81.909744,
          78.037553,
          78.141187,
          88.444127,
          80.39,
          78.060267,
          80.448656,
          88.372504,
          73.820431,
          80.392796,
          76.391128,
          75.911817,
          76.327361,
          81.944841,
          81.974841,
          73.819478,
          73.879478,
          75.819346,
          78.108092,
          76.346999,
          75.836976,
          73.81346,
          75.447127,
          75.394792,
          77.383573,
          75.841495,
          78.200221,
          80.464002,
          80.442929,
          88.404453,
          78.102543,
          80.462929,
          75.861495,
          88.474453,
          73.994336,
          75.881338,
          88.480467,
          88.435507,
          77.54702,
          76.356783,
          75.912841,
          75.839615,
          81.881889,
          73.836883,
          78.184222,
          77.545361,
          73.840431,
          88.452337,
          80.407797,
          75.868259,
          77.489605,
          80.328656,
          77.509845,
          75.961495,
          73.86346,
          88.413294,
          75.798259,
          75.806976,
          80.432677,
          88.452504,
          78.079117,
          75.497127,
          75.448894,
          75.411461,
          76.335447,
          73.845736,
          78.128022,
          78.193162,
          81.891681,
          81.972616,
          80.392677,
          75.388888,
          75.922739,
          73.802294,
          76.455397,
          74.004336,
          77.469989,
          73.773606,
          78.15299,
          76.336106,
          75.428419,
          76.306783,
          73.796668,
          75.403942,
          80.437797,
          88.453294,
          78.071544,
          80.482796,
          78.078022,
          80.411569,
          81.884236,
          88.460467,
          76.326999,
          73.799478,
          76.345001,
          75.962103,
          80.340708,
          73.86575,
          75.450775,
          75.969615,
          73.974336,
          88.478628,
          81.884492,
          77.449845,
          78.070267,
          88.413273,
          75.839346,
          78.157079,
          78.098022,
          75.896808,
          73.805736,
          76.406999,
          78.198022,
          75.447475,
          75.418419,
          80.404002,
          75.453403,
          78.05725,
          80.407833,
          88.475507,
          78.084714,
          78.076106,
          80.400939,
          76.306106,
          78.202543,
          78.091187,
          78.12725,
          80.428656,
          76.438258,
          77.45702,
          73.859478,
          73.785736,
          81.972796,
          75.347475,
          73.79346,
          77.478236,
          88.414878,
          75.416017,
          76.291128,
          80.439775,
          74.024336,
          81.951889,
          88.389843,
          75.392405,
          81.944492,
          76.435397,
          75.961202,
          88.443452,
          77.459399,
          74.010889,
          76.355211,
          73.77575,
          76.331128,
          75.893112,
          78.107151,
          77.46702,
          75.846808,
          80.336344,
          76.373136,
          88.464127,
          88.395507,
          81.964502,
          88.463187,
          73.80575,
          76.390631,
          80.422796,
          76.348053,
          81.896167,
          78.09889,
          78.08299,
          88.530581,
          78.132543,
          78.13299,
          81.864236,
          88.398628,
          75.326722,
          88.436217,
          76.318053,
          75.951495,
          88.50331,
          73.839478,
          77.488236,
          81.975585,
          80.365628,
          76.379516,
          88.414127,
          80.373458,
          73.786883,
          78.041544,
          74.040889,
          76.370631,
          80.481569,
          81.874279,
          75.889346,
          78.17889,
          81.849744,
          73.780431,
          73.857423,
          77.499845,
          78.130165,
          78.191187,
          75.871202,
          78.159117,
          81.901889,
          75.834893,
          78.186106,
          80.414002,
          73.915364,
          76.340631,
          77.497227,
          80.376344,
          77.479845,
          81.941681,
          88.48331,
          78.09725,
          80.386344,
          73.829092,
          75.431461,
          76.353936,
          78.114222,
          76.343936,
          76.366783,
          75.871817,
          80.373564,
          75.818259,
          73.885364,
          75.914893,
          75.432405,
          77.445361,
          76.466958,
          75.90982,
          73.853459,
          77.477227,
          75.859346,
          88.438628,
          80.390708,
          78.09299,
          80.455628,
          75.420775,
          78.051608,
          73.867423,
          78.170165,
          88.41783,
          77.431663,
          81.990187,
          78.07725,
          75.404792,
          88.563187,
          75.861338,
          75.367475,
          81.854492,
          88.523452,
          81.921889,
          76.409516,
          88.40783,
          73.836911,
          77.469399,
          88.424127,
          81.899744,
          73.887423,
          75.91982,
          77.474976,
          73.779478,
          88.37068,
          88.40231,
          78.174714,
          77.449399,
          76.447361,
          73.800431,
          77.515361,
          76.295001,
          88.384127,
          73.76575,
          77.49702,
          76.368053,
          81.842616,
          76.418258,
          76.292981,
          75.972739,
          74.000889,
          75.378894,
          80.453458,
          78.113162,
          76.355397,
          75.368894,
          88.420467,
          75.413403,
          78.035053,
          73.964336,
          78.141608,
          81.914841,
          88.41231,
          77.419605,
          73.762294,
          80.362796,
          77.459605,
          77.441663,
          76.347361,
          73.815736,
          76.353136,
          88.44068,
          88.44231,
          80.445042,
          81.964841,
          80.457833,
          88.445507,
          88.38231,
          78.041608,
          75.437127,
          80.380708,
          76.375447,
          75.456017,
          75.422353,
          73.816668,
          75.901202,
          81.914236,
          77.411663,
          73.855364,
          88.392336,
          73.789478,
          88.372885,
          77.565361,
          76.426106,
          75.923112,
          75.911495,
          80.382796,
          81.864492,
          75.932199,
          75.396017,
          88.42068,
          75.942841,
          76.396958,
          76.352981,
          80.394002,
          78.13889,
          75.468888,
          81.903167,
          73.866911,
          76.375001,
          78.150165,
          76.312981,
          77.464007,
          80.4881,
          78.15725,
          78.061544,
          80.381569,
          78.077553,
          77.468886,
          78.160453,
          76.388053,
          78.145053,
          73.82575,
          75.386722,
          78.078092,
          77.489845,
          75.342405,
          81.862616,
          78.190221,
          75.327475,
          88.373273,
          80.355042,
          88.439843,
          76.350019,
          75.861847,
          75.831202,
          77.503571,
          88.39068,
          78.11299,
          81.924236,
          75.352405,
          78.068092,
          73.80346,
          76.326783,
          80.350939,
          75.891202,
          73.846883,
          80.338656,
          81.884841,
          75.919615,
          75.393503,
          88.492504,
          80.387833,
          75.86172,
          75.397127,
          80.3681,
          81.944279,
          80.395042,
          75.874893,
          76.393268,
          75.444792,
          75.94982,
          80.43,
          73.846911,
          73.91346,
          81.942616,
          78.138092,
          73.84346,
          74.044336,
          75.353403,
          88.369843,
          75.936808,
          76.398258,
          76.389516,
          76.366958,
          78.08725,
          73.88575,
          73.907423,
          81.981889,
          80.339775,
          77.399605,
          77.544976,
          78.071608,
          75.371461,
          78.120221,
          77.509399,
          75.372405,
          78.087079,
          76.372981,
          81.910187,
          81.964279,
          88.384878,
          73.876911,
          73.790431,
          80.359775,
          75.377475,
          75.869615,
          75.952103,
          80.319775,
          76.313268,
          75.918259,
          75.388894,
          88.332337,
          78.08889,
          81.841681,
          73.856883,
          88.393273,
          73.895364,
          88.412504,
          75.353503,
          88.454878,
          78.07299,
          73.843633,
          75.368888,
          73.990889,
          73.89346,
          80.345042,
          76.378258,
          78.112543,
          81.894279,
          73.830431,
          76.353268,
          80.365042,
          80.472796,
          78.127151,
          78.031544,
          81.859744,
          76.439516,
          80.329775,
          78.124222,
          88.379843,
          78.088092,
          88.394127,
          77.449605,
          78.131187,
          78.077079,
          78.111187,
          80.458656,
          75.432353,
          80.412796,
          78.117553,
          75.398894,
          77.449989,
          78.089117,
          80.379775,
          78.044714,
          88.513187,
          78.050267,
          76.375211,
          75.373403,
          75.383503,
          80.398656,
          88.473187,
          80.372796,
          80.347797,
          76.360631,
          77.50702,
          75.932103,
          73.813633,
          75.852739,
          88.490581,
          78.064714,
          81.963167,
          88.399843,
          75.387127,
          78.180267,
          88.48231,
          75.884893,
          75.430775,
          75.420232,
          81.884502,
          78.106106,
          77.463571,
          73.936911,
          88.453187,
          78.110453,
          75.856808,
          75.407127,
          81.872796,
          78.140221,
          73.878172,
          78.065359,
          80.309775,
          80.4181,
          81.949682,
          88.453452,
          80.384002,
          80.363564,
          77.437227,
          76.405397,
          81.924841,
          77.547227,
          75.426722,
          80.450708,
          78.183162,
          88.483187,
          78.144714,
          80.427833,
          88.363273,
          76.395001,
          77.513571,
          75.962841,
          76.361128,
          75.892199,
          80.382929,
          80.402929,
          75.882841,
          76.376783,
          75.919346,
          77.479989,
          80.453564,
          75.494792,
          73.876883,
          75.390232,
          76.405211,
          78.148022,
          81.979744,
          88.432885,
          73.839092,
          88.372337,
          75.921338,
          75.96172,
          76.419516,
          73.81575,
          88.394453,
          75.849346,
          75.457127,
          78.101608,
          75.961338,
          88.530467,
          73.829478,
          75.408419,
          76.318258,
          73.799092,
          78.11889,
          75.333403,
          73.769092,
          78.125359,
          78.151608,
          77.484007,
          88.425507,
          78.025053,
          76.376958,
          75.430232,
          75.928259,
          80.452796,
          75.401461,
          78.125053,
          73.846668,
          78.054714,
          76.380631,
          88.40068,
          81.844502,
          81.880187,
          80.3781,
          88.432504,
          75.956808,
          78.080221,
          80.380939,
          78.071187,
          75.911847,
          73.83575,
          78.208022,
          75.816976,
          77.519845,
          73.877423,
          73.853633,
          76.346783,
          80.450939,
          88.342337,
          75.841202,
          73.816883,
          77.519989,
          76.323136,
          75.380232,
          88.39231,
          75.892841,
          75.832103,
          88.415507,
          88.404127,
          80.362677,
          75.903112,
          88.42231,
          88.458628,
          88.386217,
          73.858172,
          75.370232,
          78.133162,
          76.395397,
          78.058092,
          77.483573,
          80.3881,
          81.854502,
          80.409775,
          88.418628,
          75.886808,
          73.808172,
          81.872616,
          75.854893,
          77.453571,
          80.343564,
          80.368656,
          80.491569,
          73.954336,
          73.823606,
          88.36068,
          76.375397,
          81.879744,
          78.027553,
          76.366999,
          75.413942,
          77.418236,
          75.448888,
          78.110165,
          76.303268,
          88.412337,
          80.36,
          75.373942,
          75.403503,
          75.901817,
          78.091608,
          77.428236,
          78.121187,
          88.444878,
          81.889744,
          78.10889,
          77.514976,
          81.904841,
          76.446958,
          76.316999,
          80.410939,
          73.87346,
          76.388258,
          76.301128,
          78.050165,
          73.865364,
          81.881681,
          81.931889,
          76.398053,
          75.438419,
          75.97982,
          77.539845,
          88.383273,
          76.335001,
          78.080267,
          75.952739,
          76.423136,
          80.363458,
          80.382677,
          76.438053,
          80.326344,
          75.470232,
          78.200453,
          80.462677,
          81.914502,
          80.460708,
          75.398888,
          76.395447,
          75.902739,
          75.841817,
          78.087151,
          75.448419,
          75.408888,
          76.328258,
          76.368258,
          76.326106,
          81.843167,
          77.499989,
          77.433573,
          77.505361,
          78.19889,
          76.429516,
          73.893633,
          80.358656,
          88.430467,
          75.932739,
          73.753606,
          78.129117,
          76.335211,
          80.387797,
          78.180453,
          80.345628,
          75.374792,
          81.844279,
          73.944336,
          80.393564,
          78.05299,
          73.82346,
          88.482885,
          80.330939,
          80.395628,
          80.391569,
          78.105359,
          75.899346,
          77.474007,
          88.443294,
          77.461663,
          75.873112,
          81.854236,
          88.396217,
          75.939346,
          88.408628,
          80.443458,
          88.474878,
          76.437589,
          81.871681,
          78.061608,
          75.363942,
          80.461569,
          80.417797,
          76.371128,
          78.12889,
          77.448886,
          75.338894,
          75.378888,
          88.362885,
          81.922616,
          78.126106,
          75.387475,
          78.104714,
          88.450581,
          80.412677,
          77.451663,
          75.343403,
          88.423273,
          78.167151,
          78.134222,
          80.377797,
          76.311128,
          76.323268,
          73.823633,
          75.836808,
          78.164222,
          77.469845,
          73.916911,
          75.427127,
          78.083162,
          76.306999,
          80.426344,
          78.17299,
          78.10725,
          81.863167,
          77.48702,
          81.945585,
          78.177079,
          81.884279,
          88.376217,
          75.346722,
          78.14889,
          75.852103,
          80.401569,
          81.961681,
          75.91172,
          78.097151,
          88.480581,
          88.392885,
          78.099117,
          81.854279,
          73.832294,
          75.902841,
          78.163162,
          81.869682,
          78.136106,
          78.142543,
          73.853606,
          78.164714,
          73.783633,
          88.513452,
          75.356017,
          78.175359,
          75.88172,
          81.924492,
          77.56702,
          80.512929,
          81.851681,
          75.362405,
          78.17725,
          75.87172,
          75.366017,
          88.43068,
          73.856911,
          77.511663,
          81.852616,
          75.882199,
          76.415447,
          78.081544,
          88.434453,
          80.327833,
          88.503294,
          88.38783,
          77.457227,
          76.426958,
          81.851889,
          88.46331,
          88.378628,
          88.38068,
          73.779092,
          78.056106,
          75.382353,
          75.84982,
          75.882103,
          88.422885,
          77.509989,
          88.443273,
          73.833606,
          78.067553,
          78.073162,
          80.484002,
          73.837423,
          81.865585,
          76.373268,
          76.420019,
          73.898172,
          81.874236,
          88.43331,
          75.358894,
          78.090165,
          76.403136,
          81.924279,
          80.361569,
          80.343458,
          73.905364,
          82.000187,
          78.085359,
          88.42331,
          78.197079,
          88.456217,
          80.388656,
          76.345447,
          73.937423,
          75.433403,
          81.904279,
          88.422504,
          77.494007,
          73.773633,
          75.357475,
          76.337361,
          78.080165,
          78.147079,
          81.912796,
          78.115359,
          81.904236,
          76.305211,
          76.377589,
          77.448236,
          75.862739,
          73.809478,
          78.189117,
          80.456344,
          75.971338,
          78.130453,
          76.406958,
          81.930187,
          78.074714,
          73.890431,
          80.429775,
          78.051544,
          78.170267,
          75.891495,
          81.944236,
          73.885736,
          81.904492,
          80.422929,
          75.912103,
          78.135359,
          77.483571,
          77.468236,
          80.455042,
          76.343268,
          73.825736,
          75.943112,
          75.490232,
          75.909615,
          75.440232,
          75.83172,
          75.952199,
          75.862103,
          80.408656,
          88.424878,
          77.564976,
          88.419843,
          73.770431,
          88.405507,
          76.338258,
          88.362337,
          75.883112,
          80.356344,
          73.828172,
          88.483273,
          76.313136,
          75.852199,
          80.364002,
          76.407361,
          76.365211,
          80.405628,
          88.433273,
          80.397797,
          78.117151,
          76.327589,
          73.835736,
          88.483294,
          78.094222,
          76.427361,
          88.470581,
          81.901681,
          73.865736,
          78.20889,
          76.415001,
          78.137553,
          77.439989,
          78.140453,
          77.499399,
          80.337833,
          78.122543,
          80.431569,
          75.831847,
          73.788172,
          75.852841,
          77.559845,
          81.906167,
          88.412885,
          77.504007,
          75.831495,
          81.891889,
          80.423458,
          88.375507,
          80.3981,
          77.428886,
          75.428888,
          81.895585,
          78.021608,
          76.320019,
          75.361461,
          80.467797,
          75.434792,
          78.151187,
          88.432337,
          75.363403,
          81.969744,
          80.347833,
          75.856976,
          88.433294,
          77.52702,
          78.06299,
          80.482677,
          77.488886,
          88.46231,
          75.381461,
          75.402353,
          78.185359,
          73.879092,
          73.763606,
          75.931495,
          78.110221,
          80.48,
          81.969682,
          81.976167,
          88.45783,
          73.778172,
          75.452405,
          81.902796,
          78.170221,
          88.434127,
          80.375042,
          81.875585,
          76.418053,
          75.939615,
          75.808259,
          73.806883,
          80.355628,
          78.018092,
          77.487227,
          80.325628,
          77.438236,
          76.358053,
          78.038092,
          78.096106,
          75.452353,
          81.899682,
          88.48068,
          76.302981,
          78.121544,
          76.338053,
          88.455507,
          88.446217,
          75.84172,
          80.330708,
          76.272981,
          80.42,
          78.086106,
          81.970187,
          75.881847,
          88.543452,
          80.424002,
          78.207151,
          80.357797,
          76.385211,
          75.899615,
          75.390775,
          76.386999,
          73.775736,
          75.397475,
          75.814893,
          73.803633,
          73.955364,
          81.911889,
          80.385628,
          76.406106,
          76.351128,
          78.021544,
          88.382337,
          75.922841,
          77.491663,
          76.320631,
          88.426217,
          80.432796,
          81.950187,
          73.818172,
          80.412929,
          81.864841,
          73.792294,
          75.502353,
          78.18725,
          80.452929,
          81.869744,
          73.886911,
          80.443564,
          73.836668,
          76.390019,
          78.081187,
          88.388628,
          78.179117,
          76.336999,
          80.352796,
          77.508886,
          80.333458,
          80.392929,
          80.370708,
          75.862841,
          75.87982,
          88.443187,
          78.103162,
          76.397361,
          88.43231,
          80.389775,
          81.890187,
          75.337475,
          78.100221,
          75.879615,
          88.42783,
          88.43783,
          88.479843,
          88.44331,
          76.383936,
          78.10299,
          73.896668,
          73.957423,
          81.894492,
          76.325211,
          75.934893,
          75.912199,
          88.403273,
          77.481663,
          88.473452,
          73.759478,
          75.407475,
          88.498628,
          77.503573,
          73.78575,
          81.861681,
          88.510467,
          88.472504,
          77.529399,
          75.348894,
          73.826883,
          76.360019,
          80.400708,
          81.904502,
          78.008092,
          81.944502,
          73.776883,
          78.151544,
          78.101187,
          81.879682,
          75.966808,
          77.538236,
          76.343136,
          80.446344,
          75.892739,
          80.37,
          77.444976,
          80.348656,
          80.397833,
          80.366344,
          78.031608,
          75.483942,
          81.912616,
          81.929682,
          75.418888,
          76.252981,
          75.831817,
          75.476017,
          78.090267,
          75.438888,
          80.325042,
          76.378053,
          76.317589,
          81.876167,
          77.389605,
          75.331461,
          76.325447,
          75.824893,
          75.400232,
          75.851202,
          81.964236,
          81.873167,
          78.055053,
          88.352337,
          73.803606,
          75.876808,
          73.873633,
          81.864279,
          77.489399,
          77.421663,
          80.370939,
          88.414453,
          76.411128,
          78.147151,
          76.328053,
          76.369516,
          80.38,
          75.846976,
          73.917423,
          75.853112,
          88.429843,
          80.422677,
          80.410708,
          77.559989,
          88.484127,
          77.507227,
          78.108022,
          88.442504,
          75.916808,
          81.861889,
          80.378656,
          76.315001,
          81.999682,
          77.454007,
          75.351461,
          76.425211,
          74.060889,
          76.373936,
          80.434002,
          75.451461,
          76.370019,
          73.810431,
          88.47783,
          75.911338,
          76.399516,
          75.848259,
          81.900187,
          76.295447,
          80.367797,
          75.450232,
          78.138022,
          81.892796,
          73.826668,
          75.911202,
          78.081608,
          76.345211,
          75.458419,
          81.894236,
          75.912739,
          75.881495,
          81.882796,
          78.048092,
          78.120165,
          76.346958,
          78.176106,
          76.305447,
          75.410232,
          77.409605,
          80.402796,
          88.392504,
          76.262981,
          81.883167,
          88.470467,
          75.383403,
          88.440581,
          88.483452,
          76.337589,
          76.387589,
          88.394878,
          75.393942,
          88.430581,
          77.455361,
          77.471663,
          77.458236,
          78.114714,
          80.360939,
          78.028092,
          81.974502,
          80.360708,
          77.418886,
          75.898259,
          77.439845,
          81.973167,
          76.315211,
          88.463273,
          88.476217,
          81.909682,
          88.563452,
          80.432929,
          78.047553,
          81.886167,
          73.876668,
          73.833633,
          75.427475,
          76.286999,
          75.872841,
          75.95172,
          75.859615,
          75.902199,
          73.870431,
          73.873606,
          88.440467,
          76.350631,
          80.374002,
          81.893167,
          77.439605,
          75.341461,
          73.752294,
          75.864893,
          75.941338,
          80.396344,
          76.423936,
          81.856167,
          78.066106,
          88.523294,
          76.403936,
          73.84575,
          81.862796,
          80.385042,
          80.425042,
          77.484976,
          88.41068,
          77.525361,
          73.984336,
          78.082543,
          78.11725,
          73.859092,
          80.390939,
          77.443573,
          81.902616,
          76.367589,
          80.405042,
          78.110267,
          75.866976,
          77.44702,
          77.408886,
          75.951202,
          76.303936,
          88.409843,
          88.420581,
          80.4281,
          75.453503,
          78.192543,
          81.892616,
          80.346344,
          80.430708,
          78.097079,
          75.871847,
          81.943167,
          80.350708,
          76.416958,
          77.444007,
          75.944893,
          88.36231,
          88.448628,
          76.330631,
          73.856668,
          80.4081,
          76.333268,
          80.49,
          88.46068,
          88.385507,
          81.922796,
          75.356722,
          75.982739,
          78.123162,
          73.782294,
          75.894893,
          76.420631,
          78.117079,
          75.380775,
          78.095359,
          81.921681,
          75.462353,
          75.843112,
          75.891817,
          78.100453,
          75.396722,
          78.156106,
          76.323936,
          78.109117,
          78.217151,
          88.402504,
          78.080453,
          78.143162,
          88.523187,
          80.460939,
          73.896883,
          77.51702,
          77.459845,
          80.4581,
          76.400631,
          76.397589,
          77.479399,
          88.374127,
          80.430939,
          75.92982,
          80.423564,
          73.906911,
          88.416217,
          75.498419,
          76.357361,
          81.942796,
          76.296999,
          77.413573,
          75.851338,
          88.39783,
          75.413503,
          75.906808,
          77.463573,
          75.393403,
          73.765736,
          80.371569,
          75.433503,
          77.469605,
          75.891847,
          75.376017,
          81.913167,
          76.365447,
          80.4381,
          80.393458,
          75.478419,
          77.467227,
          80.383458,
          77.459989,
          78.130267,
          76.333936,
          77.427227,
          75.931817,
          73.850431,
          73.960889,
          78.120453,
          75.896976,
          73.819092,
          81.842796,
          81.924502,
          75.882739,
          73.795736,
          76.479516,
          78.104222,
          78.127079,
          77.423573,
          76.282981,
          75.841847,
          78.070165,
          88.494453,
          81.845585,
          75.454792,
          78.150453,
          81.974236,
          77.523571,
          78.017553,
          77.473571,
          88.41331,
          75.959615,
          75.826976,
          75.328894,
          76.367361,
          78.092543,
          78.172543,
          78.201187,
          88.450467,
          75.428894,
          75.386017,
          80.444002,
          77.524007,
          75.446722
         ],
         "textinfo": "value",
         "type": "pie",
         "values": [
          341,
          337,
          336,
          336,
          335,
          335,
          328,
          328,
          327,
          324,
          313,
          18,
          18,
          18,
          18,
          18,
          18,
          18,
          18,
          18,
          18,
          18,
          18,
          18,
          18,
          18,
          18,
          18,
          18,
          18,
          18,
          18,
          18,
          18,
          18,
          18,
          18,
          18,
          18,
          18,
          18,
          18,
          18,
          18,
          18,
          18,
          18,
          18,
          18,
          18,
          18,
          18,
          18,
          18,
          18,
          18,
          18,
          18,
          18,
          18,
          18,
          18,
          18,
          18,
          18,
          18,
          18,
          17,
          17,
          17,
          17,
          17,
          17,
          17,
          17,
          17,
          17,
          17,
          17,
          17,
          17,
          17,
          17,
          17,
          17,
          17,
          17,
          17,
          17,
          17,
          17,
          17,
          17,
          17,
          17,
          17,
          17,
          17,
          17,
          17,
          17,
          17,
          17,
          17,
          17,
          17,
          17,
          17,
          17,
          17,
          17,
          17,
          17,
          17,
          17,
          17,
          17,
          17,
          17,
          17,
          17,
          17,
          17,
          17,
          17,
          17,
          17,
          17,
          17,
          17,
          17,
          17,
          17,
          17,
          17,
          17,
          17,
          17,
          17,
          17,
          17,
          17,
          17,
          17,
          17,
          17,
          17,
          17,
          17,
          17,
          17,
          17,
          17,
          17,
          17,
          17,
          17,
          17,
          17,
          17,
          17,
          17,
          17,
          17,
          17,
          17,
          17,
          17,
          17,
          17,
          17,
          17,
          17,
          17,
          17,
          17,
          17,
          17,
          17,
          17,
          17,
          17,
          17,
          17,
          17,
          17,
          17,
          17,
          17,
          17,
          17,
          17,
          17,
          17,
          17,
          17,
          17,
          17,
          17,
          17,
          17,
          17,
          17,
          17,
          17,
          17,
          17,
          17,
          17,
          17,
          17,
          17,
          17,
          17,
          17,
          17,
          17,
          17,
          17,
          17,
          17,
          17,
          17,
          17,
          17,
          17,
          17,
          17,
          17,
          17,
          17,
          17,
          17,
          17,
          17,
          17,
          17,
          17,
          17,
          17,
          17,
          17,
          17,
          17,
          17,
          17,
          17,
          17,
          17,
          17,
          17,
          17,
          17,
          17,
          17,
          17,
          17,
          17,
          17,
          17,
          17,
          17,
          17,
          17,
          17,
          17,
          17,
          17,
          17,
          17,
          17,
          17,
          17,
          17,
          17,
          17,
          17,
          17,
          16,
          16,
          16,
          16,
          16,
          16,
          16,
          16,
          16,
          16,
          16,
          16,
          16,
          16,
          16,
          16,
          16,
          16,
          16,
          16,
          16,
          16,
          16,
          16,
          16,
          16,
          16,
          16,
          16,
          16,
          16,
          16,
          16,
          16,
          16,
          16,
          16,
          16,
          16,
          16,
          16,
          16,
          16,
          16,
          16,
          16,
          16,
          16,
          16,
          16,
          16,
          16,
          16,
          16,
          16,
          16,
          16,
          16,
          16,
          16,
          16,
          16,
          16,
          16,
          16,
          16,
          16,
          16,
          16,
          16,
          16,
          16,
          16,
          16,
          16,
          16,
          16,
          16,
          16,
          16,
          16,
          16,
          16,
          16,
          16,
          16,
          16,
          16,
          16,
          16,
          16,
          16,
          16,
          16,
          16,
          16,
          16,
          16,
          16,
          16,
          16,
          16,
          16,
          16,
          16,
          16,
          16,
          16,
          16,
          16,
          16,
          16,
          16,
          16,
          16,
          16,
          16,
          16,
          16,
          16,
          16,
          16,
          16,
          16,
          16,
          16,
          16,
          16,
          16,
          16,
          16,
          16,
          16,
          16,
          16,
          16,
          16,
          16,
          16,
          16,
          16,
          16,
          16,
          16,
          16,
          16,
          16,
          16,
          16,
          16,
          16,
          16,
          16,
          16,
          16,
          16,
          16,
          16,
          16,
          16,
          16,
          16,
          16,
          16,
          16,
          16,
          16,
          16,
          16,
          16,
          16,
          16,
          16,
          16,
          16,
          16,
          16,
          16,
          16,
          16,
          16,
          16,
          16,
          16,
          16,
          16,
          16,
          16,
          16,
          16,
          16,
          16,
          16,
          16,
          16,
          16,
          16,
          16,
          16,
          16,
          16,
          16,
          16,
          16,
          16,
          16,
          16,
          16,
          16,
          16,
          16,
          16,
          16,
          16,
          16,
          16,
          16,
          16,
          16,
          16,
          16,
          16,
          16,
          16,
          16,
          16,
          16,
          16,
          16,
          16,
          16,
          16,
          16,
          16,
          16,
          16,
          16,
          16,
          16,
          16,
          16,
          16,
          16,
          16,
          16,
          16,
          16,
          16,
          16,
          16,
          16,
          16,
          16,
          16,
          16,
          16,
          16,
          16,
          16,
          16,
          16,
          16,
          16,
          16,
          16,
          16,
          16,
          16,
          16,
          16,
          16,
          16,
          16,
          16,
          16,
          16,
          16,
          16,
          16,
          16,
          16,
          16,
          16,
          16,
          16,
          16,
          16,
          16,
          16,
          16,
          16,
          16,
          16,
          16,
          16,
          16,
          16,
          16,
          16,
          16,
          16,
          16,
          16,
          16,
          16,
          16,
          16,
          16,
          16,
          16,
          16,
          16,
          16,
          16,
          16,
          16,
          16,
          16,
          16,
          16,
          16,
          16,
          16,
          16,
          16,
          16,
          16,
          16,
          16,
          16,
          16,
          16,
          16,
          16,
          16,
          16,
          16,
          16,
          16,
          16,
          16,
          16,
          16,
          16,
          16,
          16,
          16,
          16,
          16,
          16,
          16,
          16,
          16,
          16,
          16,
          16,
          16,
          16,
          16,
          16,
          16,
          16,
          16,
          16,
          16,
          16,
          16,
          16,
          16,
          16,
          16,
          16,
          16,
          16,
          16,
          16,
          16,
          16,
          16,
          16,
          16,
          16,
          16,
          16,
          16,
          16,
          16,
          16,
          16,
          16,
          16,
          16,
          16,
          16,
          16,
          16,
          16,
          16,
          16,
          16,
          16,
          16,
          16,
          16,
          16,
          16,
          16,
          16,
          16,
          16,
          16,
          16,
          16,
          16,
          16,
          16,
          15,
          15,
          15,
          15,
          15,
          15,
          15,
          15,
          15,
          15,
          15,
          15,
          15,
          15,
          15,
          15,
          15,
          15,
          15,
          15,
          15,
          15,
          15,
          15,
          15,
          15,
          15,
          15,
          15,
          15,
          15,
          15,
          15,
          15,
          15,
          15,
          15,
          15,
          15,
          15,
          15,
          15,
          15,
          15,
          15,
          15,
          15,
          15,
          15,
          15,
          15,
          15,
          15,
          15,
          15,
          15,
          15,
          15,
          15,
          15,
          15,
          15,
          15,
          15,
          15,
          15,
          15,
          15,
          15,
          15,
          15,
          15,
          15,
          15,
          15,
          15,
          15,
          15,
          15,
          15,
          15,
          15,
          15,
          15,
          15,
          15,
          15,
          15,
          15,
          15,
          15,
          15,
          15,
          15,
          15,
          15,
          15,
          15,
          15,
          15,
          15,
          15,
          15,
          15,
          15,
          15,
          15,
          15,
          15,
          15,
          15,
          15,
          15,
          15,
          15,
          15,
          15,
          15,
          15,
          15,
          15,
          15,
          15,
          15,
          15,
          15,
          15,
          15,
          15,
          15,
          15,
          15,
          15,
          15,
          15,
          15,
          15,
          15,
          15,
          15,
          15,
          15,
          15,
          15,
          15,
          15,
          15,
          15,
          15,
          15,
          15,
          15,
          15,
          15,
          15,
          15,
          15,
          15,
          15,
          15,
          15,
          15,
          15,
          15,
          15,
          15,
          15,
          15,
          15,
          15,
          15,
          15,
          15,
          15,
          15,
          15,
          15,
          15,
          15,
          15,
          15,
          15,
          15,
          15,
          15,
          15,
          15,
          15,
          15,
          15,
          15,
          15,
          15,
          15,
          15,
          15,
          15,
          15,
          15,
          15,
          15,
          15,
          15,
          15,
          15,
          15,
          15,
          15,
          15,
          15,
          15,
          15,
          15,
          15,
          15,
          15,
          15,
          15,
          15,
          15,
          15,
          15,
          15,
          15,
          15,
          15,
          15,
          15,
          15,
          15,
          15,
          15,
          15,
          15,
          15,
          15,
          15,
          15,
          15,
          15,
          15,
          15,
          15,
          15,
          15,
          15,
          15,
          15,
          15,
          15,
          15,
          15,
          15,
          15,
          15,
          15,
          15,
          15,
          15,
          15,
          15,
          15,
          15,
          15,
          15,
          15,
          15,
          15,
          15,
          15,
          15,
          15,
          15,
          15,
          15,
          15,
          15,
          15,
          15,
          15,
          15,
          15,
          15,
          15,
          15,
          15,
          15,
          15,
          15,
          15,
          15,
          15,
          15,
          15,
          15,
          15,
          15,
          15,
          15,
          15,
          15,
          15,
          15,
          15,
          15,
          15,
          15,
          15,
          15,
          15,
          15,
          15,
          15,
          15,
          15,
          15,
          15,
          15,
          15,
          15,
          15,
          15,
          15,
          15,
          15,
          15,
          15,
          15,
          15,
          15,
          15,
          15,
          15,
          15,
          15,
          15,
          15,
          15,
          15,
          15,
          15,
          15,
          15,
          15,
          15,
          15,
          15,
          15,
          15,
          15,
          15,
          15,
          15,
          15,
          15,
          15,
          15,
          15,
          15,
          15,
          15,
          15,
          15,
          15,
          15,
          15,
          15,
          15,
          15,
          15,
          15,
          15,
          15,
          15,
          15,
          15,
          15,
          15,
          15,
          15,
          15,
          15,
          15,
          15,
          15,
          15,
          15,
          15,
          15,
          15,
          15,
          15,
          15,
          15,
          15,
          15,
          15,
          15,
          15,
          15,
          15,
          15,
          15,
          15,
          15,
          15,
          15,
          15,
          15,
          15,
          15,
          15,
          15,
          15,
          15,
          15,
          15,
          15,
          15,
          15,
          15,
          15,
          15,
          15,
          15,
          15,
          15,
          15,
          15,
          15,
          15,
          15,
          15,
          15,
          15,
          15,
          15,
          15,
          15,
          15,
          15,
          15,
          15,
          15,
          15,
          15,
          15,
          15,
          15,
          15,
          15,
          15,
          15,
          15,
          15,
          15,
          15,
          15,
          15,
          15,
          15,
          15,
          15,
          15,
          15,
          15,
          15,
          15,
          15,
          15,
          15,
          15,
          15,
          15,
          15,
          15,
          15,
          15,
          15,
          15,
          15,
          15,
          15,
          15,
          15,
          15,
          15,
          15,
          15,
          15,
          15,
          15,
          15,
          15,
          15,
          15,
          15,
          15,
          15,
          15,
          15,
          15,
          15,
          15,
          15,
          15,
          15,
          15,
          15,
          15,
          15,
          15,
          15,
          15,
          15,
          15,
          15,
          15,
          15,
          15,
          15,
          15,
          15,
          15,
          15,
          15,
          15,
          15,
          15,
          15,
          15,
          15,
          15,
          15,
          15,
          15,
          15,
          15,
          15,
          15,
          15,
          15,
          15,
          15,
          15,
          15,
          15,
          15,
          15,
          15,
          15,
          15,
          15,
          15,
          15,
          15,
          15,
          15,
          15,
          15,
          15,
          15,
          15,
          15,
          15,
          15,
          15,
          15,
          15,
          14,
          14,
          14,
          14,
          14,
          14,
          14,
          14,
          14,
          14,
          14,
          14,
          14,
          14,
          14,
          14,
          14,
          14,
          14,
          14,
          14,
          14,
          14,
          14,
          14,
          14,
          14,
          14,
          14,
          14,
          14,
          14,
          14,
          14,
          14,
          14,
          14,
          14,
          14,
          14,
          14,
          14,
          14,
          14,
          14,
          14,
          14,
          14,
          14,
          14,
          14,
          14,
          14,
          14,
          14,
          14,
          14,
          14,
          14,
          14,
          14,
          14,
          14,
          14,
          14,
          14,
          14,
          14,
          14,
          14,
          14,
          14,
          14,
          14,
          14,
          14,
          14,
          14,
          14,
          14,
          14,
          14,
          14,
          14,
          14,
          14,
          14,
          14,
          14,
          14,
          14,
          14,
          14,
          14,
          14,
          14,
          14,
          14,
          14,
          14,
          14,
          14,
          14,
          14,
          14,
          14,
          14,
          14,
          14,
          14,
          14,
          14,
          14,
          14,
          14,
          14,
          14,
          14,
          14,
          14,
          14,
          14,
          14,
          14,
          14,
          14,
          14,
          14,
          14,
          14,
          14,
          14,
          14,
          14,
          14,
          14,
          14,
          14,
          14,
          14,
          14,
          14,
          14,
          14,
          14,
          14,
          14,
          14,
          14,
          14,
          14,
          14,
          14,
          14,
          14,
          14,
          14,
          14,
          14,
          14,
          14,
          14,
          14,
          14,
          14,
          14,
          14,
          14,
          14,
          14,
          14,
          14,
          14,
          14,
          14,
          14,
          14,
          14,
          14,
          14,
          14,
          14,
          14,
          14,
          14,
          14,
          14,
          14,
          14,
          14,
          14,
          14,
          14,
          14,
          14,
          14,
          14,
          14,
          14,
          14,
          14,
          14,
          14,
          14,
          14,
          14,
          14,
          14,
          14,
          14,
          14,
          14,
          14,
          14,
          14,
          14,
          14,
          14,
          14,
          14,
          14,
          14,
          14,
          14,
          14,
          14,
          14,
          14,
          14,
          14,
          14,
          14,
          14,
          14,
          14,
          14,
          14,
          14,
          14,
          14,
          14,
          14,
          14,
          14,
          14,
          14,
          14,
          14,
          14,
          14,
          14,
          14,
          14,
          14,
          14,
          14,
          14,
          14,
          14,
          14,
          14,
          14,
          14,
          14,
          14,
          14,
          14,
          14,
          14,
          14,
          14,
          14,
          14,
          14,
          14,
          14,
          14,
          14,
          14,
          14,
          14,
          14,
          14,
          14,
          14,
          14,
          14,
          14,
          14,
          14,
          14,
          14,
          14,
          14,
          14,
          14,
          14,
          14,
          14,
          14,
          14,
          14,
          14,
          14,
          14,
          14,
          14,
          14,
          14,
          14,
          14,
          14,
          14,
          14,
          14,
          14,
          14,
          14,
          14,
          14,
          14,
          14,
          14,
          14,
          14,
          14,
          14,
          14,
          14,
          14,
          14,
          14,
          14,
          14,
          14,
          14,
          14,
          14,
          14,
          14,
          14,
          14,
          14,
          14,
          14,
          14,
          14,
          14,
          14,
          14,
          14,
          14,
          14,
          14,
          14,
          14,
          14,
          14,
          14,
          14,
          14,
          14,
          14,
          14,
          14,
          14,
          14,
          14,
          14,
          14,
          14,
          14,
          14,
          14,
          14,
          14,
          14,
          14,
          14,
          14,
          14,
          14,
          14,
          14,
          14,
          14,
          14,
          14,
          14,
          14,
          14,
          14,
          14,
          14,
          14,
          14,
          14,
          14,
          14,
          14,
          14,
          14,
          14,
          14,
          14,
          14,
          14,
          14,
          14,
          14,
          14,
          14,
          14,
          14,
          14,
          14,
          14,
          14,
          14,
          14,
          14,
          14,
          14,
          14,
          14,
          14,
          14,
          14,
          14,
          14,
          14,
          14,
          14,
          14,
          14,
          14,
          14,
          14,
          14,
          14,
          14,
          14,
          14,
          14,
          14,
          14,
          14,
          14,
          14,
          14,
          14,
          14,
          14,
          14,
          14,
          14,
          14,
          14,
          14,
          14,
          14,
          14,
          14,
          14,
          14,
          14,
          14,
          14,
          14,
          14,
          14,
          14,
          14,
          14,
          14,
          14,
          14,
          14,
          14,
          14,
          14,
          14,
          14,
          14,
          14,
          14,
          14,
          14,
          14,
          14,
          14,
          14,
          14,
          14,
          14,
          14,
          14,
          14,
          14,
          14,
          14,
          14,
          14,
          14,
          14,
          13,
          13,
          13,
          13,
          13,
          13,
          13,
          13,
          13,
          13,
          13,
          13,
          13,
          13,
          13,
          13,
          13,
          13,
          13,
          13,
          13,
          13,
          13,
          13,
          13,
          13,
          13,
          13,
          13,
          13,
          13,
          13,
          13,
          13,
          13,
          13,
          13,
          13,
          13,
          13,
          13,
          13,
          13,
          13,
          13,
          13,
          13,
          13,
          13,
          13,
          13,
          13,
          13,
          13,
          13,
          13,
          13,
          13,
          13,
          13,
          13,
          13,
          13,
          13,
          13,
          13,
          13,
          13,
          13,
          13,
          13,
          13,
          13,
          13,
          13,
          13,
          13,
          13,
          13,
          13,
          13,
          13,
          13,
          13,
          13,
          13,
          13,
          13,
          13,
          13,
          13,
          13,
          13,
          13,
          13,
          13,
          13,
          13,
          13,
          13,
          13,
          13,
          13,
          13,
          13,
          13,
          13,
          13,
          13,
          13,
          13,
          13,
          13,
          13,
          13,
          13,
          13,
          13,
          13,
          13,
          13,
          13,
          13,
          13,
          13,
          13,
          13,
          13,
          13,
          13,
          13,
          13,
          13,
          13,
          13,
          13,
          13,
          13,
          13,
          13,
          13,
          13,
          13,
          13,
          13,
          13,
          13,
          13,
          13,
          13,
          13,
          13,
          13,
          13,
          13,
          13,
          13,
          13,
          13,
          13,
          13,
          13,
          13,
          13,
          13,
          13,
          13,
          13,
          13,
          13,
          13,
          13,
          13,
          13,
          13,
          13,
          13,
          13,
          13,
          13,
          13,
          13,
          13,
          13,
          13,
          13,
          13,
          13,
          13,
          13,
          13,
          13,
          13,
          13,
          13,
          13,
          13,
          13,
          13,
          13,
          13,
          13,
          13,
          13,
          13,
          13,
          13,
          13,
          13,
          13,
          13,
          13,
          13,
          13,
          13,
          13,
          13,
          13,
          13,
          13,
          13,
          13,
          13,
          13,
          13,
          13,
          13,
          13,
          13,
          13,
          13,
          13,
          13,
          13,
          13,
          13,
          13,
          13,
          13,
          13,
          13,
          13,
          13,
          13,
          13,
          13,
          13,
          13,
          13,
          13,
          13,
          13,
          13,
          13,
          13,
          13,
          13,
          13,
          13,
          13,
          13,
          13,
          13,
          13,
          13,
          13,
          13,
          13,
          13,
          13,
          13,
          13,
          13,
          13,
          13,
          13,
          13,
          13,
          13,
          13,
          13,
          13,
          13,
          13,
          13,
          13,
          13,
          13,
          13,
          13,
          13,
          13,
          13,
          13,
          13,
          13,
          13,
          13,
          13,
          13,
          13,
          13,
          13,
          13,
          13,
          13,
          13,
          13,
          13,
          13,
          13,
          13,
          13,
          13,
          13,
          13,
          13,
          13,
          13,
          13,
          13,
          13,
          13,
          13,
          13,
          13,
          13,
          13,
          13,
          13,
          13,
          13,
          13,
          13,
          13,
          13,
          13,
          13,
          13,
          13,
          13,
          13,
          13,
          13,
          13,
          13,
          13,
          13,
          13,
          13,
          13,
          13,
          13,
          13,
          13,
          13,
          13,
          13,
          13,
          13,
          13,
          13,
          13,
          13,
          13,
          13,
          13,
          13,
          13,
          13,
          13,
          13,
          13,
          13,
          13,
          13,
          13,
          13,
          13,
          13,
          13,
          13,
          13,
          13,
          13,
          13,
          13,
          13,
          13,
          13,
          13,
          13,
          13,
          13,
          13,
          13,
          13,
          13,
          13,
          13,
          13,
          13,
          13,
          13,
          13,
          13,
          12,
          12,
          12,
          12,
          12,
          12,
          12,
          12,
          12,
          12,
          12,
          12,
          12,
          12,
          12,
          12,
          12,
          12,
          12,
          12,
          12,
          12,
          12,
          12,
          12,
          12,
          12,
          12,
          12,
          12,
          12,
          12,
          12,
          12,
          12,
          12,
          12,
          12,
          12,
          12,
          12,
          12,
          12,
          12,
          12,
          12,
          12,
          12,
          12,
          12,
          12,
          12,
          12,
          12,
          12,
          12,
          12,
          12,
          12,
          12,
          12,
          12,
          12,
          12,
          12,
          12,
          12,
          12,
          12,
          12,
          12,
          12,
          12,
          12,
          12,
          12,
          12,
          12,
          12,
          12,
          12,
          12,
          12,
          12,
          12,
          12,
          12,
          12,
          12,
          12,
          12,
          12,
          12,
          12,
          12,
          12,
          12,
          12,
          12,
          12,
          12,
          12,
          12,
          12,
          12,
          12,
          12,
          12,
          12,
          12,
          12,
          12,
          12,
          12,
          12,
          12,
          12,
          12,
          12,
          12,
          12,
          12,
          12,
          12,
          12,
          12,
          12,
          12,
          12,
          12,
          12,
          12,
          12,
          12,
          12,
          12,
          12,
          12,
          12,
          12,
          12,
          12,
          12,
          12,
          12,
          12,
          12,
          12,
          12,
          12,
          12,
          12,
          12,
          12,
          12,
          12,
          12,
          12,
          12,
          12,
          12,
          12,
          12,
          12,
          12,
          12,
          12,
          12,
          12,
          12,
          12,
          12,
          12,
          12,
          12,
          12,
          12,
          12,
          12,
          12,
          12,
          12,
          12,
          12,
          12,
          12,
          12,
          12,
          12,
          12,
          12,
          12,
          12,
          12,
          12,
          12,
          12,
          12,
          12,
          12,
          12,
          12,
          11,
          11,
          11,
          11,
          11,
          11,
          11,
          11,
          11,
          11,
          11,
          11,
          11,
          11,
          11,
          11,
          11,
          11,
          11,
          11,
          11,
          11,
          11,
          11,
          11,
          11,
          11,
          11,
          11,
          11,
          11,
          11,
          11,
          11,
          11,
          11,
          11,
          11,
          11,
          11,
          11,
          11,
          11,
          11,
          11,
          11,
          11,
          11,
          11,
          11,
          11,
          11,
          11,
          11,
          11,
          11,
          11,
          11,
          11,
          11,
          11,
          11,
          11,
          11,
          11,
          11,
          11,
          11,
          11,
          11,
          11,
          11,
          11,
          11,
          11,
          11,
          11,
          11,
          11,
          11,
          11,
          11,
          11,
          11,
          11,
          11,
          11,
          11,
          11,
          11,
          10,
          10,
          10,
          10,
          10,
          10,
          10,
          10,
          10,
          10,
          10,
          10,
          10,
          10,
          10,
          10,
          10,
          10,
          10,
          10,
          10,
          10,
          10,
          10,
          10,
          10,
          10,
          10,
          10,
          9,
          9,
          9,
          9,
          9,
          9,
          9,
          9,
          9,
          9,
          8,
          8,
          8,
          8,
          8,
          8,
          7,
          7,
          7,
          7,
          7,
          7,
          7,
          7,
          7,
          7,
          6,
          6,
          6,
          6,
          6,
          5,
          5,
          5,
          4,
          4,
          4,
          4,
          4,
          4,
          4,
          4,
          4,
          4,
          4,
          4,
          4,
          4,
          4,
          4,
          4,
          4,
          4,
          4,
          4,
          4,
          4,
          4,
          4,
          4,
          4,
          4,
          4,
          4,
          4,
          4,
          4,
          4,
          4,
          4,
          4,
          4,
          4,
          4,
          4,
          4,
          4,
          4,
          4,
          4,
          4,
          4,
          4,
          4,
          4,
          4,
          4,
          4,
          4,
          4,
          4,
          4,
          4,
          4,
          4,
          4,
          4,
          4,
          4,
          4,
          4,
          4,
          4,
          4,
          4,
          4,
          4,
          4,
          4,
          4,
          4,
          4,
          4,
          4,
          4,
          4,
          4,
          4,
          4,
          4,
          4,
          4,
          4,
          4,
          4,
          4,
          4,
          4,
          4,
          4,
          4,
          4,
          4,
          4,
          4,
          4,
          4,
          4,
          4,
          4,
          4,
          4,
          4,
          4,
          4,
          4,
          4,
          4,
          4,
          4,
          4,
          4,
          4,
          4,
          4,
          4,
          4,
          4,
          4,
          4,
          4,
          4,
          4,
          4,
          4,
          4,
          4,
          4,
          4,
          4,
          4,
          4,
          4,
          4,
          4,
          4,
          4,
          4,
          4,
          4,
          4,
          4,
          4,
          4,
          4,
          4,
          4,
          4,
          4,
          4,
          4,
          4,
          4,
          4,
          4,
          4,
          4,
          4,
          4,
          4,
          4,
          4,
          4,
          4,
          4,
          4,
          4,
          4,
          4,
          4,
          4,
          4,
          4,
          4,
          4,
          4,
          4,
          4,
          4,
          4,
          4,
          4,
          4,
          4,
          4,
          4,
          4,
          4,
          4,
          4,
          4,
          4,
          4,
          4,
          4,
          4,
          4,
          4,
          4,
          4,
          4,
          4,
          4,
          4,
          4,
          4,
          4,
          4,
          4,
          4,
          4,
          4,
          4,
          4,
          4,
          4,
          4,
          4,
          4,
          4,
          4,
          4,
          4,
          4,
          4,
          4,
          4,
          4,
          4,
          4,
          4,
          4,
          4,
          4,
          4,
          4,
          4,
          4,
          4,
          4,
          4,
          4,
          4,
          4,
          4,
          4,
          4,
          4,
          4,
          4,
          4,
          4,
          4,
          4,
          4,
          4,
          4,
          4,
          4,
          4,
          4,
          4,
          4,
          4,
          4,
          4,
          4,
          4,
          4,
          4,
          4,
          4,
          4,
          4,
          4,
          4,
          4,
          4,
          4,
          4,
          4,
          4,
          4,
          4,
          4,
          4,
          4,
          4,
          4,
          4,
          4,
          4,
          4,
          4,
          4,
          4,
          4,
          4,
          4,
          4,
          4,
          4,
          4,
          4,
          4,
          4,
          4,
          4,
          4,
          4,
          4,
          4,
          4,
          4,
          4,
          4,
          4,
          4,
          4,
          4,
          4,
          4,
          4,
          4,
          4,
          4,
          4,
          4,
          4,
          4,
          4,
          4,
          4,
          4,
          4,
          4,
          4,
          4,
          4,
          4,
          4,
          4,
          4,
          4,
          4,
          4,
          4,
          4,
          4,
          4,
          4,
          4,
          4,
          4,
          4,
          4,
          4,
          4,
          4,
          4,
          4,
          4,
          4,
          4,
          4,
          4,
          4,
          4,
          4,
          4,
          4,
          4,
          4,
          4,
          4,
          4,
          4,
          4,
          4,
          4,
          4,
          4,
          4,
          4,
          4,
          4,
          4,
          4,
          4,
          4,
          4,
          4,
          4,
          4,
          4,
          4,
          4,
          4,
          4,
          4,
          4,
          4,
          4,
          4,
          4,
          4,
          4,
          4,
          4,
          4,
          4,
          4,
          4,
          4,
          4,
          4,
          4,
          4,
          4,
          4,
          4,
          4,
          4,
          4,
          4,
          4,
          4,
          4,
          4,
          4,
          4,
          4,
          4,
          4,
          4,
          4,
          4,
          4,
          4,
          4,
          4,
          4,
          4,
          4,
          4,
          4,
          4,
          4,
          4,
          4,
          4,
          4,
          4,
          4,
          4,
          4,
          4,
          4,
          4,
          4,
          4,
          4,
          4,
          4,
          4,
          4,
          4,
          4,
          4,
          4,
          4,
          4,
          4,
          4,
          4,
          4,
          4,
          4,
          4,
          4,
          4,
          4,
          4,
          4,
          4,
          4,
          4,
          4,
          4,
          4,
          4,
          4,
          4,
          4,
          4,
          4,
          4,
          4,
          4,
          4,
          4,
          4,
          4,
          4,
          4,
          4,
          4,
          4,
          4,
          4,
          4,
          4,
          4,
          4,
          4,
          4,
          4,
          4,
          4,
          4,
          4,
          4,
          4,
          4,
          4,
          4,
          4,
          4,
          4,
          4,
          4,
          4,
          4,
          4,
          4,
          4,
          4,
          4,
          4,
          4,
          4,
          4,
          4,
          4,
          4,
          4,
          4,
          4,
          4,
          4,
          4,
          4,
          4,
          4,
          4,
          4,
          4,
          4,
          4,
          4,
          4,
          4,
          4,
          4,
          4,
          4,
          4,
          4,
          4,
          4,
          4,
          4,
          4,
          4,
          4,
          4,
          4,
          4,
          4,
          4,
          4,
          4,
          4,
          4,
          4,
          4,
          4,
          4,
          4,
          4,
          4,
          4,
          4,
          4,
          4,
          4,
          4,
          4,
          4,
          4,
          4,
          4,
          4,
          4,
          4,
          4,
          4,
          4,
          4,
          4,
          4,
          4,
          4,
          4,
          4,
          4,
          4,
          4,
          4,
          4,
          4,
          4,
          4,
          4,
          4,
          4,
          4,
          4,
          4,
          4,
          4,
          4,
          4,
          4,
          4,
          4,
          4,
          4,
          4,
          4,
          4,
          4,
          4,
          4,
          4,
          4,
          4,
          4,
          4,
          4,
          4,
          4,
          4,
          4,
          4,
          4,
          4,
          4,
          4,
          4,
          4,
          4,
          4,
          4,
          4,
          4,
          4,
          4,
          4,
          4,
          4,
          4,
          4,
          4,
          4,
          4,
          4,
          4,
          4,
          4,
          4,
          4,
          4,
          4,
          4,
          4,
          4,
          4,
          4,
          4,
          4,
          4,
          4,
          4,
          4,
          4,
          4,
          4,
          4,
          4,
          4,
          4,
          4,
          4,
          4,
          4,
          4,
          4,
          4,
          4,
          4,
          4,
          4,
          4,
          4,
          4,
          4,
          4,
          4,
          4,
          4,
          4,
          4,
          4,
          4,
          4,
          4,
          4,
          4,
          4,
          4,
          4,
          4,
          4,
          4,
          4,
          4,
          3,
          3,
          3,
          3,
          3,
          3,
          3,
          3,
          3,
          3,
          3,
          3,
          3,
          3,
          3,
          3,
          3,
          3,
          3,
          3,
          3,
          3,
          3,
          3,
          3,
          3,
          3,
          3,
          3,
          3,
          3,
          3,
          3,
          3,
          3,
          3,
          3,
          3,
          3,
          3,
          3,
          3,
          3,
          3,
          3,
          3,
          3,
          3,
          3,
          3,
          3,
          3,
          3,
          3,
          3,
          3,
          3,
          3,
          3,
          3,
          3,
          3,
          3,
          3,
          3,
          3,
          3,
          3,
          3,
          3,
          3,
          3,
          3,
          3,
          3,
          3,
          3,
          3,
          3,
          3,
          3,
          3,
          3,
          3,
          3,
          3,
          3,
          3,
          3,
          3,
          3,
          3,
          3,
          3,
          3,
          3,
          3,
          3,
          3,
          3,
          3,
          3,
          3,
          3,
          3,
          3,
          3,
          3,
          3,
          3,
          3,
          3,
          3,
          3,
          3,
          3,
          3,
          3,
          3,
          3,
          3,
          3,
          3,
          3,
          3,
          3,
          3,
          3,
          3,
          3,
          3,
          3,
          3,
          3,
          3,
          3,
          3,
          3,
          3,
          3,
          3,
          3,
          3,
          3,
          3,
          3,
          3,
          3,
          3,
          3,
          3,
          3,
          3,
          3,
          3,
          3,
          3,
          3,
          3,
          3,
          3,
          3,
          3,
          3,
          3,
          3,
          3,
          3,
          3,
          3,
          3,
          3,
          3,
          3,
          3,
          3,
          3,
          3,
          3,
          3,
          3,
          3,
          3,
          3,
          3,
          3,
          3,
          3,
          3,
          3,
          3,
          3,
          3,
          3,
          3,
          3,
          3,
          3,
          3,
          3,
          3,
          3,
          3,
          3,
          3,
          3,
          3,
          3,
          3,
          3,
          3,
          3,
          3,
          3,
          3,
          3,
          3,
          3,
          3,
          3,
          3,
          3,
          3,
          3,
          3,
          3,
          3,
          3,
          3,
          3,
          3,
          3,
          3,
          3,
          3,
          3,
          3,
          3,
          3,
          3,
          3,
          3,
          3,
          3,
          3,
          3,
          3,
          3,
          3,
          3,
          3,
          3,
          3,
          3,
          3,
          3,
          3,
          3,
          3,
          3,
          3,
          3,
          3,
          3,
          3,
          3,
          3,
          3,
          3,
          3,
          3,
          3,
          3,
          3,
          3,
          3,
          3,
          3,
          3,
          3,
          3,
          3,
          3,
          3,
          3,
          3,
          3,
          3,
          3,
          3,
          3,
          3,
          3,
          3,
          3,
          3,
          3,
          3,
          3,
          3,
          3,
          3,
          3,
          3,
          3,
          3,
          3,
          3,
          3,
          3,
          3,
          3,
          3,
          3,
          3,
          3,
          3,
          3,
          3,
          3,
          3,
          3,
          3,
          3,
          3,
          3,
          3,
          3,
          3,
          3,
          3,
          3,
          3,
          3,
          3,
          3,
          3,
          3,
          3,
          3,
          3,
          3,
          3,
          3,
          3,
          3,
          3,
          3,
          3,
          3,
          3,
          3,
          3,
          3,
          3,
          3,
          3,
          3,
          3,
          3,
          3,
          3,
          3,
          3,
          3,
          3,
          3,
          3,
          3,
          3,
          3,
          3,
          3,
          3,
          3,
          3,
          3,
          3,
          3,
          3,
          3,
          3,
          3,
          3,
          3,
          3,
          3,
          3,
          3,
          3,
          3,
          3,
          3,
          3,
          3,
          3,
          3,
          3,
          3,
          3,
          3,
          3,
          3,
          3,
          3,
          3,
          3,
          3,
          3,
          3,
          3,
          3,
          3,
          3,
          3,
          3,
          3,
          3,
          3,
          3,
          3,
          3,
          3,
          3,
          3,
          3,
          3,
          3,
          3,
          3,
          3,
          3,
          3,
          3,
          3,
          3,
          3,
          3,
          3,
          3,
          3,
          3,
          3,
          3,
          3,
          3,
          3,
          3,
          3,
          3,
          3,
          3,
          3,
          3,
          3,
          3,
          3,
          3,
          3,
          3,
          3,
          3,
          3,
          3,
          3,
          3,
          3,
          3,
          3,
          3,
          3,
          3,
          3,
          3,
          3,
          3,
          3,
          3,
          3,
          3,
          3,
          3,
          3,
          3,
          3,
          3,
          3,
          3,
          3,
          3,
          3,
          3,
          3,
          3,
          3,
          3,
          3,
          3,
          3,
          3,
          3,
          3,
          3,
          3,
          3,
          3,
          3,
          3,
          3,
          3,
          3,
          3,
          3,
          3,
          3,
          3,
          3,
          3,
          3,
          3,
          3,
          3,
          3,
          3,
          3,
          3,
          3,
          3,
          3,
          3,
          3,
          3,
          3,
          3,
          3,
          3,
          3,
          3,
          3,
          3,
          3,
          3,
          3,
          3,
          3,
          3,
          3,
          3,
          3,
          3,
          3,
          3,
          3,
          3,
          3,
          3,
          3,
          3,
          3,
          3,
          3,
          3,
          3,
          3,
          3,
          3,
          3,
          3,
          3,
          3,
          3,
          3,
          3,
          3,
          3,
          3,
          3,
          3,
          3,
          3,
          3,
          3,
          3,
          3,
          3,
          3,
          3,
          3,
          3,
          3,
          3,
          3,
          3,
          3,
          3,
          3,
          3,
          3,
          3,
          3,
          3,
          3,
          3,
          3,
          3,
          3,
          3,
          3,
          3,
          3,
          3,
          3,
          3,
          3,
          3,
          3,
          3,
          3,
          3,
          3,
          3,
          3,
          3,
          3,
          3,
          3,
          3,
          3,
          3,
          3,
          3,
          3,
          3,
          3,
          3,
          3,
          3,
          3,
          3,
          3,
          3,
          3,
          3,
          3,
          3,
          3,
          3,
          3,
          3,
          3,
          3,
          3,
          3,
          3,
          3,
          3,
          3,
          3,
          3,
          3,
          3,
          3,
          3,
          3,
          3,
          3,
          3,
          3,
          3,
          3,
          3,
          3,
          3,
          3,
          3,
          3,
          3,
          3,
          3,
          3,
          3,
          3,
          3,
          3,
          3,
          3,
          3,
          3,
          3,
          3,
          3,
          3,
          3,
          3,
          3,
          3,
          3,
          3,
          3,
          3,
          3,
          3,
          3,
          3,
          3,
          3,
          3,
          3,
          3,
          3,
          3,
          3,
          3,
          3,
          3,
          3,
          3,
          3,
          3,
          3,
          3,
          3,
          3,
          3,
          3,
          3,
          3,
          3,
          3,
          3,
          3,
          3,
          3,
          3,
          3,
          3,
          3,
          3,
          3,
          3,
          3,
          3,
          3,
          3,
          3,
          3,
          3,
          3,
          3,
          3,
          2,
          2,
          2,
          2,
          2,
          2,
          2,
          2,
          2,
          2,
          2,
          2,
          2,
          2,
          2,
          2,
          2,
          2,
          2,
          2,
          2,
          2,
          2,
          2,
          2,
          2,
          2,
          2,
          2,
          2,
          2,
          2,
          2,
          2,
          2,
          2,
          2,
          2,
          2,
          2,
          2,
          2,
          2,
          2,
          2,
          2,
          2,
          2,
          2,
          2,
          2,
          2,
          2,
          2,
          2,
          2,
          2,
          2,
          2,
          2,
          2,
          2,
          2,
          2,
          2,
          2,
          2,
          2,
          2,
          2,
          2,
          2,
          2,
          2,
          2,
          2,
          2,
          2,
          2,
          2,
          2,
          2,
          2,
          2,
          2,
          2,
          2,
          2,
          2,
          2,
          2,
          2,
          2,
          2,
          2,
          2,
          2,
          2,
          2,
          2,
          2,
          2,
          2,
          2,
          2,
          2,
          2,
          2,
          2,
          2,
          2,
          2,
          2,
          2,
          2,
          2,
          2,
          2,
          2,
          2,
          2,
          2,
          2,
          2,
          2,
          2,
          2,
          2,
          2,
          2,
          2,
          2,
          2,
          2,
          2,
          2,
          2,
          2,
          2,
          2,
          2,
          2,
          2,
          2,
          2,
          2,
          2,
          2,
          2,
          2,
          2,
          2,
          2,
          2,
          2,
          2,
          2,
          2,
          2,
          2,
          2,
          2,
          2,
          2,
          2,
          2,
          2,
          2,
          2,
          2,
          2,
          2,
          2,
          2,
          2,
          2,
          2,
          2,
          2,
          2,
          2,
          2,
          2,
          2,
          2,
          2,
          2,
          2,
          2,
          2,
          2,
          2,
          2,
          2,
          2,
          2,
          2,
          2,
          2,
          2,
          2,
          2,
          2,
          2,
          2,
          2,
          2,
          2,
          2,
          2,
          2,
          2,
          2,
          2,
          2,
          2,
          2,
          2,
          2,
          2,
          2,
          2,
          2,
          2,
          2,
          2,
          2,
          2,
          2,
          2,
          2,
          2,
          2,
          2,
          2,
          2,
          2,
          2,
          2,
          2,
          2,
          2,
          2,
          2,
          2,
          2,
          2,
          2,
          2,
          2,
          2,
          2,
          2,
          2,
          2,
          2,
          2,
          2,
          2,
          2,
          2,
          2,
          2,
          2,
          2,
          2,
          2,
          2,
          2,
          2,
          2,
          2,
          2,
          2,
          2,
          2,
          2,
          2,
          2,
          2,
          2,
          2,
          2,
          2,
          2,
          2,
          2,
          2,
          1,
          1,
          1,
          1,
          1,
          1,
          1,
          1,
          1,
          1,
          1,
          1,
          1,
          1,
          1,
          1,
          1,
          1,
          1,
          1,
          1,
          1,
          1,
          1,
          1,
          1,
          1,
          1,
          1,
          1,
          1,
          1,
          1,
          1,
          1,
          1,
          1,
          1,
          1,
          1,
          1,
          1,
          1,
          1,
          1,
          1,
          1,
          1,
          1,
          1,
          1,
          1,
          1,
          1,
          1,
          1,
          1,
          1,
          1,
          1,
          1,
          1,
          1
         ]
        }
       ],
       "layout": {
        "template": {
         "data": {
          "bar": [
           {
            "error_x": {
             "color": "#2a3f5f"
            },
            "error_y": {
             "color": "#2a3f5f"
            },
            "marker": {
             "line": {
              "color": "#E5ECF6",
              "width": 0.5
             },
             "pattern": {
              "fillmode": "overlay",
              "size": 10,
              "solidity": 0.2
             }
            },
            "type": "bar"
           }
          ],
          "barpolar": [
           {
            "marker": {
             "line": {
              "color": "#E5ECF6",
              "width": 0.5
             },
             "pattern": {
              "fillmode": "overlay",
              "size": 10,
              "solidity": 0.2
             }
            },
            "type": "barpolar"
           }
          ],
          "carpet": [
           {
            "aaxis": {
             "endlinecolor": "#2a3f5f",
             "gridcolor": "white",
             "linecolor": "white",
             "minorgridcolor": "white",
             "startlinecolor": "#2a3f5f"
            },
            "baxis": {
             "endlinecolor": "#2a3f5f",
             "gridcolor": "white",
             "linecolor": "white",
             "minorgridcolor": "white",
             "startlinecolor": "#2a3f5f"
            },
            "type": "carpet"
           }
          ],
          "choropleth": [
           {
            "colorbar": {
             "outlinewidth": 0,
             "ticks": ""
            },
            "type": "choropleth"
           }
          ],
          "contour": [
           {
            "colorbar": {
             "outlinewidth": 0,
             "ticks": ""
            },
            "colorscale": [
             [
              0,
              "#0d0887"
             ],
             [
              0.1111111111111111,
              "#46039f"
             ],
             [
              0.2222222222222222,
              "#7201a8"
             ],
             [
              0.3333333333333333,
              "#9c179e"
             ],
             [
              0.4444444444444444,
              "#bd3786"
             ],
             [
              0.5555555555555556,
              "#d8576b"
             ],
             [
              0.6666666666666666,
              "#ed7953"
             ],
             [
              0.7777777777777778,
              "#fb9f3a"
             ],
             [
              0.8888888888888888,
              "#fdca26"
             ],
             [
              1,
              "#f0f921"
             ]
            ],
            "type": "contour"
           }
          ],
          "contourcarpet": [
           {
            "colorbar": {
             "outlinewidth": 0,
             "ticks": ""
            },
            "type": "contourcarpet"
           }
          ],
          "heatmap": [
           {
            "colorbar": {
             "outlinewidth": 0,
             "ticks": ""
            },
            "colorscale": [
             [
              0,
              "#0d0887"
             ],
             [
              0.1111111111111111,
              "#46039f"
             ],
             [
              0.2222222222222222,
              "#7201a8"
             ],
             [
              0.3333333333333333,
              "#9c179e"
             ],
             [
              0.4444444444444444,
              "#bd3786"
             ],
             [
              0.5555555555555556,
              "#d8576b"
             ],
             [
              0.6666666666666666,
              "#ed7953"
             ],
             [
              0.7777777777777778,
              "#fb9f3a"
             ],
             [
              0.8888888888888888,
              "#fdca26"
             ],
             [
              1,
              "#f0f921"
             ]
            ],
            "type": "heatmap"
           }
          ],
          "heatmapgl": [
           {
            "colorbar": {
             "outlinewidth": 0,
             "ticks": ""
            },
            "colorscale": [
             [
              0,
              "#0d0887"
             ],
             [
              0.1111111111111111,
              "#46039f"
             ],
             [
              0.2222222222222222,
              "#7201a8"
             ],
             [
              0.3333333333333333,
              "#9c179e"
             ],
             [
              0.4444444444444444,
              "#bd3786"
             ],
             [
              0.5555555555555556,
              "#d8576b"
             ],
             [
              0.6666666666666666,
              "#ed7953"
             ],
             [
              0.7777777777777778,
              "#fb9f3a"
             ],
             [
              0.8888888888888888,
              "#fdca26"
             ],
             [
              1,
              "#f0f921"
             ]
            ],
            "type": "heatmapgl"
           }
          ],
          "histogram": [
           {
            "marker": {
             "pattern": {
              "fillmode": "overlay",
              "size": 10,
              "solidity": 0.2
             }
            },
            "type": "histogram"
           }
          ],
          "histogram2d": [
           {
            "colorbar": {
             "outlinewidth": 0,
             "ticks": ""
            },
            "colorscale": [
             [
              0,
              "#0d0887"
             ],
             [
              0.1111111111111111,
              "#46039f"
             ],
             [
              0.2222222222222222,
              "#7201a8"
             ],
             [
              0.3333333333333333,
              "#9c179e"
             ],
             [
              0.4444444444444444,
              "#bd3786"
             ],
             [
              0.5555555555555556,
              "#d8576b"
             ],
             [
              0.6666666666666666,
              "#ed7953"
             ],
             [
              0.7777777777777778,
              "#fb9f3a"
             ],
             [
              0.8888888888888888,
              "#fdca26"
             ],
             [
              1,
              "#f0f921"
             ]
            ],
            "type": "histogram2d"
           }
          ],
          "histogram2dcontour": [
           {
            "colorbar": {
             "outlinewidth": 0,
             "ticks": ""
            },
            "colorscale": [
             [
              0,
              "#0d0887"
             ],
             [
              0.1111111111111111,
              "#46039f"
             ],
             [
              0.2222222222222222,
              "#7201a8"
             ],
             [
              0.3333333333333333,
              "#9c179e"
             ],
             [
              0.4444444444444444,
              "#bd3786"
             ],
             [
              0.5555555555555556,
              "#d8576b"
             ],
             [
              0.6666666666666666,
              "#ed7953"
             ],
             [
              0.7777777777777778,
              "#fb9f3a"
             ],
             [
              0.8888888888888888,
              "#fdca26"
             ],
             [
              1,
              "#f0f921"
             ]
            ],
            "type": "histogram2dcontour"
           }
          ],
          "mesh3d": [
           {
            "colorbar": {
             "outlinewidth": 0,
             "ticks": ""
            },
            "type": "mesh3d"
           }
          ],
          "parcoords": [
           {
            "line": {
             "colorbar": {
              "outlinewidth": 0,
              "ticks": ""
             }
            },
            "type": "parcoords"
           }
          ],
          "pie": [
           {
            "automargin": true,
            "type": "pie"
           }
          ],
          "scatter": [
           {
            "fillpattern": {
             "fillmode": "overlay",
             "size": 10,
             "solidity": 0.2
            },
            "type": "scatter"
           }
          ],
          "scatter3d": [
           {
            "line": {
             "colorbar": {
              "outlinewidth": 0,
              "ticks": ""
             }
            },
            "marker": {
             "colorbar": {
              "outlinewidth": 0,
              "ticks": ""
             }
            },
            "type": "scatter3d"
           }
          ],
          "scattercarpet": [
           {
            "marker": {
             "colorbar": {
              "outlinewidth": 0,
              "ticks": ""
             }
            },
            "type": "scattercarpet"
           }
          ],
          "scattergeo": [
           {
            "marker": {
             "colorbar": {
              "outlinewidth": 0,
              "ticks": ""
             }
            },
            "type": "scattergeo"
           }
          ],
          "scattergl": [
           {
            "marker": {
             "colorbar": {
              "outlinewidth": 0,
              "ticks": ""
             }
            },
            "type": "scattergl"
           }
          ],
          "scattermapbox": [
           {
            "marker": {
             "colorbar": {
              "outlinewidth": 0,
              "ticks": ""
             }
            },
            "type": "scattermapbox"
           }
          ],
          "scatterpolar": [
           {
            "marker": {
             "colorbar": {
              "outlinewidth": 0,
              "ticks": ""
             }
            },
            "type": "scatterpolar"
           }
          ],
          "scatterpolargl": [
           {
            "marker": {
             "colorbar": {
              "outlinewidth": 0,
              "ticks": ""
             }
            },
            "type": "scatterpolargl"
           }
          ],
          "scatterternary": [
           {
            "marker": {
             "colorbar": {
              "outlinewidth": 0,
              "ticks": ""
             }
            },
            "type": "scatterternary"
           }
          ],
          "surface": [
           {
            "colorbar": {
             "outlinewidth": 0,
             "ticks": ""
            },
            "colorscale": [
             [
              0,
              "#0d0887"
             ],
             [
              0.1111111111111111,
              "#46039f"
             ],
             [
              0.2222222222222222,
              "#7201a8"
             ],
             [
              0.3333333333333333,
              "#9c179e"
             ],
             [
              0.4444444444444444,
              "#bd3786"
             ],
             [
              0.5555555555555556,
              "#d8576b"
             ],
             [
              0.6666666666666666,
              "#ed7953"
             ],
             [
              0.7777777777777778,
              "#fb9f3a"
             ],
             [
              0.8888888888888888,
              "#fdca26"
             ],
             [
              1,
              "#f0f921"
             ]
            ],
            "type": "surface"
           }
          ],
          "table": [
           {
            "cells": {
             "fill": {
              "color": "#EBF0F8"
             },
             "line": {
              "color": "white"
             }
            },
            "header": {
             "fill": {
              "color": "#C8D4E3"
             },
             "line": {
              "color": "white"
             }
            },
            "type": "table"
           }
          ]
         },
         "layout": {
          "annotationdefaults": {
           "arrowcolor": "#2a3f5f",
           "arrowhead": 0,
           "arrowwidth": 1
          },
          "autotypenumbers": "strict",
          "coloraxis": {
           "colorbar": {
            "outlinewidth": 0,
            "ticks": ""
           }
          },
          "colorscale": {
           "diverging": [
            [
             0,
             "#8e0152"
            ],
            [
             0.1,
             "#c51b7d"
            ],
            [
             0.2,
             "#de77ae"
            ],
            [
             0.3,
             "#f1b6da"
            ],
            [
             0.4,
             "#fde0ef"
            ],
            [
             0.5,
             "#f7f7f7"
            ],
            [
             0.6,
             "#e6f5d0"
            ],
            [
             0.7,
             "#b8e186"
            ],
            [
             0.8,
             "#7fbc41"
            ],
            [
             0.9,
             "#4d9221"
            ],
            [
             1,
             "#276419"
            ]
           ],
           "sequential": [
            [
             0,
             "#0d0887"
            ],
            [
             0.1111111111111111,
             "#46039f"
            ],
            [
             0.2222222222222222,
             "#7201a8"
            ],
            [
             0.3333333333333333,
             "#9c179e"
            ],
            [
             0.4444444444444444,
             "#bd3786"
            ],
            [
             0.5555555555555556,
             "#d8576b"
            ],
            [
             0.6666666666666666,
             "#ed7953"
            ],
            [
             0.7777777777777778,
             "#fb9f3a"
            ],
            [
             0.8888888888888888,
             "#fdca26"
            ],
            [
             1,
             "#f0f921"
            ]
           ],
           "sequentialminus": [
            [
             0,
             "#0d0887"
            ],
            [
             0.1111111111111111,
             "#46039f"
            ],
            [
             0.2222222222222222,
             "#7201a8"
            ],
            [
             0.3333333333333333,
             "#9c179e"
            ],
            [
             0.4444444444444444,
             "#bd3786"
            ],
            [
             0.5555555555555556,
             "#d8576b"
            ],
            [
             0.6666666666666666,
             "#ed7953"
            ],
            [
             0.7777777777777778,
             "#fb9f3a"
            ],
            [
             0.8888888888888888,
             "#fdca26"
            ],
            [
             1,
             "#f0f921"
            ]
           ]
          },
          "colorway": [
           "#636efa",
           "#EF553B",
           "#00cc96",
           "#ab63fa",
           "#FFA15A",
           "#19d3f3",
           "#FF6692",
           "#B6E880",
           "#FF97FF",
           "#FECB52"
          ],
          "font": {
           "color": "#2a3f5f"
          },
          "geo": {
           "bgcolor": "white",
           "lakecolor": "white",
           "landcolor": "#E5ECF6",
           "showlakes": true,
           "showland": true,
           "subunitcolor": "white"
          },
          "hoverlabel": {
           "align": "left"
          },
          "hovermode": "closest",
          "mapbox": {
           "style": "light"
          },
          "paper_bgcolor": "white",
          "plot_bgcolor": "#E5ECF6",
          "polar": {
           "angularaxis": {
            "gridcolor": "white",
            "linecolor": "white",
            "ticks": ""
           },
           "bgcolor": "#E5ECF6",
           "radialaxis": {
            "gridcolor": "white",
            "linecolor": "white",
            "ticks": ""
           }
          },
          "scene": {
           "xaxis": {
            "backgroundcolor": "#E5ECF6",
            "gridcolor": "white",
            "gridwidth": 2,
            "linecolor": "white",
            "showbackground": true,
            "ticks": "",
            "zerolinecolor": "white"
           },
           "yaxis": {
            "backgroundcolor": "#E5ECF6",
            "gridcolor": "white",
            "gridwidth": 2,
            "linecolor": "white",
            "showbackground": true,
            "ticks": "",
            "zerolinecolor": "white"
           },
           "zaxis": {
            "backgroundcolor": "#E5ECF6",
            "gridcolor": "white",
            "gridwidth": 2,
            "linecolor": "white",
            "showbackground": true,
            "ticks": "",
            "zerolinecolor": "white"
           }
          },
          "shapedefaults": {
           "line": {
            "color": "#2a3f5f"
           }
          },
          "ternary": {
           "aaxis": {
            "gridcolor": "white",
            "linecolor": "white",
            "ticks": ""
           },
           "baxis": {
            "gridcolor": "white",
            "linecolor": "white",
            "ticks": ""
           },
           "bgcolor": "#E5ECF6",
           "caxis": {
            "gridcolor": "white",
            "linecolor": "white",
            "ticks": ""
           }
          },
          "title": {
           "x": 0.05
          },
          "xaxis": {
           "automargin": true,
           "gridcolor": "white",
           "linecolor": "white",
           "ticks": "",
           "title": {
            "standoff": 15
           },
           "zerolinecolor": "white",
           "zerolinewidth": 2
          },
          "yaxis": {
           "automargin": true,
           "gridcolor": "white",
           "linecolor": "white",
           "ticks": "",
           "title": {
            "standoff": 15
           },
           "zerolinecolor": "white",
           "zerolinewidth": 2
          }
         }
        }
       }
      }
     },
     "metadata": {},
     "output_type": "display_data"
    },
    {
     "data": {
      "application/vnd.plotly.v1+json": {
       "config": {
        "linkText": "Export to plot.ly",
        "plotlyServerURL": "https://plot.ly",
        "showLink": false
       },
       "data": [
        {
         "labels": [
          "15-03-2022",
          "03-04-2022",
          "13-03-2022",
          "26-03-2022",
          "24-03-2022",
          "09-03-2022",
          "05-04-2022",
          "05-03-2022",
          "07-03-2022",
          "03-03-2022",
          "19-03-2022",
          "21-03-2022",
          "11-03-2022",
          "30-03-2022",
          "01-03-2022",
          "28-03-2022",
          "17-03-2022",
          "01-04-2022",
          "02-03-2022",
          "10-03-2022",
          "16-03-2022",
          "20-03-2022",
          "02-04-2022",
          "06-03-2022",
          "04-03-2022",
          "29-03-2022",
          "25-03-2022",
          "14-03-2022",
          "11-02-2022",
          "18-03-2022",
          "31-03-2022",
          "27-03-2022",
          "12-03-2022",
          "23-03-2022",
          "08-03-2022",
          "06-04-2022",
          "13-02-2022",
          "15-02-2022",
          "04-04-2022",
          "17-02-2022",
          "12-02-2022",
          "16-02-2022",
          "18-02-2022",
          "14-02-2022"
         ],
         "textinfo": "value",
         "type": "pie",
         "values": [
          1192,
          1178,
          1169,
          1166,
          1162,
          1159,
          1157,
          1154,
          1153,
          1150,
          1149,
          1149,
          1149,
          1141,
          1140,
          1139,
          1134,
          1133,
          1012,
          996,
          995,
          994,
          992,
          986,
          981,
          977,
          975,
          974,
          970,
          968,
          967,
          965,
          964,
          964,
          964,
          961,
          957,
          945,
          941,
          939,
          864,
          861,
          855,
          851
         ]
        }
       ],
       "layout": {
        "template": {
         "data": {
          "bar": [
           {
            "error_x": {
             "color": "#2a3f5f"
            },
            "error_y": {
             "color": "#2a3f5f"
            },
            "marker": {
             "line": {
              "color": "#E5ECF6",
              "width": 0.5
             },
             "pattern": {
              "fillmode": "overlay",
              "size": 10,
              "solidity": 0.2
             }
            },
            "type": "bar"
           }
          ],
          "barpolar": [
           {
            "marker": {
             "line": {
              "color": "#E5ECF6",
              "width": 0.5
             },
             "pattern": {
              "fillmode": "overlay",
              "size": 10,
              "solidity": 0.2
             }
            },
            "type": "barpolar"
           }
          ],
          "carpet": [
           {
            "aaxis": {
             "endlinecolor": "#2a3f5f",
             "gridcolor": "white",
             "linecolor": "white",
             "minorgridcolor": "white",
             "startlinecolor": "#2a3f5f"
            },
            "baxis": {
             "endlinecolor": "#2a3f5f",
             "gridcolor": "white",
             "linecolor": "white",
             "minorgridcolor": "white",
             "startlinecolor": "#2a3f5f"
            },
            "type": "carpet"
           }
          ],
          "choropleth": [
           {
            "colorbar": {
             "outlinewidth": 0,
             "ticks": ""
            },
            "type": "choropleth"
           }
          ],
          "contour": [
           {
            "colorbar": {
             "outlinewidth": 0,
             "ticks": ""
            },
            "colorscale": [
             [
              0,
              "#0d0887"
             ],
             [
              0.1111111111111111,
              "#46039f"
             ],
             [
              0.2222222222222222,
              "#7201a8"
             ],
             [
              0.3333333333333333,
              "#9c179e"
             ],
             [
              0.4444444444444444,
              "#bd3786"
             ],
             [
              0.5555555555555556,
              "#d8576b"
             ],
             [
              0.6666666666666666,
              "#ed7953"
             ],
             [
              0.7777777777777778,
              "#fb9f3a"
             ],
             [
              0.8888888888888888,
              "#fdca26"
             ],
             [
              1,
              "#f0f921"
             ]
            ],
            "type": "contour"
           }
          ],
          "contourcarpet": [
           {
            "colorbar": {
             "outlinewidth": 0,
             "ticks": ""
            },
            "type": "contourcarpet"
           }
          ],
          "heatmap": [
           {
            "colorbar": {
             "outlinewidth": 0,
             "ticks": ""
            },
            "colorscale": [
             [
              0,
              "#0d0887"
             ],
             [
              0.1111111111111111,
              "#46039f"
             ],
             [
              0.2222222222222222,
              "#7201a8"
             ],
             [
              0.3333333333333333,
              "#9c179e"
             ],
             [
              0.4444444444444444,
              "#bd3786"
             ],
             [
              0.5555555555555556,
              "#d8576b"
             ],
             [
              0.6666666666666666,
              "#ed7953"
             ],
             [
              0.7777777777777778,
              "#fb9f3a"
             ],
             [
              0.8888888888888888,
              "#fdca26"
             ],
             [
              1,
              "#f0f921"
             ]
            ],
            "type": "heatmap"
           }
          ],
          "heatmapgl": [
           {
            "colorbar": {
             "outlinewidth": 0,
             "ticks": ""
            },
            "colorscale": [
             [
              0,
              "#0d0887"
             ],
             [
              0.1111111111111111,
              "#46039f"
             ],
             [
              0.2222222222222222,
              "#7201a8"
             ],
             [
              0.3333333333333333,
              "#9c179e"
             ],
             [
              0.4444444444444444,
              "#bd3786"
             ],
             [
              0.5555555555555556,
              "#d8576b"
             ],
             [
              0.6666666666666666,
              "#ed7953"
             ],
             [
              0.7777777777777778,
              "#fb9f3a"
             ],
             [
              0.8888888888888888,
              "#fdca26"
             ],
             [
              1,
              "#f0f921"
             ]
            ],
            "type": "heatmapgl"
           }
          ],
          "histogram": [
           {
            "marker": {
             "pattern": {
              "fillmode": "overlay",
              "size": 10,
              "solidity": 0.2
             }
            },
            "type": "histogram"
           }
          ],
          "histogram2d": [
           {
            "colorbar": {
             "outlinewidth": 0,
             "ticks": ""
            },
            "colorscale": [
             [
              0,
              "#0d0887"
             ],
             [
              0.1111111111111111,
              "#46039f"
             ],
             [
              0.2222222222222222,
              "#7201a8"
             ],
             [
              0.3333333333333333,
              "#9c179e"
             ],
             [
              0.4444444444444444,
              "#bd3786"
             ],
             [
              0.5555555555555556,
              "#d8576b"
             ],
             [
              0.6666666666666666,
              "#ed7953"
             ],
             [
              0.7777777777777778,
              "#fb9f3a"
             ],
             [
              0.8888888888888888,
              "#fdca26"
             ],
             [
              1,
              "#f0f921"
             ]
            ],
            "type": "histogram2d"
           }
          ],
          "histogram2dcontour": [
           {
            "colorbar": {
             "outlinewidth": 0,
             "ticks": ""
            },
            "colorscale": [
             [
              0,
              "#0d0887"
             ],
             [
              0.1111111111111111,
              "#46039f"
             ],
             [
              0.2222222222222222,
              "#7201a8"
             ],
             [
              0.3333333333333333,
              "#9c179e"
             ],
             [
              0.4444444444444444,
              "#bd3786"
             ],
             [
              0.5555555555555556,
              "#d8576b"
             ],
             [
              0.6666666666666666,
              "#ed7953"
             ],
             [
              0.7777777777777778,
              "#fb9f3a"
             ],
             [
              0.8888888888888888,
              "#fdca26"
             ],
             [
              1,
              "#f0f921"
             ]
            ],
            "type": "histogram2dcontour"
           }
          ],
          "mesh3d": [
           {
            "colorbar": {
             "outlinewidth": 0,
             "ticks": ""
            },
            "type": "mesh3d"
           }
          ],
          "parcoords": [
           {
            "line": {
             "colorbar": {
              "outlinewidth": 0,
              "ticks": ""
             }
            },
            "type": "parcoords"
           }
          ],
          "pie": [
           {
            "automargin": true,
            "type": "pie"
           }
          ],
          "scatter": [
           {
            "fillpattern": {
             "fillmode": "overlay",
             "size": 10,
             "solidity": 0.2
            },
            "type": "scatter"
           }
          ],
          "scatter3d": [
           {
            "line": {
             "colorbar": {
              "outlinewidth": 0,
              "ticks": ""
             }
            },
            "marker": {
             "colorbar": {
              "outlinewidth": 0,
              "ticks": ""
             }
            },
            "type": "scatter3d"
           }
          ],
          "scattercarpet": [
           {
            "marker": {
             "colorbar": {
              "outlinewidth": 0,
              "ticks": ""
             }
            },
            "type": "scattercarpet"
           }
          ],
          "scattergeo": [
           {
            "marker": {
             "colorbar": {
              "outlinewidth": 0,
              "ticks": ""
             }
            },
            "type": "scattergeo"
           }
          ],
          "scattergl": [
           {
            "marker": {
             "colorbar": {
              "outlinewidth": 0,
              "ticks": ""
             }
            },
            "type": "scattergl"
           }
          ],
          "scattermapbox": [
           {
            "marker": {
             "colorbar": {
              "outlinewidth": 0,
              "ticks": ""
             }
            },
            "type": "scattermapbox"
           }
          ],
          "scatterpolar": [
           {
            "marker": {
             "colorbar": {
              "outlinewidth": 0,
              "ticks": ""
             }
            },
            "type": "scatterpolar"
           }
          ],
          "scatterpolargl": [
           {
            "marker": {
             "colorbar": {
              "outlinewidth": 0,
              "ticks": ""
             }
            },
            "type": "scatterpolargl"
           }
          ],
          "scatterternary": [
           {
            "marker": {
             "colorbar": {
              "outlinewidth": 0,
              "ticks": ""
             }
            },
            "type": "scatterternary"
           }
          ],
          "surface": [
           {
            "colorbar": {
             "outlinewidth": 0,
             "ticks": ""
            },
            "colorscale": [
             [
              0,
              "#0d0887"
             ],
             [
              0.1111111111111111,
              "#46039f"
             ],
             [
              0.2222222222222222,
              "#7201a8"
             ],
             [
              0.3333333333333333,
              "#9c179e"
             ],
             [
              0.4444444444444444,
              "#bd3786"
             ],
             [
              0.5555555555555556,
              "#d8576b"
             ],
             [
              0.6666666666666666,
              "#ed7953"
             ],
             [
              0.7777777777777778,
              "#fb9f3a"
             ],
             [
              0.8888888888888888,
              "#fdca26"
             ],
             [
              1,
              "#f0f921"
             ]
            ],
            "type": "surface"
           }
          ],
          "table": [
           {
            "cells": {
             "fill": {
              "color": "#EBF0F8"
             },
             "line": {
              "color": "white"
             }
            },
            "header": {
             "fill": {
              "color": "#C8D4E3"
             },
             "line": {
              "color": "white"
             }
            },
            "type": "table"
           }
          ]
         },
         "layout": {
          "annotationdefaults": {
           "arrowcolor": "#2a3f5f",
           "arrowhead": 0,
           "arrowwidth": 1
          },
          "autotypenumbers": "strict",
          "coloraxis": {
           "colorbar": {
            "outlinewidth": 0,
            "ticks": ""
           }
          },
          "colorscale": {
           "diverging": [
            [
             0,
             "#8e0152"
            ],
            [
             0.1,
             "#c51b7d"
            ],
            [
             0.2,
             "#de77ae"
            ],
            [
             0.3,
             "#f1b6da"
            ],
            [
             0.4,
             "#fde0ef"
            ],
            [
             0.5,
             "#f7f7f7"
            ],
            [
             0.6,
             "#e6f5d0"
            ],
            [
             0.7,
             "#b8e186"
            ],
            [
             0.8,
             "#7fbc41"
            ],
            [
             0.9,
             "#4d9221"
            ],
            [
             1,
             "#276419"
            ]
           ],
           "sequential": [
            [
             0,
             "#0d0887"
            ],
            [
             0.1111111111111111,
             "#46039f"
            ],
            [
             0.2222222222222222,
             "#7201a8"
            ],
            [
             0.3333333333333333,
             "#9c179e"
            ],
            [
             0.4444444444444444,
             "#bd3786"
            ],
            [
             0.5555555555555556,
             "#d8576b"
            ],
            [
             0.6666666666666666,
             "#ed7953"
            ],
            [
             0.7777777777777778,
             "#fb9f3a"
            ],
            [
             0.8888888888888888,
             "#fdca26"
            ],
            [
             1,
             "#f0f921"
            ]
           ],
           "sequentialminus": [
            [
             0,
             "#0d0887"
            ],
            [
             0.1111111111111111,
             "#46039f"
            ],
            [
             0.2222222222222222,
             "#7201a8"
            ],
            [
             0.3333333333333333,
             "#9c179e"
            ],
            [
             0.4444444444444444,
             "#bd3786"
            ],
            [
             0.5555555555555556,
             "#d8576b"
            ],
            [
             0.6666666666666666,
             "#ed7953"
            ],
            [
             0.7777777777777778,
             "#fb9f3a"
            ],
            [
             0.8888888888888888,
             "#fdca26"
            ],
            [
             1,
             "#f0f921"
            ]
           ]
          },
          "colorway": [
           "#636efa",
           "#EF553B",
           "#00cc96",
           "#ab63fa",
           "#FFA15A",
           "#19d3f3",
           "#FF6692",
           "#B6E880",
           "#FF97FF",
           "#FECB52"
          ],
          "font": {
           "color": "#2a3f5f"
          },
          "geo": {
           "bgcolor": "white",
           "lakecolor": "white",
           "landcolor": "#E5ECF6",
           "showlakes": true,
           "showland": true,
           "subunitcolor": "white"
          },
          "hoverlabel": {
           "align": "left"
          },
          "hovermode": "closest",
          "mapbox": {
           "style": "light"
          },
          "paper_bgcolor": "white",
          "plot_bgcolor": "#E5ECF6",
          "polar": {
           "angularaxis": {
            "gridcolor": "white",
            "linecolor": "white",
            "ticks": ""
           },
           "bgcolor": "#E5ECF6",
           "radialaxis": {
            "gridcolor": "white",
            "linecolor": "white",
            "ticks": ""
           }
          },
          "scene": {
           "xaxis": {
            "backgroundcolor": "#E5ECF6",
            "gridcolor": "white",
            "gridwidth": 2,
            "linecolor": "white",
            "showbackground": true,
            "ticks": "",
            "zerolinecolor": "white"
           },
           "yaxis": {
            "backgroundcolor": "#E5ECF6",
            "gridcolor": "white",
            "gridwidth": 2,
            "linecolor": "white",
            "showbackground": true,
            "ticks": "",
            "zerolinecolor": "white"
           },
           "zaxis": {
            "backgroundcolor": "#E5ECF6",
            "gridcolor": "white",
            "gridwidth": 2,
            "linecolor": "white",
            "showbackground": true,
            "ticks": "",
            "zerolinecolor": "white"
           }
          },
          "shapedefaults": {
           "line": {
            "color": "#2a3f5f"
           }
          },
          "ternary": {
           "aaxis": {
            "gridcolor": "white",
            "linecolor": "white",
            "ticks": ""
           },
           "baxis": {
            "gridcolor": "white",
            "linecolor": "white",
            "ticks": ""
           },
           "bgcolor": "#E5ECF6",
           "caxis": {
            "gridcolor": "white",
            "linecolor": "white",
            "ticks": ""
           }
          },
          "title": {
           "x": 0.05
          },
          "xaxis": {
           "automargin": true,
           "gridcolor": "white",
           "linecolor": "white",
           "ticks": "",
           "title": {
            "standoff": 15
           },
           "zerolinecolor": "white",
           "zerolinewidth": 2
          },
          "yaxis": {
           "automargin": true,
           "gridcolor": "white",
           "linecolor": "white",
           "ticks": "",
           "title": {
            "standoff": 15
           },
           "zerolinecolor": "white",
           "zerolinewidth": 2
          }
         }
        }
       }
      }
     },
     "metadata": {},
     "output_type": "display_data"
    },
    {
     "data": {
      "application/vnd.plotly.v1+json": {
       "config": {
        "linkText": "Export to plot.ly",
        "plotlyServerURL": "https://plot.ly",
        "showLink": false
       },
       "data": [
        {
         "labels": [
          "21:55",
          "17:55",
          "19:60",
          "22:20",
          "21:35",
          "19:50",
          "21:15",
          "22:45",
          "21:20",
          "18:35",
          "19:55",
          "17:35",
          "18:10",
          "21:25",
          "22:10",
          "23:30",
          "17:25",
          "17:40",
          "23:60",
          "21:40",
          "23:25",
          "22:35",
          "22:50",
          "18:20",
          "18:60",
          "17:15",
          "20:45",
          "20:40",
          "21:10",
          "23:35",
          "22:60",
          "17:45",
          "18:30",
          "20:50",
          "19:25",
          "19:30",
          "23:40",
          "20:20",
          "19:40",
          "20:35",
          "19:15",
          "23:10",
          "17:20",
          "21:45",
          "19:35",
          "20:30",
          "17:10",
          "23:55",
          "18:40",
          "22:30",
          "17:50",
          "20:60",
          "19:10",
          "20:15",
          "22:40",
          "23:45",
          "21:60",
          "19:45",
          "22:25",
          "23:20",
          "17:60",
          "18:25",
          "18:45",
          "19:20",
          "20:10",
          "18:15",
          "21:50",
          "22:55",
          "23:50",
          "21:30",
          "20:55",
          "22:15",
          "20:25",
          "18:50",
          "17:30",
          "18:55",
          "23:15",
          "8:45",
          "10:35",
          "9:60",
          "8:35",
          "10:25",
          "10:60",
          "9:10",
          "11:40",
          "11:60",
          "9:15",
          "11:35",
          "10:40",
          "11:55",
          "10:20",
          "9:30",
          "8:20",
          "8:50",
          "8:30",
          "11:25",
          "9:55",
          "11:45",
          "9:50",
          "11:50",
          "8:25",
          "9:20",
          "10:30",
          "8:60",
          "8:15",
          "9:40",
          "10:55",
          "10:15",
          "11:10",
          "11:30",
          "8:10",
          "9:45",
          "10:50",
          "8:55",
          "9:25",
          "11:15",
          "11:20",
          "8:40",
          "9:35",
          "10:45",
          "10:10",
          "14:45",
          "15:50",
          "13:50",
          "14:60",
          "15:15",
          "12:20",
          "15:55",
          "14:10",
          "15:25",
          "15:10",
          "13:15",
          "15:40",
          "12:60",
          "14:50",
          "13:55",
          "15:35",
          "12:40",
          "16:40",
          "14:40",
          "12:35",
          "12:10",
          "13:30",
          "13:60",
          "14:25",
          "12:45",
          "16:20",
          "15:20",
          "13:45",
          "16:45",
          "13:40",
          "12:55",
          "13:35",
          "15:45",
          "16:25",
          "16:55",
          "14:35",
          "12:50",
          "14:55",
          "16:50",
          "16:60",
          "15:30",
          "13:10",
          "16:35",
          "12:30",
          "14:20",
          "16:10",
          "13:25",
          "12:15",
          "16:15",
          "14:30",
          "12:25",
          "14:15",
          "15:60",
          "13:20",
          "16:30"
         ],
         "textinfo": "value",
         "type": "pie",
         "values": [
          461,
          456,
          449,
          448,
          446,
          444,
          442,
          438,
          438,
          436,
          436,
          435,
          435,
          435,
          434,
          434,
          432,
          431,
          430,
          429,
          429,
          428,
          425,
          425,
          424,
          424,
          423,
          423,
          423,
          422,
          422,
          421,
          421,
          420,
          420,
          419,
          419,
          416,
          416,
          416,
          414,
          414,
          414,
          413,
          412,
          412,
          412,
          411,
          411,
          410,
          410,
          409,
          407,
          405,
          405,
          405,
          404,
          404,
          403,
          403,
          403,
          400,
          399,
          399,
          399,
          398,
          398,
          396,
          393,
          392,
          391,
          385,
          385,
          382,
          377,
          370,
          359,
          213,
          213,
          211,
          208,
          207,
          193,
          191,
          190,
          189,
          189,
          187,
          185,
          185,
          184,
          184,
          183,
          183,
          182,
          182,
          181,
          180,
          180,
          180,
          178,
          178,
          177,
          177,
          177,
          175,
          174,
          171,
          170,
          167,
          167,
          167,
          166,
          165,
          164,
          164,
          163,
          162,
          161,
          154,
          149,
          95,
          87,
          86,
          86,
          86,
          85,
          84,
          83,
          83,
          83,
          81,
          80,
          79,
          78,
          78,
          77,
          77,
          77,
          77,
          76,
          76,
          75,
          74,
          73,
          73,
          72,
          72,
          71,
          70,
          70,
          70,
          69,
          69,
          69,
          69,
          69,
          68,
          67,
          66,
          66,
          66,
          64,
          63,
          62,
          62,
          61,
          59,
          59,
          58,
          57,
          57,
          56,
          53,
          52,
          51
         ]
        }
       ],
       "layout": {
        "template": {
         "data": {
          "bar": [
           {
            "error_x": {
             "color": "#2a3f5f"
            },
            "error_y": {
             "color": "#2a3f5f"
            },
            "marker": {
             "line": {
              "color": "#E5ECF6",
              "width": 0.5
             },
             "pattern": {
              "fillmode": "overlay",
              "size": 10,
              "solidity": 0.2
             }
            },
            "type": "bar"
           }
          ],
          "barpolar": [
           {
            "marker": {
             "line": {
              "color": "#E5ECF6",
              "width": 0.5
             },
             "pattern": {
              "fillmode": "overlay",
              "size": 10,
              "solidity": 0.2
             }
            },
            "type": "barpolar"
           }
          ],
          "carpet": [
           {
            "aaxis": {
             "endlinecolor": "#2a3f5f",
             "gridcolor": "white",
             "linecolor": "white",
             "minorgridcolor": "white",
             "startlinecolor": "#2a3f5f"
            },
            "baxis": {
             "endlinecolor": "#2a3f5f",
             "gridcolor": "white",
             "linecolor": "white",
             "minorgridcolor": "white",
             "startlinecolor": "#2a3f5f"
            },
            "type": "carpet"
           }
          ],
          "choropleth": [
           {
            "colorbar": {
             "outlinewidth": 0,
             "ticks": ""
            },
            "type": "choropleth"
           }
          ],
          "contour": [
           {
            "colorbar": {
             "outlinewidth": 0,
             "ticks": ""
            },
            "colorscale": [
             [
              0,
              "#0d0887"
             ],
             [
              0.1111111111111111,
              "#46039f"
             ],
             [
              0.2222222222222222,
              "#7201a8"
             ],
             [
              0.3333333333333333,
              "#9c179e"
             ],
             [
              0.4444444444444444,
              "#bd3786"
             ],
             [
              0.5555555555555556,
              "#d8576b"
             ],
             [
              0.6666666666666666,
              "#ed7953"
             ],
             [
              0.7777777777777778,
              "#fb9f3a"
             ],
             [
              0.8888888888888888,
              "#fdca26"
             ],
             [
              1,
              "#f0f921"
             ]
            ],
            "type": "contour"
           }
          ],
          "contourcarpet": [
           {
            "colorbar": {
             "outlinewidth": 0,
             "ticks": ""
            },
            "type": "contourcarpet"
           }
          ],
          "heatmap": [
           {
            "colorbar": {
             "outlinewidth": 0,
             "ticks": ""
            },
            "colorscale": [
             [
              0,
              "#0d0887"
             ],
             [
              0.1111111111111111,
              "#46039f"
             ],
             [
              0.2222222222222222,
              "#7201a8"
             ],
             [
              0.3333333333333333,
              "#9c179e"
             ],
             [
              0.4444444444444444,
              "#bd3786"
             ],
             [
              0.5555555555555556,
              "#d8576b"
             ],
             [
              0.6666666666666666,
              "#ed7953"
             ],
             [
              0.7777777777777778,
              "#fb9f3a"
             ],
             [
              0.8888888888888888,
              "#fdca26"
             ],
             [
              1,
              "#f0f921"
             ]
            ],
            "type": "heatmap"
           }
          ],
          "heatmapgl": [
           {
            "colorbar": {
             "outlinewidth": 0,
             "ticks": ""
            },
            "colorscale": [
             [
              0,
              "#0d0887"
             ],
             [
              0.1111111111111111,
              "#46039f"
             ],
             [
              0.2222222222222222,
              "#7201a8"
             ],
             [
              0.3333333333333333,
              "#9c179e"
             ],
             [
              0.4444444444444444,
              "#bd3786"
             ],
             [
              0.5555555555555556,
              "#d8576b"
             ],
             [
              0.6666666666666666,
              "#ed7953"
             ],
             [
              0.7777777777777778,
              "#fb9f3a"
             ],
             [
              0.8888888888888888,
              "#fdca26"
             ],
             [
              1,
              "#f0f921"
             ]
            ],
            "type": "heatmapgl"
           }
          ],
          "histogram": [
           {
            "marker": {
             "pattern": {
              "fillmode": "overlay",
              "size": 10,
              "solidity": 0.2
             }
            },
            "type": "histogram"
           }
          ],
          "histogram2d": [
           {
            "colorbar": {
             "outlinewidth": 0,
             "ticks": ""
            },
            "colorscale": [
             [
              0,
              "#0d0887"
             ],
             [
              0.1111111111111111,
              "#46039f"
             ],
             [
              0.2222222222222222,
              "#7201a8"
             ],
             [
              0.3333333333333333,
              "#9c179e"
             ],
             [
              0.4444444444444444,
              "#bd3786"
             ],
             [
              0.5555555555555556,
              "#d8576b"
             ],
             [
              0.6666666666666666,
              "#ed7953"
             ],
             [
              0.7777777777777778,
              "#fb9f3a"
             ],
             [
              0.8888888888888888,
              "#fdca26"
             ],
             [
              1,
              "#f0f921"
             ]
            ],
            "type": "histogram2d"
           }
          ],
          "histogram2dcontour": [
           {
            "colorbar": {
             "outlinewidth": 0,
             "ticks": ""
            },
            "colorscale": [
             [
              0,
              "#0d0887"
             ],
             [
              0.1111111111111111,
              "#46039f"
             ],
             [
              0.2222222222222222,
              "#7201a8"
             ],
             [
              0.3333333333333333,
              "#9c179e"
             ],
             [
              0.4444444444444444,
              "#bd3786"
             ],
             [
              0.5555555555555556,
              "#d8576b"
             ],
             [
              0.6666666666666666,
              "#ed7953"
             ],
             [
              0.7777777777777778,
              "#fb9f3a"
             ],
             [
              0.8888888888888888,
              "#fdca26"
             ],
             [
              1,
              "#f0f921"
             ]
            ],
            "type": "histogram2dcontour"
           }
          ],
          "mesh3d": [
           {
            "colorbar": {
             "outlinewidth": 0,
             "ticks": ""
            },
            "type": "mesh3d"
           }
          ],
          "parcoords": [
           {
            "line": {
             "colorbar": {
              "outlinewidth": 0,
              "ticks": ""
             }
            },
            "type": "parcoords"
           }
          ],
          "pie": [
           {
            "automargin": true,
            "type": "pie"
           }
          ],
          "scatter": [
           {
            "fillpattern": {
             "fillmode": "overlay",
             "size": 10,
             "solidity": 0.2
            },
            "type": "scatter"
           }
          ],
          "scatter3d": [
           {
            "line": {
             "colorbar": {
              "outlinewidth": 0,
              "ticks": ""
             }
            },
            "marker": {
             "colorbar": {
              "outlinewidth": 0,
              "ticks": ""
             }
            },
            "type": "scatter3d"
           }
          ],
          "scattercarpet": [
           {
            "marker": {
             "colorbar": {
              "outlinewidth": 0,
              "ticks": ""
             }
            },
            "type": "scattercarpet"
           }
          ],
          "scattergeo": [
           {
            "marker": {
             "colorbar": {
              "outlinewidth": 0,
              "ticks": ""
             }
            },
            "type": "scattergeo"
           }
          ],
          "scattergl": [
           {
            "marker": {
             "colorbar": {
              "outlinewidth": 0,
              "ticks": ""
             }
            },
            "type": "scattergl"
           }
          ],
          "scattermapbox": [
           {
            "marker": {
             "colorbar": {
              "outlinewidth": 0,
              "ticks": ""
             }
            },
            "type": "scattermapbox"
           }
          ],
          "scatterpolar": [
           {
            "marker": {
             "colorbar": {
              "outlinewidth": 0,
              "ticks": ""
             }
            },
            "type": "scatterpolar"
           }
          ],
          "scatterpolargl": [
           {
            "marker": {
             "colorbar": {
              "outlinewidth": 0,
              "ticks": ""
             }
            },
            "type": "scatterpolargl"
           }
          ],
          "scatterternary": [
           {
            "marker": {
             "colorbar": {
              "outlinewidth": 0,
              "ticks": ""
             }
            },
            "type": "scatterternary"
           }
          ],
          "surface": [
           {
            "colorbar": {
             "outlinewidth": 0,
             "ticks": ""
            },
            "colorscale": [
             [
              0,
              "#0d0887"
             ],
             [
              0.1111111111111111,
              "#46039f"
             ],
             [
              0.2222222222222222,
              "#7201a8"
             ],
             [
              0.3333333333333333,
              "#9c179e"
             ],
             [
              0.4444444444444444,
              "#bd3786"
             ],
             [
              0.5555555555555556,
              "#d8576b"
             ],
             [
              0.6666666666666666,
              "#ed7953"
             ],
             [
              0.7777777777777778,
              "#fb9f3a"
             ],
             [
              0.8888888888888888,
              "#fdca26"
             ],
             [
              1,
              "#f0f921"
             ]
            ],
            "type": "surface"
           }
          ],
          "table": [
           {
            "cells": {
             "fill": {
              "color": "#EBF0F8"
             },
             "line": {
              "color": "white"
             }
            },
            "header": {
             "fill": {
              "color": "#C8D4E3"
             },
             "line": {
              "color": "white"
             }
            },
            "type": "table"
           }
          ]
         },
         "layout": {
          "annotationdefaults": {
           "arrowcolor": "#2a3f5f",
           "arrowhead": 0,
           "arrowwidth": 1
          },
          "autotypenumbers": "strict",
          "coloraxis": {
           "colorbar": {
            "outlinewidth": 0,
            "ticks": ""
           }
          },
          "colorscale": {
           "diverging": [
            [
             0,
             "#8e0152"
            ],
            [
             0.1,
             "#c51b7d"
            ],
            [
             0.2,
             "#de77ae"
            ],
            [
             0.3,
             "#f1b6da"
            ],
            [
             0.4,
             "#fde0ef"
            ],
            [
             0.5,
             "#f7f7f7"
            ],
            [
             0.6,
             "#e6f5d0"
            ],
            [
             0.7,
             "#b8e186"
            ],
            [
             0.8,
             "#7fbc41"
            ],
            [
             0.9,
             "#4d9221"
            ],
            [
             1,
             "#276419"
            ]
           ],
           "sequential": [
            [
             0,
             "#0d0887"
            ],
            [
             0.1111111111111111,
             "#46039f"
            ],
            [
             0.2222222222222222,
             "#7201a8"
            ],
            [
             0.3333333333333333,
             "#9c179e"
            ],
            [
             0.4444444444444444,
             "#bd3786"
            ],
            [
             0.5555555555555556,
             "#d8576b"
            ],
            [
             0.6666666666666666,
             "#ed7953"
            ],
            [
             0.7777777777777778,
             "#fb9f3a"
            ],
            [
             0.8888888888888888,
             "#fdca26"
            ],
            [
             1,
             "#f0f921"
            ]
           ],
           "sequentialminus": [
            [
             0,
             "#0d0887"
            ],
            [
             0.1111111111111111,
             "#46039f"
            ],
            [
             0.2222222222222222,
             "#7201a8"
            ],
            [
             0.3333333333333333,
             "#9c179e"
            ],
            [
             0.4444444444444444,
             "#bd3786"
            ],
            [
             0.5555555555555556,
             "#d8576b"
            ],
            [
             0.6666666666666666,
             "#ed7953"
            ],
            [
             0.7777777777777778,
             "#fb9f3a"
            ],
            [
             0.8888888888888888,
             "#fdca26"
            ],
            [
             1,
             "#f0f921"
            ]
           ]
          },
          "colorway": [
           "#636efa",
           "#EF553B",
           "#00cc96",
           "#ab63fa",
           "#FFA15A",
           "#19d3f3",
           "#FF6692",
           "#B6E880",
           "#FF97FF",
           "#FECB52"
          ],
          "font": {
           "color": "#2a3f5f"
          },
          "geo": {
           "bgcolor": "white",
           "lakecolor": "white",
           "landcolor": "#E5ECF6",
           "showlakes": true,
           "showland": true,
           "subunitcolor": "white"
          },
          "hoverlabel": {
           "align": "left"
          },
          "hovermode": "closest",
          "mapbox": {
           "style": "light"
          },
          "paper_bgcolor": "white",
          "plot_bgcolor": "#E5ECF6",
          "polar": {
           "angularaxis": {
            "gridcolor": "white",
            "linecolor": "white",
            "ticks": ""
           },
           "bgcolor": "#E5ECF6",
           "radialaxis": {
            "gridcolor": "white",
            "linecolor": "white",
            "ticks": ""
           }
          },
          "scene": {
           "xaxis": {
            "backgroundcolor": "#E5ECF6",
            "gridcolor": "white",
            "gridwidth": 2,
            "linecolor": "white",
            "showbackground": true,
            "ticks": "",
            "zerolinecolor": "white"
           },
           "yaxis": {
            "backgroundcolor": "#E5ECF6",
            "gridcolor": "white",
            "gridwidth": 2,
            "linecolor": "white",
            "showbackground": true,
            "ticks": "",
            "zerolinecolor": "white"
           },
           "zaxis": {
            "backgroundcolor": "#E5ECF6",
            "gridcolor": "white",
            "gridwidth": 2,
            "linecolor": "white",
            "showbackground": true,
            "ticks": "",
            "zerolinecolor": "white"
           }
          },
          "shapedefaults": {
           "line": {
            "color": "#2a3f5f"
           }
          },
          "ternary": {
           "aaxis": {
            "gridcolor": "white",
            "linecolor": "white",
            "ticks": ""
           },
           "baxis": {
            "gridcolor": "white",
            "linecolor": "white",
            "ticks": ""
           },
           "bgcolor": "#E5ECF6",
           "caxis": {
            "gridcolor": "white",
            "linecolor": "white",
            "ticks": ""
           }
          },
          "title": {
           "x": 0.05
          },
          "xaxis": {
           "automargin": true,
           "gridcolor": "white",
           "linecolor": "white",
           "ticks": "",
           "title": {
            "standoff": 15
           },
           "zerolinecolor": "white",
           "zerolinewidth": 2
          },
          "yaxis": {
           "automargin": true,
           "gridcolor": "white",
           "linecolor": "white",
           "ticks": "",
           "title": {
            "standoff": 15
           },
           "zerolinecolor": "white",
           "zerolinewidth": 2
          }
         }
        }
       }
      }
     },
     "metadata": {},
     "output_type": "display_data"
    },
    {
     "data": {
      "application/vnd.plotly.v1+json": {
       "config": {
        "linkText": "Export to plot.ly",
        "plotlyServerURL": "https://plot.ly",
        "showLink": false
       },
       "data": [
        {
         "labels": [
          "21:30",
          "22:50",
          "22:40",
          "18:40",
          "17:55",
          "21:45",
          "22:25",
          "18:05",
          "23:50",
          "20:50",
          "19:60",
          "18:45",
          "19:55",
          "23:05",
          "21:55",
          "23:35",
          "18:25",
          "19:40",
          "23:60",
          "21:50",
          "20:40",
          "19:35",
          "21:05",
          "17:30",
          "17:50",
          "24:05",
          "20:25",
          "17:35",
          "23:45",
          "19:25",
          "20:30",
          "17:25",
          "21:60",
          "17:45",
          "22:45",
          "20:55",
          "19:50",
          "23:25",
          "22:30",
          "21:35",
          "19:30",
          "18:30",
          "20:05",
          "18:50",
          "22:05",
          "17:60",
          "18:35",
          "18:55",
          "22:55",
          "17:40",
          "21:40",
          "20:60",
          "22:35",
          "20:35",
          "23:30",
          "22:60",
          "20:45",
          "23:40",
          "23:55",
          "21:25",
          "18:60",
          "19:05",
          "19:45",
          "20:10",
          "22:10",
          "21:15",
          "19:15",
          "23:10",
          "18:10",
          "20:15",
          "17:20",
          "21:20",
          "18:20",
          "18:15",
          "23:15",
          "24:10",
          "21:10",
          "22:15",
          "19:20",
          "22:20",
          "19:10",
          "20:20",
          "23:20",
          "10:30",
          "11:40",
          "9:30",
          "8:45",
          "8:25",
          "10:45",
          "10:05",
          "8:30",
          "10:35",
          "8:60",
          "8:50",
          "9:35",
          "10:40",
          "9:05",
          "9:60",
          "11:05",
          "12:05",
          "11:45",
          "11:25",
          "11:60",
          "9:45",
          "11:30",
          "8:40",
          "11:55",
          "10:55",
          "8:35",
          "9:25",
          "10:50",
          "10:25",
          "9:50",
          "8:55",
          "11:50",
          "9:55",
          "24:15",
          "17:15",
          "11:35",
          "9:40",
          "10:10",
          "10:60",
          "9:20",
          "11:15",
          "12:10",
          "9:15",
          "11:10",
          "9:10",
          "8:20",
          "10:20",
          "10:15",
          "14:60",
          "15:30",
          "11:20",
          "12:15",
          "15:60",
          "14:05",
          "12:60",
          "13:60",
          "15:55",
          "14:50",
          "15:05",
          "15:45",
          "12:55",
          "13:45",
          "12:50",
          "16:55",
          "15:50",
          "12:30",
          "13:55",
          "15:40",
          "16:05",
          "15:35",
          "12:45",
          "14:25",
          "14:35",
          "16:30",
          "13:05",
          "14:55",
          "16:45",
          "17:05",
          "14:45",
          "13:35",
          "13:40",
          "15:25",
          "12:25",
          "13:50",
          "15:15",
          "14:40",
          "13:30",
          "16:40",
          "12:35",
          "16:50",
          "16:60",
          "16:25",
          "12:40",
          "13:25",
          "14:30",
          "16:35",
          "15:20",
          "12:20",
          "14:10",
          "13:20",
          "14:15",
          "13:15",
          "13:10",
          "8:15",
          "14:20",
          "15:10",
          "16:15",
          "16:10",
          "17:10",
          "16:20"
         ],
         "textinfo": "value",
         "type": "pie",
         "values": [
          496,
          474,
          458,
          457,
          456,
          456,
          455,
          454,
          453,
          453,
          452,
          447,
          447,
          446,
          444,
          443,
          443,
          442,
          440,
          440,
          440,
          438,
          437,
          436,
          435,
          435,
          433,
          433,
          432,
          431,
          431,
          430,
          430,
          430,
          429,
          428,
          428,
          427,
          427,
          426,
          426,
          425,
          424,
          424,
          423,
          422,
          421,
          421,
          420,
          419,
          417,
          416,
          413,
          413,
          412,
          411,
          411,
          406,
          404,
          404,
          403,
          401,
          387,
          327,
          319,
          310,
          306,
          302,
          297,
          296,
          295,
          294,
          286,
          284,
          281,
          280,
          280,
          277,
          276,
          272,
          265,
          260,
          257,
          214,
          208,
          207,
          204,
          204,
          204,
          202,
          201,
          201,
          201,
          200,
          198,
          197,
          195,
          194,
          193,
          191,
          190,
          189,
          188,
          186,
          183,
          183,
          181,
          181,
          179,
          178,
          176,
          174,
          173,
          172,
          170,
          166,
          165,
          165,
          162,
          154,
          148,
          148,
          140,
          134,
          133,
          131,
          128,
          121,
          112,
          111,
          108,
          100,
          93,
          93,
          91,
          91,
          86,
          83,
          82,
          81,
          81,
          81,
          80,
          80,
          79,
          79,
          79,
          78,
          78,
          77,
          77,
          76,
          76,
          76,
          75,
          74,
          74,
          73,
          73,
          72,
          70,
          70,
          70,
          69,
          69,
          69,
          67,
          67,
          66,
          66,
          66,
          66,
          66,
          66,
          66,
          64,
          64,
          61,
          59,
          54,
          53,
          52,
          51,
          51,
          51,
          49,
          48,
          48,
          48,
          46,
          43,
          39,
          38
         ]
        }
       ],
       "layout": {
        "template": {
         "data": {
          "bar": [
           {
            "error_x": {
             "color": "#2a3f5f"
            },
            "error_y": {
             "color": "#2a3f5f"
            },
            "marker": {
             "line": {
              "color": "#E5ECF6",
              "width": 0.5
             },
             "pattern": {
              "fillmode": "overlay",
              "size": 10,
              "solidity": 0.2
             }
            },
            "type": "bar"
           }
          ],
          "barpolar": [
           {
            "marker": {
             "line": {
              "color": "#E5ECF6",
              "width": 0.5
             },
             "pattern": {
              "fillmode": "overlay",
              "size": 10,
              "solidity": 0.2
             }
            },
            "type": "barpolar"
           }
          ],
          "carpet": [
           {
            "aaxis": {
             "endlinecolor": "#2a3f5f",
             "gridcolor": "white",
             "linecolor": "white",
             "minorgridcolor": "white",
             "startlinecolor": "#2a3f5f"
            },
            "baxis": {
             "endlinecolor": "#2a3f5f",
             "gridcolor": "white",
             "linecolor": "white",
             "minorgridcolor": "white",
             "startlinecolor": "#2a3f5f"
            },
            "type": "carpet"
           }
          ],
          "choropleth": [
           {
            "colorbar": {
             "outlinewidth": 0,
             "ticks": ""
            },
            "type": "choropleth"
           }
          ],
          "contour": [
           {
            "colorbar": {
             "outlinewidth": 0,
             "ticks": ""
            },
            "colorscale": [
             [
              0,
              "#0d0887"
             ],
             [
              0.1111111111111111,
              "#46039f"
             ],
             [
              0.2222222222222222,
              "#7201a8"
             ],
             [
              0.3333333333333333,
              "#9c179e"
             ],
             [
              0.4444444444444444,
              "#bd3786"
             ],
             [
              0.5555555555555556,
              "#d8576b"
             ],
             [
              0.6666666666666666,
              "#ed7953"
             ],
             [
              0.7777777777777778,
              "#fb9f3a"
             ],
             [
              0.8888888888888888,
              "#fdca26"
             ],
             [
              1,
              "#f0f921"
             ]
            ],
            "type": "contour"
           }
          ],
          "contourcarpet": [
           {
            "colorbar": {
             "outlinewidth": 0,
             "ticks": ""
            },
            "type": "contourcarpet"
           }
          ],
          "heatmap": [
           {
            "colorbar": {
             "outlinewidth": 0,
             "ticks": ""
            },
            "colorscale": [
             [
              0,
              "#0d0887"
             ],
             [
              0.1111111111111111,
              "#46039f"
             ],
             [
              0.2222222222222222,
              "#7201a8"
             ],
             [
              0.3333333333333333,
              "#9c179e"
             ],
             [
              0.4444444444444444,
              "#bd3786"
             ],
             [
              0.5555555555555556,
              "#d8576b"
             ],
             [
              0.6666666666666666,
              "#ed7953"
             ],
             [
              0.7777777777777778,
              "#fb9f3a"
             ],
             [
              0.8888888888888888,
              "#fdca26"
             ],
             [
              1,
              "#f0f921"
             ]
            ],
            "type": "heatmap"
           }
          ],
          "heatmapgl": [
           {
            "colorbar": {
             "outlinewidth": 0,
             "ticks": ""
            },
            "colorscale": [
             [
              0,
              "#0d0887"
             ],
             [
              0.1111111111111111,
              "#46039f"
             ],
             [
              0.2222222222222222,
              "#7201a8"
             ],
             [
              0.3333333333333333,
              "#9c179e"
             ],
             [
              0.4444444444444444,
              "#bd3786"
             ],
             [
              0.5555555555555556,
              "#d8576b"
             ],
             [
              0.6666666666666666,
              "#ed7953"
             ],
             [
              0.7777777777777778,
              "#fb9f3a"
             ],
             [
              0.8888888888888888,
              "#fdca26"
             ],
             [
              1,
              "#f0f921"
             ]
            ],
            "type": "heatmapgl"
           }
          ],
          "histogram": [
           {
            "marker": {
             "pattern": {
              "fillmode": "overlay",
              "size": 10,
              "solidity": 0.2
             }
            },
            "type": "histogram"
           }
          ],
          "histogram2d": [
           {
            "colorbar": {
             "outlinewidth": 0,
             "ticks": ""
            },
            "colorscale": [
             [
              0,
              "#0d0887"
             ],
             [
              0.1111111111111111,
              "#46039f"
             ],
             [
              0.2222222222222222,
              "#7201a8"
             ],
             [
              0.3333333333333333,
              "#9c179e"
             ],
             [
              0.4444444444444444,
              "#bd3786"
             ],
             [
              0.5555555555555556,
              "#d8576b"
             ],
             [
              0.6666666666666666,
              "#ed7953"
             ],
             [
              0.7777777777777778,
              "#fb9f3a"
             ],
             [
              0.8888888888888888,
              "#fdca26"
             ],
             [
              1,
              "#f0f921"
             ]
            ],
            "type": "histogram2d"
           }
          ],
          "histogram2dcontour": [
           {
            "colorbar": {
             "outlinewidth": 0,
             "ticks": ""
            },
            "colorscale": [
             [
              0,
              "#0d0887"
             ],
             [
              0.1111111111111111,
              "#46039f"
             ],
             [
              0.2222222222222222,
              "#7201a8"
             ],
             [
              0.3333333333333333,
              "#9c179e"
             ],
             [
              0.4444444444444444,
              "#bd3786"
             ],
             [
              0.5555555555555556,
              "#d8576b"
             ],
             [
              0.6666666666666666,
              "#ed7953"
             ],
             [
              0.7777777777777778,
              "#fb9f3a"
             ],
             [
              0.8888888888888888,
              "#fdca26"
             ],
             [
              1,
              "#f0f921"
             ]
            ],
            "type": "histogram2dcontour"
           }
          ],
          "mesh3d": [
           {
            "colorbar": {
             "outlinewidth": 0,
             "ticks": ""
            },
            "type": "mesh3d"
           }
          ],
          "parcoords": [
           {
            "line": {
             "colorbar": {
              "outlinewidth": 0,
              "ticks": ""
             }
            },
            "type": "parcoords"
           }
          ],
          "pie": [
           {
            "automargin": true,
            "type": "pie"
           }
          ],
          "scatter": [
           {
            "fillpattern": {
             "fillmode": "overlay",
             "size": 10,
             "solidity": 0.2
            },
            "type": "scatter"
           }
          ],
          "scatter3d": [
           {
            "line": {
             "colorbar": {
              "outlinewidth": 0,
              "ticks": ""
             }
            },
            "marker": {
             "colorbar": {
              "outlinewidth": 0,
              "ticks": ""
             }
            },
            "type": "scatter3d"
           }
          ],
          "scattercarpet": [
           {
            "marker": {
             "colorbar": {
              "outlinewidth": 0,
              "ticks": ""
             }
            },
            "type": "scattercarpet"
           }
          ],
          "scattergeo": [
           {
            "marker": {
             "colorbar": {
              "outlinewidth": 0,
              "ticks": ""
             }
            },
            "type": "scattergeo"
           }
          ],
          "scattergl": [
           {
            "marker": {
             "colorbar": {
              "outlinewidth": 0,
              "ticks": ""
             }
            },
            "type": "scattergl"
           }
          ],
          "scattermapbox": [
           {
            "marker": {
             "colorbar": {
              "outlinewidth": 0,
              "ticks": ""
             }
            },
            "type": "scattermapbox"
           }
          ],
          "scatterpolar": [
           {
            "marker": {
             "colorbar": {
              "outlinewidth": 0,
              "ticks": ""
             }
            },
            "type": "scatterpolar"
           }
          ],
          "scatterpolargl": [
           {
            "marker": {
             "colorbar": {
              "outlinewidth": 0,
              "ticks": ""
             }
            },
            "type": "scatterpolargl"
           }
          ],
          "scatterternary": [
           {
            "marker": {
             "colorbar": {
              "outlinewidth": 0,
              "ticks": ""
             }
            },
            "type": "scatterternary"
           }
          ],
          "surface": [
           {
            "colorbar": {
             "outlinewidth": 0,
             "ticks": ""
            },
            "colorscale": [
             [
              0,
              "#0d0887"
             ],
             [
              0.1111111111111111,
              "#46039f"
             ],
             [
              0.2222222222222222,
              "#7201a8"
             ],
             [
              0.3333333333333333,
              "#9c179e"
             ],
             [
              0.4444444444444444,
              "#bd3786"
             ],
             [
              0.5555555555555556,
              "#d8576b"
             ],
             [
              0.6666666666666666,
              "#ed7953"
             ],
             [
              0.7777777777777778,
              "#fb9f3a"
             ],
             [
              0.8888888888888888,
              "#fdca26"
             ],
             [
              1,
              "#f0f921"
             ]
            ],
            "type": "surface"
           }
          ],
          "table": [
           {
            "cells": {
             "fill": {
              "color": "#EBF0F8"
             },
             "line": {
              "color": "white"
             }
            },
            "header": {
             "fill": {
              "color": "#C8D4E3"
             },
             "line": {
              "color": "white"
             }
            },
            "type": "table"
           }
          ]
         },
         "layout": {
          "annotationdefaults": {
           "arrowcolor": "#2a3f5f",
           "arrowhead": 0,
           "arrowwidth": 1
          },
          "autotypenumbers": "strict",
          "coloraxis": {
           "colorbar": {
            "outlinewidth": 0,
            "ticks": ""
           }
          },
          "colorscale": {
           "diverging": [
            [
             0,
             "#8e0152"
            ],
            [
             0.1,
             "#c51b7d"
            ],
            [
             0.2,
             "#de77ae"
            ],
            [
             0.3,
             "#f1b6da"
            ],
            [
             0.4,
             "#fde0ef"
            ],
            [
             0.5,
             "#f7f7f7"
            ],
            [
             0.6,
             "#e6f5d0"
            ],
            [
             0.7,
             "#b8e186"
            ],
            [
             0.8,
             "#7fbc41"
            ],
            [
             0.9,
             "#4d9221"
            ],
            [
             1,
             "#276419"
            ]
           ],
           "sequential": [
            [
             0,
             "#0d0887"
            ],
            [
             0.1111111111111111,
             "#46039f"
            ],
            [
             0.2222222222222222,
             "#7201a8"
            ],
            [
             0.3333333333333333,
             "#9c179e"
            ],
            [
             0.4444444444444444,
             "#bd3786"
            ],
            [
             0.5555555555555556,
             "#d8576b"
            ],
            [
             0.6666666666666666,
             "#ed7953"
            ],
            [
             0.7777777777777778,
             "#fb9f3a"
            ],
            [
             0.8888888888888888,
             "#fdca26"
            ],
            [
             1,
             "#f0f921"
            ]
           ],
           "sequentialminus": [
            [
             0,
             "#0d0887"
            ],
            [
             0.1111111111111111,
             "#46039f"
            ],
            [
             0.2222222222222222,
             "#7201a8"
            ],
            [
             0.3333333333333333,
             "#9c179e"
            ],
            [
             0.4444444444444444,
             "#bd3786"
            ],
            [
             0.5555555555555556,
             "#d8576b"
            ],
            [
             0.6666666666666666,
             "#ed7953"
            ],
            [
             0.7777777777777778,
             "#fb9f3a"
            ],
            [
             0.8888888888888888,
             "#fdca26"
            ],
            [
             1,
             "#f0f921"
            ]
           ]
          },
          "colorway": [
           "#636efa",
           "#EF553B",
           "#00cc96",
           "#ab63fa",
           "#FFA15A",
           "#19d3f3",
           "#FF6692",
           "#B6E880",
           "#FF97FF",
           "#FECB52"
          ],
          "font": {
           "color": "#2a3f5f"
          },
          "geo": {
           "bgcolor": "white",
           "lakecolor": "white",
           "landcolor": "#E5ECF6",
           "showlakes": true,
           "showland": true,
           "subunitcolor": "white"
          },
          "hoverlabel": {
           "align": "left"
          },
          "hovermode": "closest",
          "mapbox": {
           "style": "light"
          },
          "paper_bgcolor": "white",
          "plot_bgcolor": "#E5ECF6",
          "polar": {
           "angularaxis": {
            "gridcolor": "white",
            "linecolor": "white",
            "ticks": ""
           },
           "bgcolor": "#E5ECF6",
           "radialaxis": {
            "gridcolor": "white",
            "linecolor": "white",
            "ticks": ""
           }
          },
          "scene": {
           "xaxis": {
            "backgroundcolor": "#E5ECF6",
            "gridcolor": "white",
            "gridwidth": 2,
            "linecolor": "white",
            "showbackground": true,
            "ticks": "",
            "zerolinecolor": "white"
           },
           "yaxis": {
            "backgroundcolor": "#E5ECF6",
            "gridcolor": "white",
            "gridwidth": 2,
            "linecolor": "white",
            "showbackground": true,
            "ticks": "",
            "zerolinecolor": "white"
           },
           "zaxis": {
            "backgroundcolor": "#E5ECF6",
            "gridcolor": "white",
            "gridwidth": 2,
            "linecolor": "white",
            "showbackground": true,
            "ticks": "",
            "zerolinecolor": "white"
           }
          },
          "shapedefaults": {
           "line": {
            "color": "#2a3f5f"
           }
          },
          "ternary": {
           "aaxis": {
            "gridcolor": "white",
            "linecolor": "white",
            "ticks": ""
           },
           "baxis": {
            "gridcolor": "white",
            "linecolor": "white",
            "ticks": ""
           },
           "bgcolor": "#E5ECF6",
           "caxis": {
            "gridcolor": "white",
            "linecolor": "white",
            "ticks": ""
           }
          },
          "title": {
           "x": 0.05
          },
          "xaxis": {
           "automargin": true,
           "gridcolor": "white",
           "linecolor": "white",
           "ticks": "",
           "title": {
            "standoff": 15
           },
           "zerolinecolor": "white",
           "zerolinewidth": 2
          },
          "yaxis": {
           "automargin": true,
           "gridcolor": "white",
           "linecolor": "white",
           "ticks": "",
           "title": {
            "standoff": 15
           },
           "zerolinecolor": "white",
           "zerolinewidth": 2
          }
         }
        }
       }
      }
     },
     "metadata": {},
     "output_type": "display_data"
    },
    {
     "data": {
      "application/vnd.plotly.v1+json": {
       "config": {
        "linkText": "Export to plot.ly",
        "plotlyServerURL": "https://plot.ly",
        "showLink": false
       },
       "data": [
        {
         "labels": [
          "Fog",
          "Stormy",
          "Cloudy",
          "Sandstorms",
          "Windy",
          "Sunny"
         ],
         "textinfo": "value",
         "type": "pie",
         "values": [
          7654,
          7586,
          7536,
          7495,
          7422,
          7283
         ]
        }
       ],
       "layout": {
        "template": {
         "data": {
          "bar": [
           {
            "error_x": {
             "color": "#2a3f5f"
            },
            "error_y": {
             "color": "#2a3f5f"
            },
            "marker": {
             "line": {
              "color": "#E5ECF6",
              "width": 0.5
             },
             "pattern": {
              "fillmode": "overlay",
              "size": 10,
              "solidity": 0.2
             }
            },
            "type": "bar"
           }
          ],
          "barpolar": [
           {
            "marker": {
             "line": {
              "color": "#E5ECF6",
              "width": 0.5
             },
             "pattern": {
              "fillmode": "overlay",
              "size": 10,
              "solidity": 0.2
             }
            },
            "type": "barpolar"
           }
          ],
          "carpet": [
           {
            "aaxis": {
             "endlinecolor": "#2a3f5f",
             "gridcolor": "white",
             "linecolor": "white",
             "minorgridcolor": "white",
             "startlinecolor": "#2a3f5f"
            },
            "baxis": {
             "endlinecolor": "#2a3f5f",
             "gridcolor": "white",
             "linecolor": "white",
             "minorgridcolor": "white",
             "startlinecolor": "#2a3f5f"
            },
            "type": "carpet"
           }
          ],
          "choropleth": [
           {
            "colorbar": {
             "outlinewidth": 0,
             "ticks": ""
            },
            "type": "choropleth"
           }
          ],
          "contour": [
           {
            "colorbar": {
             "outlinewidth": 0,
             "ticks": ""
            },
            "colorscale": [
             [
              0,
              "#0d0887"
             ],
             [
              0.1111111111111111,
              "#46039f"
             ],
             [
              0.2222222222222222,
              "#7201a8"
             ],
             [
              0.3333333333333333,
              "#9c179e"
             ],
             [
              0.4444444444444444,
              "#bd3786"
             ],
             [
              0.5555555555555556,
              "#d8576b"
             ],
             [
              0.6666666666666666,
              "#ed7953"
             ],
             [
              0.7777777777777778,
              "#fb9f3a"
             ],
             [
              0.8888888888888888,
              "#fdca26"
             ],
             [
              1,
              "#f0f921"
             ]
            ],
            "type": "contour"
           }
          ],
          "contourcarpet": [
           {
            "colorbar": {
             "outlinewidth": 0,
             "ticks": ""
            },
            "type": "contourcarpet"
           }
          ],
          "heatmap": [
           {
            "colorbar": {
             "outlinewidth": 0,
             "ticks": ""
            },
            "colorscale": [
             [
              0,
              "#0d0887"
             ],
             [
              0.1111111111111111,
              "#46039f"
             ],
             [
              0.2222222222222222,
              "#7201a8"
             ],
             [
              0.3333333333333333,
              "#9c179e"
             ],
             [
              0.4444444444444444,
              "#bd3786"
             ],
             [
              0.5555555555555556,
              "#d8576b"
             ],
             [
              0.6666666666666666,
              "#ed7953"
             ],
             [
              0.7777777777777778,
              "#fb9f3a"
             ],
             [
              0.8888888888888888,
              "#fdca26"
             ],
             [
              1,
              "#f0f921"
             ]
            ],
            "type": "heatmap"
           }
          ],
          "heatmapgl": [
           {
            "colorbar": {
             "outlinewidth": 0,
             "ticks": ""
            },
            "colorscale": [
             [
              0,
              "#0d0887"
             ],
             [
              0.1111111111111111,
              "#46039f"
             ],
             [
              0.2222222222222222,
              "#7201a8"
             ],
             [
              0.3333333333333333,
              "#9c179e"
             ],
             [
              0.4444444444444444,
              "#bd3786"
             ],
             [
              0.5555555555555556,
              "#d8576b"
             ],
             [
              0.6666666666666666,
              "#ed7953"
             ],
             [
              0.7777777777777778,
              "#fb9f3a"
             ],
             [
              0.8888888888888888,
              "#fdca26"
             ],
             [
              1,
              "#f0f921"
             ]
            ],
            "type": "heatmapgl"
           }
          ],
          "histogram": [
           {
            "marker": {
             "pattern": {
              "fillmode": "overlay",
              "size": 10,
              "solidity": 0.2
             }
            },
            "type": "histogram"
           }
          ],
          "histogram2d": [
           {
            "colorbar": {
             "outlinewidth": 0,
             "ticks": ""
            },
            "colorscale": [
             [
              0,
              "#0d0887"
             ],
             [
              0.1111111111111111,
              "#46039f"
             ],
             [
              0.2222222222222222,
              "#7201a8"
             ],
             [
              0.3333333333333333,
              "#9c179e"
             ],
             [
              0.4444444444444444,
              "#bd3786"
             ],
             [
              0.5555555555555556,
              "#d8576b"
             ],
             [
              0.6666666666666666,
              "#ed7953"
             ],
             [
              0.7777777777777778,
              "#fb9f3a"
             ],
             [
              0.8888888888888888,
              "#fdca26"
             ],
             [
              1,
              "#f0f921"
             ]
            ],
            "type": "histogram2d"
           }
          ],
          "histogram2dcontour": [
           {
            "colorbar": {
             "outlinewidth": 0,
             "ticks": ""
            },
            "colorscale": [
             [
              0,
              "#0d0887"
             ],
             [
              0.1111111111111111,
              "#46039f"
             ],
             [
              0.2222222222222222,
              "#7201a8"
             ],
             [
              0.3333333333333333,
              "#9c179e"
             ],
             [
              0.4444444444444444,
              "#bd3786"
             ],
             [
              0.5555555555555556,
              "#d8576b"
             ],
             [
              0.6666666666666666,
              "#ed7953"
             ],
             [
              0.7777777777777778,
              "#fb9f3a"
             ],
             [
              0.8888888888888888,
              "#fdca26"
             ],
             [
              1,
              "#f0f921"
             ]
            ],
            "type": "histogram2dcontour"
           }
          ],
          "mesh3d": [
           {
            "colorbar": {
             "outlinewidth": 0,
             "ticks": ""
            },
            "type": "mesh3d"
           }
          ],
          "parcoords": [
           {
            "line": {
             "colorbar": {
              "outlinewidth": 0,
              "ticks": ""
             }
            },
            "type": "parcoords"
           }
          ],
          "pie": [
           {
            "automargin": true,
            "type": "pie"
           }
          ],
          "scatter": [
           {
            "fillpattern": {
             "fillmode": "overlay",
             "size": 10,
             "solidity": 0.2
            },
            "type": "scatter"
           }
          ],
          "scatter3d": [
           {
            "line": {
             "colorbar": {
              "outlinewidth": 0,
              "ticks": ""
             }
            },
            "marker": {
             "colorbar": {
              "outlinewidth": 0,
              "ticks": ""
             }
            },
            "type": "scatter3d"
           }
          ],
          "scattercarpet": [
           {
            "marker": {
             "colorbar": {
              "outlinewidth": 0,
              "ticks": ""
             }
            },
            "type": "scattercarpet"
           }
          ],
          "scattergeo": [
           {
            "marker": {
             "colorbar": {
              "outlinewidth": 0,
              "ticks": ""
             }
            },
            "type": "scattergeo"
           }
          ],
          "scattergl": [
           {
            "marker": {
             "colorbar": {
              "outlinewidth": 0,
              "ticks": ""
             }
            },
            "type": "scattergl"
           }
          ],
          "scattermapbox": [
           {
            "marker": {
             "colorbar": {
              "outlinewidth": 0,
              "ticks": ""
             }
            },
            "type": "scattermapbox"
           }
          ],
          "scatterpolar": [
           {
            "marker": {
             "colorbar": {
              "outlinewidth": 0,
              "ticks": ""
             }
            },
            "type": "scatterpolar"
           }
          ],
          "scatterpolargl": [
           {
            "marker": {
             "colorbar": {
              "outlinewidth": 0,
              "ticks": ""
             }
            },
            "type": "scatterpolargl"
           }
          ],
          "scatterternary": [
           {
            "marker": {
             "colorbar": {
              "outlinewidth": 0,
              "ticks": ""
             }
            },
            "type": "scatterternary"
           }
          ],
          "surface": [
           {
            "colorbar": {
             "outlinewidth": 0,
             "ticks": ""
            },
            "colorscale": [
             [
              0,
              "#0d0887"
             ],
             [
              0.1111111111111111,
              "#46039f"
             ],
             [
              0.2222222222222222,
              "#7201a8"
             ],
             [
              0.3333333333333333,
              "#9c179e"
             ],
             [
              0.4444444444444444,
              "#bd3786"
             ],
             [
              0.5555555555555556,
              "#d8576b"
             ],
             [
              0.6666666666666666,
              "#ed7953"
             ],
             [
              0.7777777777777778,
              "#fb9f3a"
             ],
             [
              0.8888888888888888,
              "#fdca26"
             ],
             [
              1,
              "#f0f921"
             ]
            ],
            "type": "surface"
           }
          ],
          "table": [
           {
            "cells": {
             "fill": {
              "color": "#EBF0F8"
             },
             "line": {
              "color": "white"
             }
            },
            "header": {
             "fill": {
              "color": "#C8D4E3"
             },
             "line": {
              "color": "white"
             }
            },
            "type": "table"
           }
          ]
         },
         "layout": {
          "annotationdefaults": {
           "arrowcolor": "#2a3f5f",
           "arrowhead": 0,
           "arrowwidth": 1
          },
          "autotypenumbers": "strict",
          "coloraxis": {
           "colorbar": {
            "outlinewidth": 0,
            "ticks": ""
           }
          },
          "colorscale": {
           "diverging": [
            [
             0,
             "#8e0152"
            ],
            [
             0.1,
             "#c51b7d"
            ],
            [
             0.2,
             "#de77ae"
            ],
            [
             0.3,
             "#f1b6da"
            ],
            [
             0.4,
             "#fde0ef"
            ],
            [
             0.5,
             "#f7f7f7"
            ],
            [
             0.6,
             "#e6f5d0"
            ],
            [
             0.7,
             "#b8e186"
            ],
            [
             0.8,
             "#7fbc41"
            ],
            [
             0.9,
             "#4d9221"
            ],
            [
             1,
             "#276419"
            ]
           ],
           "sequential": [
            [
             0,
             "#0d0887"
            ],
            [
             0.1111111111111111,
             "#46039f"
            ],
            [
             0.2222222222222222,
             "#7201a8"
            ],
            [
             0.3333333333333333,
             "#9c179e"
            ],
            [
             0.4444444444444444,
             "#bd3786"
            ],
            [
             0.5555555555555556,
             "#d8576b"
            ],
            [
             0.6666666666666666,
             "#ed7953"
            ],
            [
             0.7777777777777778,
             "#fb9f3a"
            ],
            [
             0.8888888888888888,
             "#fdca26"
            ],
            [
             1,
             "#f0f921"
            ]
           ],
           "sequentialminus": [
            [
             0,
             "#0d0887"
            ],
            [
             0.1111111111111111,
             "#46039f"
            ],
            [
             0.2222222222222222,
             "#7201a8"
            ],
            [
             0.3333333333333333,
             "#9c179e"
            ],
            [
             0.4444444444444444,
             "#bd3786"
            ],
            [
             0.5555555555555556,
             "#d8576b"
            ],
            [
             0.6666666666666666,
             "#ed7953"
            ],
            [
             0.7777777777777778,
             "#fb9f3a"
            ],
            [
             0.8888888888888888,
             "#fdca26"
            ],
            [
             1,
             "#f0f921"
            ]
           ]
          },
          "colorway": [
           "#636efa",
           "#EF553B",
           "#00cc96",
           "#ab63fa",
           "#FFA15A",
           "#19d3f3",
           "#FF6692",
           "#B6E880",
           "#FF97FF",
           "#FECB52"
          ],
          "font": {
           "color": "#2a3f5f"
          },
          "geo": {
           "bgcolor": "white",
           "lakecolor": "white",
           "landcolor": "#E5ECF6",
           "showlakes": true,
           "showland": true,
           "subunitcolor": "white"
          },
          "hoverlabel": {
           "align": "left"
          },
          "hovermode": "closest",
          "mapbox": {
           "style": "light"
          },
          "paper_bgcolor": "white",
          "plot_bgcolor": "#E5ECF6",
          "polar": {
           "angularaxis": {
            "gridcolor": "white",
            "linecolor": "white",
            "ticks": ""
           },
           "bgcolor": "#E5ECF6",
           "radialaxis": {
            "gridcolor": "white",
            "linecolor": "white",
            "ticks": ""
           }
          },
          "scene": {
           "xaxis": {
            "backgroundcolor": "#E5ECF6",
            "gridcolor": "white",
            "gridwidth": 2,
            "linecolor": "white",
            "showbackground": true,
            "ticks": "",
            "zerolinecolor": "white"
           },
           "yaxis": {
            "backgroundcolor": "#E5ECF6",
            "gridcolor": "white",
            "gridwidth": 2,
            "linecolor": "white",
            "showbackground": true,
            "ticks": "",
            "zerolinecolor": "white"
           },
           "zaxis": {
            "backgroundcolor": "#E5ECF6",
            "gridcolor": "white",
            "gridwidth": 2,
            "linecolor": "white",
            "showbackground": true,
            "ticks": "",
            "zerolinecolor": "white"
           }
          },
          "shapedefaults": {
           "line": {
            "color": "#2a3f5f"
           }
          },
          "ternary": {
           "aaxis": {
            "gridcolor": "white",
            "linecolor": "white",
            "ticks": ""
           },
           "baxis": {
            "gridcolor": "white",
            "linecolor": "white",
            "ticks": ""
           },
           "bgcolor": "#E5ECF6",
           "caxis": {
            "gridcolor": "white",
            "linecolor": "white",
            "ticks": ""
           }
          },
          "title": {
           "x": 0.05
          },
          "xaxis": {
           "automargin": true,
           "gridcolor": "white",
           "linecolor": "white",
           "ticks": "",
           "title": {
            "standoff": 15
           },
           "zerolinecolor": "white",
           "zerolinewidth": 2
          },
          "yaxis": {
           "automargin": true,
           "gridcolor": "white",
           "linecolor": "white",
           "ticks": "",
           "title": {
            "standoff": 15
           },
           "zerolinecolor": "white",
           "zerolinewidth": 2
          }
         }
        }
       }
      }
     },
     "metadata": {},
     "output_type": "display_data"
    },
    {
     "data": {
      "application/vnd.plotly.v1+json": {
       "config": {
        "linkText": "Export to plot.ly",
        "plotlyServerURL": "https://plot.ly",
        "showLink": false
       },
       "data": [
        {
         "labels": [
          "Low",
          "Jam",
          "Medium",
          "High"
         ],
         "textinfo": "value",
         "type": "pie",
         "values": [
          15477,
          14143,
          10947,
          4424
         ]
        }
       ],
       "layout": {
        "template": {
         "data": {
          "bar": [
           {
            "error_x": {
             "color": "#2a3f5f"
            },
            "error_y": {
             "color": "#2a3f5f"
            },
            "marker": {
             "line": {
              "color": "#E5ECF6",
              "width": 0.5
             },
             "pattern": {
              "fillmode": "overlay",
              "size": 10,
              "solidity": 0.2
             }
            },
            "type": "bar"
           }
          ],
          "barpolar": [
           {
            "marker": {
             "line": {
              "color": "#E5ECF6",
              "width": 0.5
             },
             "pattern": {
              "fillmode": "overlay",
              "size": 10,
              "solidity": 0.2
             }
            },
            "type": "barpolar"
           }
          ],
          "carpet": [
           {
            "aaxis": {
             "endlinecolor": "#2a3f5f",
             "gridcolor": "white",
             "linecolor": "white",
             "minorgridcolor": "white",
             "startlinecolor": "#2a3f5f"
            },
            "baxis": {
             "endlinecolor": "#2a3f5f",
             "gridcolor": "white",
             "linecolor": "white",
             "minorgridcolor": "white",
             "startlinecolor": "#2a3f5f"
            },
            "type": "carpet"
           }
          ],
          "choropleth": [
           {
            "colorbar": {
             "outlinewidth": 0,
             "ticks": ""
            },
            "type": "choropleth"
           }
          ],
          "contour": [
           {
            "colorbar": {
             "outlinewidth": 0,
             "ticks": ""
            },
            "colorscale": [
             [
              0,
              "#0d0887"
             ],
             [
              0.1111111111111111,
              "#46039f"
             ],
             [
              0.2222222222222222,
              "#7201a8"
             ],
             [
              0.3333333333333333,
              "#9c179e"
             ],
             [
              0.4444444444444444,
              "#bd3786"
             ],
             [
              0.5555555555555556,
              "#d8576b"
             ],
             [
              0.6666666666666666,
              "#ed7953"
             ],
             [
              0.7777777777777778,
              "#fb9f3a"
             ],
             [
              0.8888888888888888,
              "#fdca26"
             ],
             [
              1,
              "#f0f921"
             ]
            ],
            "type": "contour"
           }
          ],
          "contourcarpet": [
           {
            "colorbar": {
             "outlinewidth": 0,
             "ticks": ""
            },
            "type": "contourcarpet"
           }
          ],
          "heatmap": [
           {
            "colorbar": {
             "outlinewidth": 0,
             "ticks": ""
            },
            "colorscale": [
             [
              0,
              "#0d0887"
             ],
             [
              0.1111111111111111,
              "#46039f"
             ],
             [
              0.2222222222222222,
              "#7201a8"
             ],
             [
              0.3333333333333333,
              "#9c179e"
             ],
             [
              0.4444444444444444,
              "#bd3786"
             ],
             [
              0.5555555555555556,
              "#d8576b"
             ],
             [
              0.6666666666666666,
              "#ed7953"
             ],
             [
              0.7777777777777778,
              "#fb9f3a"
             ],
             [
              0.8888888888888888,
              "#fdca26"
             ],
             [
              1,
              "#f0f921"
             ]
            ],
            "type": "heatmap"
           }
          ],
          "heatmapgl": [
           {
            "colorbar": {
             "outlinewidth": 0,
             "ticks": ""
            },
            "colorscale": [
             [
              0,
              "#0d0887"
             ],
             [
              0.1111111111111111,
              "#46039f"
             ],
             [
              0.2222222222222222,
              "#7201a8"
             ],
             [
              0.3333333333333333,
              "#9c179e"
             ],
             [
              0.4444444444444444,
              "#bd3786"
             ],
             [
              0.5555555555555556,
              "#d8576b"
             ],
             [
              0.6666666666666666,
              "#ed7953"
             ],
             [
              0.7777777777777778,
              "#fb9f3a"
             ],
             [
              0.8888888888888888,
              "#fdca26"
             ],
             [
              1,
              "#f0f921"
             ]
            ],
            "type": "heatmapgl"
           }
          ],
          "histogram": [
           {
            "marker": {
             "pattern": {
              "fillmode": "overlay",
              "size": 10,
              "solidity": 0.2
             }
            },
            "type": "histogram"
           }
          ],
          "histogram2d": [
           {
            "colorbar": {
             "outlinewidth": 0,
             "ticks": ""
            },
            "colorscale": [
             [
              0,
              "#0d0887"
             ],
             [
              0.1111111111111111,
              "#46039f"
             ],
             [
              0.2222222222222222,
              "#7201a8"
             ],
             [
              0.3333333333333333,
              "#9c179e"
             ],
             [
              0.4444444444444444,
              "#bd3786"
             ],
             [
              0.5555555555555556,
              "#d8576b"
             ],
             [
              0.6666666666666666,
              "#ed7953"
             ],
             [
              0.7777777777777778,
              "#fb9f3a"
             ],
             [
              0.8888888888888888,
              "#fdca26"
             ],
             [
              1,
              "#f0f921"
             ]
            ],
            "type": "histogram2d"
           }
          ],
          "histogram2dcontour": [
           {
            "colorbar": {
             "outlinewidth": 0,
             "ticks": ""
            },
            "colorscale": [
             [
              0,
              "#0d0887"
             ],
             [
              0.1111111111111111,
              "#46039f"
             ],
             [
              0.2222222222222222,
              "#7201a8"
             ],
             [
              0.3333333333333333,
              "#9c179e"
             ],
             [
              0.4444444444444444,
              "#bd3786"
             ],
             [
              0.5555555555555556,
              "#d8576b"
             ],
             [
              0.6666666666666666,
              "#ed7953"
             ],
             [
              0.7777777777777778,
              "#fb9f3a"
             ],
             [
              0.8888888888888888,
              "#fdca26"
             ],
             [
              1,
              "#f0f921"
             ]
            ],
            "type": "histogram2dcontour"
           }
          ],
          "mesh3d": [
           {
            "colorbar": {
             "outlinewidth": 0,
             "ticks": ""
            },
            "type": "mesh3d"
           }
          ],
          "parcoords": [
           {
            "line": {
             "colorbar": {
              "outlinewidth": 0,
              "ticks": ""
             }
            },
            "type": "parcoords"
           }
          ],
          "pie": [
           {
            "automargin": true,
            "type": "pie"
           }
          ],
          "scatter": [
           {
            "fillpattern": {
             "fillmode": "overlay",
             "size": 10,
             "solidity": 0.2
            },
            "type": "scatter"
           }
          ],
          "scatter3d": [
           {
            "line": {
             "colorbar": {
              "outlinewidth": 0,
              "ticks": ""
             }
            },
            "marker": {
             "colorbar": {
              "outlinewidth": 0,
              "ticks": ""
             }
            },
            "type": "scatter3d"
           }
          ],
          "scattercarpet": [
           {
            "marker": {
             "colorbar": {
              "outlinewidth": 0,
              "ticks": ""
             }
            },
            "type": "scattercarpet"
           }
          ],
          "scattergeo": [
           {
            "marker": {
             "colorbar": {
              "outlinewidth": 0,
              "ticks": ""
             }
            },
            "type": "scattergeo"
           }
          ],
          "scattergl": [
           {
            "marker": {
             "colorbar": {
              "outlinewidth": 0,
              "ticks": ""
             }
            },
            "type": "scattergl"
           }
          ],
          "scattermapbox": [
           {
            "marker": {
             "colorbar": {
              "outlinewidth": 0,
              "ticks": ""
             }
            },
            "type": "scattermapbox"
           }
          ],
          "scatterpolar": [
           {
            "marker": {
             "colorbar": {
              "outlinewidth": 0,
              "ticks": ""
             }
            },
            "type": "scatterpolar"
           }
          ],
          "scatterpolargl": [
           {
            "marker": {
             "colorbar": {
              "outlinewidth": 0,
              "ticks": ""
             }
            },
            "type": "scatterpolargl"
           }
          ],
          "scatterternary": [
           {
            "marker": {
             "colorbar": {
              "outlinewidth": 0,
              "ticks": ""
             }
            },
            "type": "scatterternary"
           }
          ],
          "surface": [
           {
            "colorbar": {
             "outlinewidth": 0,
             "ticks": ""
            },
            "colorscale": [
             [
              0,
              "#0d0887"
             ],
             [
              0.1111111111111111,
              "#46039f"
             ],
             [
              0.2222222222222222,
              "#7201a8"
             ],
             [
              0.3333333333333333,
              "#9c179e"
             ],
             [
              0.4444444444444444,
              "#bd3786"
             ],
             [
              0.5555555555555556,
              "#d8576b"
             ],
             [
              0.6666666666666666,
              "#ed7953"
             ],
             [
              0.7777777777777778,
              "#fb9f3a"
             ],
             [
              0.8888888888888888,
              "#fdca26"
             ],
             [
              1,
              "#f0f921"
             ]
            ],
            "type": "surface"
           }
          ],
          "table": [
           {
            "cells": {
             "fill": {
              "color": "#EBF0F8"
             },
             "line": {
              "color": "white"
             }
            },
            "header": {
             "fill": {
              "color": "#C8D4E3"
             },
             "line": {
              "color": "white"
             }
            },
            "type": "table"
           }
          ]
         },
         "layout": {
          "annotationdefaults": {
           "arrowcolor": "#2a3f5f",
           "arrowhead": 0,
           "arrowwidth": 1
          },
          "autotypenumbers": "strict",
          "coloraxis": {
           "colorbar": {
            "outlinewidth": 0,
            "ticks": ""
           }
          },
          "colorscale": {
           "diverging": [
            [
             0,
             "#8e0152"
            ],
            [
             0.1,
             "#c51b7d"
            ],
            [
             0.2,
             "#de77ae"
            ],
            [
             0.3,
             "#f1b6da"
            ],
            [
             0.4,
             "#fde0ef"
            ],
            [
             0.5,
             "#f7f7f7"
            ],
            [
             0.6,
             "#e6f5d0"
            ],
            [
             0.7,
             "#b8e186"
            ],
            [
             0.8,
             "#7fbc41"
            ],
            [
             0.9,
             "#4d9221"
            ],
            [
             1,
             "#276419"
            ]
           ],
           "sequential": [
            [
             0,
             "#0d0887"
            ],
            [
             0.1111111111111111,
             "#46039f"
            ],
            [
             0.2222222222222222,
             "#7201a8"
            ],
            [
             0.3333333333333333,
             "#9c179e"
            ],
            [
             0.4444444444444444,
             "#bd3786"
            ],
            [
             0.5555555555555556,
             "#d8576b"
            ],
            [
             0.6666666666666666,
             "#ed7953"
            ],
            [
             0.7777777777777778,
             "#fb9f3a"
            ],
            [
             0.8888888888888888,
             "#fdca26"
            ],
            [
             1,
             "#f0f921"
            ]
           ],
           "sequentialminus": [
            [
             0,
             "#0d0887"
            ],
            [
             0.1111111111111111,
             "#46039f"
            ],
            [
             0.2222222222222222,
             "#7201a8"
            ],
            [
             0.3333333333333333,
             "#9c179e"
            ],
            [
             0.4444444444444444,
             "#bd3786"
            ],
            [
             0.5555555555555556,
             "#d8576b"
            ],
            [
             0.6666666666666666,
             "#ed7953"
            ],
            [
             0.7777777777777778,
             "#fb9f3a"
            ],
            [
             0.8888888888888888,
             "#fdca26"
            ],
            [
             1,
             "#f0f921"
            ]
           ]
          },
          "colorway": [
           "#636efa",
           "#EF553B",
           "#00cc96",
           "#ab63fa",
           "#FFA15A",
           "#19d3f3",
           "#FF6692",
           "#B6E880",
           "#FF97FF",
           "#FECB52"
          ],
          "font": {
           "color": "#2a3f5f"
          },
          "geo": {
           "bgcolor": "white",
           "lakecolor": "white",
           "landcolor": "#E5ECF6",
           "showlakes": true,
           "showland": true,
           "subunitcolor": "white"
          },
          "hoverlabel": {
           "align": "left"
          },
          "hovermode": "closest",
          "mapbox": {
           "style": "light"
          },
          "paper_bgcolor": "white",
          "plot_bgcolor": "#E5ECF6",
          "polar": {
           "angularaxis": {
            "gridcolor": "white",
            "linecolor": "white",
            "ticks": ""
           },
           "bgcolor": "#E5ECF6",
           "radialaxis": {
            "gridcolor": "white",
            "linecolor": "white",
            "ticks": ""
           }
          },
          "scene": {
           "xaxis": {
            "backgroundcolor": "#E5ECF6",
            "gridcolor": "white",
            "gridwidth": 2,
            "linecolor": "white",
            "showbackground": true,
            "ticks": "",
            "zerolinecolor": "white"
           },
           "yaxis": {
            "backgroundcolor": "#E5ECF6",
            "gridcolor": "white",
            "gridwidth": 2,
            "linecolor": "white",
            "showbackground": true,
            "ticks": "",
            "zerolinecolor": "white"
           },
           "zaxis": {
            "backgroundcolor": "#E5ECF6",
            "gridcolor": "white",
            "gridwidth": 2,
            "linecolor": "white",
            "showbackground": true,
            "ticks": "",
            "zerolinecolor": "white"
           }
          },
          "shapedefaults": {
           "line": {
            "color": "#2a3f5f"
           }
          },
          "ternary": {
           "aaxis": {
            "gridcolor": "white",
            "linecolor": "white",
            "ticks": ""
           },
           "baxis": {
            "gridcolor": "white",
            "linecolor": "white",
            "ticks": ""
           },
           "bgcolor": "#E5ECF6",
           "caxis": {
            "gridcolor": "white",
            "linecolor": "white",
            "ticks": ""
           }
          },
          "title": {
           "x": 0.05
          },
          "xaxis": {
           "automargin": true,
           "gridcolor": "white",
           "linecolor": "white",
           "ticks": "",
           "title": {
            "standoff": 15
           },
           "zerolinecolor": "white",
           "zerolinewidth": 2
          },
          "yaxis": {
           "automargin": true,
           "gridcolor": "white",
           "linecolor": "white",
           "ticks": "",
           "title": {
            "standoff": 15
           },
           "zerolinecolor": "white",
           "zerolinewidth": 2
          }
         }
        }
       }
      }
     },
     "metadata": {},
     "output_type": "display_data"
    },
    {
     "data": {
      "application/vnd.plotly.v1+json": {
       "config": {
        "linkText": "Export to plot.ly",
        "plotlyServerURL": "https://plot.ly",
        "showLink": false
       },
       "data": [
        {
         "labels": [
          2,
          1,
          0,
          3
         ],
         "textinfo": "value",
         "type": "pie",
         "values": [
          15033,
          15030,
          15009,
          520
         ]
        }
       ],
       "layout": {
        "template": {
         "data": {
          "bar": [
           {
            "error_x": {
             "color": "#2a3f5f"
            },
            "error_y": {
             "color": "#2a3f5f"
            },
            "marker": {
             "line": {
              "color": "#E5ECF6",
              "width": 0.5
             },
             "pattern": {
              "fillmode": "overlay",
              "size": 10,
              "solidity": 0.2
             }
            },
            "type": "bar"
           }
          ],
          "barpolar": [
           {
            "marker": {
             "line": {
              "color": "#E5ECF6",
              "width": 0.5
             },
             "pattern": {
              "fillmode": "overlay",
              "size": 10,
              "solidity": 0.2
             }
            },
            "type": "barpolar"
           }
          ],
          "carpet": [
           {
            "aaxis": {
             "endlinecolor": "#2a3f5f",
             "gridcolor": "white",
             "linecolor": "white",
             "minorgridcolor": "white",
             "startlinecolor": "#2a3f5f"
            },
            "baxis": {
             "endlinecolor": "#2a3f5f",
             "gridcolor": "white",
             "linecolor": "white",
             "minorgridcolor": "white",
             "startlinecolor": "#2a3f5f"
            },
            "type": "carpet"
           }
          ],
          "choropleth": [
           {
            "colorbar": {
             "outlinewidth": 0,
             "ticks": ""
            },
            "type": "choropleth"
           }
          ],
          "contour": [
           {
            "colorbar": {
             "outlinewidth": 0,
             "ticks": ""
            },
            "colorscale": [
             [
              0,
              "#0d0887"
             ],
             [
              0.1111111111111111,
              "#46039f"
             ],
             [
              0.2222222222222222,
              "#7201a8"
             ],
             [
              0.3333333333333333,
              "#9c179e"
             ],
             [
              0.4444444444444444,
              "#bd3786"
             ],
             [
              0.5555555555555556,
              "#d8576b"
             ],
             [
              0.6666666666666666,
              "#ed7953"
             ],
             [
              0.7777777777777778,
              "#fb9f3a"
             ],
             [
              0.8888888888888888,
              "#fdca26"
             ],
             [
              1,
              "#f0f921"
             ]
            ],
            "type": "contour"
           }
          ],
          "contourcarpet": [
           {
            "colorbar": {
             "outlinewidth": 0,
             "ticks": ""
            },
            "type": "contourcarpet"
           }
          ],
          "heatmap": [
           {
            "colorbar": {
             "outlinewidth": 0,
             "ticks": ""
            },
            "colorscale": [
             [
              0,
              "#0d0887"
             ],
             [
              0.1111111111111111,
              "#46039f"
             ],
             [
              0.2222222222222222,
              "#7201a8"
             ],
             [
              0.3333333333333333,
              "#9c179e"
             ],
             [
              0.4444444444444444,
              "#bd3786"
             ],
             [
              0.5555555555555556,
              "#d8576b"
             ],
             [
              0.6666666666666666,
              "#ed7953"
             ],
             [
              0.7777777777777778,
              "#fb9f3a"
             ],
             [
              0.8888888888888888,
              "#fdca26"
             ],
             [
              1,
              "#f0f921"
             ]
            ],
            "type": "heatmap"
           }
          ],
          "heatmapgl": [
           {
            "colorbar": {
             "outlinewidth": 0,
             "ticks": ""
            },
            "colorscale": [
             [
              0,
              "#0d0887"
             ],
             [
              0.1111111111111111,
              "#46039f"
             ],
             [
              0.2222222222222222,
              "#7201a8"
             ],
             [
              0.3333333333333333,
              "#9c179e"
             ],
             [
              0.4444444444444444,
              "#bd3786"
             ],
             [
              0.5555555555555556,
              "#d8576b"
             ],
             [
              0.6666666666666666,
              "#ed7953"
             ],
             [
              0.7777777777777778,
              "#fb9f3a"
             ],
             [
              0.8888888888888888,
              "#fdca26"
             ],
             [
              1,
              "#f0f921"
             ]
            ],
            "type": "heatmapgl"
           }
          ],
          "histogram": [
           {
            "marker": {
             "pattern": {
              "fillmode": "overlay",
              "size": 10,
              "solidity": 0.2
             }
            },
            "type": "histogram"
           }
          ],
          "histogram2d": [
           {
            "colorbar": {
             "outlinewidth": 0,
             "ticks": ""
            },
            "colorscale": [
             [
              0,
              "#0d0887"
             ],
             [
              0.1111111111111111,
              "#46039f"
             ],
             [
              0.2222222222222222,
              "#7201a8"
             ],
             [
              0.3333333333333333,
              "#9c179e"
             ],
             [
              0.4444444444444444,
              "#bd3786"
             ],
             [
              0.5555555555555556,
              "#d8576b"
             ],
             [
              0.6666666666666666,
              "#ed7953"
             ],
             [
              0.7777777777777778,
              "#fb9f3a"
             ],
             [
              0.8888888888888888,
              "#fdca26"
             ],
             [
              1,
              "#f0f921"
             ]
            ],
            "type": "histogram2d"
           }
          ],
          "histogram2dcontour": [
           {
            "colorbar": {
             "outlinewidth": 0,
             "ticks": ""
            },
            "colorscale": [
             [
              0,
              "#0d0887"
             ],
             [
              0.1111111111111111,
              "#46039f"
             ],
             [
              0.2222222222222222,
              "#7201a8"
             ],
             [
              0.3333333333333333,
              "#9c179e"
             ],
             [
              0.4444444444444444,
              "#bd3786"
             ],
             [
              0.5555555555555556,
              "#d8576b"
             ],
             [
              0.6666666666666666,
              "#ed7953"
             ],
             [
              0.7777777777777778,
              "#fb9f3a"
             ],
             [
              0.8888888888888888,
              "#fdca26"
             ],
             [
              1,
              "#f0f921"
             ]
            ],
            "type": "histogram2dcontour"
           }
          ],
          "mesh3d": [
           {
            "colorbar": {
             "outlinewidth": 0,
             "ticks": ""
            },
            "type": "mesh3d"
           }
          ],
          "parcoords": [
           {
            "line": {
             "colorbar": {
              "outlinewidth": 0,
              "ticks": ""
             }
            },
            "type": "parcoords"
           }
          ],
          "pie": [
           {
            "automargin": true,
            "type": "pie"
           }
          ],
          "scatter": [
           {
            "fillpattern": {
             "fillmode": "overlay",
             "size": 10,
             "solidity": 0.2
            },
            "type": "scatter"
           }
          ],
          "scatter3d": [
           {
            "line": {
             "colorbar": {
              "outlinewidth": 0,
              "ticks": ""
             }
            },
            "marker": {
             "colorbar": {
              "outlinewidth": 0,
              "ticks": ""
             }
            },
            "type": "scatter3d"
           }
          ],
          "scattercarpet": [
           {
            "marker": {
             "colorbar": {
              "outlinewidth": 0,
              "ticks": ""
             }
            },
            "type": "scattercarpet"
           }
          ],
          "scattergeo": [
           {
            "marker": {
             "colorbar": {
              "outlinewidth": 0,
              "ticks": ""
             }
            },
            "type": "scattergeo"
           }
          ],
          "scattergl": [
           {
            "marker": {
             "colorbar": {
              "outlinewidth": 0,
              "ticks": ""
             }
            },
            "type": "scattergl"
           }
          ],
          "scattermapbox": [
           {
            "marker": {
             "colorbar": {
              "outlinewidth": 0,
              "ticks": ""
             }
            },
            "type": "scattermapbox"
           }
          ],
          "scatterpolar": [
           {
            "marker": {
             "colorbar": {
              "outlinewidth": 0,
              "ticks": ""
             }
            },
            "type": "scatterpolar"
           }
          ],
          "scatterpolargl": [
           {
            "marker": {
             "colorbar": {
              "outlinewidth": 0,
              "ticks": ""
             }
            },
            "type": "scatterpolargl"
           }
          ],
          "scatterternary": [
           {
            "marker": {
             "colorbar": {
              "outlinewidth": 0,
              "ticks": ""
             }
            },
            "type": "scatterternary"
           }
          ],
          "surface": [
           {
            "colorbar": {
             "outlinewidth": 0,
             "ticks": ""
            },
            "colorscale": [
             [
              0,
              "#0d0887"
             ],
             [
              0.1111111111111111,
              "#46039f"
             ],
             [
              0.2222222222222222,
              "#7201a8"
             ],
             [
              0.3333333333333333,
              "#9c179e"
             ],
             [
              0.4444444444444444,
              "#bd3786"
             ],
             [
              0.5555555555555556,
              "#d8576b"
             ],
             [
              0.6666666666666666,
              "#ed7953"
             ],
             [
              0.7777777777777778,
              "#fb9f3a"
             ],
             [
              0.8888888888888888,
              "#fdca26"
             ],
             [
              1,
              "#f0f921"
             ]
            ],
            "type": "surface"
           }
          ],
          "table": [
           {
            "cells": {
             "fill": {
              "color": "#EBF0F8"
             },
             "line": {
              "color": "white"
             }
            },
            "header": {
             "fill": {
              "color": "#C8D4E3"
             },
             "line": {
              "color": "white"
             }
            },
            "type": "table"
           }
          ]
         },
         "layout": {
          "annotationdefaults": {
           "arrowcolor": "#2a3f5f",
           "arrowhead": 0,
           "arrowwidth": 1
          },
          "autotypenumbers": "strict",
          "coloraxis": {
           "colorbar": {
            "outlinewidth": 0,
            "ticks": ""
           }
          },
          "colorscale": {
           "diverging": [
            [
             0,
             "#8e0152"
            ],
            [
             0.1,
             "#c51b7d"
            ],
            [
             0.2,
             "#de77ae"
            ],
            [
             0.3,
             "#f1b6da"
            ],
            [
             0.4,
             "#fde0ef"
            ],
            [
             0.5,
             "#f7f7f7"
            ],
            [
             0.6,
             "#e6f5d0"
            ],
            [
             0.7,
             "#b8e186"
            ],
            [
             0.8,
             "#7fbc41"
            ],
            [
             0.9,
             "#4d9221"
            ],
            [
             1,
             "#276419"
            ]
           ],
           "sequential": [
            [
             0,
             "#0d0887"
            ],
            [
             0.1111111111111111,
             "#46039f"
            ],
            [
             0.2222222222222222,
             "#7201a8"
            ],
            [
             0.3333333333333333,
             "#9c179e"
            ],
            [
             0.4444444444444444,
             "#bd3786"
            ],
            [
             0.5555555555555556,
             "#d8576b"
            ],
            [
             0.6666666666666666,
             "#ed7953"
            ],
            [
             0.7777777777777778,
             "#fb9f3a"
            ],
            [
             0.8888888888888888,
             "#fdca26"
            ],
            [
             1,
             "#f0f921"
            ]
           ],
           "sequentialminus": [
            [
             0,
             "#0d0887"
            ],
            [
             0.1111111111111111,
             "#46039f"
            ],
            [
             0.2222222222222222,
             "#7201a8"
            ],
            [
             0.3333333333333333,
             "#9c179e"
            ],
            [
             0.4444444444444444,
             "#bd3786"
            ],
            [
             0.5555555555555556,
             "#d8576b"
            ],
            [
             0.6666666666666666,
             "#ed7953"
            ],
            [
             0.7777777777777778,
             "#fb9f3a"
            ],
            [
             0.8888888888888888,
             "#fdca26"
            ],
            [
             1,
             "#f0f921"
            ]
           ]
          },
          "colorway": [
           "#636efa",
           "#EF553B",
           "#00cc96",
           "#ab63fa",
           "#FFA15A",
           "#19d3f3",
           "#FF6692",
           "#B6E880",
           "#FF97FF",
           "#FECB52"
          ],
          "font": {
           "color": "#2a3f5f"
          },
          "geo": {
           "bgcolor": "white",
           "lakecolor": "white",
           "landcolor": "#E5ECF6",
           "showlakes": true,
           "showland": true,
           "subunitcolor": "white"
          },
          "hoverlabel": {
           "align": "left"
          },
          "hovermode": "closest",
          "mapbox": {
           "style": "light"
          },
          "paper_bgcolor": "white",
          "plot_bgcolor": "#E5ECF6",
          "polar": {
           "angularaxis": {
            "gridcolor": "white",
            "linecolor": "white",
            "ticks": ""
           },
           "bgcolor": "#E5ECF6",
           "radialaxis": {
            "gridcolor": "white",
            "linecolor": "white",
            "ticks": ""
           }
          },
          "scene": {
           "xaxis": {
            "backgroundcolor": "#E5ECF6",
            "gridcolor": "white",
            "gridwidth": 2,
            "linecolor": "white",
            "showbackground": true,
            "ticks": "",
            "zerolinecolor": "white"
           },
           "yaxis": {
            "backgroundcolor": "#E5ECF6",
            "gridcolor": "white",
            "gridwidth": 2,
            "linecolor": "white",
            "showbackground": true,
            "ticks": "",
            "zerolinecolor": "white"
           },
           "zaxis": {
            "backgroundcolor": "#E5ECF6",
            "gridcolor": "white",
            "gridwidth": 2,
            "linecolor": "white",
            "showbackground": true,
            "ticks": "",
            "zerolinecolor": "white"
           }
          },
          "shapedefaults": {
           "line": {
            "color": "#2a3f5f"
           }
          },
          "ternary": {
           "aaxis": {
            "gridcolor": "white",
            "linecolor": "white",
            "ticks": ""
           },
           "baxis": {
            "gridcolor": "white",
            "linecolor": "white",
            "ticks": ""
           },
           "bgcolor": "#E5ECF6",
           "caxis": {
            "gridcolor": "white",
            "linecolor": "white",
            "ticks": ""
           }
          },
          "title": {
           "x": 0.05
          },
          "xaxis": {
           "automargin": true,
           "gridcolor": "white",
           "linecolor": "white",
           "ticks": "",
           "title": {
            "standoff": 15
           },
           "zerolinecolor": "white",
           "zerolinewidth": 2
          },
          "yaxis": {
           "automargin": true,
           "gridcolor": "white",
           "linecolor": "white",
           "ticks": "",
           "title": {
            "standoff": 15
           },
           "zerolinecolor": "white",
           "zerolinewidth": 2
          }
         }
        }
       }
      }
     },
     "metadata": {},
     "output_type": "display_data"
    },
    {
     "data": {
      "application/vnd.plotly.v1+json": {
       "config": {
        "linkText": "Export to plot.ly",
        "plotlyServerURL": "https://plot.ly",
        "showLink": false
       },
       "data": [
        {
         "labels": [
          "Snack",
          "Meal",
          "Drinks",
          "Buffet"
         ],
         "textinfo": "value",
         "type": "pie",
         "values": [
          11532,
          11458,
          11322,
          11280
         ]
        }
       ],
       "layout": {
        "template": {
         "data": {
          "bar": [
           {
            "error_x": {
             "color": "#2a3f5f"
            },
            "error_y": {
             "color": "#2a3f5f"
            },
            "marker": {
             "line": {
              "color": "#E5ECF6",
              "width": 0.5
             },
             "pattern": {
              "fillmode": "overlay",
              "size": 10,
              "solidity": 0.2
             }
            },
            "type": "bar"
           }
          ],
          "barpolar": [
           {
            "marker": {
             "line": {
              "color": "#E5ECF6",
              "width": 0.5
             },
             "pattern": {
              "fillmode": "overlay",
              "size": 10,
              "solidity": 0.2
             }
            },
            "type": "barpolar"
           }
          ],
          "carpet": [
           {
            "aaxis": {
             "endlinecolor": "#2a3f5f",
             "gridcolor": "white",
             "linecolor": "white",
             "minorgridcolor": "white",
             "startlinecolor": "#2a3f5f"
            },
            "baxis": {
             "endlinecolor": "#2a3f5f",
             "gridcolor": "white",
             "linecolor": "white",
             "minorgridcolor": "white",
             "startlinecolor": "#2a3f5f"
            },
            "type": "carpet"
           }
          ],
          "choropleth": [
           {
            "colorbar": {
             "outlinewidth": 0,
             "ticks": ""
            },
            "type": "choropleth"
           }
          ],
          "contour": [
           {
            "colorbar": {
             "outlinewidth": 0,
             "ticks": ""
            },
            "colorscale": [
             [
              0,
              "#0d0887"
             ],
             [
              0.1111111111111111,
              "#46039f"
             ],
             [
              0.2222222222222222,
              "#7201a8"
             ],
             [
              0.3333333333333333,
              "#9c179e"
             ],
             [
              0.4444444444444444,
              "#bd3786"
             ],
             [
              0.5555555555555556,
              "#d8576b"
             ],
             [
              0.6666666666666666,
              "#ed7953"
             ],
             [
              0.7777777777777778,
              "#fb9f3a"
             ],
             [
              0.8888888888888888,
              "#fdca26"
             ],
             [
              1,
              "#f0f921"
             ]
            ],
            "type": "contour"
           }
          ],
          "contourcarpet": [
           {
            "colorbar": {
             "outlinewidth": 0,
             "ticks": ""
            },
            "type": "contourcarpet"
           }
          ],
          "heatmap": [
           {
            "colorbar": {
             "outlinewidth": 0,
             "ticks": ""
            },
            "colorscale": [
             [
              0,
              "#0d0887"
             ],
             [
              0.1111111111111111,
              "#46039f"
             ],
             [
              0.2222222222222222,
              "#7201a8"
             ],
             [
              0.3333333333333333,
              "#9c179e"
             ],
             [
              0.4444444444444444,
              "#bd3786"
             ],
             [
              0.5555555555555556,
              "#d8576b"
             ],
             [
              0.6666666666666666,
              "#ed7953"
             ],
             [
              0.7777777777777778,
              "#fb9f3a"
             ],
             [
              0.8888888888888888,
              "#fdca26"
             ],
             [
              1,
              "#f0f921"
             ]
            ],
            "type": "heatmap"
           }
          ],
          "heatmapgl": [
           {
            "colorbar": {
             "outlinewidth": 0,
             "ticks": ""
            },
            "colorscale": [
             [
              0,
              "#0d0887"
             ],
             [
              0.1111111111111111,
              "#46039f"
             ],
             [
              0.2222222222222222,
              "#7201a8"
             ],
             [
              0.3333333333333333,
              "#9c179e"
             ],
             [
              0.4444444444444444,
              "#bd3786"
             ],
             [
              0.5555555555555556,
              "#d8576b"
             ],
             [
              0.6666666666666666,
              "#ed7953"
             ],
             [
              0.7777777777777778,
              "#fb9f3a"
             ],
             [
              0.8888888888888888,
              "#fdca26"
             ],
             [
              1,
              "#f0f921"
             ]
            ],
            "type": "heatmapgl"
           }
          ],
          "histogram": [
           {
            "marker": {
             "pattern": {
              "fillmode": "overlay",
              "size": 10,
              "solidity": 0.2
             }
            },
            "type": "histogram"
           }
          ],
          "histogram2d": [
           {
            "colorbar": {
             "outlinewidth": 0,
             "ticks": ""
            },
            "colorscale": [
             [
              0,
              "#0d0887"
             ],
             [
              0.1111111111111111,
              "#46039f"
             ],
             [
              0.2222222222222222,
              "#7201a8"
             ],
             [
              0.3333333333333333,
              "#9c179e"
             ],
             [
              0.4444444444444444,
              "#bd3786"
             ],
             [
              0.5555555555555556,
              "#d8576b"
             ],
             [
              0.6666666666666666,
              "#ed7953"
             ],
             [
              0.7777777777777778,
              "#fb9f3a"
             ],
             [
              0.8888888888888888,
              "#fdca26"
             ],
             [
              1,
              "#f0f921"
             ]
            ],
            "type": "histogram2d"
           }
          ],
          "histogram2dcontour": [
           {
            "colorbar": {
             "outlinewidth": 0,
             "ticks": ""
            },
            "colorscale": [
             [
              0,
              "#0d0887"
             ],
             [
              0.1111111111111111,
              "#46039f"
             ],
             [
              0.2222222222222222,
              "#7201a8"
             ],
             [
              0.3333333333333333,
              "#9c179e"
             ],
             [
              0.4444444444444444,
              "#bd3786"
             ],
             [
              0.5555555555555556,
              "#d8576b"
             ],
             [
              0.6666666666666666,
              "#ed7953"
             ],
             [
              0.7777777777777778,
              "#fb9f3a"
             ],
             [
              0.8888888888888888,
              "#fdca26"
             ],
             [
              1,
              "#f0f921"
             ]
            ],
            "type": "histogram2dcontour"
           }
          ],
          "mesh3d": [
           {
            "colorbar": {
             "outlinewidth": 0,
             "ticks": ""
            },
            "type": "mesh3d"
           }
          ],
          "parcoords": [
           {
            "line": {
             "colorbar": {
              "outlinewidth": 0,
              "ticks": ""
             }
            },
            "type": "parcoords"
           }
          ],
          "pie": [
           {
            "automargin": true,
            "type": "pie"
           }
          ],
          "scatter": [
           {
            "fillpattern": {
             "fillmode": "overlay",
             "size": 10,
             "solidity": 0.2
            },
            "type": "scatter"
           }
          ],
          "scatter3d": [
           {
            "line": {
             "colorbar": {
              "outlinewidth": 0,
              "ticks": ""
             }
            },
            "marker": {
             "colorbar": {
              "outlinewidth": 0,
              "ticks": ""
             }
            },
            "type": "scatter3d"
           }
          ],
          "scattercarpet": [
           {
            "marker": {
             "colorbar": {
              "outlinewidth": 0,
              "ticks": ""
             }
            },
            "type": "scattercarpet"
           }
          ],
          "scattergeo": [
           {
            "marker": {
             "colorbar": {
              "outlinewidth": 0,
              "ticks": ""
             }
            },
            "type": "scattergeo"
           }
          ],
          "scattergl": [
           {
            "marker": {
             "colorbar": {
              "outlinewidth": 0,
              "ticks": ""
             }
            },
            "type": "scattergl"
           }
          ],
          "scattermapbox": [
           {
            "marker": {
             "colorbar": {
              "outlinewidth": 0,
              "ticks": ""
             }
            },
            "type": "scattermapbox"
           }
          ],
          "scatterpolar": [
           {
            "marker": {
             "colorbar": {
              "outlinewidth": 0,
              "ticks": ""
             }
            },
            "type": "scatterpolar"
           }
          ],
          "scatterpolargl": [
           {
            "marker": {
             "colorbar": {
              "outlinewidth": 0,
              "ticks": ""
             }
            },
            "type": "scatterpolargl"
           }
          ],
          "scatterternary": [
           {
            "marker": {
             "colorbar": {
              "outlinewidth": 0,
              "ticks": ""
             }
            },
            "type": "scatterternary"
           }
          ],
          "surface": [
           {
            "colorbar": {
             "outlinewidth": 0,
             "ticks": ""
            },
            "colorscale": [
             [
              0,
              "#0d0887"
             ],
             [
              0.1111111111111111,
              "#46039f"
             ],
             [
              0.2222222222222222,
              "#7201a8"
             ],
             [
              0.3333333333333333,
              "#9c179e"
             ],
             [
              0.4444444444444444,
              "#bd3786"
             ],
             [
              0.5555555555555556,
              "#d8576b"
             ],
             [
              0.6666666666666666,
              "#ed7953"
             ],
             [
              0.7777777777777778,
              "#fb9f3a"
             ],
             [
              0.8888888888888888,
              "#fdca26"
             ],
             [
              1,
              "#f0f921"
             ]
            ],
            "type": "surface"
           }
          ],
          "table": [
           {
            "cells": {
             "fill": {
              "color": "#EBF0F8"
             },
             "line": {
              "color": "white"
             }
            },
            "header": {
             "fill": {
              "color": "#C8D4E3"
             },
             "line": {
              "color": "white"
             }
            },
            "type": "table"
           }
          ]
         },
         "layout": {
          "annotationdefaults": {
           "arrowcolor": "#2a3f5f",
           "arrowhead": 0,
           "arrowwidth": 1
          },
          "autotypenumbers": "strict",
          "coloraxis": {
           "colorbar": {
            "outlinewidth": 0,
            "ticks": ""
           }
          },
          "colorscale": {
           "diverging": [
            [
             0,
             "#8e0152"
            ],
            [
             0.1,
             "#c51b7d"
            ],
            [
             0.2,
             "#de77ae"
            ],
            [
             0.3,
             "#f1b6da"
            ],
            [
             0.4,
             "#fde0ef"
            ],
            [
             0.5,
             "#f7f7f7"
            ],
            [
             0.6,
             "#e6f5d0"
            ],
            [
             0.7,
             "#b8e186"
            ],
            [
             0.8,
             "#7fbc41"
            ],
            [
             0.9,
             "#4d9221"
            ],
            [
             1,
             "#276419"
            ]
           ],
           "sequential": [
            [
             0,
             "#0d0887"
            ],
            [
             0.1111111111111111,
             "#46039f"
            ],
            [
             0.2222222222222222,
             "#7201a8"
            ],
            [
             0.3333333333333333,
             "#9c179e"
            ],
            [
             0.4444444444444444,
             "#bd3786"
            ],
            [
             0.5555555555555556,
             "#d8576b"
            ],
            [
             0.6666666666666666,
             "#ed7953"
            ],
            [
             0.7777777777777778,
             "#fb9f3a"
            ],
            [
             0.8888888888888888,
             "#fdca26"
            ],
            [
             1,
             "#f0f921"
            ]
           ],
           "sequentialminus": [
            [
             0,
             "#0d0887"
            ],
            [
             0.1111111111111111,
             "#46039f"
            ],
            [
             0.2222222222222222,
             "#7201a8"
            ],
            [
             0.3333333333333333,
             "#9c179e"
            ],
            [
             0.4444444444444444,
             "#bd3786"
            ],
            [
             0.5555555555555556,
             "#d8576b"
            ],
            [
             0.6666666666666666,
             "#ed7953"
            ],
            [
             0.7777777777777778,
             "#fb9f3a"
            ],
            [
             0.8888888888888888,
             "#fdca26"
            ],
            [
             1,
             "#f0f921"
            ]
           ]
          },
          "colorway": [
           "#636efa",
           "#EF553B",
           "#00cc96",
           "#ab63fa",
           "#FFA15A",
           "#19d3f3",
           "#FF6692",
           "#B6E880",
           "#FF97FF",
           "#FECB52"
          ],
          "font": {
           "color": "#2a3f5f"
          },
          "geo": {
           "bgcolor": "white",
           "lakecolor": "white",
           "landcolor": "#E5ECF6",
           "showlakes": true,
           "showland": true,
           "subunitcolor": "white"
          },
          "hoverlabel": {
           "align": "left"
          },
          "hovermode": "closest",
          "mapbox": {
           "style": "light"
          },
          "paper_bgcolor": "white",
          "plot_bgcolor": "#E5ECF6",
          "polar": {
           "angularaxis": {
            "gridcolor": "white",
            "linecolor": "white",
            "ticks": ""
           },
           "bgcolor": "#E5ECF6",
           "radialaxis": {
            "gridcolor": "white",
            "linecolor": "white",
            "ticks": ""
           }
          },
          "scene": {
           "xaxis": {
            "backgroundcolor": "#E5ECF6",
            "gridcolor": "white",
            "gridwidth": 2,
            "linecolor": "white",
            "showbackground": true,
            "ticks": "",
            "zerolinecolor": "white"
           },
           "yaxis": {
            "backgroundcolor": "#E5ECF6",
            "gridcolor": "white",
            "gridwidth": 2,
            "linecolor": "white",
            "showbackground": true,
            "ticks": "",
            "zerolinecolor": "white"
           },
           "zaxis": {
            "backgroundcolor": "#E5ECF6",
            "gridcolor": "white",
            "gridwidth": 2,
            "linecolor": "white",
            "showbackground": true,
            "ticks": "",
            "zerolinecolor": "white"
           }
          },
          "shapedefaults": {
           "line": {
            "color": "#2a3f5f"
           }
          },
          "ternary": {
           "aaxis": {
            "gridcolor": "white",
            "linecolor": "white",
            "ticks": ""
           },
           "baxis": {
            "gridcolor": "white",
            "linecolor": "white",
            "ticks": ""
           },
           "bgcolor": "#E5ECF6",
           "caxis": {
            "gridcolor": "white",
            "linecolor": "white",
            "ticks": ""
           }
          },
          "title": {
           "x": 0.05
          },
          "xaxis": {
           "automargin": true,
           "gridcolor": "white",
           "linecolor": "white",
           "ticks": "",
           "title": {
            "standoff": 15
           },
           "zerolinecolor": "white",
           "zerolinewidth": 2
          },
          "yaxis": {
           "automargin": true,
           "gridcolor": "white",
           "linecolor": "white",
           "ticks": "",
           "title": {
            "standoff": 15
           },
           "zerolinecolor": "white",
           "zerolinewidth": 2
          }
         }
        }
       }
      }
     },
     "metadata": {},
     "output_type": "display_data"
    },
    {
     "data": {
      "application/vnd.plotly.v1+json": {
       "config": {
        "linkText": "Export to plot.ly",
        "plotlyServerURL": "https://plot.ly",
        "showLink": false
       },
       "data": [
        {
         "labels": [
          "motorcycle",
          "scooter",
          "electric_scooter",
          "bicycle"
         ],
         "textinfo": "value",
         "type": "pie",
         "values": [
          26434,
          15276,
          3814,
          68
         ]
        }
       ],
       "layout": {
        "template": {
         "data": {
          "bar": [
           {
            "error_x": {
             "color": "#2a3f5f"
            },
            "error_y": {
             "color": "#2a3f5f"
            },
            "marker": {
             "line": {
              "color": "#E5ECF6",
              "width": 0.5
             },
             "pattern": {
              "fillmode": "overlay",
              "size": 10,
              "solidity": 0.2
             }
            },
            "type": "bar"
           }
          ],
          "barpolar": [
           {
            "marker": {
             "line": {
              "color": "#E5ECF6",
              "width": 0.5
             },
             "pattern": {
              "fillmode": "overlay",
              "size": 10,
              "solidity": 0.2
             }
            },
            "type": "barpolar"
           }
          ],
          "carpet": [
           {
            "aaxis": {
             "endlinecolor": "#2a3f5f",
             "gridcolor": "white",
             "linecolor": "white",
             "minorgridcolor": "white",
             "startlinecolor": "#2a3f5f"
            },
            "baxis": {
             "endlinecolor": "#2a3f5f",
             "gridcolor": "white",
             "linecolor": "white",
             "minorgridcolor": "white",
             "startlinecolor": "#2a3f5f"
            },
            "type": "carpet"
           }
          ],
          "choropleth": [
           {
            "colorbar": {
             "outlinewidth": 0,
             "ticks": ""
            },
            "type": "choropleth"
           }
          ],
          "contour": [
           {
            "colorbar": {
             "outlinewidth": 0,
             "ticks": ""
            },
            "colorscale": [
             [
              0,
              "#0d0887"
             ],
             [
              0.1111111111111111,
              "#46039f"
             ],
             [
              0.2222222222222222,
              "#7201a8"
             ],
             [
              0.3333333333333333,
              "#9c179e"
             ],
             [
              0.4444444444444444,
              "#bd3786"
             ],
             [
              0.5555555555555556,
              "#d8576b"
             ],
             [
              0.6666666666666666,
              "#ed7953"
             ],
             [
              0.7777777777777778,
              "#fb9f3a"
             ],
             [
              0.8888888888888888,
              "#fdca26"
             ],
             [
              1,
              "#f0f921"
             ]
            ],
            "type": "contour"
           }
          ],
          "contourcarpet": [
           {
            "colorbar": {
             "outlinewidth": 0,
             "ticks": ""
            },
            "type": "contourcarpet"
           }
          ],
          "heatmap": [
           {
            "colorbar": {
             "outlinewidth": 0,
             "ticks": ""
            },
            "colorscale": [
             [
              0,
              "#0d0887"
             ],
             [
              0.1111111111111111,
              "#46039f"
             ],
             [
              0.2222222222222222,
              "#7201a8"
             ],
             [
              0.3333333333333333,
              "#9c179e"
             ],
             [
              0.4444444444444444,
              "#bd3786"
             ],
             [
              0.5555555555555556,
              "#d8576b"
             ],
             [
              0.6666666666666666,
              "#ed7953"
             ],
             [
              0.7777777777777778,
              "#fb9f3a"
             ],
             [
              0.8888888888888888,
              "#fdca26"
             ],
             [
              1,
              "#f0f921"
             ]
            ],
            "type": "heatmap"
           }
          ],
          "heatmapgl": [
           {
            "colorbar": {
             "outlinewidth": 0,
             "ticks": ""
            },
            "colorscale": [
             [
              0,
              "#0d0887"
             ],
             [
              0.1111111111111111,
              "#46039f"
             ],
             [
              0.2222222222222222,
              "#7201a8"
             ],
             [
              0.3333333333333333,
              "#9c179e"
             ],
             [
              0.4444444444444444,
              "#bd3786"
             ],
             [
              0.5555555555555556,
              "#d8576b"
             ],
             [
              0.6666666666666666,
              "#ed7953"
             ],
             [
              0.7777777777777778,
              "#fb9f3a"
             ],
             [
              0.8888888888888888,
              "#fdca26"
             ],
             [
              1,
              "#f0f921"
             ]
            ],
            "type": "heatmapgl"
           }
          ],
          "histogram": [
           {
            "marker": {
             "pattern": {
              "fillmode": "overlay",
              "size": 10,
              "solidity": 0.2
             }
            },
            "type": "histogram"
           }
          ],
          "histogram2d": [
           {
            "colorbar": {
             "outlinewidth": 0,
             "ticks": ""
            },
            "colorscale": [
             [
              0,
              "#0d0887"
             ],
             [
              0.1111111111111111,
              "#46039f"
             ],
             [
              0.2222222222222222,
              "#7201a8"
             ],
             [
              0.3333333333333333,
              "#9c179e"
             ],
             [
              0.4444444444444444,
              "#bd3786"
             ],
             [
              0.5555555555555556,
              "#d8576b"
             ],
             [
              0.6666666666666666,
              "#ed7953"
             ],
             [
              0.7777777777777778,
              "#fb9f3a"
             ],
             [
              0.8888888888888888,
              "#fdca26"
             ],
             [
              1,
              "#f0f921"
             ]
            ],
            "type": "histogram2d"
           }
          ],
          "histogram2dcontour": [
           {
            "colorbar": {
             "outlinewidth": 0,
             "ticks": ""
            },
            "colorscale": [
             [
              0,
              "#0d0887"
             ],
             [
              0.1111111111111111,
              "#46039f"
             ],
             [
              0.2222222222222222,
              "#7201a8"
             ],
             [
              0.3333333333333333,
              "#9c179e"
             ],
             [
              0.4444444444444444,
              "#bd3786"
             ],
             [
              0.5555555555555556,
              "#d8576b"
             ],
             [
              0.6666666666666666,
              "#ed7953"
             ],
             [
              0.7777777777777778,
              "#fb9f3a"
             ],
             [
              0.8888888888888888,
              "#fdca26"
             ],
             [
              1,
              "#f0f921"
             ]
            ],
            "type": "histogram2dcontour"
           }
          ],
          "mesh3d": [
           {
            "colorbar": {
             "outlinewidth": 0,
             "ticks": ""
            },
            "type": "mesh3d"
           }
          ],
          "parcoords": [
           {
            "line": {
             "colorbar": {
              "outlinewidth": 0,
              "ticks": ""
             }
            },
            "type": "parcoords"
           }
          ],
          "pie": [
           {
            "automargin": true,
            "type": "pie"
           }
          ],
          "scatter": [
           {
            "fillpattern": {
             "fillmode": "overlay",
             "size": 10,
             "solidity": 0.2
            },
            "type": "scatter"
           }
          ],
          "scatter3d": [
           {
            "line": {
             "colorbar": {
              "outlinewidth": 0,
              "ticks": ""
             }
            },
            "marker": {
             "colorbar": {
              "outlinewidth": 0,
              "ticks": ""
             }
            },
            "type": "scatter3d"
           }
          ],
          "scattercarpet": [
           {
            "marker": {
             "colorbar": {
              "outlinewidth": 0,
              "ticks": ""
             }
            },
            "type": "scattercarpet"
           }
          ],
          "scattergeo": [
           {
            "marker": {
             "colorbar": {
              "outlinewidth": 0,
              "ticks": ""
             }
            },
            "type": "scattergeo"
           }
          ],
          "scattergl": [
           {
            "marker": {
             "colorbar": {
              "outlinewidth": 0,
              "ticks": ""
             }
            },
            "type": "scattergl"
           }
          ],
          "scattermapbox": [
           {
            "marker": {
             "colorbar": {
              "outlinewidth": 0,
              "ticks": ""
             }
            },
            "type": "scattermapbox"
           }
          ],
          "scatterpolar": [
           {
            "marker": {
             "colorbar": {
              "outlinewidth": 0,
              "ticks": ""
             }
            },
            "type": "scatterpolar"
           }
          ],
          "scatterpolargl": [
           {
            "marker": {
             "colorbar": {
              "outlinewidth": 0,
              "ticks": ""
             }
            },
            "type": "scatterpolargl"
           }
          ],
          "scatterternary": [
           {
            "marker": {
             "colorbar": {
              "outlinewidth": 0,
              "ticks": ""
             }
            },
            "type": "scatterternary"
           }
          ],
          "surface": [
           {
            "colorbar": {
             "outlinewidth": 0,
             "ticks": ""
            },
            "colorscale": [
             [
              0,
              "#0d0887"
             ],
             [
              0.1111111111111111,
              "#46039f"
             ],
             [
              0.2222222222222222,
              "#7201a8"
             ],
             [
              0.3333333333333333,
              "#9c179e"
             ],
             [
              0.4444444444444444,
              "#bd3786"
             ],
             [
              0.5555555555555556,
              "#d8576b"
             ],
             [
              0.6666666666666666,
              "#ed7953"
             ],
             [
              0.7777777777777778,
              "#fb9f3a"
             ],
             [
              0.8888888888888888,
              "#fdca26"
             ],
             [
              1,
              "#f0f921"
             ]
            ],
            "type": "surface"
           }
          ],
          "table": [
           {
            "cells": {
             "fill": {
              "color": "#EBF0F8"
             },
             "line": {
              "color": "white"
             }
            },
            "header": {
             "fill": {
              "color": "#C8D4E3"
             },
             "line": {
              "color": "white"
             }
            },
            "type": "table"
           }
          ]
         },
         "layout": {
          "annotationdefaults": {
           "arrowcolor": "#2a3f5f",
           "arrowhead": 0,
           "arrowwidth": 1
          },
          "autotypenumbers": "strict",
          "coloraxis": {
           "colorbar": {
            "outlinewidth": 0,
            "ticks": ""
           }
          },
          "colorscale": {
           "diverging": [
            [
             0,
             "#8e0152"
            ],
            [
             0.1,
             "#c51b7d"
            ],
            [
             0.2,
             "#de77ae"
            ],
            [
             0.3,
             "#f1b6da"
            ],
            [
             0.4,
             "#fde0ef"
            ],
            [
             0.5,
             "#f7f7f7"
            ],
            [
             0.6,
             "#e6f5d0"
            ],
            [
             0.7,
             "#b8e186"
            ],
            [
             0.8,
             "#7fbc41"
            ],
            [
             0.9,
             "#4d9221"
            ],
            [
             1,
             "#276419"
            ]
           ],
           "sequential": [
            [
             0,
             "#0d0887"
            ],
            [
             0.1111111111111111,
             "#46039f"
            ],
            [
             0.2222222222222222,
             "#7201a8"
            ],
            [
             0.3333333333333333,
             "#9c179e"
            ],
            [
             0.4444444444444444,
             "#bd3786"
            ],
            [
             0.5555555555555556,
             "#d8576b"
            ],
            [
             0.6666666666666666,
             "#ed7953"
            ],
            [
             0.7777777777777778,
             "#fb9f3a"
            ],
            [
             0.8888888888888888,
             "#fdca26"
            ],
            [
             1,
             "#f0f921"
            ]
           ],
           "sequentialminus": [
            [
             0,
             "#0d0887"
            ],
            [
             0.1111111111111111,
             "#46039f"
            ],
            [
             0.2222222222222222,
             "#7201a8"
            ],
            [
             0.3333333333333333,
             "#9c179e"
            ],
            [
             0.4444444444444444,
             "#bd3786"
            ],
            [
             0.5555555555555556,
             "#d8576b"
            ],
            [
             0.6666666666666666,
             "#ed7953"
            ],
            [
             0.7777777777777778,
             "#fb9f3a"
            ],
            [
             0.8888888888888888,
             "#fdca26"
            ],
            [
             1,
             "#f0f921"
            ]
           ]
          },
          "colorway": [
           "#636efa",
           "#EF553B",
           "#00cc96",
           "#ab63fa",
           "#FFA15A",
           "#19d3f3",
           "#FF6692",
           "#B6E880",
           "#FF97FF",
           "#FECB52"
          ],
          "font": {
           "color": "#2a3f5f"
          },
          "geo": {
           "bgcolor": "white",
           "lakecolor": "white",
           "landcolor": "#E5ECF6",
           "showlakes": true,
           "showland": true,
           "subunitcolor": "white"
          },
          "hoverlabel": {
           "align": "left"
          },
          "hovermode": "closest",
          "mapbox": {
           "style": "light"
          },
          "paper_bgcolor": "white",
          "plot_bgcolor": "#E5ECF6",
          "polar": {
           "angularaxis": {
            "gridcolor": "white",
            "linecolor": "white",
            "ticks": ""
           },
           "bgcolor": "#E5ECF6",
           "radialaxis": {
            "gridcolor": "white",
            "linecolor": "white",
            "ticks": ""
           }
          },
          "scene": {
           "xaxis": {
            "backgroundcolor": "#E5ECF6",
            "gridcolor": "white",
            "gridwidth": 2,
            "linecolor": "white",
            "showbackground": true,
            "ticks": "",
            "zerolinecolor": "white"
           },
           "yaxis": {
            "backgroundcolor": "#E5ECF6",
            "gridcolor": "white",
            "gridwidth": 2,
            "linecolor": "white",
            "showbackground": true,
            "ticks": "",
            "zerolinecolor": "white"
           },
           "zaxis": {
            "backgroundcolor": "#E5ECF6",
            "gridcolor": "white",
            "gridwidth": 2,
            "linecolor": "white",
            "showbackground": true,
            "ticks": "",
            "zerolinecolor": "white"
           }
          },
          "shapedefaults": {
           "line": {
            "color": "#2a3f5f"
           }
          },
          "ternary": {
           "aaxis": {
            "gridcolor": "white",
            "linecolor": "white",
            "ticks": ""
           },
           "baxis": {
            "gridcolor": "white",
            "linecolor": "white",
            "ticks": ""
           },
           "bgcolor": "#E5ECF6",
           "caxis": {
            "gridcolor": "white",
            "linecolor": "white",
            "ticks": ""
           }
          },
          "title": {
           "x": 0.05
          },
          "xaxis": {
           "automargin": true,
           "gridcolor": "white",
           "linecolor": "white",
           "ticks": "",
           "title": {
            "standoff": 15
           },
           "zerolinecolor": "white",
           "zerolinewidth": 2
          },
          "yaxis": {
           "automargin": true,
           "gridcolor": "white",
           "linecolor": "white",
           "ticks": "",
           "title": {
            "standoff": 15
           },
           "zerolinecolor": "white",
           "zerolinewidth": 2
          }
         }
        }
       }
      }
     },
     "metadata": {},
     "output_type": "display_data"
    },
    {
     "data": {
      "application/vnd.plotly.v1+json": {
       "config": {
        "linkText": "Export to plot.ly",
        "plotlyServerURL": "https://plot.ly",
        "showLink": false
       },
       "data": [
        {
         "labels": [
          1,
          0,
          2,
          3
         ],
         "textinfo": "value",
         "type": "pie",
         "values": [
          28159,
          14094,
          1985,
          361
         ]
        }
       ],
       "layout": {
        "template": {
         "data": {
          "bar": [
           {
            "error_x": {
             "color": "#2a3f5f"
            },
            "error_y": {
             "color": "#2a3f5f"
            },
            "marker": {
             "line": {
              "color": "#E5ECF6",
              "width": 0.5
             },
             "pattern": {
              "fillmode": "overlay",
              "size": 10,
              "solidity": 0.2
             }
            },
            "type": "bar"
           }
          ],
          "barpolar": [
           {
            "marker": {
             "line": {
              "color": "#E5ECF6",
              "width": 0.5
             },
             "pattern": {
              "fillmode": "overlay",
              "size": 10,
              "solidity": 0.2
             }
            },
            "type": "barpolar"
           }
          ],
          "carpet": [
           {
            "aaxis": {
             "endlinecolor": "#2a3f5f",
             "gridcolor": "white",
             "linecolor": "white",
             "minorgridcolor": "white",
             "startlinecolor": "#2a3f5f"
            },
            "baxis": {
             "endlinecolor": "#2a3f5f",
             "gridcolor": "white",
             "linecolor": "white",
             "minorgridcolor": "white",
             "startlinecolor": "#2a3f5f"
            },
            "type": "carpet"
           }
          ],
          "choropleth": [
           {
            "colorbar": {
             "outlinewidth": 0,
             "ticks": ""
            },
            "type": "choropleth"
           }
          ],
          "contour": [
           {
            "colorbar": {
             "outlinewidth": 0,
             "ticks": ""
            },
            "colorscale": [
             [
              0,
              "#0d0887"
             ],
             [
              0.1111111111111111,
              "#46039f"
             ],
             [
              0.2222222222222222,
              "#7201a8"
             ],
             [
              0.3333333333333333,
              "#9c179e"
             ],
             [
              0.4444444444444444,
              "#bd3786"
             ],
             [
              0.5555555555555556,
              "#d8576b"
             ],
             [
              0.6666666666666666,
              "#ed7953"
             ],
             [
              0.7777777777777778,
              "#fb9f3a"
             ],
             [
              0.8888888888888888,
              "#fdca26"
             ],
             [
              1,
              "#f0f921"
             ]
            ],
            "type": "contour"
           }
          ],
          "contourcarpet": [
           {
            "colorbar": {
             "outlinewidth": 0,
             "ticks": ""
            },
            "type": "contourcarpet"
           }
          ],
          "heatmap": [
           {
            "colorbar": {
             "outlinewidth": 0,
             "ticks": ""
            },
            "colorscale": [
             [
              0,
              "#0d0887"
             ],
             [
              0.1111111111111111,
              "#46039f"
             ],
             [
              0.2222222222222222,
              "#7201a8"
             ],
             [
              0.3333333333333333,
              "#9c179e"
             ],
             [
              0.4444444444444444,
              "#bd3786"
             ],
             [
              0.5555555555555556,
              "#d8576b"
             ],
             [
              0.6666666666666666,
              "#ed7953"
             ],
             [
              0.7777777777777778,
              "#fb9f3a"
             ],
             [
              0.8888888888888888,
              "#fdca26"
             ],
             [
              1,
              "#f0f921"
             ]
            ],
            "type": "heatmap"
           }
          ],
          "heatmapgl": [
           {
            "colorbar": {
             "outlinewidth": 0,
             "ticks": ""
            },
            "colorscale": [
             [
              0,
              "#0d0887"
             ],
             [
              0.1111111111111111,
              "#46039f"
             ],
             [
              0.2222222222222222,
              "#7201a8"
             ],
             [
              0.3333333333333333,
              "#9c179e"
             ],
             [
              0.4444444444444444,
              "#bd3786"
             ],
             [
              0.5555555555555556,
              "#d8576b"
             ],
             [
              0.6666666666666666,
              "#ed7953"
             ],
             [
              0.7777777777777778,
              "#fb9f3a"
             ],
             [
              0.8888888888888888,
              "#fdca26"
             ],
             [
              1,
              "#f0f921"
             ]
            ],
            "type": "heatmapgl"
           }
          ],
          "histogram": [
           {
            "marker": {
             "pattern": {
              "fillmode": "overlay",
              "size": 10,
              "solidity": 0.2
             }
            },
            "type": "histogram"
           }
          ],
          "histogram2d": [
           {
            "colorbar": {
             "outlinewidth": 0,
             "ticks": ""
            },
            "colorscale": [
             [
              0,
              "#0d0887"
             ],
             [
              0.1111111111111111,
              "#46039f"
             ],
             [
              0.2222222222222222,
              "#7201a8"
             ],
             [
              0.3333333333333333,
              "#9c179e"
             ],
             [
              0.4444444444444444,
              "#bd3786"
             ],
             [
              0.5555555555555556,
              "#d8576b"
             ],
             [
              0.6666666666666666,
              "#ed7953"
             ],
             [
              0.7777777777777778,
              "#fb9f3a"
             ],
             [
              0.8888888888888888,
              "#fdca26"
             ],
             [
              1,
              "#f0f921"
             ]
            ],
            "type": "histogram2d"
           }
          ],
          "histogram2dcontour": [
           {
            "colorbar": {
             "outlinewidth": 0,
             "ticks": ""
            },
            "colorscale": [
             [
              0,
              "#0d0887"
             ],
             [
              0.1111111111111111,
              "#46039f"
             ],
             [
              0.2222222222222222,
              "#7201a8"
             ],
             [
              0.3333333333333333,
              "#9c179e"
             ],
             [
              0.4444444444444444,
              "#bd3786"
             ],
             [
              0.5555555555555556,
              "#d8576b"
             ],
             [
              0.6666666666666666,
              "#ed7953"
             ],
             [
              0.7777777777777778,
              "#fb9f3a"
             ],
             [
              0.8888888888888888,
              "#fdca26"
             ],
             [
              1,
              "#f0f921"
             ]
            ],
            "type": "histogram2dcontour"
           }
          ],
          "mesh3d": [
           {
            "colorbar": {
             "outlinewidth": 0,
             "ticks": ""
            },
            "type": "mesh3d"
           }
          ],
          "parcoords": [
           {
            "line": {
             "colorbar": {
              "outlinewidth": 0,
              "ticks": ""
             }
            },
            "type": "parcoords"
           }
          ],
          "pie": [
           {
            "automargin": true,
            "type": "pie"
           }
          ],
          "scatter": [
           {
            "fillpattern": {
             "fillmode": "overlay",
             "size": 10,
             "solidity": 0.2
            },
            "type": "scatter"
           }
          ],
          "scatter3d": [
           {
            "line": {
             "colorbar": {
              "outlinewidth": 0,
              "ticks": ""
             }
            },
            "marker": {
             "colorbar": {
              "outlinewidth": 0,
              "ticks": ""
             }
            },
            "type": "scatter3d"
           }
          ],
          "scattercarpet": [
           {
            "marker": {
             "colorbar": {
              "outlinewidth": 0,
              "ticks": ""
             }
            },
            "type": "scattercarpet"
           }
          ],
          "scattergeo": [
           {
            "marker": {
             "colorbar": {
              "outlinewidth": 0,
              "ticks": ""
             }
            },
            "type": "scattergeo"
           }
          ],
          "scattergl": [
           {
            "marker": {
             "colorbar": {
              "outlinewidth": 0,
              "ticks": ""
             }
            },
            "type": "scattergl"
           }
          ],
          "scattermapbox": [
           {
            "marker": {
             "colorbar": {
              "outlinewidth": 0,
              "ticks": ""
             }
            },
            "type": "scattermapbox"
           }
          ],
          "scatterpolar": [
           {
            "marker": {
             "colorbar": {
              "outlinewidth": 0,
              "ticks": ""
             }
            },
            "type": "scatterpolar"
           }
          ],
          "scatterpolargl": [
           {
            "marker": {
             "colorbar": {
              "outlinewidth": 0,
              "ticks": ""
             }
            },
            "type": "scatterpolargl"
           }
          ],
          "scatterternary": [
           {
            "marker": {
             "colorbar": {
              "outlinewidth": 0,
              "ticks": ""
             }
            },
            "type": "scatterternary"
           }
          ],
          "surface": [
           {
            "colorbar": {
             "outlinewidth": 0,
             "ticks": ""
            },
            "colorscale": [
             [
              0,
              "#0d0887"
             ],
             [
              0.1111111111111111,
              "#46039f"
             ],
             [
              0.2222222222222222,
              "#7201a8"
             ],
             [
              0.3333333333333333,
              "#9c179e"
             ],
             [
              0.4444444444444444,
              "#bd3786"
             ],
             [
              0.5555555555555556,
              "#d8576b"
             ],
             [
              0.6666666666666666,
              "#ed7953"
             ],
             [
              0.7777777777777778,
              "#fb9f3a"
             ],
             [
              0.8888888888888888,
              "#fdca26"
             ],
             [
              1,
              "#f0f921"
             ]
            ],
            "type": "surface"
           }
          ],
          "table": [
           {
            "cells": {
             "fill": {
              "color": "#EBF0F8"
             },
             "line": {
              "color": "white"
             }
            },
            "header": {
             "fill": {
              "color": "#C8D4E3"
             },
             "line": {
              "color": "white"
             }
            },
            "type": "table"
           }
          ]
         },
         "layout": {
          "annotationdefaults": {
           "arrowcolor": "#2a3f5f",
           "arrowhead": 0,
           "arrowwidth": 1
          },
          "autotypenumbers": "strict",
          "coloraxis": {
           "colorbar": {
            "outlinewidth": 0,
            "ticks": ""
           }
          },
          "colorscale": {
           "diverging": [
            [
             0,
             "#8e0152"
            ],
            [
             0.1,
             "#c51b7d"
            ],
            [
             0.2,
             "#de77ae"
            ],
            [
             0.3,
             "#f1b6da"
            ],
            [
             0.4,
             "#fde0ef"
            ],
            [
             0.5,
             "#f7f7f7"
            ],
            [
             0.6,
             "#e6f5d0"
            ],
            [
             0.7,
             "#b8e186"
            ],
            [
             0.8,
             "#7fbc41"
            ],
            [
             0.9,
             "#4d9221"
            ],
            [
             1,
             "#276419"
            ]
           ],
           "sequential": [
            [
             0,
             "#0d0887"
            ],
            [
             0.1111111111111111,
             "#46039f"
            ],
            [
             0.2222222222222222,
             "#7201a8"
            ],
            [
             0.3333333333333333,
             "#9c179e"
            ],
            [
             0.4444444444444444,
             "#bd3786"
            ],
            [
             0.5555555555555556,
             "#d8576b"
            ],
            [
             0.6666666666666666,
             "#ed7953"
            ],
            [
             0.7777777777777778,
             "#fb9f3a"
            ],
            [
             0.8888888888888888,
             "#fdca26"
            ],
            [
             1,
             "#f0f921"
            ]
           ],
           "sequentialminus": [
            [
             0,
             "#0d0887"
            ],
            [
             0.1111111111111111,
             "#46039f"
            ],
            [
             0.2222222222222222,
             "#7201a8"
            ],
            [
             0.3333333333333333,
             "#9c179e"
            ],
            [
             0.4444444444444444,
             "#bd3786"
            ],
            [
             0.5555555555555556,
             "#d8576b"
            ],
            [
             0.6666666666666666,
             "#ed7953"
            ],
            [
             0.7777777777777778,
             "#fb9f3a"
            ],
            [
             0.8888888888888888,
             "#fdca26"
            ],
            [
             1,
             "#f0f921"
            ]
           ]
          },
          "colorway": [
           "#636efa",
           "#EF553B",
           "#00cc96",
           "#ab63fa",
           "#FFA15A",
           "#19d3f3",
           "#FF6692",
           "#B6E880",
           "#FF97FF",
           "#FECB52"
          ],
          "font": {
           "color": "#2a3f5f"
          },
          "geo": {
           "bgcolor": "white",
           "lakecolor": "white",
           "landcolor": "#E5ECF6",
           "showlakes": true,
           "showland": true,
           "subunitcolor": "white"
          },
          "hoverlabel": {
           "align": "left"
          },
          "hovermode": "closest",
          "mapbox": {
           "style": "light"
          },
          "paper_bgcolor": "white",
          "plot_bgcolor": "#E5ECF6",
          "polar": {
           "angularaxis": {
            "gridcolor": "white",
            "linecolor": "white",
            "ticks": ""
           },
           "bgcolor": "#E5ECF6",
           "radialaxis": {
            "gridcolor": "white",
            "linecolor": "white",
            "ticks": ""
           }
          },
          "scene": {
           "xaxis": {
            "backgroundcolor": "#E5ECF6",
            "gridcolor": "white",
            "gridwidth": 2,
            "linecolor": "white",
            "showbackground": true,
            "ticks": "",
            "zerolinecolor": "white"
           },
           "yaxis": {
            "backgroundcolor": "#E5ECF6",
            "gridcolor": "white",
            "gridwidth": 2,
            "linecolor": "white",
            "showbackground": true,
            "ticks": "",
            "zerolinecolor": "white"
           },
           "zaxis": {
            "backgroundcolor": "#E5ECF6",
            "gridcolor": "white",
            "gridwidth": 2,
            "linecolor": "white",
            "showbackground": true,
            "ticks": "",
            "zerolinecolor": "white"
           }
          },
          "shapedefaults": {
           "line": {
            "color": "#2a3f5f"
           }
          },
          "ternary": {
           "aaxis": {
            "gridcolor": "white",
            "linecolor": "white",
            "ticks": ""
           },
           "baxis": {
            "gridcolor": "white",
            "linecolor": "white",
            "ticks": ""
           },
           "bgcolor": "#E5ECF6",
           "caxis": {
            "gridcolor": "white",
            "linecolor": "white",
            "ticks": ""
           }
          },
          "title": {
           "x": 0.05
          },
          "xaxis": {
           "automargin": true,
           "gridcolor": "white",
           "linecolor": "white",
           "ticks": "",
           "title": {
            "standoff": 15
           },
           "zerolinecolor": "white",
           "zerolinewidth": 2
          },
          "yaxis": {
           "automargin": true,
           "gridcolor": "white",
           "linecolor": "white",
           "ticks": "",
           "title": {
            "standoff": 15
           },
           "zerolinecolor": "white",
           "zerolinewidth": 2
          }
         }
        }
       }
      }
     },
     "metadata": {},
     "output_type": "display_data"
    },
    {
     "data": {
      "application/vnd.plotly.v1+json": {
       "config": {
        "linkText": "Export to plot.ly",
        "plotlyServerURL": "https://plot.ly",
        "showLink": false
       },
       "data": [
        {
         "labels": [
          "No",
          "Yes"
         ],
         "textinfo": "value",
         "type": "pie",
         "values": [
          44468,
          896
         ]
        }
       ],
       "layout": {
        "template": {
         "data": {
          "bar": [
           {
            "error_x": {
             "color": "#2a3f5f"
            },
            "error_y": {
             "color": "#2a3f5f"
            },
            "marker": {
             "line": {
              "color": "#E5ECF6",
              "width": 0.5
             },
             "pattern": {
              "fillmode": "overlay",
              "size": 10,
              "solidity": 0.2
             }
            },
            "type": "bar"
           }
          ],
          "barpolar": [
           {
            "marker": {
             "line": {
              "color": "#E5ECF6",
              "width": 0.5
             },
             "pattern": {
              "fillmode": "overlay",
              "size": 10,
              "solidity": 0.2
             }
            },
            "type": "barpolar"
           }
          ],
          "carpet": [
           {
            "aaxis": {
             "endlinecolor": "#2a3f5f",
             "gridcolor": "white",
             "linecolor": "white",
             "minorgridcolor": "white",
             "startlinecolor": "#2a3f5f"
            },
            "baxis": {
             "endlinecolor": "#2a3f5f",
             "gridcolor": "white",
             "linecolor": "white",
             "minorgridcolor": "white",
             "startlinecolor": "#2a3f5f"
            },
            "type": "carpet"
           }
          ],
          "choropleth": [
           {
            "colorbar": {
             "outlinewidth": 0,
             "ticks": ""
            },
            "type": "choropleth"
           }
          ],
          "contour": [
           {
            "colorbar": {
             "outlinewidth": 0,
             "ticks": ""
            },
            "colorscale": [
             [
              0,
              "#0d0887"
             ],
             [
              0.1111111111111111,
              "#46039f"
             ],
             [
              0.2222222222222222,
              "#7201a8"
             ],
             [
              0.3333333333333333,
              "#9c179e"
             ],
             [
              0.4444444444444444,
              "#bd3786"
             ],
             [
              0.5555555555555556,
              "#d8576b"
             ],
             [
              0.6666666666666666,
              "#ed7953"
             ],
             [
              0.7777777777777778,
              "#fb9f3a"
             ],
             [
              0.8888888888888888,
              "#fdca26"
             ],
             [
              1,
              "#f0f921"
             ]
            ],
            "type": "contour"
           }
          ],
          "contourcarpet": [
           {
            "colorbar": {
             "outlinewidth": 0,
             "ticks": ""
            },
            "type": "contourcarpet"
           }
          ],
          "heatmap": [
           {
            "colorbar": {
             "outlinewidth": 0,
             "ticks": ""
            },
            "colorscale": [
             [
              0,
              "#0d0887"
             ],
             [
              0.1111111111111111,
              "#46039f"
             ],
             [
              0.2222222222222222,
              "#7201a8"
             ],
             [
              0.3333333333333333,
              "#9c179e"
             ],
             [
              0.4444444444444444,
              "#bd3786"
             ],
             [
              0.5555555555555556,
              "#d8576b"
             ],
             [
              0.6666666666666666,
              "#ed7953"
             ],
             [
              0.7777777777777778,
              "#fb9f3a"
             ],
             [
              0.8888888888888888,
              "#fdca26"
             ],
             [
              1,
              "#f0f921"
             ]
            ],
            "type": "heatmap"
           }
          ],
          "heatmapgl": [
           {
            "colorbar": {
             "outlinewidth": 0,
             "ticks": ""
            },
            "colorscale": [
             [
              0,
              "#0d0887"
             ],
             [
              0.1111111111111111,
              "#46039f"
             ],
             [
              0.2222222222222222,
              "#7201a8"
             ],
             [
              0.3333333333333333,
              "#9c179e"
             ],
             [
              0.4444444444444444,
              "#bd3786"
             ],
             [
              0.5555555555555556,
              "#d8576b"
             ],
             [
              0.6666666666666666,
              "#ed7953"
             ],
             [
              0.7777777777777778,
              "#fb9f3a"
             ],
             [
              0.8888888888888888,
              "#fdca26"
             ],
             [
              1,
              "#f0f921"
             ]
            ],
            "type": "heatmapgl"
           }
          ],
          "histogram": [
           {
            "marker": {
             "pattern": {
              "fillmode": "overlay",
              "size": 10,
              "solidity": 0.2
             }
            },
            "type": "histogram"
           }
          ],
          "histogram2d": [
           {
            "colorbar": {
             "outlinewidth": 0,
             "ticks": ""
            },
            "colorscale": [
             [
              0,
              "#0d0887"
             ],
             [
              0.1111111111111111,
              "#46039f"
             ],
             [
              0.2222222222222222,
              "#7201a8"
             ],
             [
              0.3333333333333333,
              "#9c179e"
             ],
             [
              0.4444444444444444,
              "#bd3786"
             ],
             [
              0.5555555555555556,
              "#d8576b"
             ],
             [
              0.6666666666666666,
              "#ed7953"
             ],
             [
              0.7777777777777778,
              "#fb9f3a"
             ],
             [
              0.8888888888888888,
              "#fdca26"
             ],
             [
              1,
              "#f0f921"
             ]
            ],
            "type": "histogram2d"
           }
          ],
          "histogram2dcontour": [
           {
            "colorbar": {
             "outlinewidth": 0,
             "ticks": ""
            },
            "colorscale": [
             [
              0,
              "#0d0887"
             ],
             [
              0.1111111111111111,
              "#46039f"
             ],
             [
              0.2222222222222222,
              "#7201a8"
             ],
             [
              0.3333333333333333,
              "#9c179e"
             ],
             [
              0.4444444444444444,
              "#bd3786"
             ],
             [
              0.5555555555555556,
              "#d8576b"
             ],
             [
              0.6666666666666666,
              "#ed7953"
             ],
             [
              0.7777777777777778,
              "#fb9f3a"
             ],
             [
              0.8888888888888888,
              "#fdca26"
             ],
             [
              1,
              "#f0f921"
             ]
            ],
            "type": "histogram2dcontour"
           }
          ],
          "mesh3d": [
           {
            "colorbar": {
             "outlinewidth": 0,
             "ticks": ""
            },
            "type": "mesh3d"
           }
          ],
          "parcoords": [
           {
            "line": {
             "colorbar": {
              "outlinewidth": 0,
              "ticks": ""
             }
            },
            "type": "parcoords"
           }
          ],
          "pie": [
           {
            "automargin": true,
            "type": "pie"
           }
          ],
          "scatter": [
           {
            "fillpattern": {
             "fillmode": "overlay",
             "size": 10,
             "solidity": 0.2
            },
            "type": "scatter"
           }
          ],
          "scatter3d": [
           {
            "line": {
             "colorbar": {
              "outlinewidth": 0,
              "ticks": ""
             }
            },
            "marker": {
             "colorbar": {
              "outlinewidth": 0,
              "ticks": ""
             }
            },
            "type": "scatter3d"
           }
          ],
          "scattercarpet": [
           {
            "marker": {
             "colorbar": {
              "outlinewidth": 0,
              "ticks": ""
             }
            },
            "type": "scattercarpet"
           }
          ],
          "scattergeo": [
           {
            "marker": {
             "colorbar": {
              "outlinewidth": 0,
              "ticks": ""
             }
            },
            "type": "scattergeo"
           }
          ],
          "scattergl": [
           {
            "marker": {
             "colorbar": {
              "outlinewidth": 0,
              "ticks": ""
             }
            },
            "type": "scattergl"
           }
          ],
          "scattermapbox": [
           {
            "marker": {
             "colorbar": {
              "outlinewidth": 0,
              "ticks": ""
             }
            },
            "type": "scattermapbox"
           }
          ],
          "scatterpolar": [
           {
            "marker": {
             "colorbar": {
              "outlinewidth": 0,
              "ticks": ""
             }
            },
            "type": "scatterpolar"
           }
          ],
          "scatterpolargl": [
           {
            "marker": {
             "colorbar": {
              "outlinewidth": 0,
              "ticks": ""
             }
            },
            "type": "scatterpolargl"
           }
          ],
          "scatterternary": [
           {
            "marker": {
             "colorbar": {
              "outlinewidth": 0,
              "ticks": ""
             }
            },
            "type": "scatterternary"
           }
          ],
          "surface": [
           {
            "colorbar": {
             "outlinewidth": 0,
             "ticks": ""
            },
            "colorscale": [
             [
              0,
              "#0d0887"
             ],
             [
              0.1111111111111111,
              "#46039f"
             ],
             [
              0.2222222222222222,
              "#7201a8"
             ],
             [
              0.3333333333333333,
              "#9c179e"
             ],
             [
              0.4444444444444444,
              "#bd3786"
             ],
             [
              0.5555555555555556,
              "#d8576b"
             ],
             [
              0.6666666666666666,
              "#ed7953"
             ],
             [
              0.7777777777777778,
              "#fb9f3a"
             ],
             [
              0.8888888888888888,
              "#fdca26"
             ],
             [
              1,
              "#f0f921"
             ]
            ],
            "type": "surface"
           }
          ],
          "table": [
           {
            "cells": {
             "fill": {
              "color": "#EBF0F8"
             },
             "line": {
              "color": "white"
             }
            },
            "header": {
             "fill": {
              "color": "#C8D4E3"
             },
             "line": {
              "color": "white"
             }
            },
            "type": "table"
           }
          ]
         },
         "layout": {
          "annotationdefaults": {
           "arrowcolor": "#2a3f5f",
           "arrowhead": 0,
           "arrowwidth": 1
          },
          "autotypenumbers": "strict",
          "coloraxis": {
           "colorbar": {
            "outlinewidth": 0,
            "ticks": ""
           }
          },
          "colorscale": {
           "diverging": [
            [
             0,
             "#8e0152"
            ],
            [
             0.1,
             "#c51b7d"
            ],
            [
             0.2,
             "#de77ae"
            ],
            [
             0.3,
             "#f1b6da"
            ],
            [
             0.4,
             "#fde0ef"
            ],
            [
             0.5,
             "#f7f7f7"
            ],
            [
             0.6,
             "#e6f5d0"
            ],
            [
             0.7,
             "#b8e186"
            ],
            [
             0.8,
             "#7fbc41"
            ],
            [
             0.9,
             "#4d9221"
            ],
            [
             1,
             "#276419"
            ]
           ],
           "sequential": [
            [
             0,
             "#0d0887"
            ],
            [
             0.1111111111111111,
             "#46039f"
            ],
            [
             0.2222222222222222,
             "#7201a8"
            ],
            [
             0.3333333333333333,
             "#9c179e"
            ],
            [
             0.4444444444444444,
             "#bd3786"
            ],
            [
             0.5555555555555556,
             "#d8576b"
            ],
            [
             0.6666666666666666,
             "#ed7953"
            ],
            [
             0.7777777777777778,
             "#fb9f3a"
            ],
            [
             0.8888888888888888,
             "#fdca26"
            ],
            [
             1,
             "#f0f921"
            ]
           ],
           "sequentialminus": [
            [
             0,
             "#0d0887"
            ],
            [
             0.1111111111111111,
             "#46039f"
            ],
            [
             0.2222222222222222,
             "#7201a8"
            ],
            [
             0.3333333333333333,
             "#9c179e"
            ],
            [
             0.4444444444444444,
             "#bd3786"
            ],
            [
             0.5555555555555556,
             "#d8576b"
            ],
            [
             0.6666666666666666,
             "#ed7953"
            ],
            [
             0.7777777777777778,
             "#fb9f3a"
            ],
            [
             0.8888888888888888,
             "#fdca26"
            ],
            [
             1,
             "#f0f921"
            ]
           ]
          },
          "colorway": [
           "#636efa",
           "#EF553B",
           "#00cc96",
           "#ab63fa",
           "#FFA15A",
           "#19d3f3",
           "#FF6692",
           "#B6E880",
           "#FF97FF",
           "#FECB52"
          ],
          "font": {
           "color": "#2a3f5f"
          },
          "geo": {
           "bgcolor": "white",
           "lakecolor": "white",
           "landcolor": "#E5ECF6",
           "showlakes": true,
           "showland": true,
           "subunitcolor": "white"
          },
          "hoverlabel": {
           "align": "left"
          },
          "hovermode": "closest",
          "mapbox": {
           "style": "light"
          },
          "paper_bgcolor": "white",
          "plot_bgcolor": "#E5ECF6",
          "polar": {
           "angularaxis": {
            "gridcolor": "white",
            "linecolor": "white",
            "ticks": ""
           },
           "bgcolor": "#E5ECF6",
           "radialaxis": {
            "gridcolor": "white",
            "linecolor": "white",
            "ticks": ""
           }
          },
          "scene": {
           "xaxis": {
            "backgroundcolor": "#E5ECF6",
            "gridcolor": "white",
            "gridwidth": 2,
            "linecolor": "white",
            "showbackground": true,
            "ticks": "",
            "zerolinecolor": "white"
           },
           "yaxis": {
            "backgroundcolor": "#E5ECF6",
            "gridcolor": "white",
            "gridwidth": 2,
            "linecolor": "white",
            "showbackground": true,
            "ticks": "",
            "zerolinecolor": "white"
           },
           "zaxis": {
            "backgroundcolor": "#E5ECF6",
            "gridcolor": "white",
            "gridwidth": 2,
            "linecolor": "white",
            "showbackground": true,
            "ticks": "",
            "zerolinecolor": "white"
           }
          },
          "shapedefaults": {
           "line": {
            "color": "#2a3f5f"
           }
          },
          "ternary": {
           "aaxis": {
            "gridcolor": "white",
            "linecolor": "white",
            "ticks": ""
           },
           "baxis": {
            "gridcolor": "white",
            "linecolor": "white",
            "ticks": ""
           },
           "bgcolor": "#E5ECF6",
           "caxis": {
            "gridcolor": "white",
            "linecolor": "white",
            "ticks": ""
           }
          },
          "title": {
           "x": 0.05
          },
          "xaxis": {
           "automargin": true,
           "gridcolor": "white",
           "linecolor": "white",
           "ticks": "",
           "title": {
            "standoff": 15
           },
           "zerolinecolor": "white",
           "zerolinewidth": 2
          },
          "yaxis": {
           "automargin": true,
           "gridcolor": "white",
           "linecolor": "white",
           "ticks": "",
           "title": {
            "standoff": 15
           },
           "zerolinecolor": "white",
           "zerolinewidth": 2
          }
         }
        }
       }
      }
     },
     "metadata": {},
     "output_type": "display_data"
    },
    {
     "data": {
      "application/vnd.plotly.v1+json": {
       "config": {
        "linkText": "Export to plot.ly",
        "plotlyServerURL": "https://plot.ly",
        "showLink": false
       },
       "data": [
        {
         "labels": [
          "Metropolitian",
          "Urban",
          "Semi-Urban"
         ],
         "textinfo": "value",
         "type": "pie",
         "values": [
          34093,
          10135,
          164
         ]
        }
       ],
       "layout": {
        "template": {
         "data": {
          "bar": [
           {
            "error_x": {
             "color": "#2a3f5f"
            },
            "error_y": {
             "color": "#2a3f5f"
            },
            "marker": {
             "line": {
              "color": "#E5ECF6",
              "width": 0.5
             },
             "pattern": {
              "fillmode": "overlay",
              "size": 10,
              "solidity": 0.2
             }
            },
            "type": "bar"
           }
          ],
          "barpolar": [
           {
            "marker": {
             "line": {
              "color": "#E5ECF6",
              "width": 0.5
             },
             "pattern": {
              "fillmode": "overlay",
              "size": 10,
              "solidity": 0.2
             }
            },
            "type": "barpolar"
           }
          ],
          "carpet": [
           {
            "aaxis": {
             "endlinecolor": "#2a3f5f",
             "gridcolor": "white",
             "linecolor": "white",
             "minorgridcolor": "white",
             "startlinecolor": "#2a3f5f"
            },
            "baxis": {
             "endlinecolor": "#2a3f5f",
             "gridcolor": "white",
             "linecolor": "white",
             "minorgridcolor": "white",
             "startlinecolor": "#2a3f5f"
            },
            "type": "carpet"
           }
          ],
          "choropleth": [
           {
            "colorbar": {
             "outlinewidth": 0,
             "ticks": ""
            },
            "type": "choropleth"
           }
          ],
          "contour": [
           {
            "colorbar": {
             "outlinewidth": 0,
             "ticks": ""
            },
            "colorscale": [
             [
              0,
              "#0d0887"
             ],
             [
              0.1111111111111111,
              "#46039f"
             ],
             [
              0.2222222222222222,
              "#7201a8"
             ],
             [
              0.3333333333333333,
              "#9c179e"
             ],
             [
              0.4444444444444444,
              "#bd3786"
             ],
             [
              0.5555555555555556,
              "#d8576b"
             ],
             [
              0.6666666666666666,
              "#ed7953"
             ],
             [
              0.7777777777777778,
              "#fb9f3a"
             ],
             [
              0.8888888888888888,
              "#fdca26"
             ],
             [
              1,
              "#f0f921"
             ]
            ],
            "type": "contour"
           }
          ],
          "contourcarpet": [
           {
            "colorbar": {
             "outlinewidth": 0,
             "ticks": ""
            },
            "type": "contourcarpet"
           }
          ],
          "heatmap": [
           {
            "colorbar": {
             "outlinewidth": 0,
             "ticks": ""
            },
            "colorscale": [
             [
              0,
              "#0d0887"
             ],
             [
              0.1111111111111111,
              "#46039f"
             ],
             [
              0.2222222222222222,
              "#7201a8"
             ],
             [
              0.3333333333333333,
              "#9c179e"
             ],
             [
              0.4444444444444444,
              "#bd3786"
             ],
             [
              0.5555555555555556,
              "#d8576b"
             ],
             [
              0.6666666666666666,
              "#ed7953"
             ],
             [
              0.7777777777777778,
              "#fb9f3a"
             ],
             [
              0.8888888888888888,
              "#fdca26"
             ],
             [
              1,
              "#f0f921"
             ]
            ],
            "type": "heatmap"
           }
          ],
          "heatmapgl": [
           {
            "colorbar": {
             "outlinewidth": 0,
             "ticks": ""
            },
            "colorscale": [
             [
              0,
              "#0d0887"
             ],
             [
              0.1111111111111111,
              "#46039f"
             ],
             [
              0.2222222222222222,
              "#7201a8"
             ],
             [
              0.3333333333333333,
              "#9c179e"
             ],
             [
              0.4444444444444444,
              "#bd3786"
             ],
             [
              0.5555555555555556,
              "#d8576b"
             ],
             [
              0.6666666666666666,
              "#ed7953"
             ],
             [
              0.7777777777777778,
              "#fb9f3a"
             ],
             [
              0.8888888888888888,
              "#fdca26"
             ],
             [
              1,
              "#f0f921"
             ]
            ],
            "type": "heatmapgl"
           }
          ],
          "histogram": [
           {
            "marker": {
             "pattern": {
              "fillmode": "overlay",
              "size": 10,
              "solidity": 0.2
             }
            },
            "type": "histogram"
           }
          ],
          "histogram2d": [
           {
            "colorbar": {
             "outlinewidth": 0,
             "ticks": ""
            },
            "colorscale": [
             [
              0,
              "#0d0887"
             ],
             [
              0.1111111111111111,
              "#46039f"
             ],
             [
              0.2222222222222222,
              "#7201a8"
             ],
             [
              0.3333333333333333,
              "#9c179e"
             ],
             [
              0.4444444444444444,
              "#bd3786"
             ],
             [
              0.5555555555555556,
              "#d8576b"
             ],
             [
              0.6666666666666666,
              "#ed7953"
             ],
             [
              0.7777777777777778,
              "#fb9f3a"
             ],
             [
              0.8888888888888888,
              "#fdca26"
             ],
             [
              1,
              "#f0f921"
             ]
            ],
            "type": "histogram2d"
           }
          ],
          "histogram2dcontour": [
           {
            "colorbar": {
             "outlinewidth": 0,
             "ticks": ""
            },
            "colorscale": [
             [
              0,
              "#0d0887"
             ],
             [
              0.1111111111111111,
              "#46039f"
             ],
             [
              0.2222222222222222,
              "#7201a8"
             ],
             [
              0.3333333333333333,
              "#9c179e"
             ],
             [
              0.4444444444444444,
              "#bd3786"
             ],
             [
              0.5555555555555556,
              "#d8576b"
             ],
             [
              0.6666666666666666,
              "#ed7953"
             ],
             [
              0.7777777777777778,
              "#fb9f3a"
             ],
             [
              0.8888888888888888,
              "#fdca26"
             ],
             [
              1,
              "#f0f921"
             ]
            ],
            "type": "histogram2dcontour"
           }
          ],
          "mesh3d": [
           {
            "colorbar": {
             "outlinewidth": 0,
             "ticks": ""
            },
            "type": "mesh3d"
           }
          ],
          "parcoords": [
           {
            "line": {
             "colorbar": {
              "outlinewidth": 0,
              "ticks": ""
             }
            },
            "type": "parcoords"
           }
          ],
          "pie": [
           {
            "automargin": true,
            "type": "pie"
           }
          ],
          "scatter": [
           {
            "fillpattern": {
             "fillmode": "overlay",
             "size": 10,
             "solidity": 0.2
            },
            "type": "scatter"
           }
          ],
          "scatter3d": [
           {
            "line": {
             "colorbar": {
              "outlinewidth": 0,
              "ticks": ""
             }
            },
            "marker": {
             "colorbar": {
              "outlinewidth": 0,
              "ticks": ""
             }
            },
            "type": "scatter3d"
           }
          ],
          "scattercarpet": [
           {
            "marker": {
             "colorbar": {
              "outlinewidth": 0,
              "ticks": ""
             }
            },
            "type": "scattercarpet"
           }
          ],
          "scattergeo": [
           {
            "marker": {
             "colorbar": {
              "outlinewidth": 0,
              "ticks": ""
             }
            },
            "type": "scattergeo"
           }
          ],
          "scattergl": [
           {
            "marker": {
             "colorbar": {
              "outlinewidth": 0,
              "ticks": ""
             }
            },
            "type": "scattergl"
           }
          ],
          "scattermapbox": [
           {
            "marker": {
             "colorbar": {
              "outlinewidth": 0,
              "ticks": ""
             }
            },
            "type": "scattermapbox"
           }
          ],
          "scatterpolar": [
           {
            "marker": {
             "colorbar": {
              "outlinewidth": 0,
              "ticks": ""
             }
            },
            "type": "scatterpolar"
           }
          ],
          "scatterpolargl": [
           {
            "marker": {
             "colorbar": {
              "outlinewidth": 0,
              "ticks": ""
             }
            },
            "type": "scatterpolargl"
           }
          ],
          "scatterternary": [
           {
            "marker": {
             "colorbar": {
              "outlinewidth": 0,
              "ticks": ""
             }
            },
            "type": "scatterternary"
           }
          ],
          "surface": [
           {
            "colorbar": {
             "outlinewidth": 0,
             "ticks": ""
            },
            "colorscale": [
             [
              0,
              "#0d0887"
             ],
             [
              0.1111111111111111,
              "#46039f"
             ],
             [
              0.2222222222222222,
              "#7201a8"
             ],
             [
              0.3333333333333333,
              "#9c179e"
             ],
             [
              0.4444444444444444,
              "#bd3786"
             ],
             [
              0.5555555555555556,
              "#d8576b"
             ],
             [
              0.6666666666666666,
              "#ed7953"
             ],
             [
              0.7777777777777778,
              "#fb9f3a"
             ],
             [
              0.8888888888888888,
              "#fdca26"
             ],
             [
              1,
              "#f0f921"
             ]
            ],
            "type": "surface"
           }
          ],
          "table": [
           {
            "cells": {
             "fill": {
              "color": "#EBF0F8"
             },
             "line": {
              "color": "white"
             }
            },
            "header": {
             "fill": {
              "color": "#C8D4E3"
             },
             "line": {
              "color": "white"
             }
            },
            "type": "table"
           }
          ]
         },
         "layout": {
          "annotationdefaults": {
           "arrowcolor": "#2a3f5f",
           "arrowhead": 0,
           "arrowwidth": 1
          },
          "autotypenumbers": "strict",
          "coloraxis": {
           "colorbar": {
            "outlinewidth": 0,
            "ticks": ""
           }
          },
          "colorscale": {
           "diverging": [
            [
             0,
             "#8e0152"
            ],
            [
             0.1,
             "#c51b7d"
            ],
            [
             0.2,
             "#de77ae"
            ],
            [
             0.3,
             "#f1b6da"
            ],
            [
             0.4,
             "#fde0ef"
            ],
            [
             0.5,
             "#f7f7f7"
            ],
            [
             0.6,
             "#e6f5d0"
            ],
            [
             0.7,
             "#b8e186"
            ],
            [
             0.8,
             "#7fbc41"
            ],
            [
             0.9,
             "#4d9221"
            ],
            [
             1,
             "#276419"
            ]
           ],
           "sequential": [
            [
             0,
             "#0d0887"
            ],
            [
             0.1111111111111111,
             "#46039f"
            ],
            [
             0.2222222222222222,
             "#7201a8"
            ],
            [
             0.3333333333333333,
             "#9c179e"
            ],
            [
             0.4444444444444444,
             "#bd3786"
            ],
            [
             0.5555555555555556,
             "#d8576b"
            ],
            [
             0.6666666666666666,
             "#ed7953"
            ],
            [
             0.7777777777777778,
             "#fb9f3a"
            ],
            [
             0.8888888888888888,
             "#fdca26"
            ],
            [
             1,
             "#f0f921"
            ]
           ],
           "sequentialminus": [
            [
             0,
             "#0d0887"
            ],
            [
             0.1111111111111111,
             "#46039f"
            ],
            [
             0.2222222222222222,
             "#7201a8"
            ],
            [
             0.3333333333333333,
             "#9c179e"
            ],
            [
             0.4444444444444444,
             "#bd3786"
            ],
            [
             0.5555555555555556,
             "#d8576b"
            ],
            [
             0.6666666666666666,
             "#ed7953"
            ],
            [
             0.7777777777777778,
             "#fb9f3a"
            ],
            [
             0.8888888888888888,
             "#fdca26"
            ],
            [
             1,
             "#f0f921"
            ]
           ]
          },
          "colorway": [
           "#636efa",
           "#EF553B",
           "#00cc96",
           "#ab63fa",
           "#FFA15A",
           "#19d3f3",
           "#FF6692",
           "#B6E880",
           "#FF97FF",
           "#FECB52"
          ],
          "font": {
           "color": "#2a3f5f"
          },
          "geo": {
           "bgcolor": "white",
           "lakecolor": "white",
           "landcolor": "#E5ECF6",
           "showlakes": true,
           "showland": true,
           "subunitcolor": "white"
          },
          "hoverlabel": {
           "align": "left"
          },
          "hovermode": "closest",
          "mapbox": {
           "style": "light"
          },
          "paper_bgcolor": "white",
          "plot_bgcolor": "#E5ECF6",
          "polar": {
           "angularaxis": {
            "gridcolor": "white",
            "linecolor": "white",
            "ticks": ""
           },
           "bgcolor": "#E5ECF6",
           "radialaxis": {
            "gridcolor": "white",
            "linecolor": "white",
            "ticks": ""
           }
          },
          "scene": {
           "xaxis": {
            "backgroundcolor": "#E5ECF6",
            "gridcolor": "white",
            "gridwidth": 2,
            "linecolor": "white",
            "showbackground": true,
            "ticks": "",
            "zerolinecolor": "white"
           },
           "yaxis": {
            "backgroundcolor": "#E5ECF6",
            "gridcolor": "white",
            "gridwidth": 2,
            "linecolor": "white",
            "showbackground": true,
            "ticks": "",
            "zerolinecolor": "white"
           },
           "zaxis": {
            "backgroundcolor": "#E5ECF6",
            "gridcolor": "white",
            "gridwidth": 2,
            "linecolor": "white",
            "showbackground": true,
            "ticks": "",
            "zerolinecolor": "white"
           }
          },
          "shapedefaults": {
           "line": {
            "color": "#2a3f5f"
           }
          },
          "ternary": {
           "aaxis": {
            "gridcolor": "white",
            "linecolor": "white",
            "ticks": ""
           },
           "baxis": {
            "gridcolor": "white",
            "linecolor": "white",
            "ticks": ""
           },
           "bgcolor": "#E5ECF6",
           "caxis": {
            "gridcolor": "white",
            "linecolor": "white",
            "ticks": ""
           }
          },
          "title": {
           "x": 0.05
          },
          "xaxis": {
           "automargin": true,
           "gridcolor": "white",
           "linecolor": "white",
           "ticks": "",
           "title": {
            "standoff": 15
           },
           "zerolinecolor": "white",
           "zerolinewidth": 2
          },
          "yaxis": {
           "automargin": true,
           "gridcolor": "white",
           "linecolor": "white",
           "ticks": "",
           "title": {
            "standoff": 15
           },
           "zerolinecolor": "white",
           "zerolinewidth": 2
          }
         }
        }
       }
      }
     },
     "metadata": {},
     "output_type": "display_data"
    },
    {
     "data": {
      "application/vnd.plotly.v1+json": {
       "config": {
        "linkText": "Export to plot.ly",
        "plotlyServerURL": "https://plot.ly",
        "showLink": false
       },
       "data": [
        {
         "labels": [
          26,
          25,
          27,
          28,
          29,
          19,
          15,
          18,
          16,
          17,
          24,
          23,
          20,
          22,
          21,
          33,
          30,
          31,
          34,
          32,
          38,
          36,
          39,
          35,
          37,
          11,
          10,
          12,
          14,
          13,
          43,
          42,
          40,
          41,
          44,
          47,
          49,
          48,
          46,
          45,
          53,
          51,
          54,
          52,
          50
         ],
         "textinfo": "value",
         "type": "pie",
         "values": [
          2123,
          2050,
          1976,
          1965,
          1956,
          1824,
          1810,
          1765,
          1706,
          1696,
          1679,
          1643,
          1640,
          1626,
          1601,
          1259,
          1218,
          1213,
          1172,
          1124,
          887,
          852,
          847,
          832,
          828,
          757,
          750,
          746,
          739,
          716,
          567,
          561,
          555,
          553,
          553,
          295,
          280,
          277,
          274,
          241,
          100,
          94,
          91,
          79,
          72
         ]
        }
       ],
       "layout": {
        "template": {
         "data": {
          "bar": [
           {
            "error_x": {
             "color": "#2a3f5f"
            },
            "error_y": {
             "color": "#2a3f5f"
            },
            "marker": {
             "line": {
              "color": "#E5ECF6",
              "width": 0.5
             },
             "pattern": {
              "fillmode": "overlay",
              "size": 10,
              "solidity": 0.2
             }
            },
            "type": "bar"
           }
          ],
          "barpolar": [
           {
            "marker": {
             "line": {
              "color": "#E5ECF6",
              "width": 0.5
             },
             "pattern": {
              "fillmode": "overlay",
              "size": 10,
              "solidity": 0.2
             }
            },
            "type": "barpolar"
           }
          ],
          "carpet": [
           {
            "aaxis": {
             "endlinecolor": "#2a3f5f",
             "gridcolor": "white",
             "linecolor": "white",
             "minorgridcolor": "white",
             "startlinecolor": "#2a3f5f"
            },
            "baxis": {
             "endlinecolor": "#2a3f5f",
             "gridcolor": "white",
             "linecolor": "white",
             "minorgridcolor": "white",
             "startlinecolor": "#2a3f5f"
            },
            "type": "carpet"
           }
          ],
          "choropleth": [
           {
            "colorbar": {
             "outlinewidth": 0,
             "ticks": ""
            },
            "type": "choropleth"
           }
          ],
          "contour": [
           {
            "colorbar": {
             "outlinewidth": 0,
             "ticks": ""
            },
            "colorscale": [
             [
              0,
              "#0d0887"
             ],
             [
              0.1111111111111111,
              "#46039f"
             ],
             [
              0.2222222222222222,
              "#7201a8"
             ],
             [
              0.3333333333333333,
              "#9c179e"
             ],
             [
              0.4444444444444444,
              "#bd3786"
             ],
             [
              0.5555555555555556,
              "#d8576b"
             ],
             [
              0.6666666666666666,
              "#ed7953"
             ],
             [
              0.7777777777777778,
              "#fb9f3a"
             ],
             [
              0.8888888888888888,
              "#fdca26"
             ],
             [
              1,
              "#f0f921"
             ]
            ],
            "type": "contour"
           }
          ],
          "contourcarpet": [
           {
            "colorbar": {
             "outlinewidth": 0,
             "ticks": ""
            },
            "type": "contourcarpet"
           }
          ],
          "heatmap": [
           {
            "colorbar": {
             "outlinewidth": 0,
             "ticks": ""
            },
            "colorscale": [
             [
              0,
              "#0d0887"
             ],
             [
              0.1111111111111111,
              "#46039f"
             ],
             [
              0.2222222222222222,
              "#7201a8"
             ],
             [
              0.3333333333333333,
              "#9c179e"
             ],
             [
              0.4444444444444444,
              "#bd3786"
             ],
             [
              0.5555555555555556,
              "#d8576b"
             ],
             [
              0.6666666666666666,
              "#ed7953"
             ],
             [
              0.7777777777777778,
              "#fb9f3a"
             ],
             [
              0.8888888888888888,
              "#fdca26"
             ],
             [
              1,
              "#f0f921"
             ]
            ],
            "type": "heatmap"
           }
          ],
          "heatmapgl": [
           {
            "colorbar": {
             "outlinewidth": 0,
             "ticks": ""
            },
            "colorscale": [
             [
              0,
              "#0d0887"
             ],
             [
              0.1111111111111111,
              "#46039f"
             ],
             [
              0.2222222222222222,
              "#7201a8"
             ],
             [
              0.3333333333333333,
              "#9c179e"
             ],
             [
              0.4444444444444444,
              "#bd3786"
             ],
             [
              0.5555555555555556,
              "#d8576b"
             ],
             [
              0.6666666666666666,
              "#ed7953"
             ],
             [
              0.7777777777777778,
              "#fb9f3a"
             ],
             [
              0.8888888888888888,
              "#fdca26"
             ],
             [
              1,
              "#f0f921"
             ]
            ],
            "type": "heatmapgl"
           }
          ],
          "histogram": [
           {
            "marker": {
             "pattern": {
              "fillmode": "overlay",
              "size": 10,
              "solidity": 0.2
             }
            },
            "type": "histogram"
           }
          ],
          "histogram2d": [
           {
            "colorbar": {
             "outlinewidth": 0,
             "ticks": ""
            },
            "colorscale": [
             [
              0,
              "#0d0887"
             ],
             [
              0.1111111111111111,
              "#46039f"
             ],
             [
              0.2222222222222222,
              "#7201a8"
             ],
             [
              0.3333333333333333,
              "#9c179e"
             ],
             [
              0.4444444444444444,
              "#bd3786"
             ],
             [
              0.5555555555555556,
              "#d8576b"
             ],
             [
              0.6666666666666666,
              "#ed7953"
             ],
             [
              0.7777777777777778,
              "#fb9f3a"
             ],
             [
              0.8888888888888888,
              "#fdca26"
             ],
             [
              1,
              "#f0f921"
             ]
            ],
            "type": "histogram2d"
           }
          ],
          "histogram2dcontour": [
           {
            "colorbar": {
             "outlinewidth": 0,
             "ticks": ""
            },
            "colorscale": [
             [
              0,
              "#0d0887"
             ],
             [
              0.1111111111111111,
              "#46039f"
             ],
             [
              0.2222222222222222,
              "#7201a8"
             ],
             [
              0.3333333333333333,
              "#9c179e"
             ],
             [
              0.4444444444444444,
              "#bd3786"
             ],
             [
              0.5555555555555556,
              "#d8576b"
             ],
             [
              0.6666666666666666,
              "#ed7953"
             ],
             [
              0.7777777777777778,
              "#fb9f3a"
             ],
             [
              0.8888888888888888,
              "#fdca26"
             ],
             [
              1,
              "#f0f921"
             ]
            ],
            "type": "histogram2dcontour"
           }
          ],
          "mesh3d": [
           {
            "colorbar": {
             "outlinewidth": 0,
             "ticks": ""
            },
            "type": "mesh3d"
           }
          ],
          "parcoords": [
           {
            "line": {
             "colorbar": {
              "outlinewidth": 0,
              "ticks": ""
             }
            },
            "type": "parcoords"
           }
          ],
          "pie": [
           {
            "automargin": true,
            "type": "pie"
           }
          ],
          "scatter": [
           {
            "fillpattern": {
             "fillmode": "overlay",
             "size": 10,
             "solidity": 0.2
            },
            "type": "scatter"
           }
          ],
          "scatter3d": [
           {
            "line": {
             "colorbar": {
              "outlinewidth": 0,
              "ticks": ""
             }
            },
            "marker": {
             "colorbar": {
              "outlinewidth": 0,
              "ticks": ""
             }
            },
            "type": "scatter3d"
           }
          ],
          "scattercarpet": [
           {
            "marker": {
             "colorbar": {
              "outlinewidth": 0,
              "ticks": ""
             }
            },
            "type": "scattercarpet"
           }
          ],
          "scattergeo": [
           {
            "marker": {
             "colorbar": {
              "outlinewidth": 0,
              "ticks": ""
             }
            },
            "type": "scattergeo"
           }
          ],
          "scattergl": [
           {
            "marker": {
             "colorbar": {
              "outlinewidth": 0,
              "ticks": ""
             }
            },
            "type": "scattergl"
           }
          ],
          "scattermapbox": [
           {
            "marker": {
             "colorbar": {
              "outlinewidth": 0,
              "ticks": ""
             }
            },
            "type": "scattermapbox"
           }
          ],
          "scatterpolar": [
           {
            "marker": {
             "colorbar": {
              "outlinewidth": 0,
              "ticks": ""
             }
            },
            "type": "scatterpolar"
           }
          ],
          "scatterpolargl": [
           {
            "marker": {
             "colorbar": {
              "outlinewidth": 0,
              "ticks": ""
             }
            },
            "type": "scatterpolargl"
           }
          ],
          "scatterternary": [
           {
            "marker": {
             "colorbar": {
              "outlinewidth": 0,
              "ticks": ""
             }
            },
            "type": "scatterternary"
           }
          ],
          "surface": [
           {
            "colorbar": {
             "outlinewidth": 0,
             "ticks": ""
            },
            "colorscale": [
             [
              0,
              "#0d0887"
             ],
             [
              0.1111111111111111,
              "#46039f"
             ],
             [
              0.2222222222222222,
              "#7201a8"
             ],
             [
              0.3333333333333333,
              "#9c179e"
             ],
             [
              0.4444444444444444,
              "#bd3786"
             ],
             [
              0.5555555555555556,
              "#d8576b"
             ],
             [
              0.6666666666666666,
              "#ed7953"
             ],
             [
              0.7777777777777778,
              "#fb9f3a"
             ],
             [
              0.8888888888888888,
              "#fdca26"
             ],
             [
              1,
              "#f0f921"
             ]
            ],
            "type": "surface"
           }
          ],
          "table": [
           {
            "cells": {
             "fill": {
              "color": "#EBF0F8"
             },
             "line": {
              "color": "white"
             }
            },
            "header": {
             "fill": {
              "color": "#C8D4E3"
             },
             "line": {
              "color": "white"
             }
            },
            "type": "table"
           }
          ]
         },
         "layout": {
          "annotationdefaults": {
           "arrowcolor": "#2a3f5f",
           "arrowhead": 0,
           "arrowwidth": 1
          },
          "autotypenumbers": "strict",
          "coloraxis": {
           "colorbar": {
            "outlinewidth": 0,
            "ticks": ""
           }
          },
          "colorscale": {
           "diverging": [
            [
             0,
             "#8e0152"
            ],
            [
             0.1,
             "#c51b7d"
            ],
            [
             0.2,
             "#de77ae"
            ],
            [
             0.3,
             "#f1b6da"
            ],
            [
             0.4,
             "#fde0ef"
            ],
            [
             0.5,
             "#f7f7f7"
            ],
            [
             0.6,
             "#e6f5d0"
            ],
            [
             0.7,
             "#b8e186"
            ],
            [
             0.8,
             "#7fbc41"
            ],
            [
             0.9,
             "#4d9221"
            ],
            [
             1,
             "#276419"
            ]
           ],
           "sequential": [
            [
             0,
             "#0d0887"
            ],
            [
             0.1111111111111111,
             "#46039f"
            ],
            [
             0.2222222222222222,
             "#7201a8"
            ],
            [
             0.3333333333333333,
             "#9c179e"
            ],
            [
             0.4444444444444444,
             "#bd3786"
            ],
            [
             0.5555555555555556,
             "#d8576b"
            ],
            [
             0.6666666666666666,
             "#ed7953"
            ],
            [
             0.7777777777777778,
             "#fb9f3a"
            ],
            [
             0.8888888888888888,
             "#fdca26"
            ],
            [
             1,
             "#f0f921"
            ]
           ],
           "sequentialminus": [
            [
             0,
             "#0d0887"
            ],
            [
             0.1111111111111111,
             "#46039f"
            ],
            [
             0.2222222222222222,
             "#7201a8"
            ],
            [
             0.3333333333333333,
             "#9c179e"
            ],
            [
             0.4444444444444444,
             "#bd3786"
            ],
            [
             0.5555555555555556,
             "#d8576b"
            ],
            [
             0.6666666666666666,
             "#ed7953"
            ],
            [
             0.7777777777777778,
             "#fb9f3a"
            ],
            [
             0.8888888888888888,
             "#fdca26"
            ],
            [
             1,
             "#f0f921"
            ]
           ]
          },
          "colorway": [
           "#636efa",
           "#EF553B",
           "#00cc96",
           "#ab63fa",
           "#FFA15A",
           "#19d3f3",
           "#FF6692",
           "#B6E880",
           "#FF97FF",
           "#FECB52"
          ],
          "font": {
           "color": "#2a3f5f"
          },
          "geo": {
           "bgcolor": "white",
           "lakecolor": "white",
           "landcolor": "#E5ECF6",
           "showlakes": true,
           "showland": true,
           "subunitcolor": "white"
          },
          "hoverlabel": {
           "align": "left"
          },
          "hovermode": "closest",
          "mapbox": {
           "style": "light"
          },
          "paper_bgcolor": "white",
          "plot_bgcolor": "#E5ECF6",
          "polar": {
           "angularaxis": {
            "gridcolor": "white",
            "linecolor": "white",
            "ticks": ""
           },
           "bgcolor": "#E5ECF6",
           "radialaxis": {
            "gridcolor": "white",
            "linecolor": "white",
            "ticks": ""
           }
          },
          "scene": {
           "xaxis": {
            "backgroundcolor": "#E5ECF6",
            "gridcolor": "white",
            "gridwidth": 2,
            "linecolor": "white",
            "showbackground": true,
            "ticks": "",
            "zerolinecolor": "white"
           },
           "yaxis": {
            "backgroundcolor": "#E5ECF6",
            "gridcolor": "white",
            "gridwidth": 2,
            "linecolor": "white",
            "showbackground": true,
            "ticks": "",
            "zerolinecolor": "white"
           },
           "zaxis": {
            "backgroundcolor": "#E5ECF6",
            "gridcolor": "white",
            "gridwidth": 2,
            "linecolor": "white",
            "showbackground": true,
            "ticks": "",
            "zerolinecolor": "white"
           }
          },
          "shapedefaults": {
           "line": {
            "color": "#2a3f5f"
           }
          },
          "ternary": {
           "aaxis": {
            "gridcolor": "white",
            "linecolor": "white",
            "ticks": ""
           },
           "baxis": {
            "gridcolor": "white",
            "linecolor": "white",
            "ticks": ""
           },
           "bgcolor": "#E5ECF6",
           "caxis": {
            "gridcolor": "white",
            "linecolor": "white",
            "ticks": ""
           }
          },
          "title": {
           "x": 0.05
          },
          "xaxis": {
           "automargin": true,
           "gridcolor": "white",
           "linecolor": "white",
           "ticks": "",
           "title": {
            "standoff": 15
           },
           "zerolinecolor": "white",
           "zerolinewidth": 2
          },
          "yaxis": {
           "automargin": true,
           "gridcolor": "white",
           "linecolor": "white",
           "ticks": "",
           "title": {
            "standoff": 15
           },
           "zerolinecolor": "white",
           "zerolinewidth": 2
          }
         }
        }
       }
      }
     },
     "metadata": {},
     "output_type": "display_data"
    }
   ],
   "source": [
    "for feature in df.columns:\n",
    "    x = df[feature].value_counts()\n",
    "\n",
    "    trace = go.Pie(labels = x.index, values = x, textinfo= 'value')\n",
    "\n",
    "    #layout = go.Layout(title = feature)\n",
    "\n",
    "    fig = go.Figure(data= [trace])\n",
    "\n",
    "    py.iplot(fig, image_width = 25, image_height = 25)\n"
   ]
  },
  {
   "cell_type": "code",
   "execution_count": 46,
   "metadata": {},
   "outputs": [
    {
     "data": {
      "application/vnd.plotly.v1+json": {
       "config": {
        "linkText": "Export to plot.ly",
        "plotlyServerURL": "https://plot.ly",
        "showLink": false
       },
       "data": [
        {
         "labels": [
          "Metropolitian",
          "Urban",
          "Semi-Urban"
         ],
         "textinfo": "value",
         "type": "pie",
         "values": [
          34093,
          10135,
          164
         ]
        }
       ],
       "layout": {
        "template": {
         "data": {
          "bar": [
           {
            "error_x": {
             "color": "#2a3f5f"
            },
            "error_y": {
             "color": "#2a3f5f"
            },
            "marker": {
             "line": {
              "color": "#E5ECF6",
              "width": 0.5
             },
             "pattern": {
              "fillmode": "overlay",
              "size": 10,
              "solidity": 0.2
             }
            },
            "type": "bar"
           }
          ],
          "barpolar": [
           {
            "marker": {
             "line": {
              "color": "#E5ECF6",
              "width": 0.5
             },
             "pattern": {
              "fillmode": "overlay",
              "size": 10,
              "solidity": 0.2
             }
            },
            "type": "barpolar"
           }
          ],
          "carpet": [
           {
            "aaxis": {
             "endlinecolor": "#2a3f5f",
             "gridcolor": "white",
             "linecolor": "white",
             "minorgridcolor": "white",
             "startlinecolor": "#2a3f5f"
            },
            "baxis": {
             "endlinecolor": "#2a3f5f",
             "gridcolor": "white",
             "linecolor": "white",
             "minorgridcolor": "white",
             "startlinecolor": "#2a3f5f"
            },
            "type": "carpet"
           }
          ],
          "choropleth": [
           {
            "colorbar": {
             "outlinewidth": 0,
             "ticks": ""
            },
            "type": "choropleth"
           }
          ],
          "contour": [
           {
            "colorbar": {
             "outlinewidth": 0,
             "ticks": ""
            },
            "colorscale": [
             [
              0,
              "#0d0887"
             ],
             [
              0.1111111111111111,
              "#46039f"
             ],
             [
              0.2222222222222222,
              "#7201a8"
             ],
             [
              0.3333333333333333,
              "#9c179e"
             ],
             [
              0.4444444444444444,
              "#bd3786"
             ],
             [
              0.5555555555555556,
              "#d8576b"
             ],
             [
              0.6666666666666666,
              "#ed7953"
             ],
             [
              0.7777777777777778,
              "#fb9f3a"
             ],
             [
              0.8888888888888888,
              "#fdca26"
             ],
             [
              1,
              "#f0f921"
             ]
            ],
            "type": "contour"
           }
          ],
          "contourcarpet": [
           {
            "colorbar": {
             "outlinewidth": 0,
             "ticks": ""
            },
            "type": "contourcarpet"
           }
          ],
          "heatmap": [
           {
            "colorbar": {
             "outlinewidth": 0,
             "ticks": ""
            },
            "colorscale": [
             [
              0,
              "#0d0887"
             ],
             [
              0.1111111111111111,
              "#46039f"
             ],
             [
              0.2222222222222222,
              "#7201a8"
             ],
             [
              0.3333333333333333,
              "#9c179e"
             ],
             [
              0.4444444444444444,
              "#bd3786"
             ],
             [
              0.5555555555555556,
              "#d8576b"
             ],
             [
              0.6666666666666666,
              "#ed7953"
             ],
             [
              0.7777777777777778,
              "#fb9f3a"
             ],
             [
              0.8888888888888888,
              "#fdca26"
             ],
             [
              1,
              "#f0f921"
             ]
            ],
            "type": "heatmap"
           }
          ],
          "heatmapgl": [
           {
            "colorbar": {
             "outlinewidth": 0,
             "ticks": ""
            },
            "colorscale": [
             [
              0,
              "#0d0887"
             ],
             [
              0.1111111111111111,
              "#46039f"
             ],
             [
              0.2222222222222222,
              "#7201a8"
             ],
             [
              0.3333333333333333,
              "#9c179e"
             ],
             [
              0.4444444444444444,
              "#bd3786"
             ],
             [
              0.5555555555555556,
              "#d8576b"
             ],
             [
              0.6666666666666666,
              "#ed7953"
             ],
             [
              0.7777777777777778,
              "#fb9f3a"
             ],
             [
              0.8888888888888888,
              "#fdca26"
             ],
             [
              1,
              "#f0f921"
             ]
            ],
            "type": "heatmapgl"
           }
          ],
          "histogram": [
           {
            "marker": {
             "pattern": {
              "fillmode": "overlay",
              "size": 10,
              "solidity": 0.2
             }
            },
            "type": "histogram"
           }
          ],
          "histogram2d": [
           {
            "colorbar": {
             "outlinewidth": 0,
             "ticks": ""
            },
            "colorscale": [
             [
              0,
              "#0d0887"
             ],
             [
              0.1111111111111111,
              "#46039f"
             ],
             [
              0.2222222222222222,
              "#7201a8"
             ],
             [
              0.3333333333333333,
              "#9c179e"
             ],
             [
              0.4444444444444444,
              "#bd3786"
             ],
             [
              0.5555555555555556,
              "#d8576b"
             ],
             [
              0.6666666666666666,
              "#ed7953"
             ],
             [
              0.7777777777777778,
              "#fb9f3a"
             ],
             [
              0.8888888888888888,
              "#fdca26"
             ],
             [
              1,
              "#f0f921"
             ]
            ],
            "type": "histogram2d"
           }
          ],
          "histogram2dcontour": [
           {
            "colorbar": {
             "outlinewidth": 0,
             "ticks": ""
            },
            "colorscale": [
             [
              0,
              "#0d0887"
             ],
             [
              0.1111111111111111,
              "#46039f"
             ],
             [
              0.2222222222222222,
              "#7201a8"
             ],
             [
              0.3333333333333333,
              "#9c179e"
             ],
             [
              0.4444444444444444,
              "#bd3786"
             ],
             [
              0.5555555555555556,
              "#d8576b"
             ],
             [
              0.6666666666666666,
              "#ed7953"
             ],
             [
              0.7777777777777778,
              "#fb9f3a"
             ],
             [
              0.8888888888888888,
              "#fdca26"
             ],
             [
              1,
              "#f0f921"
             ]
            ],
            "type": "histogram2dcontour"
           }
          ],
          "mesh3d": [
           {
            "colorbar": {
             "outlinewidth": 0,
             "ticks": ""
            },
            "type": "mesh3d"
           }
          ],
          "parcoords": [
           {
            "line": {
             "colorbar": {
              "outlinewidth": 0,
              "ticks": ""
             }
            },
            "type": "parcoords"
           }
          ],
          "pie": [
           {
            "automargin": true,
            "type": "pie"
           }
          ],
          "scatter": [
           {
            "fillpattern": {
             "fillmode": "overlay",
             "size": 10,
             "solidity": 0.2
            },
            "type": "scatter"
           }
          ],
          "scatter3d": [
           {
            "line": {
             "colorbar": {
              "outlinewidth": 0,
              "ticks": ""
             }
            },
            "marker": {
             "colorbar": {
              "outlinewidth": 0,
              "ticks": ""
             }
            },
            "type": "scatter3d"
           }
          ],
          "scattercarpet": [
           {
            "marker": {
             "colorbar": {
              "outlinewidth": 0,
              "ticks": ""
             }
            },
            "type": "scattercarpet"
           }
          ],
          "scattergeo": [
           {
            "marker": {
             "colorbar": {
              "outlinewidth": 0,
              "ticks": ""
             }
            },
            "type": "scattergeo"
           }
          ],
          "scattergl": [
           {
            "marker": {
             "colorbar": {
              "outlinewidth": 0,
              "ticks": ""
             }
            },
            "type": "scattergl"
           }
          ],
          "scattermapbox": [
           {
            "marker": {
             "colorbar": {
              "outlinewidth": 0,
              "ticks": ""
             }
            },
            "type": "scattermapbox"
           }
          ],
          "scatterpolar": [
           {
            "marker": {
             "colorbar": {
              "outlinewidth": 0,
              "ticks": ""
             }
            },
            "type": "scatterpolar"
           }
          ],
          "scatterpolargl": [
           {
            "marker": {
             "colorbar": {
              "outlinewidth": 0,
              "ticks": ""
             }
            },
            "type": "scatterpolargl"
           }
          ],
          "scatterternary": [
           {
            "marker": {
             "colorbar": {
              "outlinewidth": 0,
              "ticks": ""
             }
            },
            "type": "scatterternary"
           }
          ],
          "surface": [
           {
            "colorbar": {
             "outlinewidth": 0,
             "ticks": ""
            },
            "colorscale": [
             [
              0,
              "#0d0887"
             ],
             [
              0.1111111111111111,
              "#46039f"
             ],
             [
              0.2222222222222222,
              "#7201a8"
             ],
             [
              0.3333333333333333,
              "#9c179e"
             ],
             [
              0.4444444444444444,
              "#bd3786"
             ],
             [
              0.5555555555555556,
              "#d8576b"
             ],
             [
              0.6666666666666666,
              "#ed7953"
             ],
             [
              0.7777777777777778,
              "#fb9f3a"
             ],
             [
              0.8888888888888888,
              "#fdca26"
             ],
             [
              1,
              "#f0f921"
             ]
            ],
            "type": "surface"
           }
          ],
          "table": [
           {
            "cells": {
             "fill": {
              "color": "#EBF0F8"
             },
             "line": {
              "color": "white"
             }
            },
            "header": {
             "fill": {
              "color": "#C8D4E3"
             },
             "line": {
              "color": "white"
             }
            },
            "type": "table"
           }
          ]
         },
         "layout": {
          "annotationdefaults": {
           "arrowcolor": "#2a3f5f",
           "arrowhead": 0,
           "arrowwidth": 1
          },
          "autotypenumbers": "strict",
          "coloraxis": {
           "colorbar": {
            "outlinewidth": 0,
            "ticks": ""
           }
          },
          "colorscale": {
           "diverging": [
            [
             0,
             "#8e0152"
            ],
            [
             0.1,
             "#c51b7d"
            ],
            [
             0.2,
             "#de77ae"
            ],
            [
             0.3,
             "#f1b6da"
            ],
            [
             0.4,
             "#fde0ef"
            ],
            [
             0.5,
             "#f7f7f7"
            ],
            [
             0.6,
             "#e6f5d0"
            ],
            [
             0.7,
             "#b8e186"
            ],
            [
             0.8,
             "#7fbc41"
            ],
            [
             0.9,
             "#4d9221"
            ],
            [
             1,
             "#276419"
            ]
           ],
           "sequential": [
            [
             0,
             "#0d0887"
            ],
            [
             0.1111111111111111,
             "#46039f"
            ],
            [
             0.2222222222222222,
             "#7201a8"
            ],
            [
             0.3333333333333333,
             "#9c179e"
            ],
            [
             0.4444444444444444,
             "#bd3786"
            ],
            [
             0.5555555555555556,
             "#d8576b"
            ],
            [
             0.6666666666666666,
             "#ed7953"
            ],
            [
             0.7777777777777778,
             "#fb9f3a"
            ],
            [
             0.8888888888888888,
             "#fdca26"
            ],
            [
             1,
             "#f0f921"
            ]
           ],
           "sequentialminus": [
            [
             0,
             "#0d0887"
            ],
            [
             0.1111111111111111,
             "#46039f"
            ],
            [
             0.2222222222222222,
             "#7201a8"
            ],
            [
             0.3333333333333333,
             "#9c179e"
            ],
            [
             0.4444444444444444,
             "#bd3786"
            ],
            [
             0.5555555555555556,
             "#d8576b"
            ],
            [
             0.6666666666666666,
             "#ed7953"
            ],
            [
             0.7777777777777778,
             "#fb9f3a"
            ],
            [
             0.8888888888888888,
             "#fdca26"
            ],
            [
             1,
             "#f0f921"
            ]
           ]
          },
          "colorway": [
           "#636efa",
           "#EF553B",
           "#00cc96",
           "#ab63fa",
           "#FFA15A",
           "#19d3f3",
           "#FF6692",
           "#B6E880",
           "#FF97FF",
           "#FECB52"
          ],
          "font": {
           "color": "#2a3f5f"
          },
          "geo": {
           "bgcolor": "white",
           "lakecolor": "white",
           "landcolor": "#E5ECF6",
           "showlakes": true,
           "showland": true,
           "subunitcolor": "white"
          },
          "hoverlabel": {
           "align": "left"
          },
          "hovermode": "closest",
          "mapbox": {
           "style": "light"
          },
          "paper_bgcolor": "white",
          "plot_bgcolor": "#E5ECF6",
          "polar": {
           "angularaxis": {
            "gridcolor": "white",
            "linecolor": "white",
            "ticks": ""
           },
           "bgcolor": "#E5ECF6",
           "radialaxis": {
            "gridcolor": "white",
            "linecolor": "white",
            "ticks": ""
           }
          },
          "scene": {
           "xaxis": {
            "backgroundcolor": "#E5ECF6",
            "gridcolor": "white",
            "gridwidth": 2,
            "linecolor": "white",
            "showbackground": true,
            "ticks": "",
            "zerolinecolor": "white"
           },
           "yaxis": {
            "backgroundcolor": "#E5ECF6",
            "gridcolor": "white",
            "gridwidth": 2,
            "linecolor": "white",
            "showbackground": true,
            "ticks": "",
            "zerolinecolor": "white"
           },
           "zaxis": {
            "backgroundcolor": "#E5ECF6",
            "gridcolor": "white",
            "gridwidth": 2,
            "linecolor": "white",
            "showbackground": true,
            "ticks": "",
            "zerolinecolor": "white"
           }
          },
          "shapedefaults": {
           "line": {
            "color": "#2a3f5f"
           }
          },
          "ternary": {
           "aaxis": {
            "gridcolor": "white",
            "linecolor": "white",
            "ticks": ""
           },
           "baxis": {
            "gridcolor": "white",
            "linecolor": "white",
            "ticks": ""
           },
           "bgcolor": "#E5ECF6",
           "caxis": {
            "gridcolor": "white",
            "linecolor": "white",
            "ticks": ""
           }
          },
          "title": {
           "x": 0.05
          },
          "xaxis": {
           "automargin": true,
           "gridcolor": "white",
           "linecolor": "white",
           "ticks": "",
           "title": {
            "standoff": 15
           },
           "zerolinecolor": "white",
           "zerolinewidth": 2
          },
          "yaxis": {
           "automargin": true,
           "gridcolor": "white",
           "linecolor": "white",
           "ticks": "",
           "title": {
            "standoff": 15
           },
           "zerolinecolor": "white",
           "zerolinewidth": 2
          }
         }
        },
        "title": {
         "text": "City"
        }
       }
      }
     },
     "metadata": {},
     "output_type": "display_data"
    }
   ],
   "source": [
    "x = df['City'].value_counts()\n",
    "\n",
    "trace = go.Pie(labels = x.index, values = x, textinfo= 'value')\n",
    "\n",
    "layout = go.Layout(title = \"City\")\n",
    "\n",
    "fig = go.Figure(data= [trace], layout= layout)\n",
    "\n",
    "py.iplot(fig, image_width = 25, image_height = 25)\n"
   ]
  },
  {
   "cell_type": "code",
   "execution_count": 47,
   "metadata": {},
   "outputs": [
    {
     "data": {
      "text/plain": [
       "<seaborn.axisgrid.FacetGrid at 0x2002cdfb2e0>"
      ]
     },
     "execution_count": 47,
     "metadata": {},
     "output_type": "execute_result"
    },
    {
     "data": {
      "text/plain": [
       "<Figure size 900x700 with 0 Axes>"
      ]
     },
     "metadata": {},
     "output_type": "display_data"
    },
    {
     "data": {
      "image/png": "[encoded data removed]",
      "text/plain": [
       "<Figure size 500x500 with 1 Axes>"
      ]
     },
     "metadata": {},
     "output_type": "display_data"
    }
   ],
   "source": [
    "plt.figure(figsize=(9,7))\n",
    "\n",
    "sns.displot(df['Time_taken_(min)'], bins = 20)"
   ]
  },
  {
   "cell_type": "code",
   "execution_count": 48,
   "metadata": {},
   "outputs": [
    {
     "ename": "NameError",
     "evalue": "name 'a' is not defined",
     "output_type": "error",
     "traceback": [
      "\u001b[1;31m---------------------------------------------------------------------------\u001b[0m",
      "\u001b[1;31mNameError\u001b[0m                                 Traceback (most recent call last)",
      "\u001b[1;32md:\\Github\\Predict_the_time_of_arrival_for_the_delivery_persons\\Predict_the_time_of_arrival_for_the_delivery_persons.ipynb Cell 24\u001b[0m in \u001b[0;36m<cell line: 1>\u001b[1;34m()\u001b[0m\n\u001b[1;32m----> <a href='vscode-notebook-cell:/d%3A/Github/Predict_the_time_of_arrival_for_the_delivery_persons/Predict_the_time_of_arrival_for_the_delivery_persons.ipynb#X33sZmlsZQ%3D%3D?line=0'>1</a>\u001b[0m a \u001b[39m=\u001b[39m np\u001b[39m.\u001b[39marray(a)\n\u001b[0;32m      <a href='vscode-notebook-cell:/d%3A/Github/Predict_the_time_of_arrival_for_the_delivery_persons/Predict_the_time_of_arrival_for_the_delivery_persons.ipynb#X33sZmlsZQ%3D%3D?line=1'>2</a>\u001b[0m a\n",
      "\u001b[1;31mNameError\u001b[0m: name 'a' is not defined"
     ]
    }
   ],
   "source": [
    "a = np.array(a)\n",
    "a"
   ]
  },
  {
   "cell_type": "code",
   "execution_count": null,
   "metadata": {},
   "outputs": [
    {
     "name": "stdout",
     "output_type": "stream",
     "text": [
      "['Metropolitian' 'Urban' 'Semi-Urban']\n",
      "[34093 10135   164]\n"
     ]
    }
   ],
   "source": [
    "x = df_unique[18][:3]\n",
    "y = np.array(df['City'].value_counts())\n",
    "print(x)\n",
    "print(y)"
   ]
  },
  {
   "cell_type": "code",
   "execution_count": null,
   "metadata": {},
   "outputs": [
    {
     "data": {
      "text/plain": [
       "[array(['0xb379', '0x5d6d', '0x7a6a', ..., '0x4f8d', '0x5eee', '0x5fb2'],\n",
       "       dtype=object),\n",
       " array(['BANGRES18DEL02', 'BANGRES19DEL01', 'COIMBRES13DEL02', ...,\n",
       "        'KOCRES04DEL01', 'BHPRES06DEL03', 'GOARES03DEL03'], dtype=object),\n",
       " array([34., 23., 38., 32., 22., 33., 35., 36., 21., 24., 29., 25., 31.,\n",
       "        37., 27., 26., 20., nan, 28., 39., 30., 15., 50.]),\n",
       " array([4.5, 4.4, 4.7, 4.6, 4.8, 4.2, 4.3, 4. , 4.9, 4.1, 5. , 3.5, nan,\n",
       "        3.8, 3.9, 3.7, 2.6, 2.5, 3.6, 3.1, 2.7, 1. , 3.2, 3.3, 6. , 3.4,\n",
       "        2.8, 2.9, 3. ]),\n",
       " array([ 12.913041,  12.914264,  11.003669,  12.972793,  17.431668,\n",
       "         23.369746,  12.352058,  17.433809,  30.327968,  10.003064,\n",
       "         18.56245 ,  30.899584,  26.463504,  19.176269,  12.311072,\n",
       "         18.592718,  17.426228,  22.552672,  18.563934,  23.357804,\n",
       "         12.986047,  19.221315,  13.005801,  26.849596,  21.160522,\n",
       "         12.934179,  18.51421 ,  11.022477,  21.160437,  15.51315 ,\n",
       "         15.561295,   0.      ,  18.55144 ,  18.593481,  21.173343,\n",
       "         17.451976,  12.972532,  13.064181,  19.121999,  21.149569,\n",
       "         19.091458,  22.539129,  12.970324,  21.175975,  11.003681,\n",
       "         10.96185 ,  27.165108,  26.88842 ,  26.913987,  12.3085  ,\n",
       "         21.183434,  19.254567,  25.449659,  30.372202,  21.157735,\n",
       "         21.186438,  12.935662,  17.431477,  12.933298,  22.311358,\n",
       "         12.934365,  13.086438,  26.913483,  17.411028,  18.516216,\n",
       "         15.5696  ,  19.876428,  12.939496,  23.374878, -27.163303,\n",
       "         22.74806 ,  26.891191,  12.316967,  18.927584,  11.022298,\n",
       "         12.325461,  18.530963,  17.458998,  19.1813  ,  22.727021,\n",
       "         12.979166,  18.994237,  12.284747,  11.000762,  26.479108,\n",
       "         21.175104,  12.975377,  23.359194,  12.297954,  23.359407,\n",
       "         23.416792,  26.892312,  22.31279 ,  22.761593,  11.026117,\n",
       "         26.483042,  23.359033,  22.569358,  21.157729,  22.311603,\n",
       "         18.536562,  22.745536,  18.543626,  17.41233 ,  21.17106 ,\n",
       "         21.186884,  19.065838,  12.98041 ,  12.310972,  11.025083,\n",
       "         22.538731,  11.001753,  22.310237,  22.725748,  17.450851,\n",
       "         13.081878,  10.035573,  22.308096,  12.975996,  19.178321,\n",
       "         26.910262,  25.443994,  12.321214,  19.055831,  12.337928,\n",
       "         23.351489,  22.728163,  13.026286,  26.766536,  21.149834,\n",
       "         21.149669,  26.482581,  26.911378,  13.02978 ,  12.323194,\n",
       "         22.569367,  12.949934,  22.725835,  30.89286 ,  12.933284,\n",
       "         17.429585,  12.978453,  13.044694,  26.846156,  26.911927,\n",
       "         10.020683,  15.585658,  22.310526,  19.103249,  26.471617,\n",
       "         19.866969,  12.906229,  22.751857,  11.010375,  17.483216,\n",
       "         27.160934,  11.006686,  25.457687,  19.12663 ,  19.875016,\n",
       "         18.536718,  13.026279,  17.455894,  22.745049,  13.054347,\n",
       "         12.979096,  27.163303,  26.482419,  22.307898,  27.160832,\n",
       "         10.027014,  30.890184,  21.15276 ,  22.753839,  19.876106,\n",
       "         30.328174,  13.058616, -27.165108,  21.170096,  30.905562,\n",
       "        -18.55144 ,  26.902328,  26.90519 ,  17.428294,  12.323978,\n",
       "         26.492106,  19.003517,  10.994136,  23.353783,  17.440827,\n",
       "         12.304569,  12.299524,  19.131141,  19.879631,  18.520016,\n",
       "         21.170798,  22.760072,  22.761226,  23.354422,  22.722634,\n",
       "         12.972161,  22.526461,  23.371292,  13.029198,  18.546258,\n",
       "         26.921411,  11.008638,  13.049645,  17.430448,  19.874733,\n",
       "         13.045479,  26.956431,  13.022394,  22.75004 ,  21.173493,\n",
       "         13.091809,  18.533811,  15.496162,  26.913726,  30.895817,\n",
       "        -30.366322,  12.323994,  19.120083,  12.337978,  27.161661,\n",
       "         13.066762,  30.362686,  17.410371,   9.979186,  18.539299,\n",
       "         22.310329,  11.022169,  19.875908,  10.006881,  12.326356,\n",
       "         19.875522,  22.552996,  30.895204,  25.450329,  18.546947,\n",
       "         30.340722,  22.651847,  25.45235 ,  17.424114,  12.323225,\n",
       "        -12.325461,  26.905287,  17.422819,  17.45971 ,  22.695207,\n",
       "         18.569156,  11.003008,  26.914142,  30.359722,  12.334022,\n",
       "         23.214294, -12.316967,  12.970221,  22.753659,  18.636215,\n",
       "         22.751234,  23.234249,  25.457116,  22.744648,  23.39925 ,\n",
       "         19.874103,  22.577821,  22.514119,  22.311844,  18.994049,\n",
       "         22.732225,  30.914057,  23.233219,  12.981615,  23.184992,\n",
       "         26.49095 ,  22.551084,  11.021278,  30.899992,  11.024839,\n",
       "         23.351058,  19.876219,  19.880256,  13.027018,  30.893234,\n",
       "         30.319528,  27.195928, -23.359194,  25.450317,  21.185047,\n",
       "         23.355164,  23.232537,  18.53408 ,  26.902908,  11.016298,\n",
       "         10.000706,  25.454697,  21.186608,  26.90294 ,  23.214459,\n",
       "         23.374989,  30.893244,  30.885915,  17.438263,  15.544419,\n",
       "         26.474986,   9.970717,  30.873988,  19.888716,  22.547186,\n",
       "         23.232357,  23.234631,  19.1093  ,  22.32    , -26.47775 ,\n",
       "         26.469003,  26.483672,  10.027364, -15.546594,  19.207222,\n",
       "         19.874449, -12.337978,  11.02091 ,  19.22384 ,  30.366322,\n",
       "         30.361281,  26.473698,  18.554382,  22.553227, -27.160934,\n",
       "         30.332735,   9.982834,  15.498603,  22.5491  ,  25.450377,\n",
       "         26.471529, -26.90519 ,  23.218998,  23.235123,  22.533662,\n",
       "         30.885814, -17.45971 ,  15.574828,  25.459775,  30.893081,\n",
       "         22.514688, -26.914142,  23.266261,  23.333017, -19.176269,\n",
       "         27.157772,  15.516833,  22.527893,  27.159795,  15.546594,\n",
       "         15.157944,  27.16185 ,  30.88722 ,  27.158822, -23.230791,\n",
       "         23.264015,  27.161694,   9.991703,  27.201725,   9.960846,\n",
       "         26.481547, -22.539129,  15.303897,   9.988483,  25.454648,\n",
       "         30.342509, -15.157944,  22.53796 ,  -9.959778,  30.346994,\n",
       "        -15.51315 ,  15.49395 , -27.16185 ,  11.001852,  30.893384,\n",
       "        -15.576683,  19.875337, -18.520016,  15.556561,  23.230791,\n",
       "        -26.891191,  15.56155 ,  30.335259, -22.538999,  26.47775 ,\n",
       "        -19.103249, -30.902872,   9.985497,  25.451517, -22.526461,\n",
       "         26.472001,   9.959778,  -9.988483, -23.211529,  30.892978,\n",
       "         15.506205,  19.878028, -30.895817, -26.474986,  22.538999,\n",
       "          9.957144,  22.515082,  25.451646, -15.5696  , -12.311072,\n",
       "        -26.913987, -12.970324,   9.979363,  10.028047, -21.157735,\n",
       "        -23.374989, -13.049645,  26.474133,  30.902872,   9.985697,\n",
       "        -26.913726,  23.211529,  19.876994, -22.310329, -23.234249,\n",
       "         15.576683,  22.514585,  25.449872,  25.453436,   9.966783,\n",
       "        -25.45235 , -17.451976, -21.186884, -26.472001, -26.910262,\n",
       "        -11.003681, -11.003669, -13.054347, -30.372202, -12.972793,\n",
       "        -25.449872, -18.569156, -18.546258, -17.429585, -27.159795,\n",
       "        -22.553227, -22.761593,  -9.966783, -13.086438, -19.878028,\n",
       "        -17.440827,  -9.970717, -12.913041, -12.970221, -19.876994,\n",
       "        -19.875522, -25.449659, -30.346994, -22.552672, -22.311603,\n",
       "        -12.352058, -25.450317, -21.15276 , -12.949934, -26.49095 ,\n",
       "        -25.443994, -30.319528, -10.028047, -12.323978, -19.876106,\n",
       "         26.47    , -18.53408 , -26.463504, -30.899584, -22.311844,\n",
       "        -17.438263, -23.39925 , -23.234631, -30.361281, -19.091458,\n",
       "        -17.483216, -15.496162, -22.725835, -30.885915, -22.53796 ,\n",
       "        -12.972161, -23.184992, -17.424114, -10.035573, -19.22384 ,\n",
       "        -23.235123, -25.453436, -23.359033, -19.221315, -23.214459,\n",
       "        -21.173343, -26.483042, -21.183434, -22.310526, -22.74806 ,\n",
       "        -12.304569, -19.1093  , -19.879631, -19.874449, -10.020683,\n",
       "        -19.875337, -26.911927, -23.416792, -21.186608, -12.323994,\n",
       "        -12.933284, -17.450851, -19.875016, -22.569358, -12.284747,\n",
       "        -23.355164, -18.592718, -27.201725, -22.311358, -19.207222,\n",
       "        -13.022394, -21.149569, -22.538731, -27.161661, -27.160832,\n",
       "        -13.066762, -10.96185 , -12.935662, -17.428294, -30.359722,\n",
       "        -11.022169, -30.885814, -25.451517, -22.651847, -22.547186,\n",
       "        -26.474133, -30.893384, -22.761226, -11.001852, -30.327968,\n",
       "        -22.745536, -17.455894, -26.481547, -22.32    , -23.371292,\n",
       "        -18.563934, -30.905562, -25.450377, -22.515082, -22.725748,\n",
       "        -23.351058, -26.473698, -23.333017, -30.873988,  -9.982834,\n",
       "        -22.514119, -21.170798, -12.979166, -19.065838, -19.876428,\n",
       "        -13.02978 , -12.310972, -22.307898, -21.170096, -21.186438,\n",
       "         -9.960846, -10.994136, -21.175104, -15.303897, -11.022477,\n",
       "        -26.846156, -25.457116, -26.905287, -21.149834, -30.328174,\n",
       "        -30.362686, -19.055831, -22.5491  , -26.471529, -12.934365,\n",
       "        -30.893244, -19.888716, -12.975377, -22.551084, -15.561295,\n",
       "        -22.695207, -26.956431,  -9.979186, -11.006686, -12.323225,\n",
       "        -13.026286, -25.454697, -23.357804, -19.880256, -13.081878,\n",
       "        -10.027014, -18.543626, -10.003064, -22.552996, -18.530963,\n",
       "        -19.866969, -22.75004 , -26.469003, -26.766536, -12.326356,\n",
       "        -22.577821, -22.569367, -23.232357, -13.091809, -12.933298,\n",
       "        -22.533662, -22.745049, -26.921411, -23.374878, -27.158822,\n",
       "        -12.906229, -13.044694, -13.045479, -12.98041 , -26.90294 ,\n",
       "        -23.369746, -19.875908, -26.479108, -30.892978, -23.232537,\n",
       "        -22.514585, -22.751234, -17.426228, -17.411028, -18.636215,\n",
       "        -15.56155 , -19.254567, -25.457687, -15.506205, -15.516833,\n",
       "        -11.02091 , -12.3085  , -26.47    , -19.003517, -30.890184,\n",
       "        -22.760072, -22.722634, -19.12663 , -22.753839, -21.173493,\n",
       "        -17.430448, -12.939496, -18.56245 , -22.308096, -23.264015,\n",
       "        -26.482581, -15.498603, -18.51421 , -12.975996, -19.874733,\n",
       "        -15.49395 , -12.978453]),\n",
       " array([ 77.683237,  77.6784  ,  76.976494,  80.249982,  78.408321,\n",
       "         85.33982 ,  76.60665 ,  78.386744,  78.046106,  76.307589,\n",
       "         73.916619,  75.809346,  80.372929,  72.836721,  76.654878,\n",
       "         73.773572,  78.407495,  88.352885,  73.915367,  85.325146,\n",
       "         80.218114,  72.862381,  80.250744,  75.800512,  72.771477,\n",
       "         77.615797,  73.838429,  76.995667,  72.774209,  73.78346 ,\n",
       "         73.749478,   0.      ,  73.804855,  73.785901,  72.792731,\n",
       "         78.385883,  77.608179,  80.236442,  72.908493,  72.772697,\n",
       "         72.827808,  88.365507,  77.645748,  72.795503,  76.975525,\n",
       "         76.971082,  78.015053,  75.800689,  75.752891,  76.665808,\n",
       "         72.814492,  72.848923,  81.839744,  78.077151,  72.768778,\n",
       "         72.794115,  77.61413 ,  78.40035 ,  77.614293,  73.164798,\n",
       "         77.616155,  80.220672,  75.803139,  78.329645,  73.842527,\n",
       "         73.742294,  75.364792,  77.625999,  85.335739,  78.057044,\n",
       "         75.8934  ,  75.802083,  76.603067,  72.832585,  76.998349,\n",
       "         76.632278,  73.828972,  78.500366,  72.836191,  75.884167,\n",
       "         77.640709,  72.825553,  76.625861,  76.981876,  80.315042,\n",
       "         72.804342,  77.696664,  85.325447,  76.665169,  85.325055,\n",
       "         85.316842,  75.806896,  73.170283,  75.886362,  76.944652,\n",
       "         80.317833,  85.325347,  88.433452,  72.768726,  73.165012,\n",
       "         73.896485,  75.893106,  73.905101,  78.449654,  72.789292,\n",
       "         72.793616,  72.832658,  77.640489,  76.659264,  77.015393,\n",
       "         88.364878,  76.986241,  73.158921,  75.898497,  78.379347,\n",
       "         80.248519,  76.336958,  73.167753,  80.221898,  72.834715,\n",
       "         75.783013,  81.860187,  76.621094,  72.833984,  76.617889,\n",
       "         85.324253,  75.884212,  80.275235,  75.837333,  72.778666,\n",
       "         72.772629,  80.315628,  75.789034,  80.208812,  76.630583,\n",
       "         88.433187,  77.699386,  75.887648,  75.822199,  77.615428,\n",
       "         78.392621,  77.643685,  80.26147 ,  75.8023  ,  75.797282,\n",
       "         76.310631,  73.743606,  73.170937,  72.846749,  80.313564,\n",
       "         75.318894,  77.596791,  75.866699,  76.95295 ,  78.552111,\n",
       "         78.044095,  76.951736,  81.835585,  72.829976,  75.322405,\n",
       "         73.830327,  80.174568,  78.375467,  75.892471,  80.257221,\n",
       "         77.640625,  80.320939,  73.167788,  78.011608,  76.308053,\n",
       "         75.829615,  72.778059,  75.897429,  75.340775,  78.049117,\n",
       "         80.264151,  72.789122,  75.832841, -73.804855,  75.794257,\n",
       "         75.810753,  78.404423,  76.627961,  80.327797,  72.82765 ,\n",
       "         76.963303,  85.326967,  78.393391,  76.643622,  76.64262 ,\n",
       "         72.813074,  75.323403,  73.830547,  72.790489,  75.892574,\n",
       "         75.887522,  85.3329  ,  75.886959,  77.596014,  88.364453,\n",
       "         85.327872,  77.570997,  73.904337,  75.793604,  76.984311,\n",
       "         80.242268,  78.418213,  75.353942,  80.23311 ,  75.776649,\n",
       "         80.242439,  75.902847,  72.801953,  80.219104,  73.899315,\n",
       "         73.825364,  75.75282 ,  75.813112, -78.070453,  76.626167,\n",
       "         72.907385,  76.616792,  78.011544,  80.251865,  78.06889 ,\n",
       "         78.437225,  76.317361,  73.897902,  73.169083,  76.999594,\n",
       "         75.358888,  76.345397,  76.619103,  75.367127,  88.35231 ,\n",
       "         75.822103,  81.834279,  73.900626,  78.060221,  75.881991,\n",
       "         81.841889,  78.347554,  76.630028, -76.632278,  75.794592,\n",
       "         78.449578,  78.368855,  75.866059,  73.774723,  76.97544 ,\n",
       "         75.805704,  78.067079,  76.618203,  77.435361,  77.645396,\n",
       "         75.903365,  73.751081,  75.88949 ,  77.434007,  81.859682,\n",
       "         75.894377,  85.390464,  75.368419,  88.400581,  88.362504,\n",
       "         73.165081,  72.825203,  75.874765,  75.83982 ,  77.433571,\n",
       "         80.231598,  77.417227,  80.318656,  88.354127,  76.995017,\n",
       "         75.831338,  77.007003,  85.325731,  75.346017,  75.323503,\n",
       "         80.254791,  75.82172 ,  78.040267,  77.998092, -85.325447,\n",
       "         81.831681,  72.80859 ,  85.324097,  77.429845,  73.89852 ,\n",
       "         75.792934,  76.972076,  76.349516,  81.834492,  72.794136,\n",
       "         75.793007,  77.434976,  85.335486,  75.821817,  75.788259,\n",
       "         78.397865,  73.755736,  80.342796,  76.285447,  75.842739,\n",
       "         75.321461,  88.35068 ,  77.429989,  77.401663,  72.825451,\n",
       "         73.17    , -80.351569,  80.316344,  80.320708,  76.308258,\n",
       "         73.760431,  72.972281,  75.360232,  76.940432,  72.841347,\n",
       "         78.070453,  78.068022,  80.352677,  73.798206,  88.353273,\n",
       "        -78.044095,  78.054222,  76.283268,  73.826911,  88.400467,\n",
       "         81.834236,  80.313458, -75.810753,  77.373573,  77.398886,\n",
       "         88.366217,  75.786976,  73.766883,  81.834841,  75.821495,\n",
       "         88.393294,  77.379605,  85.3172  , -72.836721,  78.04725 ,\n",
       "         73.768172,  88.368628,  78.04299 ,  73.950889,  78.040165,\n",
       "         75.804893,  78.045359,  77.43702 ,  77.408236,  78.034714,\n",
       "         76.293136,  78.007553,  76.293936,  80.299775,  73.914336,\n",
       "         76.295211,  81.834502,  78.061187,  88.349843,  76.296106,\n",
       "         78.062543,  73.827423, -78.040165,  76.976268,  75.821202,\n",
       "         73.75575 ,  75.316722, -73.830547,  73.763633,  73.749092,\n",
       "         78.053162, -88.322337,  80.351569, -72.846749,  75.826808,\n",
       "         76.276999,  81.832616,  80.354002,  77.419399,  75.821847,\n",
       "         73.766668,  75.317475,  88.322337,  76.296783,  88.36783 ,\n",
       "         81.832796, -76.654878, -77.645748,  76.285001,  76.310019,\n",
       "        -80.242268,  80.3481  ,  76.281128,  75.372353, -73.169083,\n",
       "        -77.434007,  88.39331 ,  81.836167,  81.833167,  76.242981,\n",
       "        -81.841889, -78.385883, -75.783013, -76.975525, -76.976494,\n",
       "        -80.257221, -78.077151, -73.904337, -78.392621, -78.04299 ,\n",
       "        -75.367127, -78.062543, -88.352885, -76.60665 , -77.699386,\n",
       "        -81.860187,  80.35    , -73.165081, -78.397865, -72.827808,\n",
       "        -75.887648, -85.335486, -77.596014, -78.347554, -72.841347,\n",
       "        -72.862381, -72.792731, -72.814492, -76.643622, -85.316842,\n",
       "        -76.626167, -77.615428, -78.379347, -76.625861, -73.164798,\n",
       "        -72.972281, -77.683237, -78.011544, -80.251865, -77.61413 ,\n",
       "        -88.349843, -76.999594, -75.881991, -75.821202, -75.887522,\n",
       "        -76.976268, -78.375467, -73.17    , -75.832841, -81.834236,\n",
       "        -85.325731, -85.3172  , -76.283268, -77.640709, -78.068022,\n",
       "        -80.208812, -72.789122, -75.340775, -72.804342, -76.995667,\n",
       "        -81.859682, -75.794592, -78.06889 , -76.963303, -77.616155,\n",
       "        -77.696664, -75.866059, -76.951736, -76.630028, -85.325146,\n",
       "        -73.828972, -75.902847, -80.316344, -76.619103, -80.242439,\n",
       "        -76.293936, -77.614293, -88.366217, -75.837333, -75.892471,\n",
       "        -75.793604, -80.248519, -78.045359, -77.596791, -80.26147 ,\n",
       "        -80.23311 , -77.640489, -80.220672, -75.793007, -85.33982 ,\n",
       "        -78.407495, -73.773572, -76.603067, -73.751081, -76.971082,\n",
       "        -75.75282 , -78.404423, -76.940432, -76.665808, -73.742294,\n",
       "        -77.43702 , -75.829615, -72.772697, -75.897429, -80.318656,\n",
       "        -72.801953, -72.832658, -73.916619, -77.408236, -73.838429,\n",
       "        -72.778059, -73.827423, -77.643685]),\n",
       " array([13.043041, 12.924264, 11.053669, ..., 30.982872, 15.636205,\n",
       "        20.005337]),\n",
       " array([77.813237, 77.6884  , 77.026494, ..., 75.906808, 73.896668,\n",
       "        75.446722]),\n",
       " array(['25-03-2022', '19-03-2022', '05-04-2022', '26-03-2022',\n",
       "        '11-03-2022', '04-03-2022', '14-03-2022', '20-03-2022',\n",
       "        '12-02-2022', '13-02-2022', '14-02-2022', '02-04-2022',\n",
       "        '01-03-2022', '16-03-2022', '15-02-2022', '10-03-2022',\n",
       "        '27-03-2022', '12-03-2022', '01-04-2022', '05-03-2022',\n",
       "        '11-02-2022', '08-03-2022', '03-04-2022', '30-03-2022',\n",
       "        '28-03-2022', '18-03-2022', '06-04-2022', '04-04-2022',\n",
       "        '24-03-2022', '09-03-2022', '02-03-2022', '13-03-2022',\n",
       "        '29-03-2022', '31-03-2022', '17-03-2022', '07-03-2022',\n",
       "        '15-03-2022', '16-02-2022', '03-03-2022', '18-02-2022',\n",
       "        '23-03-2022', '17-02-2022', '06-03-2022', '21-03-2022'],\n",
       "       dtype=object),\n",
       " array(['19:45', '8:30', '17:60', '13:30', '21:20', '19:15', '17:25',\n",
       "        '20:55', '21:55', '14:55', '17:30', '9:20', '19:50', '20:25',\n",
       "        '20:30', '20:40', '21:15', '20:20', '22:30', '8:15', '19:30',\n",
       "        '12:25', '18:35', '20:35', '23:20', '23:35', '22:35', '23:25',\n",
       "        '13:35', '21:35', '18:55', '14:15', '10:60', '9:45', '8:40',\n",
       "        '22:60', nan, '19:10', '10:55', '21:40', '18:60', '16:45', '11:30',\n",
       "        '15:10', '22:45', '22:10', '20:45', '22:50', '17:55', '9:25',\n",
       "        '20:15', '22:25', '22:40', '23:50', '15:25', '10:20', '10:40',\n",
       "        '15:55', '20:10', '12:10', '15:30', '10:35', '21:10', '20:50',\n",
       "        '12:35', '20:60', '23:40', '18:15', '18:20', '11:45', '12:45',\n",
       "        '23:30', '10:50', '21:25', '10:10', '17:50', '22:20', '12:40',\n",
       "        '23:55', '10:25', '8:45', '23:45', '19:55', '22:15', '23:10',\n",
       "        '9:15', '18:25', '18:45', '16:50', '23:60', '14:20', '10:15',\n",
       "        '8:50', '8:60', '17:45', '16:35', '21:45', '19:40', '14:50',\n",
       "        '18:10', '12:20', '12:50', '9:10', '12:30', '17:10', '17:20',\n",
       "        '18:30', '13:10', '19:35', '9:50', '14:60', '19:60', '10:30',\n",
       "        '9:40', '15:35', '16:55', '22:55', '15:60', '17:15', '21:30',\n",
       "        '18:40', '11:10', '13:50', '9:60', '21:50', '11:50', '21:60',\n",
       "        '8:25', '11:20', '11:55', '9:30', '8:20', '8:10', '11:40', '23:15',\n",
       "        '19:20', '12:15', '11:35', '11:15', '17:35', '17:40', '14:40',\n",
       "        '18:50', '11:25', '14:25', '11:60', '16:10', '19:25', '8:55',\n",
       "        '13:40', '16:60', '9:35', '8:35', '16:15', '13:20', '15:50',\n",
       "        '15:20', '16:20', '14:30', '15:45', '16:40', '12:60', '12:55',\n",
       "        '10:45', '13:25', '9:55', '15:15', '13:15', '13:60', '15:40',\n",
       "        '16:25', '14:10', '13:45', '13:55', '14:35', '16:30', '14:45'],\n",
       "       dtype=object),\n",
       " array(['19:50', '8:45', '18:10', '13:45', '21:30', '19:30', '17:30',\n",
       "        '21:05', '22:10', '15:05', '17:40', '9:30', '20:05', '20:35',\n",
       "        '15:10', '20:40', '20:50', '20:25', '22:45', '8:30', '19:45',\n",
       "        '12:30', '18:50', '23:30', '21:35', '23:45', '22:50', '22:40',\n",
       "        '23:35', '13:40', '21:45', '19:10', '14:25', '11:10', '9:55',\n",
       "        '8:55', '23:10', '18:35', '19:25', '10:60', '19:15', '16:55',\n",
       "        '11:40', '15:15', '22:55', '22:25', '20:55', '23:05', '17:60',\n",
       "        '22:60', '9:40', '20:20', '22:35', '21:60', '23:55', '15:40',\n",
       "        '10:30', '20:60', '10:50', '16:05', '20:15', '12:15', '15:45',\n",
       "        '22:15', '10:45', '15:30', '24:05', '21:25', '12:45', '21:15',\n",
       "        '18:20', '18:25', '11:50', '12:50', '10:55', '21:40', '10:20',\n",
       "        '17:55', '23:50', '12:55', '24:10', '10:40', '8:60', '20:45',\n",
       "        '19:60', '23:15', '22:20', '16:60', '24:15', '21:20', '14:35',\n",
       "        '10:25', '9:05', '16:50', '8:40', '23:40', '21:50', '19:55',\n",
       "        '14:60', '10:35', '9:25', '17:20', '17:25', '20:10', '23:60',\n",
       "        '17:35', '18:60', '19:05', '13:20', '17:50', '18:05', '19:20',\n",
       "        '10:05', '9:10', '21:55', '19:40', '9:50', '15:50', '18:30',\n",
       "        '18:15', '16:15', '11:15', '21:10', '22:30', '15:20', '18:40',\n",
       "        '23:20', '11:25', '13:55', '18:45', '22:05', '11:55', '18:55',\n",
       "        '9:45', '17:15', '12:05', '11:60', '19:35', '8:25', '11:05',\n",
       "        '15:35', '12:40', '12:25', '8:20', '23:25', '16:10', '8:15',\n",
       "        '20:30', '12:60', '11:20', '8:50', '14:45', '17:45', '9:60',\n",
       "        '8:35', '12:10', '11:35', '14:30', '10:15', '17:05', '10:10',\n",
       "        '9:35', '11:30', '16:25', '9:15', '13:35', '15:55', '13:10',\n",
       "        '13:05', '11:45', '16:20', '16:30', '16:45', '9:20', '13:25',\n",
       "        '14:15', '14:05', '16:35', '16:40', '13:30', '14:40', '12:20',\n",
       "        '13:50', '17:10', '15:25', '14:20', '12:35', '13:60', '14:10',\n",
       "        '14:55', '13:15', '14:50', '15:60'], dtype=object),\n",
       " array(['Stormy', 'Sandstorms', 'Sunny', 'Cloudy', 'Fog', 'Windy', nan],\n",
       "       dtype=object),\n",
       " array(['Jam', 'Low', 'Medium', 'High', nan], dtype=object),\n",
       " array([2, 0, 1, 3], dtype=int64),\n",
       " array(['Snack', 'Drinks', 'Buffet', 'Meal'], dtype=object),\n",
       " array(['scooter', 'motorcycle', 'electric_scooter', 'bicycle'],\n",
       "       dtype=object),\n",
       " array([ 1.,  3.,  0., nan,  2.]),\n",
       " array(['No', 'Yes', nan], dtype=object),\n",
       " array(['Metropolitian', 'Urban', 'Semi-Urban', nan], dtype=object),\n",
       " array([33., 26., 21., 30., 40., 32., 34., 46., 23., 20., 41., 15., 36.,\n",
       "        39., 18., 38., 47., 12., 22., 25., 35., 10., 19., 11., 28., 52.,\n",
       "        16., 27., 49., 24., 17., 14., 37., 44., 42., 31., 13., 29., 50.,\n",
       "        43., 48., 54., 53., 45., 51.])]"
      ]
     },
     "execution_count": 83,
     "metadata": {},
     "output_type": "execute_result"
    }
   ],
   "source": [
    "df_unique"
   ]
  },
  {
   "cell_type": "code",
   "execution_count": null,
   "metadata": {},
   "outputs": [
    {
     "data": {
      "text/plain": [
       "array([34., 23., 38., 32., 22., 33., 35., 36., 21., 24., 29., 25., 31.,\n",
       "       37., 27., 26., 20., nan, 28., 39., 30., 15., 50.])"
      ]
     },
     "execution_count": 84,
     "metadata": {},
     "output_type": "execute_result"
    }
   ],
   "source": [
    "df['Delivery_person_Age'].unique()"
   ]
  },
  {
   "cell_type": "code",
   "execution_count": null,
   "metadata": {},
   "outputs": [
    {
     "data": {
      "text/plain": [
       "{15.0,\n",
       " 20.0,\n",
       " 21.0,\n",
       " 22.0,\n",
       " 23.0,\n",
       " 24.0,\n",
       " 25.0,\n",
       " 26.0,\n",
       " 27.0,\n",
       " 28.0,\n",
       " 29.0,\n",
       " 30.0,\n",
       " 31.0,\n",
       " 32.0,\n",
       " 33.0,\n",
       " 34.0,\n",
       " 35.0,\n",
       " 36.0,\n",
       " 37.0,\n",
       " 38.0,\n",
       " 39.0,\n",
       " 50.0,\n",
       " nan,\n",
       " nan,\n",
       " nan,\n",
       " nan,\n",
       " nan,\n",
       " nan,\n",
       " nan,\n",
       " nan,\n",
       " nan,\n",
       " nan,\n",
       " nan,\n",
       " nan,\n",
       " nan,\n",
       " nan,\n",
       " nan,\n",
       " nan,\n",
       " nan,\n",
       " nan,\n",
       " nan,\n",
       " nan,\n",
       " nan,\n",
       " nan,\n",
       " nan,\n",
       " nan,\n",
       " nan,\n",
       " nan,\n",
       " nan,\n",
       " nan,\n",
       " nan,\n",
       " nan,\n",
       " nan,\n",
       " nan,\n",
       " nan,\n",
       " nan,\n",
       " nan,\n",
       " nan,\n",
       " nan,\n",
       " nan,\n",
       " nan,\n",
       " nan,\n",
       " nan,\n",
       " nan,\n",
       " nan,\n",
       " nan,\n",
       " nan,\n",
       " nan,\n",
       " nan,\n",
       " nan,\n",
       " nan,\n",
       " nan,\n",
       " nan,\n",
       " nan,\n",
       " nan,\n",
       " nan,\n",
       " nan,\n",
       " nan,\n",
       " nan,\n",
       " nan,\n",
       " nan,\n",
       " nan,\n",
       " nan,\n",
       " nan,\n",
       " nan,\n",
       " nan,\n",
       " nan,\n",
       " nan,\n",
       " nan,\n",
       " nan,\n",
       " nan,\n",
       " nan,\n",
       " nan,\n",
       " nan,\n",
       " nan,\n",
       " nan,\n",
       " nan,\n",
       " nan,\n",
       " nan,\n",
       " nan,\n",
       " nan,\n",
       " nan,\n",
       " nan,\n",
       " nan,\n",
       " nan,\n",
       " nan,\n",
       " nan,\n",
       " nan,\n",
       " nan,\n",
       " nan,\n",
       " nan,\n",
       " nan,\n",
       " nan,\n",
       " nan,\n",
       " nan,\n",
       " nan,\n",
       " nan,\n",
       " nan,\n",
       " nan,\n",
       " nan,\n",
       " nan,\n",
       " nan,\n",
       " nan,\n",
       " nan,\n",
       " nan,\n",
       " nan,\n",
       " nan,\n",
       " nan,\n",
       " nan,\n",
       " nan,\n",
       " nan,\n",
       " nan,\n",
       " nan,\n",
       " nan,\n",
       " nan,\n",
       " nan,\n",
       " nan,\n",
       " nan,\n",
       " nan,\n",
       " nan,\n",
       " nan,\n",
       " nan,\n",
       " nan,\n",
       " nan,\n",
       " nan,\n",
       " nan,\n",
       " nan,\n",
       " nan,\n",
       " nan,\n",
       " nan,\n",
       " nan,\n",
       " nan,\n",
       " nan,\n",
       " nan,\n",
       " nan,\n",
       " nan,\n",
       " nan,\n",
       " nan,\n",
       " nan,\n",
       " nan,\n",
       " nan,\n",
       " nan,\n",
       " nan,\n",
       " nan,\n",
       " nan,\n",
       " nan,\n",
       " nan,\n",
       " nan,\n",
       " nan,\n",
       " nan,\n",
       " nan,\n",
       " nan,\n",
       " nan,\n",
       " nan,\n",
       " nan,\n",
       " nan,\n",
       " nan,\n",
       " nan,\n",
       " nan,\n",
       " nan,\n",
       " nan,\n",
       " nan,\n",
       " nan,\n",
       " nan,\n",
       " nan,\n",
       " nan,\n",
       " nan,\n",
       " nan,\n",
       " nan,\n",
       " nan,\n",
       " nan,\n",
       " nan,\n",
       " nan,\n",
       " nan,\n",
       " nan,\n",
       " nan,\n",
       " nan,\n",
       " nan,\n",
       " nan,\n",
       " nan,\n",
       " nan,\n",
       " nan,\n",
       " nan,\n",
       " nan,\n",
       " nan,\n",
       " nan,\n",
       " nan,\n",
       " nan,\n",
       " nan,\n",
       " nan,\n",
       " nan,\n",
       " nan,\n",
       " nan,\n",
       " nan,\n",
       " nan,\n",
       " nan,\n",
       " nan,\n",
       " nan,\n",
       " nan,\n",
       " nan,\n",
       " nan,\n",
       " nan,\n",
       " nan,\n",
       " nan,\n",
       " nan,\n",
       " nan,\n",
       " nan,\n",
       " nan,\n",
       " nan,\n",
       " nan,\n",
       " nan,\n",
       " nan,\n",
       " nan,\n",
       " nan,\n",
       " nan,\n",
       " nan,\n",
       " nan,\n",
       " nan,\n",
       " nan,\n",
       " nan,\n",
       " nan,\n",
       " nan,\n",
       " nan,\n",
       " nan,\n",
       " nan,\n",
       " nan,\n",
       " nan,\n",
       " nan,\n",
       " nan,\n",
       " nan,\n",
       " nan,\n",
       " nan,\n",
       " nan,\n",
       " nan,\n",
       " nan,\n",
       " nan,\n",
       " nan,\n",
       " nan,\n",
       " nan,\n",
       " nan,\n",
       " nan,\n",
       " nan,\n",
       " nan,\n",
       " nan,\n",
       " nan,\n",
       " nan,\n",
       " nan,\n",
       " nan,\n",
       " nan,\n",
       " nan,\n",
       " nan,\n",
       " nan,\n",
       " nan,\n",
       " nan,\n",
       " nan,\n",
       " nan,\n",
       " nan,\n",
       " nan,\n",
       " nan,\n",
       " nan,\n",
       " nan,\n",
       " nan,\n",
       " nan,\n",
       " nan,\n",
       " nan,\n",
       " nan,\n",
       " nan,\n",
       " nan,\n",
       " nan,\n",
       " nan,\n",
       " nan,\n",
       " nan,\n",
       " nan,\n",
       " nan,\n",
       " nan,\n",
       " nan,\n",
       " nan,\n",
       " nan,\n",
       " nan,\n",
       " nan,\n",
       " nan,\n",
       " nan,\n",
       " nan,\n",
       " nan,\n",
       " nan,\n",
       " nan,\n",
       " nan,\n",
       " nan,\n",
       " nan,\n",
       " nan,\n",
       " nan,\n",
       " nan,\n",
       " nan,\n",
       " nan,\n",
       " nan,\n",
       " nan,\n",
       " nan,\n",
       " nan,\n",
       " nan,\n",
       " nan,\n",
       " nan,\n",
       " nan,\n",
       " nan,\n",
       " nan,\n",
       " nan,\n",
       " nan,\n",
       " nan,\n",
       " nan,\n",
       " nan,\n",
       " nan,\n",
       " nan,\n",
       " nan,\n",
       " nan,\n",
       " nan,\n",
       " nan,\n",
       " nan,\n",
       " nan,\n",
       " nan,\n",
       " nan,\n",
       " nan,\n",
       " nan,\n",
       " nan,\n",
       " nan,\n",
       " nan,\n",
       " nan,\n",
       " nan,\n",
       " nan,\n",
       " nan,\n",
       " nan,\n",
       " nan,\n",
       " nan,\n",
       " nan,\n",
       " nan,\n",
       " nan,\n",
       " nan,\n",
       " nan,\n",
       " nan,\n",
       " nan,\n",
       " nan,\n",
       " nan,\n",
       " nan,\n",
       " nan,\n",
       " nan,\n",
       " nan,\n",
       " nan,\n",
       " nan,\n",
       " nan,\n",
       " nan,\n",
       " nan,\n",
       " nan,\n",
       " nan,\n",
       " nan,\n",
       " nan,\n",
       " nan,\n",
       " nan,\n",
       " nan,\n",
       " nan,\n",
       " nan,\n",
       " nan,\n",
       " nan,\n",
       " nan,\n",
       " nan,\n",
       " nan,\n",
       " nan,\n",
       " nan,\n",
       " nan,\n",
       " nan,\n",
       " nan,\n",
       " nan,\n",
       " nan,\n",
       " nan,\n",
       " nan,\n",
       " nan,\n",
       " nan,\n",
       " nan,\n",
       " nan,\n",
       " nan,\n",
       " nan,\n",
       " nan,\n",
       " nan,\n",
       " nan,\n",
       " nan,\n",
       " nan,\n",
       " nan,\n",
       " nan,\n",
       " nan,\n",
       " nan,\n",
       " nan,\n",
       " nan,\n",
       " nan,\n",
       " nan,\n",
       " nan,\n",
       " nan,\n",
       " nan,\n",
       " nan,\n",
       " nan,\n",
       " nan,\n",
       " nan,\n",
       " nan,\n",
       " nan,\n",
       " nan,\n",
       " nan,\n",
       " nan,\n",
       " nan,\n",
       " nan,\n",
       " nan,\n",
       " nan,\n",
       " nan,\n",
       " nan,\n",
       " nan,\n",
       " nan,\n",
       " nan,\n",
       " nan,\n",
       " nan,\n",
       " nan,\n",
       " nan,\n",
       " nan,\n",
       " nan,\n",
       " nan,\n",
       " nan,\n",
       " nan,\n",
       " nan,\n",
       " nan,\n",
       " nan,\n",
       " nan,\n",
       " nan,\n",
       " nan,\n",
       " nan,\n",
       " nan,\n",
       " nan,\n",
       " nan,\n",
       " nan,\n",
       " nan,\n",
       " nan,\n",
       " nan,\n",
       " nan,\n",
       " nan,\n",
       " nan,\n",
       " nan,\n",
       " nan,\n",
       " nan,\n",
       " nan,\n",
       " nan,\n",
       " nan,\n",
       " nan,\n",
       " nan,\n",
       " nan,\n",
       " nan,\n",
       " nan,\n",
       " nan,\n",
       " nan,\n",
       " nan,\n",
       " nan,\n",
       " nan,\n",
       " nan,\n",
       " nan,\n",
       " nan,\n",
       " nan,\n",
       " nan,\n",
       " nan,\n",
       " nan,\n",
       " nan,\n",
       " nan,\n",
       " nan,\n",
       " nan,\n",
       " nan,\n",
       " nan,\n",
       " nan,\n",
       " nan,\n",
       " nan,\n",
       " nan,\n",
       " nan,\n",
       " nan,\n",
       " nan,\n",
       " nan,\n",
       " nan,\n",
       " nan,\n",
       " nan,\n",
       " nan,\n",
       " nan,\n",
       " nan,\n",
       " nan,\n",
       " nan,\n",
       " nan,\n",
       " nan,\n",
       " nan,\n",
       " nan,\n",
       " nan,\n",
       " nan,\n",
       " nan,\n",
       " nan,\n",
       " nan,\n",
       " nan,\n",
       " nan,\n",
       " nan,\n",
       " nan,\n",
       " nan,\n",
       " nan,\n",
       " nan,\n",
       " nan,\n",
       " nan,\n",
       " nan,\n",
       " nan,\n",
       " nan,\n",
       " nan,\n",
       " nan,\n",
       " nan,\n",
       " nan,\n",
       " nan,\n",
       " nan,\n",
       " nan,\n",
       " nan,\n",
       " nan,\n",
       " nan,\n",
       " nan,\n",
       " nan,\n",
       " nan,\n",
       " nan,\n",
       " nan,\n",
       " nan,\n",
       " nan,\n",
       " nan,\n",
       " nan,\n",
       " nan,\n",
       " nan,\n",
       " nan,\n",
       " nan,\n",
       " nan,\n",
       " nan,\n",
       " nan,\n",
       " nan,\n",
       " nan,\n",
       " nan,\n",
       " nan,\n",
       " nan,\n",
       " nan,\n",
       " nan,\n",
       " nan,\n",
       " nan,\n",
       " nan,\n",
       " nan,\n",
       " nan,\n",
       " nan,\n",
       " nan,\n",
       " nan,\n",
       " nan,\n",
       " nan,\n",
       " nan,\n",
       " nan,\n",
       " nan,\n",
       " nan,\n",
       " nan,\n",
       " nan,\n",
       " nan,\n",
       " nan,\n",
       " nan,\n",
       " nan,\n",
       " nan,\n",
       " nan,\n",
       " nan,\n",
       " nan,\n",
       " nan,\n",
       " nan,\n",
       " nan,\n",
       " nan,\n",
       " nan,\n",
       " nan,\n",
       " nan,\n",
       " nan,\n",
       " nan,\n",
       " nan,\n",
       " nan,\n",
       " nan,\n",
       " nan,\n",
       " nan,\n",
       " nan,\n",
       " nan,\n",
       " nan,\n",
       " nan,\n",
       " nan,\n",
       " nan,\n",
       " nan,\n",
       " nan,\n",
       " nan,\n",
       " nan,\n",
       " nan,\n",
       " nan,\n",
       " nan,\n",
       " nan,\n",
       " nan,\n",
       " nan,\n",
       " nan,\n",
       " nan,\n",
       " nan,\n",
       " nan,\n",
       " nan,\n",
       " nan,\n",
       " nan,\n",
       " nan,\n",
       " nan,\n",
       " nan,\n",
       " nan,\n",
       " nan,\n",
       " nan,\n",
       " nan,\n",
       " nan,\n",
       " nan,\n",
       " nan,\n",
       " nan,\n",
       " nan,\n",
       " nan,\n",
       " nan,\n",
       " nan,\n",
       " nan,\n",
       " nan,\n",
       " nan,\n",
       " nan,\n",
       " nan,\n",
       " nan,\n",
       " nan,\n",
       " nan,\n",
       " nan,\n",
       " nan,\n",
       " nan,\n",
       " nan,\n",
       " nan,\n",
       " nan,\n",
       " nan,\n",
       " nan,\n",
       " nan,\n",
       " nan,\n",
       " nan,\n",
       " nan,\n",
       " nan,\n",
       " nan,\n",
       " nan,\n",
       " nan,\n",
       " nan,\n",
       " nan,\n",
       " nan,\n",
       " nan,\n",
       " nan,\n",
       " nan,\n",
       " nan,\n",
       " nan,\n",
       " nan,\n",
       " nan,\n",
       " nan,\n",
       " nan,\n",
       " nan,\n",
       " nan,\n",
       " nan,\n",
       " nan,\n",
       " nan,\n",
       " nan,\n",
       " nan,\n",
       " nan,\n",
       " nan,\n",
       " nan,\n",
       " nan,\n",
       " nan,\n",
       " nan,\n",
       " nan,\n",
       " nan,\n",
       " nan,\n",
       " nan,\n",
       " nan,\n",
       " nan,\n",
       " nan,\n",
       " nan,\n",
       " nan,\n",
       " nan,\n",
       " nan,\n",
       " nan,\n",
       " nan,\n",
       " nan,\n",
       " nan,\n",
       " nan,\n",
       " nan,\n",
       " nan,\n",
       " nan,\n",
       " nan,\n",
       " nan,\n",
       " nan,\n",
       " nan,\n",
       " nan,\n",
       " nan,\n",
       " nan,\n",
       " nan,\n",
       " nan,\n",
       " nan,\n",
       " nan,\n",
       " nan,\n",
       " nan,\n",
       " nan,\n",
       " nan,\n",
       " nan,\n",
       " nan,\n",
       " nan,\n",
       " nan,\n",
       " nan,\n",
       " nan,\n",
       " nan,\n",
       " nan,\n",
       " nan,\n",
       " nan,\n",
       " nan,\n",
       " nan,\n",
       " nan,\n",
       " nan,\n",
       " nan,\n",
       " nan,\n",
       " nan,\n",
       " nan,\n",
       " nan,\n",
       " nan,\n",
       " nan,\n",
       " nan,\n",
       " nan,\n",
       " nan,\n",
       " nan,\n",
       " nan,\n",
       " nan,\n",
       " nan,\n",
       " nan,\n",
       " nan,\n",
       " nan,\n",
       " nan,\n",
       " nan,\n",
       " nan,\n",
       " nan,\n",
       " nan,\n",
       " nan,\n",
       " nan,\n",
       " nan,\n",
       " nan,\n",
       " nan,\n",
       " nan,\n",
       " nan,\n",
       " nan,\n",
       " nan,\n",
       " nan,\n",
       " nan,\n",
       " nan,\n",
       " nan,\n",
       " nan,\n",
       " nan,\n",
       " nan,\n",
       " nan,\n",
       " nan,\n",
       " nan,\n",
       " nan,\n",
       " nan,\n",
       " nan,\n",
       " nan,\n",
       " nan,\n",
       " nan,\n",
       " nan,\n",
       " nan,\n",
       " nan,\n",
       " nan,\n",
       " nan,\n",
       " nan,\n",
       " nan,\n",
       " nan,\n",
       " nan,\n",
       " nan,\n",
       " nan,\n",
       " nan,\n",
       " nan,\n",
       " nan,\n",
       " nan,\n",
       " nan,\n",
       " nan,\n",
       " nan,\n",
       " nan,\n",
       " nan,\n",
       " nan,\n",
       " nan,\n",
       " nan,\n",
       " nan,\n",
       " nan,\n",
       " nan,\n",
       " nan,\n",
       " nan,\n",
       " nan,\n",
       " nan,\n",
       " nan,\n",
       " nan,\n",
       " nan,\n",
       " nan,\n",
       " nan,\n",
       " nan,\n",
       " nan,\n",
       " nan,\n",
       " nan,\n",
       " nan,\n",
       " nan,\n",
       " nan,\n",
       " nan,\n",
       " nan,\n",
       " nan,\n",
       " nan,\n",
       " nan,\n",
       " nan,\n",
       " nan,\n",
       " nan,\n",
       " nan,\n",
       " nan,\n",
       " nan,\n",
       " nan,\n",
       " nan,\n",
       " nan,\n",
       " nan,\n",
       " nan,\n",
       " nan,\n",
       " nan,\n",
       " nan,\n",
       " nan,\n",
       " nan,\n",
       " nan,\n",
       " nan,\n",
       " nan,\n",
       " nan,\n",
       " nan,\n",
       " nan,\n",
       " nan,\n",
       " nan,\n",
       " nan,\n",
       " nan,\n",
       " nan,\n",
       " nan,\n",
       " nan,\n",
       " nan,\n",
       " nan,\n",
       " nan,\n",
       " nan,\n",
       " nan,\n",
       " nan,\n",
       " nan,\n",
       " nan,\n",
       " nan,\n",
       " nan,\n",
       " nan,\n",
       " nan,\n",
       " nan,\n",
       " nan,\n",
       " nan,\n",
       " nan,\n",
       " nan,\n",
       " nan,\n",
       " nan,\n",
       " nan,\n",
       " nan,\n",
       " nan,\n",
       " nan,\n",
       " nan,\n",
       " nan,\n",
       " nan,\n",
       " nan,\n",
       " nan,\n",
       " nan,\n",
       " nan,\n",
       " nan,\n",
       " nan,\n",
       " nan,\n",
       " nan,\n",
       " nan,\n",
       " nan,\n",
       " nan,\n",
       " nan,\n",
       " nan,\n",
       " nan,\n",
       " nan,\n",
       " nan,\n",
       " nan,\n",
       " nan,\n",
       " nan,\n",
       " nan,\n",
       " nan,\n",
       " nan,\n",
       " nan,\n",
       " nan,\n",
       " nan,\n",
       " nan,\n",
       " nan,\n",
       " nan,\n",
       " nan,\n",
       " nan,\n",
       " nan,\n",
       " nan,\n",
       " nan,\n",
       " nan,\n",
       " nan,\n",
       " nan,\n",
       " nan,\n",
       " nan,\n",
       " nan,\n",
       " nan,\n",
       " nan,\n",
       " nan,\n",
       " nan,\n",
       " nan,\n",
       " nan,\n",
       " nan,\n",
       " nan,\n",
       " nan,\n",
       " nan,\n",
       " nan,\n",
       " nan,\n",
       " nan,\n",
       " nan,\n",
       " nan,\n",
       " nan,\n",
       " nan,\n",
       " nan,\n",
       " nan,\n",
       " nan,\n",
       " nan,\n",
       " nan,\n",
       " nan,\n",
       " nan,\n",
       " nan,\n",
       " nan,\n",
       " nan,\n",
       " nan,\n",
       " nan,\n",
       " nan,\n",
       " nan,\n",
       " nan,\n",
       " nan,\n",
       " nan,\n",
       " nan,\n",
       " nan,\n",
       " nan,\n",
       " nan,\n",
       " nan,\n",
       " nan,\n",
       " nan,\n",
       " nan,\n",
       " nan,\n",
       " nan,\n",
       " nan,\n",
       " nan,\n",
       " nan,\n",
       " nan,\n",
       " nan,\n",
       " nan,\n",
       " nan,\n",
       " nan,\n",
       " nan,\n",
       " nan,\n",
       " nan,\n",
       " nan,\n",
       " nan,\n",
       " nan,\n",
       " nan,\n",
       " nan,\n",
       " nan,\n",
       " nan,\n",
       " nan,\n",
       " nan,\n",
       " nan,\n",
       " nan,\n",
       " nan,\n",
       " nan,\n",
       " nan,\n",
       " nan,\n",
       " nan,\n",
       " nan,\n",
       " nan,\n",
       " nan,\n",
       " nan,\n",
       " nan,\n",
       " nan,\n",
       " nan,\n",
       " nan,\n",
       " nan,\n",
       " nan,\n",
       " nan,\n",
       " ...}"
      ]
     },
     "execution_count": 85,
     "metadata": {},
     "output_type": "execute_result"
    }
   ],
   "source": [
    "set(df['Delivery_person_Age'])"
   ]
  },
  {
   "cell_type": "code",
   "execution_count": null,
   "metadata": {},
   "outputs": [],
   "source": [
    "# list_set_ID = set(df['ID'])\n",
    "# list_set_Delivery_person_ID = set(df['Delivery_person_ID']) \n",
    "# list_set_Delivery_person_Age = set(df['Delivery_person_Age'])\n",
    "# list_set_Delivery_person_Ratings = set(df['Delivery_person_Ratings'])\n",
    "# list_set_Restaurant_latitude = set(df['Restaurant_latitude'])\n",
    "# list_set_Restaurant_longitude = set(df['Restaurant_longitude']) \n",
    "# list_set_Delivery_location_latitude = set(df['Delivery_location_latitude'])\n",
    "# list_set_Delivery_location_longitude = set(df['Delivery_location_longitude'])\n",
    "# list_set_Order_Date = set(df['Order_Date']) \n",
    "# list_set_Time_Orderd = set(df['Time_Orderd'])\n",
    "# list_set_Time_Order_picked = set(df['Time_Order_picked'])\n",
    "# list_set_Weather_conditions = set(df['Weather_conditions']) \n",
    "# list_set_Road_traffic_density = set(df['Road_traffic_density'])\n",
    "# list_set_Vehicle_condition = set(df['Vehicle_condition'])\n",
    "# list_set_Type_of_order = set(df['Type_of_order'])\n",
    "# list_set_Type_of_vehicle = set(df['Type_of_vehicle'])\n",
    "# list_set_multiple_deliveries = set(df['multiple_deliveries']) \n",
    "# list_set_Festival = set(df['Festival'])\n",
    "# list_set_City = set(df['City'])\n",
    "# list_set_Time_taken = set(df['Time_taken_(min)']) "
   ]
  }
 ],
 "metadata": {
  "kernelspec": {
   "display_name": "Python 3.10.4 ('datascientist')",
   "language": "python",
   "name": "python3"
  },
  "language_info": {
   "codemirror_mode": {
    "name": "ipython",
    "version": 3
   },
   "file_extension": ".py",
   "mimetype": "text/x-python",
   "name": "python",
   "nbconvert_exporter": "python",
   "pygments_lexer": "ipython3",
   "version": "3.10.6"
  },
  "orig_nbformat": 4,
  "vscode": {
   "interpreter": {
    "hash": "358d40ec2f2cc68ab5357082d6615061de9f031093914720f986ca5de29e1ecf"
   }
  }
 },
 "nbformat": 4,
 "nbformat_minor": 2
}
