{
 "cells": [
  {
   "cell_type": "code",
   "execution_count": 1,
   "metadata": {},
   "outputs": [],
   "source": [
    "def get_lines(filename):\n",
    "  with open(filename, \"r\") as f:\n",
    "    return f.readlines()"
   ]
  },
  {
   "cell_type": "code",
   "execution_count": 3,
   "metadata": {},
   "outputs": [
    {
     "data": {
      "text/plain": [
       "['ID                                     0xb379\\n',\n",
       " 'Delivery_person_ID             BANGRES18DEL02\\n',\n",
       " 'Delivery_person_Age                 34.000000\\n',\n",
       " 'Delivery_person_Ratings              4.500000\\n',\n",
       " 'Restaurant_latitude                 12.913041\\n',\n",
       " 'Restaurant_longitude                77.683237\\n',\n",
       " 'Delivery_location_latitude          13.043041\\n',\n",
       " 'Delivery_location_longitude         77.813237\\n',\n",
       " 'Order_Date                         25-03-2022\\n',\n",
       " 'Time_Orderd                             19:45\\n',\n",
       " 'Time_Order_picked                       19:50\\n',\n",
       " 'Weather conditions                     Stormy\\n',\n",
       " 'Road_traffic_density                      Jam\\n',\n",
       " 'Vehicle_condition                           2\\n',\n",
       " 'Type_of_order                           Snack\\n',\n",
       " 'Type_of_vehicle                       scooter\\n',\n",
       " 'multiple_deliveries                  1.000000\\n',\n",
       " 'Festival                                   No\\n',\n",
       " 'City                            Metropolitian\\n',\n",
       " 'Time_taken (min)                    33.000000\\n',\n",
       " 'Name: 1, dtype: object']"
      ]
     },
     "execution_count": 3,
     "metadata": {},
     "output_type": "execute_result"
    }
   ],
   "source": [
    "import os\n",
    "train_lines = get_lines(\"D:/Github/Predict_the_time_of_arrival_for_the_delivery_persons/dataset/data/1.txt\")\n",
    "train_lines"
   ]
  }
 ],
 "metadata": {
  "kernelspec": {
   "display_name": "Python 3.10.4 ('CS231')",
   "language": "python",
   "name": "python3"
  },
  "language_info": {
   "codemirror_mode": {
    "name": "ipython",
    "version": 3
   },
   "file_extension": ".py",
   "mimetype": "text/x-python",
   "name": "python",
   "nbconvert_exporter": "python",
   "pygments_lexer": "ipython3",
   "version": "3.10.4"
  },
  "orig_nbformat": 4,
  "vscode": {
   "interpreter": {
    "hash": "1166d997b963c827310d30c081d92ea234b309589e178b18be2cf21badc6f33b"
   }
  }
 },
 "nbformat": 4,
 "nbformat_minor": 2
}
