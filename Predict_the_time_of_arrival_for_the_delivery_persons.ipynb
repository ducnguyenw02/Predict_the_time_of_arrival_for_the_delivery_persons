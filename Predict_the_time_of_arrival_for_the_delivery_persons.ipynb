{
 "cells": [
  {
   "cell_type": "code",
   "execution_count": 3,
   "metadata": {},
   "outputs": [],
   "source": [
    "def get_lines(filename):\n",
    "  with open(filename, \"r\") as f:\n",
    "    return f.readlines()"
   ]
  },
  {
   "cell_type": "code",
   "execution_count": 6,
   "metadata": {},
   "outputs": [
    {
     "data": {
      "text/plain": [
       "['ID                                     0x4607\\n',\n",
       " 'Delivery_person_ID             INDORES13DEL02\\n',\n",
       " 'Delivery_person_Age                 37.000000\\n',\n",
       " 'Delivery_person_Ratings              4.900000\\n',\n",
       " 'Restaurant_latitude                 22.745049\\n',\n",
       " 'Restaurant_longitude                75.892471\\n',\n",
       " 'Delivery_location_latitude          22.765049\\n',\n",
       " 'Delivery_location_longitude         75.912471\\n',\n",
       " 'Order_Date                         19-03-2022\\n',\n",
       " 'Time_Orderd                             11:30\\n',\n",
       " 'Time_Order_picked                       11:45\\n',\n",
       " 'Weather conditions                      Sunny\\n',\n",
       " 'Road_traffic_density                     High\\n',\n",
       " 'Vehicle_condition                           2\\n',\n",
       " 'Type_of_order                           Snack\\n',\n",
       " 'Type_of_vehicle                    motorcycle\\n',\n",
       " 'multiple_deliveries                  0.000000\\n',\n",
       " 'Festival                                   No\\n',\n",
       " 'City                                    Urban\\n',\n",
       " 'Time_taken (min)                    24.000000\\n',\n",
       " 'Name: 0, dtype: object']"
      ]
     },
     "execution_count": 6,
     "metadata": {},
     "output_type": "execute_result"
    }
   ],
   "source": [
    "import os\n",
    "train_lines = get_lines(\"D:/Github/Predict_the_time_of_arrival_for_the_delivery_persons/dataset/data/0.txt\")\n",
    "train_lines"
   ]
  },
  {
   "cell_type": "code",
   "execution_count": null,
   "metadata": {},
   "outputs": [],
   "source": []
  }
 ],
 "metadata": {
  "kernelspec": {
   "display_name": "Python 3.10.4 ('CS231')",
   "language": "python",
   "name": "python3"
  },
  "language_info": {
   "codemirror_mode": {
    "name": "ipython",
    "version": 3
   },
   "file_extension": ".py",
   "mimetype": "text/x-python",
   "name": "python",
   "nbconvert_exporter": "python",
   "pygments_lexer": "ipython3",
   "version": "3.10.4"
  },
  "orig_nbformat": 4,
  "vscode": {
   "interpreter": {
    "hash": "1166d997b963c827310d30c081d92ea234b309589e178b18be2cf21badc6f33b"
   }
  }
 },
 "nbformat": 4,
 "nbformat_minor": 2
}
