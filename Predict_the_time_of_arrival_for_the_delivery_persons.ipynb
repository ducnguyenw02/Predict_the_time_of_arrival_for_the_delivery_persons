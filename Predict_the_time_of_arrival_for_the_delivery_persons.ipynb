{
 "cells": [
  {
   "cell_type": "code",
   "execution_count": 1,
   "metadata": {},
   "outputs": [],
   "source": [
    "import os\n",
    "path = \"D:/Github/Predict_the_time_of_arrival_for_the_delivery_persons/dataset/data\""
   ]
  },
  {
   "cell_type": "code",
   "execution_count": 3,
   "metadata": {},
   "outputs": [
    {
     "name": "stdout",
     "output_type": "stream",
     "text": [
      "ID                                     0xb379\n",
      "Delivery_person_ID             BANGRES18DEL02\n",
      "Delivery_person_Age                 34.000000\n",
      "Delivery_person_Ratings              4.500000\n",
      "Restaurant_latitude                 12.913041\n",
      "Restaurant_longitude                77.683237\n",
      "Delivery_location_latitude          13.043041\n",
      "Delivery_location_longitude         77.813237\n",
      "Order_Date                         25-03-2022\n",
      "Time_Orderd                             19:45\n",
      "Time_Order_picked                       19:50\n",
      "Weather conditions                     Stormy\n",
      "Road_traffic_density                      Jam\n",
      "Vehicle_condition                           2\n",
      "Type_of_order                           Snack\n",
      "Type_of_vehicle                       scooter\n",
      "multiple_deliveries                  1.000000\n",
      "Festival                                   No\n",
      "City                            Metropolitian\n",
      "Time_taken (min)                    33.000000\n",
      "Name: 1, dtype: object\n",
      "ID                                     0x5d6d\n",
      "Delivery_person_ID             BANGRES19DEL01\n",
      "Delivery_person_Age                 23.000000\n",
      "Delivery_person_Ratings              4.400000\n",
      "Restaurant_latitude                 12.914264\n",
      "Restaurant_longitude                77.678400\n",
      "Delivery_location_latitude          12.924264\n",
      "Delivery_location_longitude         77.688400\n",
      "Order_Date                         19-03-2022\n",
      "Time_Orderd                              8:30\n",
      "Time_Order_picked                        8:45\n",
      "Weather conditions                 Sandstorms\n",
      "Road_traffic_density                      Low\n",
      "Vehicle_condition                           0\n",
      "Type_of_order                          Drinks\n",
      "Type_of_vehicle                    motorcycle\n",
      "multiple_deliveries                  1.000000\n",
      "Festival                                   No\n",
      "City                                    Urban\n",
      "Time_taken (min)                    26.000000\n",
      "Name: 10, dtype: object\n",
      "ID                                      0x7a6a\n",
      "Delivery_person_ID             COIMBRES13DEL02\n",
      "Delivery_person_Age                  38.000000\n",
      "Delivery_person_Ratings               4.700000\n",
      "Restaurant_latitude                  11.003669\n",
      "Restaurant_longitude                 76.976494\n",
      "Delivery_location_latitude           11.053669\n",
      "Delivery_location_longitude          77.026494\n",
      "Order_Date                          05-04-2022\n",
      "Time_Orderd                              17:60\n",
      "Time_Order_picked                        18:10\n",
      "Weather conditions                       Sunny\n",
      "Road_traffic_density                    Medium\n",
      "Vehicle_condition                            0\n",
      "Type_of_order                           Buffet\n",
      "Type_of_vehicle                     motorcycle\n",
      "multiple_deliveries                   1.000000\n",
      "Festival                                    No\n",
      "City                             Metropolitian\n",
      "Time_taken (min)                     21.000000\n",
      "Name: 100, dtype: object\n"
     ]
    }
   ],
   "source": [
    "def read_text_file(file_path):\n",
    "    with open(file_path, 'r') as f:\n",
    "        print(f.read())\n",
    "\n",
    "os.chdir(path)\n",
    "\n",
    "i = 0\n",
    "for file in os.listdir():\n",
    "    if file.endswith(\".txt\"):\n",
    "        file_path = f\"{path}\\{file}\"\n",
    "        i = i+1\n",
    "        read_text_file(file_path)\n",
    "    if i == 3:\n",
    "        break "
   ]
  }
 ],
 "metadata": {
  "kernelspec": {
   "display_name": "Python 3.10.4 ('datascientist')",
   "language": "python",
   "name": "python3"
  },
  "language_info": {
   "codemirror_mode": {
    "name": "ipython",
    "version": 3
   },
   "file_extension": ".py",
   "mimetype": "text/x-python",
   "name": "python",
   "nbconvert_exporter": "python",
   "pygments_lexer": "ipython3",
   "version": "3.10.4"
  },
  "orig_nbformat": 4,
  "vscode": {
   "interpreter": {
    "hash": "358d40ec2f2cc68ab5357082d6615061de9f031093914720f986ca5de29e1ecf"
   }
  }
 },
 "nbformat": 4,
 "nbformat_minor": 2
}
