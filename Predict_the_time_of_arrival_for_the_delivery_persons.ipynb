{
 "cells": [
  {
   "cell_type": "code",
   "execution_count": 1,
   "metadata": {},
   "outputs": [],
   "source": [
    "def get_lines(filename):\n",
    "  with open(filename, \"r\") as f:\n",
    "    return f.readlines()"
   ]
  },
  {
   "cell_type": "code",
   "execution_count": 2,
   "metadata": {},
   "outputs": [
    {
     "ename": "NameError",
     "evalue": "name 'get_lines' is not defined",
     "output_type": "error",
     "traceback": [
      "\u001b[1;31m---------------------------------------------------------------------------\u001b[0m",
      "\u001b[1;31mNameError\u001b[0m                                 Traceback (most recent call last)",
      "\u001b[1;32md:\\Github\\Predict_the_time_of_arrival_for_the_delivery_persons\\Predict_the_time_of_arrival_for_the_delivery_persons.ipynb Cell 2\u001b[0m in \u001b[0;36m<cell line: 2>\u001b[1;34m()\u001b[0m\n\u001b[0;32m      <a href='vscode-notebook-cell:/d%3A/Github/Predict_the_time_of_arrival_for_the_delivery_persons/Predict_the_time_of_arrival_for_the_delivery_persons.ipynb#W1sZmlsZQ%3D%3D?line=0'>1</a>\u001b[0m \u001b[39mimport\u001b[39;00m \u001b[39mos\u001b[39;00m\n\u001b[1;32m----> <a href='vscode-notebook-cell:/d%3A/Github/Predict_the_time_of_arrival_for_the_delivery_persons/Predict_the_time_of_arrival_for_the_delivery_persons.ipynb#W1sZmlsZQ%3D%3D?line=1'>2</a>\u001b[0m train_lines \u001b[39m=\u001b[39m get_lines(\u001b[39m\"\u001b[39m\u001b[39mD:/Github/Predict_the_time_of_arrival_for_the_delivery_persons/dataset/data/*.txt\u001b[39m\u001b[39m\"\u001b[39m)\n\u001b[0;32m      <a href='vscode-notebook-cell:/d%3A/Github/Predict_the_time_of_arrival_for_the_delivery_persons/Predict_the_time_of_arrival_for_the_delivery_persons.ipynb#W1sZmlsZQ%3D%3D?line=2'>3</a>\u001b[0m train_lines\n",
      "\u001b[1;31mNameError\u001b[0m: name 'get_lines' is not defined"
     ]
    }
   ],
   "source": [
    "import os\n",
    "train_lines = get_lines(\"D:/Github/Predict_the_time_of_arrival_for_the_delivery_persons/dataset/data/*.txt\")\n",
    "train_lines"
   ]
  },
  {
   "cell_type": "code",
   "execution_count": 4,
   "metadata": {},
   "outputs": [],
   "source": [
    "path = \"D:/Github/Predict_the_time_of_arrival_for_the_delivery_persons/dataset/data\""
   ]
  },
  {
   "cell_type": "code",
   "execution_count": 3,
   "metadata": {},
   "outputs": [],
   "source": [
    "def read_text_file(file_path):\n",
    "    with open(file_path, 'r') as f:\n",
    "        print(f.read())"
   ]
  },
  {
   "cell_type": "code",
   "execution_count": 7,
   "metadata": {},
   "outputs": [
    {
     "ename": "TypeError",
     "evalue": "listdir: path should be string, bytes, os.PathLike or None, not int",
     "output_type": "error",
     "traceback": [
      "\u001b[1;31m---------------------------------------------------------------------------\u001b[0m",
      "\u001b[1;31mTypeError\u001b[0m                                 Traceback (most recent call last)",
      "\u001b[1;32md:\\Github\\Predict_the_time_of_arrival_for_the_delivery_persons\\Predict_the_time_of_arrival_for_the_delivery_persons.ipynb Cell 5\u001b[0m in \u001b[0;36m<cell line: 7>\u001b[1;34m()\u001b[0m\n\u001b[0;32m      <a href='vscode-notebook-cell:/d%3A/Github/Predict_the_time_of_arrival_for_the_delivery_persons/Predict_the_time_of_arrival_for_the_delivery_persons.ipynb#W6sZmlsZQ%3D%3D?line=2'>3</a>\u001b[0m         \u001b[39mprint\u001b[39m(f\u001b[39m.\u001b[39mread())\n\u001b[0;32m      <a href='vscode-notebook-cell:/d%3A/Github/Predict_the_time_of_arrival_for_the_delivery_persons/Predict_the_time_of_arrival_for_the_delivery_persons.ipynb#W6sZmlsZQ%3D%3D?line=4'>5</a>\u001b[0m os\u001b[39m.\u001b[39mchdir(path)\n\u001b[1;32m----> <a href='vscode-notebook-cell:/d%3A/Github/Predict_the_time_of_arrival_for_the_delivery_persons/Predict_the_time_of_arrival_for_the_delivery_persons.ipynb#W6sZmlsZQ%3D%3D?line=6'>7</a>\u001b[0m \u001b[39mfor\u001b[39;00m file \u001b[39min\u001b[39;00m os\u001b[39m.\u001b[39;49mlistdir(\u001b[39m100\u001b[39;49m):\n\u001b[0;32m      <a href='vscode-notebook-cell:/d%3A/Github/Predict_the_time_of_arrival_for_the_delivery_persons/Predict_the_time_of_arrival_for_the_delivery_persons.ipynb#W6sZmlsZQ%3D%3D?line=7'>8</a>\u001b[0m     \u001b[39mif\u001b[39;00m file\u001b[39m.\u001b[39mendswith(\u001b[39m\"\u001b[39m\u001b[39m.txt\u001b[39m\u001b[39m\"\u001b[39m):\n\u001b[0;32m      <a href='vscode-notebook-cell:/d%3A/Github/Predict_the_time_of_arrival_for_the_delivery_persons/Predict_the_time_of_arrival_for_the_delivery_persons.ipynb#W6sZmlsZQ%3D%3D?line=8'>9</a>\u001b[0m         file_path \u001b[39m=\u001b[39m \u001b[39mf\u001b[39m\u001b[39m\"\u001b[39m\u001b[39m{\u001b[39;00mpath\u001b[39m}\u001b[39;00m\u001b[39m\\\u001b[39m\u001b[39m{\u001b[39;00mfile\u001b[39m}\u001b[39;00m\u001b[39m\"\u001b[39m\n",
      "\u001b[1;31mTypeError\u001b[0m: listdir: path should be string, bytes, os.PathLike or None, not int"
     ]
    }
   ],
   "source": [
    "def read_text_file(file_path):\n",
    "    with open(file_path, 'r') as f:\n",
    "        print(f.read())\n",
    "\n",
    "os.chdir(path)\n",
    "\n",
    "for file in os.listdir():\n",
    "    if file.endswith(\".txt\"):\n",
    "        file_path = f\"{path}\\{file}\"\n",
    "\n",
    "        read_text_file(file_path)"
   ]
  },
  {
   "cell_type": "code",
   "execution_count": null,
   "metadata": {},
   "outputs": [],
   "source": []
  }
 ],
 "metadata": {
  "kernelspec": {
   "display_name": "Python 3.10.4 ('CS231')",
   "language": "python",
   "name": "python3"
  },
  "language_info": {
   "codemirror_mode": {
    "name": "ipython",
    "version": 3
   },
   "file_extension": ".py",
   "mimetype": "text/x-python",
   "name": "python",
   "nbconvert_exporter": "python",
   "pygments_lexer": "ipython3",
   "version": "3.10.4"
  },
  "orig_nbformat": 4,
  "vscode": {
   "interpreter": {
    "hash": "1166d997b963c827310d30c081d92ea234b309589e178b18be2cf21badc6f33b"
   }
  }
 },
 "nbformat": 4,
 "nbformat_minor": 2
}
